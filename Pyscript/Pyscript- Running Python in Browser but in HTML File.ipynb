{
 "cells": [
  {
   "cell_type": "markdown",
   "id": "5053adb7",
   "metadata": {
    "toc": true
   },
   "source": [
    "<h1>Table of Contents<span class=\"tocSkip\"></span></h1>\n",
    "<div class=\"toc\"><ul class=\"toc-item\"><li><span><a href=\"#Introduction\" data-toc-modified-id=\"Introduction-1\"><span class=\"toc-item-num\">1&nbsp;&nbsp;</span>Introduction</a></span></li><li><span><a href=\"#First-Program\" data-toc-modified-id=\"First-Program-2\"><span class=\"toc-item-num\">2&nbsp;&nbsp;</span>First Program</a></span></li><li><span><a href=\"#Importing-Default-Package\" data-toc-modified-id=\"Importing-Default-Package-3\"><span class=\"toc-item-num\">3&nbsp;&nbsp;</span>Importing Default Package</a></span></li><li><span><a href=\"#Importing-External-Libraries\" data-toc-modified-id=\"Importing-External-Libraries-4\"><span class=\"toc-item-num\">4&nbsp;&nbsp;</span>Importing External Libraries</a></span><ul class=\"toc-item\"><li><span><a href=\"#Pandas-Dataframe\" data-toc-modified-id=\"Pandas-Dataframe-4.1\"><span class=\"toc-item-num\">4.1&nbsp;&nbsp;</span>Pandas Dataframe</a></span></li></ul></li><li><span><a href=\"#Live-Code-Editor\" data-toc-modified-id=\"Live-Code-Editor-5\"><span class=\"toc-item-num\">5&nbsp;&nbsp;</span>Live Code Editor</a></span></li></ul></div>"
   ]
  },
  {
   "cell_type": "markdown",
   "id": "1bf1cffd",
   "metadata": {},
   "source": [
    "## Introduction\n",
    "Hello and whats up everyone, in this blog we will explore PyScript for running Python codes inside our HTML files. It is quite easy to do so. How does it works under the hood is not what is being focused here but what can we do will be. For docs, please visit [here](https://github.com/pyscript/pyscript)."
   ]
  },
  {
   "cell_type": "markdown",
   "id": "653e69f9",
   "metadata": {},
   "source": [
    "## First Program\n",
    "* Create a HTML file and on the top, import packages inside the head section.\n",
    "```html\n",
    "<html>\n",
    "    <head>\n",
    "        <title>PyScript Test</title>\n",
    "        <link rel=\"stylesheet\" href=\"https://pyscript.net/alpha/pyscript.css\" />\n",
    "        <script defer src=\"https://pyscript.net/alpha/pyscript.js\"></script> \n",
    "    </head>\n",
    "    \n",
    "    <body>\n",
    "        <h1><py-script>print(\"Hello from PyScript\")</py-script></h1>\n",
    "    </body>\n",
    "</html>\n",
    "```\n",
    "\n",
    "Opening above HTML in browser will show like below:\n",
    "\n",
    "![](hello.png)"
   ]
  },
  {
   "cell_type": "markdown",
   "id": "6544da7e",
   "metadata": {},
   "source": [
    "## Importing Default Package\n",
    "\n",
    "Lets add below code just below above's to print random number generated between 100 and 200.\n",
    "\n",
    "```html\n",
    "<py-script>\n",
    "import random\n",
    "print(f\"Random: {random.randint(100,200)}\")\n",
    "</py-script>\n",
    "```\n",
    "\n",
    "Output will be something like below:\n",
    "\n",
    "![](random.png)"
   ]
  },
  {
   "cell_type": "markdown",
   "id": "5c37f3fe",
   "metadata": {},
   "source": [
    "## Importing External Libraries\n",
    "Lets import NumPy. It is not possible to import them by default as they are not installed. Hence we need to include them in environment section like below.\n",
    "\n",
    "```html\n",
    "<html>\n",
    "    <head>\n",
    "        <title>PyScript Test</title>\n",
    "        <link rel=\"stylesheet\" href=\"https://pyscript.net/alpha/pyscript.css\" />\n",
    "        <script defer src=\"https://pyscript.net/alpha/pyscript.js\"></script> \n",
    "    </head>\n",
    "    \n",
    "    <body>\n",
    "        <py-env>\n",
    "            - numpy\n",
    "            - sympy\n",
    "            - matplotlib\n",
    "        </py-env>\n",
    "\n",
    "        <py-script>print(\"Hello from PyScript\")</py-script>\n",
    "        <py-script>\n",
    "import random\n",
    "print(f\"Random: {random.randint(100,200)}\")\n",
    "        </py-script>\n",
    "        <py-script>\n",
    "import numpy as np\n",
    "import matplotlib.pyplot as plt\n",
    "\n",
    "x = np.random.randint(100,200,1000)\n",
    "y = np.random.randint(000,100,1000)\n",
    "fig = plt.figure(figsize=(5,5))\n",
    "plt.scatter(x,y)\n",
    "fig\n",
    "    </body>\n",
    "</html>\n",
    "```\n",
    "\n",
    "It will take little bit to see the result like below:\n",
    "\n",
    "![](scatter.png)"
   ]
  },
  {
   "cell_type": "markdown",
   "id": "f7027959",
   "metadata": {},
   "source": [
    "### Pandas Dataframe\n",
    "Just like we used NumPy above, we can include pandas too and lets see it in action.\n",
    "\n",
    "```html\n",
    "<html>\n",
    "    <head>\n",
    "        <title>PyScript Test</title>\n",
    "        <link rel=\"stylesheet\" href=\"https://pyscript.net/alpha/pyscript.css\" />\n",
    "        <script defer src=\"https://pyscript.net/alpha/pyscript.js\"></script> \n",
    "    </head>\n",
    "    \n",
    "    <body>\n",
    "        <py-env>\n",
    "            - numpy\n",
    "            - sympy\n",
    "            - matplotlib\n",
    "            - pandas\n",
    "        </py-env>\n",
    "\n",
    "        <py-script>print(\"Hello from PyScript\")</py-script>\n",
    "        <py-script>\n",
    "import random\n",
    "print(f\"Random: {random.randint(100,200)}\")\n",
    "        </py-script>\n",
    "        <py-script>\n",
    "import numpy as np\n",
    "import matplotlib.pyplot as plt\n",
    "\n",
    "x = np.random.randint(100,200,1000)\n",
    "y = np.random.randint(000,100,1000)\n",
    "fig = plt.figure(figsize=(5,5))\n",
    "plt.scatter(x,y)\n",
    "fig\n",
    "        </py-script>\n",
    "        <py-script>\n",
    "import pandas as pd\n",
    "df = pd.DataFrame({\"x\":x,\"y\":y})\n",
    "df\n",
    "        </py-script>\n",
    "    </body>\n",
    "</html>\n",
    "```\n",
    "\n",
    "![](pandas.png)"
   ]
  },
  {
   "cell_type": "markdown",
   "id": "81091077",
   "metadata": {},
   "source": [
    "## Live Code Editor\n",
    "We can even have our own code editor in browser using PyScript. It can be done by using tag `<py-repl>`. Lets see it in action.\n",
    "\n",
    "```html\n",
    "<html>\n",
    "    <head>\n",
    "        <title>PyScript Test</title>\n",
    "        <link rel=\"stylesheet\" href=\"https://pyscript.net/alpha/pyscript.css\" />\n",
    "        <script defer src=\"https://pyscript.net/alpha/pyscript.js\"></script> \n",
    "    </head>\n",
    "    \n",
    "    <body>\n",
    "        <py-env>\n",
    "            - numpy\n",
    "            - sympy\n",
    "            - matplotlib\n",
    "            - pandas\n",
    "        </py-env>\n",
    "        <py-repl>\n",
    "    </body>\n",
    "</html>\n",
    "```\n",
    "\n",
    "We can see something like below in a browser:\n",
    "\n",
    "![](repl.png)\n",
    "\n",
    "What is interesting is that we can run code by shift+enter just like in Jupyter Notebook.\n",
    "\n",
    "![](repl_hello.png)"
   ]
  }
 ],
 "metadata": {
  "hide_input": false,
  "kernelspec": {
   "display_name": "Python 3",
   "language": "python",
   "name": "python3"
  },
  "language_info": {
   "codemirror_mode": {
    "name": "ipython",
    "version": 3
   },
   "file_extension": ".py",
   "mimetype": "text/x-python",
   "name": "python",
   "nbconvert_exporter": "python",
   "pygments_lexer": "ipython3",
   "version": "3.8.8"
  },
  "toc": {
   "base_numbering": 1,
   "nav_menu": {},
   "number_sections": true,
   "sideBar": true,
   "skip_h1_title": false,
   "title_cell": "Table of Contents",
   "title_sidebar": "Contents",
   "toc_cell": true,
   "toc_position": {},
   "toc_section_display": true,
   "toc_window_display": true
  },
  "varInspector": {
   "cols": {
    "lenName": 16,
    "lenType": 16,
    "lenVar": 40
   },
   "kernels_config": {
    "python": {
     "delete_cmd_postfix": "",
     "delete_cmd_prefix": "del ",
     "library": "var_list.py",
     "varRefreshCmd": "print(var_dic_list())"
    },
    "r": {
     "delete_cmd_postfix": ") ",
     "delete_cmd_prefix": "rm(",
     "library": "var_list.r",
     "varRefreshCmd": "cat(var_dic_list()) "
    }
   },
   "types_to_exclude": [
    "module",
    "function",
    "builtin_function_or_method",
    "instance",
    "_Feature"
   ],
   "window_display": false
  }
 },
 "nbformat": 4,
 "nbformat_minor": 5
}
