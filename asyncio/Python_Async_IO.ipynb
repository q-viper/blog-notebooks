{
 "cells": [
  {
   "cell_type": "markdown",
   "metadata": {
    "toc": true
   },
   "source": [
    "<h1>Table of Contents<span class=\"tocSkip\"></span></h1>\n",
    "<div class=\"toc\"><ul class=\"toc-item\"><li><span><a href=\"#Introduction\" data-toc-modified-id=\"Introduction-1\"><span class=\"toc-item-num\">1&nbsp;&nbsp;</span>Introduction</a></span><ul class=\"toc-item\"><li><span><a href=\"#But-why-asyncio?\" data-toc-modified-id=\"But-why-asyncio?-1.1\"><span class=\"toc-item-num\">1.1&nbsp;&nbsp;</span>But why asyncio?</a></span></li></ul></li><li><span><a href=\"#Corutines-and-MultiTasking\" data-toc-modified-id=\"Corutines-and-MultiTasking-2\"><span class=\"toc-item-num\">2&nbsp;&nbsp;</span>Corutines and MultiTasking</a></span><ul class=\"toc-item\"><li><span><a href=\"#Multi-Tasking\" data-toc-modified-id=\"Multi-Tasking-2.1\"><span class=\"toc-item-num\">2.1&nbsp;&nbsp;</span>Multi Tasking</a></span></li><li><span><a href=\"#Concurrent-Tasks\" data-toc-modified-id=\"Concurrent-Tasks-2.2\"><span class=\"toc-item-num\">2.2&nbsp;&nbsp;</span>Concurrent Tasks</a></span></li><li><span><a href=\"#Timeouts\" data-toc-modified-id=\"Timeouts-2.3\"><span class=\"toc-item-num\">2.3&nbsp;&nbsp;</span>Timeouts</a></span></li></ul></li><li><span><a href=\"#Streaming-Data-With-Asyncio\" data-toc-modified-id=\"Streaming-Data-With-Asyncio-3\"><span class=\"toc-item-num\">3&nbsp;&nbsp;</span>Streaming Data With Asyncio</a></span></li></ul></div>"
   ]
  },
  {
   "cell_type": "markdown",
   "metadata": {
    "id": "xLvJ5JzXCxoR"
   },
   "source": [
    "## Introduction\n",
    "Async IO means Asynchronous I/O and it has been there since the Python 3.4. The main purpose of asyncio is to achieve **Concurrency and Multiprocessing**. In Python, we can achive async via module [`asyncio`](https://docs.python.org/3/library/asyncio.html) additionally, we can use keywords like `async` and `await` to specify async functions and wait for its execution.\n",
    "\n",
    "### But why asyncio?\n",
    "There are numerous usecases of using asyncio and one of simplest is that it is simple and have very highl level way of achieving concurrency. One simple usecases where `asyncio` comes handy is:\n",
    "* Wait for a operation to complete and only then proceed further but keep other part of the execution continued. Lets suppose we are scraping a huge site and we want to process those part which has been scraped, so what we will do is write those scraped content in some file via a `async` file and then read it somewhere else.\n",
    "\n"
   ]
  },
  {
   "cell_type": "markdown",
   "metadata": {
    "id": "Sw8i3Eaim571"
   },
   "source": [
    "## Corutines and MultiTasking\n",
    "A async function in Python itself is a coroutine. We can see it in action by running below code."
   ]
  },
  {
   "cell_type": "code",
   "execution_count": null,
   "metadata": {
    "colab": {
     "base_uri": "https://localhost:8080/"
    },
    "id": "TZrfh_oYm4IS",
    "outputId": "089ad6cb-60b8-4737-d432-66014a30b7fb"
   },
   "outputs": [
    {
     "data": {
      "text/plain": [
       "<coroutine object lets_wait at 0x7ff2b38b17a0>"
      ]
     },
     "execution_count": 10,
     "metadata": {},
     "output_type": "execute_result"
    }
   ],
   "source": [
    "import time,asyncio\n",
    "\n",
    "async def lets_wait(wt):\n",
    "    print(f\"Time: {time.strftime('%X')}\")\n",
    "    print(f\"Waiting for {wt}.\")\n",
    "    await asyncio.sleep(wt)\n",
    "    print(f\"Waited for {wt}.\")\n",
    "    print(f\"Time: {time.strftime('%X')}\")\n",
    "    print(f\"Again Waiting for {wt}\")\n",
    "    await asyncio.sleep(wt)\n",
    "    print(f\"Waited for {wt}.\")\n",
    "    print(f\"Time: {time.strftime('%X')}\")\n",
    "\n",
    "lets_wait(1)"
   ]
  },
  {
   "cell_type": "markdown",
   "metadata": {
    "id": "UVKvmf_dngYF"
   },
   "source": [
    "In above code, We have defined a `lets_wait` `async` function which simply prints the number we passed into and waits for that number of second before going further. But inorder to get the output, we have to run it using `asyncio.run(coroutine,*)`. In our case, `asyncio.run(lets_wait(1))`.\n",
    "\n",
    "```bash\n",
    "Time: 19:16:15\n",
    "Waiting for 1.\n",
    "Waited for 1.\n",
    "Time: 19:16:16\n",
    "Again Waiting for 1\n",
    "Waited for 1.\n",
    "Time: 19:16:17\n",
    "```"
   ]
  },
  {
   "cell_type": "markdown",
   "metadata": {
    "id": "pCtC4ZTtrwU3"
   },
   "source": [
    "### Multi Tasking\n",
    "In `asyncio`, we can create multiple tasks and run them concurrently. A task is then awaited. Lets see an example:"
   ]
  },
  {
   "cell_type": "code",
   "execution_count": null,
   "metadata": {
    "id": "VqYoNuh4EmVf"
   },
   "outputs": [],
   "source": [
    "import time,asyncio\n",
    "\n",
    "async def lets_wait(wt):\n",
    "    print(f\"Time: {time.strftime('%X')}\")\n",
    "    print(f\"Waiting for {wt}.\")\n",
    "    await asyncio.sleep(wt)\n",
    "    print(f\"Waited for {wt}.\")\n",
    "    print(f\"Time: {time.strftime('%X')}\")\n",
    "    print(f\"Again Waiting for {wt}\")\n",
    "    await asyncio.sleep(wt)\n",
    "    print(f\"Waited for {wt}.\")\n",
    "    print(f\"Time: {time.strftime('%X')}\")\n",
    "\n",
    "async def main():\n",
    "    task1 = asyncio.create_task(lets_wait(5))\n",
    "    task2 = asyncio.create_task(lets_wait(10))\n",
    "    task3 = asyncio.create_task(lets_wait(4))\n",
    "    \n",
    "    print(f\"Await start Time: {time.strftime('%X')}\")\n",
    "    await task1\n",
    "    await task2\n",
    "    await task3\n",
    "    print(f\"Time: {time.strftime('%X')}\")\n",
    "    \n",
    "asyncio.run(main())"
   ]
  },
  {
   "cell_type": "markdown",
   "metadata": {
    "id": "ROBL0sB0r-q2"
   },
   "source": [
    "```bash\n",
    "Await start Time: 19:20:06\n",
    "Time: 19:20:06\n",
    "Waiting for 5.\n",
    "Time: 19:20:06\n",
    "Waiting for 10.\n",
    "Time: 19:20:06\n",
    "Waiting for 4.\n",
    "Waited for 4.\n",
    "Time: 19:20:10\n",
    "Again Waiting for 4\n",
    "Waited for 5.\n",
    "Time: 19:20:11\n",
    "Again Waiting for 5\n",
    "Waited for 4.\n",
    "Time: 19:20:14\n",
    "Waited for 10.\n",
    "Time: 19:20:16\n",
    "Again Waiting for 10\n",
    "Waited for 5.\n",
    "Time: 19:20:16\n",
    "Waited for 10.\n",
    "Time: 19:20:26\n",
    "Time: 19:20:26\n",
    "```\n",
    "\n",
    "In above code, we have 3 tasks each with 5, 10 and 4 seconds as wait time. First the task with second 5 is run and then 10 and 4 then they wait for respective time. But the third task has only 4 seconds to wait and it shows print statement befor task with 5 seconds. Then it again waits for 4 seconds and only then task with 5 seconds prints its wait statement."
   ]
  },
  {
   "cell_type": "markdown",
   "metadata": {
    "id": "2BlL6FbXs_Fs"
   },
   "source": [
    "### Concurrent Tasks\n",
    "We can run task concurrently and wait for them and it is much neat than the task above. We can do so using `asyncio.gather(*fxns, return_exceptions=False)`. If any function is awaitable and a coroutine then they are scheduled as a task. Any function is awaitable if it can be used as `await function`."
   ]
  },
  {
   "cell_type": "code",
   "execution_count": null,
   "metadata": {
    "id": "SgUsfBJjr9-B"
   },
   "outputs": [],
   "source": [
    "import time,asyncio\n",
    "\n",
    "async def lets_wait(wt):\n",
    "    t1=time.time()\n",
    "    print(f\"Time: {time.strftime('%X')}\")\n",
    "    print(f\"Waiting for {wt}.\")\n",
    "    await asyncio.sleep(wt)\n",
    "    print(f\"Waited for {wt}.\")\n",
    "    print(f\"Time: {time.strftime('%X')}\")\n",
    "    print(f\"Again Waiting for {wt}\")\n",
    "    await asyncio.sleep(wt)\n",
    "    print(f\"Waited for {wt}.\")\n",
    "    print(f\"Time: {time.strftime('%X')}\")\n",
    "    wtt=time.time()-t1\n",
    "    print(f\"Completed task-{wt} in {wtt}.\")\n",
    "    return {wt:wtt}\n",
    "\n",
    "async def main():\n",
    "    task1 = asyncio.create_task(lets_wait(5))\n",
    "    task2 = asyncio.create_task(lets_wait(10))\n",
    "    task3 = asyncio.create_task(lets_wait(4))\n",
    "    \n",
    "    print(f\"Await start Time: {time.strftime('%X')}\")\n",
    "    await task1\n",
    "    await task2\n",
    "    await task3\n",
    "    print(f\"Time: {time.strftime('%X')}\")\n",
    "    \n",
    "async def main2():\n",
    "    ret = await asyncio.gather(lets_wait(2),lets_wait(1),lets_wait(4),lets_wait(3))\n",
    "    print(f\"Returned from main2: {ret}\")\n",
    "asyncio.run(main2())"
   ]
  },
  {
   "cell_type": "markdown",
   "metadata": {
    "id": "7rKpq4zJux26"
   },
   "source": [
    "We have created another function `main2` which will pass 4 different tasks to run concurrently. Lets see the output below."
   ]
  },
  {
   "cell_type": "markdown",
   "metadata": {
    "id": "qEZOiTqwuauC"
   },
   "source": [
    "```bash\n",
    "Time: 19:35:29\n",
    "Waiting for 2.\n",
    "Time: 19:35:29\n",
    "Waiting for 1.\n",
    "Time: 19:35:29\n",
    "Waiting for 4.\n",
    "Time: 19:35:29\n",
    "Waiting for 3.\n",
    "Waited for 1.\n",
    "Time: 19:35:30\n",
    "Again Waiting for 1\n",
    "Waited for 2.\n",
    "Time: 19:35:31\n",
    "Again Waiting for 2\n",
    "Waited for 1.\n",
    "Time: 19:35:31\n",
    "Completed task-1 in 2.0059587955474854.\n",
    "Waited for 3.\n",
    "Time: 19:35:32\n",
    "Again Waiting for 3\n",
    "Waited for 4.\n",
    "Time: 19:35:33\n",
    "Again Waiting for 4\n",
    "Waited for 2.\n",
    "Time: 19:35:33\n",
    "Completed task-2 in 4.033399820327759.\n",
    "Waited for 3.\n",
    "Time: 19:35:35\n",
    "Completed task-3 in 6.003902196884155.\n",
    "Waited for 4.\n",
    "Time: 19:35:37\n",
    "Completed task-4 in 8.007280111312866.\n",
    "Returned from main2: [{2: 4.033399820327759}, {1: 2.0059587955474854}, {4: 8.007280111312866}, {3: 6.003902196884155}]\n",
    "```"
   ]
  },
  {
   "cell_type": "markdown",
   "metadata": {
    "id": "weuOlp4NvpRh"
   },
   "source": [
    "Since there are 2 waits inside our `lets_wait` function, we can see that each task has completed in time more than twice of its `wt` value. The seconds after decimal is because of the print statement and calculations which can be ignored here. At last, the `asyncio.gather` returned the return of each task in a list format. Which is pretty useful."
   ]
  },
  {
   "cell_type": "markdown",
   "metadata": {
    "id": "eLum8R7TwhLC"
   },
   "source": [
    "### Timeouts\n",
    "Timeouts are useful when we wait for more than usual and we want to forcefully stop the task and show an error. Lets do that."
   ]
  },
  {
   "cell_type": "code",
   "execution_count": null,
   "metadata": {
    "id": "jyYuw_IyvWi-"
   },
   "outputs": [],
   "source": [
    "async def main3():\n",
    "    try:\n",
    "        await asyncio.wait_for(lets_wait(2),timeout=4)\n",
    "    except asyncio.TimeoutError:\n",
    "        print(\"Timeout\")    \n",
    "        \n",
    "asyncio.run(main3())"
   ]
  },
  {
   "cell_type": "markdown",
   "metadata": {
    "id": "-bN6j4qxxwlm"
   },
   "source": [
    "In above code, we are waiting for 4 seconds and the function `lets_wait` is given 2 which means it will take more than 2 seconds to complete.\n",
    "\n",
    "```bash\n",
    "Time: 19:46:28\n",
    "Waiting for 2.\n",
    "Waited for 2.\n",
    "Time: 19:46:30\n",
    "Again Waiting for 2\n",
    "Timeout\n",
    "```\n",
    "\n",
    "What happens is, it waits for 4 seconds and if the async is still running, time out error is shown. And our sleep is done twice for 2 minutes each and there are also print and subtraction which will take some time too. And thus the task did not complete in 4 seconds and we got an error."
   ]
  },
  {
   "cell_type": "markdown",
   "metadata": {
    "id": "61zBTwPlyYeJ"
   },
   "source": [
    "There are some other useful usecases and functions provided by asyncio and its worth reading them [here](https://docs.python.org/3/library/asyncio-task.html) but now I will move into streaming.."
   ]
  },
  {
   "cell_type": "code",
   "execution_count": null,
   "metadata": {
    "id": "f5DxMy4-xvuR"
   },
   "outputs": [],
   "source": []
  },
  {
   "cell_type": "markdown",
   "metadata": {
    "id": "4tdzYamCy6F-"
   },
   "source": [
    "## Streaming Data With Asyncio\n",
    "Data streaming is today's most wanted feature in any data apps as we want to see things happening in life time. One simple usecase can be seen in the Stock market and which has led me here. In stock market, transactions happen in any moment and we will have our own platform to show the data in realtime. In that case, we will wait for eternity and call the api or data source and update our data if changes has been made in source. Asyncio has a good documentation about [streaming](https://docs.python.org/3/library/asyncio-stream.html). But I am not going to use Asyncio like that. We will use `asyncio` to stream data from [Alpaca Trade API](https://github.com/alpacahq/alpaca-trade-api-python) and [you can read our last week's blog for that](https://q-viper.github.io/2022/05/01/python-for-stock-market-analysis-alpaca-api/)."
   ]
  },
  {
   "cell_type": "code",
   "execution_count": null,
   "metadata": {
    "id": "f7tm1T-sy82K"
   },
   "outputs": [],
   "source": []
  }
 ],
 "metadata": {
  "colab": {
   "collapsed_sections": [],
   "name": "Python Async IO.ipynb",
   "provenance": [],
   "toc_visible": true
  },
  "hide_input": false,
  "kernelspec": {
   "display_name": "Python 3",
   "language": "python",
   "name": "python3"
  },
  "language_info": {
   "codemirror_mode": {
    "name": "ipython",
    "version": 3
   },
   "file_extension": ".py",
   "mimetype": "text/x-python",
   "name": "python",
   "nbconvert_exporter": "python",
   "pygments_lexer": "ipython3",
   "version": "3.8.8"
  },
  "toc": {
   "base_numbering": 1,
   "nav_menu": {},
   "number_sections": true,
   "sideBar": true,
   "skip_h1_title": false,
   "title_cell": "Table of Contents",
   "title_sidebar": "Contents",
   "toc_cell": true,
   "toc_position": {},
   "toc_section_display": true,
   "toc_window_display": false
  },
  "varInspector": {
   "cols": {
    "lenName": 16,
    "lenType": 16,
    "lenVar": 40
   },
   "kernels_config": {
    "python": {
     "delete_cmd_postfix": "",
     "delete_cmd_prefix": "del ",
     "library": "var_list.py",
     "varRefreshCmd": "print(var_dic_list())"
    },
    "r": {
     "delete_cmd_postfix": ") ",
     "delete_cmd_prefix": "rm(",
     "library": "var_list.r",
     "varRefreshCmd": "cat(var_dic_list()) "
    }
   },
   "types_to_exclude": [
    "module",
    "function",
    "builtin_function_or_method",
    "instance",
    "_Feature"
   ],
   "window_display": false
  }
 },
 "nbformat": 4,
 "nbformat_minor": 1
}
