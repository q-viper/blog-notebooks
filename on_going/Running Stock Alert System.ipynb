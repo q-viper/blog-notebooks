{
 "cells": [
  {
   "cell_type": "markdown",
   "metadata": {},
   "source": [
    "## Steps\n",
    "* First step is to get into the server. By doing `ssh root@172.104.8.218`. `ssh` is possible from terminasl like Linux or GitBash.\n",
    "* It might as for fingerprint and do yes.\n",
    "* Then enter the password of the server.\n",
    "* There are two processes in this system. One is for getting data and firing alert and another is for the webapp that allows us to create and remove alerts.\n",
    "* Two processes are run in a screen. So view them if they are running or not.\n",
    "* `screen -ls` shows the available screens. There should be `stock` and `webapp` screens.\n",
    "* If there are none screens then create one for stock by, `screen -S stock`.\n",
    "* Run stock data and alert firing process as: \n",
    "    * `source activate_env.sh`\n",
    "    * `python main.py -n stream_polyr`\n",
    "    * If everything is fine then there will be seen lots of logs and one log will be fired to email too.\n",
    "* Run webapp as:\n",
    "    * Open new terminal and again do ssh and check for the screens.\n",
    "    * If no screen as webapp then create one screen for webapp as `screen -S webapp`.\n",
    "    * Do `source activate_env.sh`.\n",
    "    * `streamlit run app2.py`\n",
    "* The url to open the web app will be shown and click there to visit that app.\n"
   ]
  },
  {
   "cell_type": "code",
   "execution_count": null,
   "metadata": {},
   "outputs": [],
   "source": []
  }
 ],
 "metadata": {
  "kernelspec": {
   "display_name": "Python 3",
   "language": "python",
   "name": "python3"
  },
  "language_info": {
   "codemirror_mode": {
    "name": "ipython",
    "version": 3
   },
   "file_extension": ".py",
   "mimetype": "text/x-python",
   "name": "python",
   "nbconvert_exporter": "python",
   "pygments_lexer": "ipython3",
   "version": "3.8.5"
  },
  "latex_envs": {
   "LaTeX_envs_menu_present": true,
   "autoclose": false,
   "autocomplete": true,
   "bibliofile": "biblio.bib",
   "cite_by": "apalike",
   "current_citInitial": 1,
   "eqLabelWithNumbers": true,
   "eqNumInitial": 1,
   "hotkeys": {
    "equation": "Ctrl-E",
    "itemize": "Ctrl-I"
   },
   "labels_anchors": false,
   "latex_user_defs": false,
   "report_style_numbering": false,
   "user_envs_cfg": false
  },
  "toc": {
   "base_numbering": 1,
   "nav_menu": {},
   "number_sections": true,
   "sideBar": true,
   "skip_h1_title": false,
   "title_cell": "Table of Contents",
   "title_sidebar": "Contents",
   "toc_cell": false,
   "toc_position": {},
   "toc_section_display": true,
   "toc_window_display": false
  },
  "varInspector": {
   "cols": {
    "lenName": 16,
    "lenType": 16,
    "lenVar": 40
   },
   "kernels_config": {
    "python": {
     "delete_cmd_postfix": "",
     "delete_cmd_prefix": "del ",
     "library": "var_list.py",
     "varRefreshCmd": "print(var_dic_list())"
    },
    "r": {
     "delete_cmd_postfix": ") ",
     "delete_cmd_prefix": "rm(",
     "library": "var_list.r",
     "varRefreshCmd": "cat(var_dic_list()) "
    }
   },
   "types_to_exclude": [
    "module",
    "function",
    "builtin_function_or_method",
    "instance",
    "_Feature"
   ],
   "window_display": false
  }
 },
 "nbformat": 4,
 "nbformat_minor": 4
}
