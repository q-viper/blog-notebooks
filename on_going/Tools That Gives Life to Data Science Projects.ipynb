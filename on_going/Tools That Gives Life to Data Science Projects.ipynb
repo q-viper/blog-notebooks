{
 "cells": [
  {
   "cell_type": "markdown",
   "id": "36421f24",
   "metadata": {
    "toc": true
   },
   "source": [
    "<h1>Table of Contents<span class=\"tocSkip\"></span></h1>\n",
    "<div class=\"toc\"><ul class=\"toc-item\"><li><span><a href=\"#Making-Web-App\" data-toc-modified-id=\"Making-Web-App-1\"><span class=\"toc-item-num\">1&nbsp;&nbsp;</span>Making Web App</a></span><ul class=\"toc-item\"><li><span><a href=\"#Streamlit\" data-toc-modified-id=\"Streamlit-1.1\"><span class=\"toc-item-num\">1.1&nbsp;&nbsp;</span>Streamlit</a></span><ul class=\"toc-item\"><li><span><a href=\"#Pros\" data-toc-modified-id=\"Pros-1.1.1\"><span class=\"toc-item-num\">1.1.1&nbsp;&nbsp;</span>Pros</a></span></li><li><span><a href=\"#Cons\" data-toc-modified-id=\"Cons-1.1.2\"><span class=\"toc-item-num\">1.1.2&nbsp;&nbsp;</span>Cons</a></span></li></ul></li><li><span><a href=\"#Dash\" data-toc-modified-id=\"Dash-1.2\"><span class=\"toc-item-num\">1.2&nbsp;&nbsp;</span>Dash</a></span><ul class=\"toc-item\"><li><span><a href=\"#Pros\" data-toc-modified-id=\"Pros-1.2.1\"><span class=\"toc-item-num\">1.2.1&nbsp;&nbsp;</span>Pros</a></span></li><li><span><a href=\"#Cons\" data-toc-modified-id=\"Cons-1.2.2\"><span class=\"toc-item-num\">1.2.2&nbsp;&nbsp;</span>Cons</a></span></li></ul></li><li><span><a href=\"#Flask\" data-toc-modified-id=\"Flask-1.3\"><span class=\"toc-item-num\">1.3&nbsp;&nbsp;</span>Flask</a></span></li><li><span><a href=\"#Pros\" data-toc-modified-id=\"Pros-1.4\"><span class=\"toc-item-num\">1.4&nbsp;&nbsp;</span>Pros</a></span></li><li><span><a href=\"#Cons\" data-toc-modified-id=\"Cons-1.5\"><span class=\"toc-item-num\">1.5&nbsp;&nbsp;</span>Cons</a></span></li></ul></li><li><span><a href=\"#Visualization\" data-toc-modified-id=\"Visualization-2\"><span class=\"toc-item-num\">2&nbsp;&nbsp;</span>Visualization</a></span><ul class=\"toc-item\"><li><span><a href=\"#Plotly\" data-toc-modified-id=\"Plotly-2.1\"><span class=\"toc-item-num\">2.1&nbsp;&nbsp;</span>Plotly</a></span><ul class=\"toc-item\"><li><span><a href=\"#Pros\" data-toc-modified-id=\"Pros-2.1.1\"><span class=\"toc-item-num\">2.1.1&nbsp;&nbsp;</span>Pros</a></span></li><li><span><a href=\"#Cons\" data-toc-modified-id=\"Cons-2.1.2\"><span class=\"toc-item-num\">2.1.2&nbsp;&nbsp;</span>Cons</a></span></li></ul></li><li><span><a href=\"#Bokeh\" data-toc-modified-id=\"Bokeh-2.2\"><span class=\"toc-item-num\">2.2&nbsp;&nbsp;</span>Bokeh</a></span></li><li><span><a href=\"#Seaborn\" data-toc-modified-id=\"Seaborn-2.3\"><span class=\"toc-item-num\">2.3&nbsp;&nbsp;</span>Seaborn</a></span></li><li><span><a href=\"#Pros\" data-toc-modified-id=\"Pros-2.4\"><span class=\"toc-item-num\">2.4&nbsp;&nbsp;</span>Pros</a></span></li><li><span><a href=\"#Cons\" data-toc-modified-id=\"Cons-2.5\"><span class=\"toc-item-num\">2.5&nbsp;&nbsp;</span>Cons</a></span></li><li><span><a href=\"#Autoviz\" data-toc-modified-id=\"Autoviz-2.6\"><span class=\"toc-item-num\">2.6&nbsp;&nbsp;</span>Autoviz</a></span></li></ul></li></ul></div>"
   ]
  },
  {
   "cell_type": "markdown",
   "id": "17080abb",
   "metadata": {},
   "source": [
    "Hello there and welcome to our brand new blog where we will explore some of great tools used in Data Science projects to make project alive. This blog will be a simple introduction to those tools and we will also share our blogs available about them. "
   ]
  },
  {
   "cell_type": "markdown",
   "id": "2ed3fe51",
   "metadata": {},
   "source": [
    "## Making Web App"
   ]
  },
  {
   "cell_type": "markdown",
   "id": "a5e0fb4d",
   "metadata": {},
   "source": [
    "### Streamlit\n",
    "Streamlit is one of the most popular framework in Python which allows our ML apps to be deployed easily and faster. Once installed, our data app is only `streamlit run app.py` far. Not only it is faster and easier, it have nice GUI and UI elements too. What makes it even awesome is its community support. We have few blogs where we used streamlit to deploy data projects. Please view them below:\n",
    "\n",
    "\n",
    "#### Pros\n",
    "\n",
    "\n",
    "#### Cons\n"
   ]
  },
  {
   "cell_type": "markdown",
   "id": "02408f79",
   "metadata": {},
   "source": [
    "### Dash\n",
    "Dash is just like Streamlit but it is built for the purpose of Plotly plots. Just like Streamlit, Dash allows us to make web app in Python but with less struggle. Unlike Streamlit, in Dash, we can easily apply our custom CSS which makes it the best choice while making customized APPs. \n",
    "\n",
    "#### Pros\n",
    "\n",
    "#### Cons\n"
   ]
  },
  {
   "cell_type": "markdown",
   "id": "bb485712",
   "metadata": {},
   "source": [
    "### Flask"
   ]
  },
  {
   "cell_type": "markdown",
   "id": "fe0957b9",
   "metadata": {},
   "source": [
    "Flask is a multipurpose web development framework in Python that allows us to make RestAPIs and web apps with fully customized manner. Flask is mostly popular for its Jinja framework and being lightweight too.\n",
    "\n",
    "### Pros\n",
    "\n",
    "### Cons\n"
   ]
  },
  {
   "cell_type": "markdown",
   "id": "51dc3c6c",
   "metadata": {},
   "source": [
    "## Visualization"
   ]
  },
  {
   "cell_type": "markdown",
   "id": "83e301d1",
   "metadata": {},
   "source": [
    "### Plotly\n",
    "Plotly is an awesome visualization tool in Python but is available in Javascript and R too. Plotly is all about interactivity and what makes it awesome is that we can make complex plots like Chloropeth, Mapbox, Density Plots in a while using Plotly. \n",
    "\n",
    "#### Pros\n",
    "* Easy and interactive.\n",
    "* Have lots of plot types.\n",
    "* Can use Pandas dataframe as `df.iplot(...)` with the help of `cufflinks`.\n",
    "\n",
    "\n",
    "#### Cons\n",
    "* Becomes heavy due to running JS under the hood.\n",
    "* Reporting into PDF or HTML of a Notebook will not contain plots."
   ]
  },
  {
   "cell_type": "markdown",
   "id": "ce49f188",
   "metadata": {},
   "source": [
    "### Bokeh"
   ]
  },
  {
   "cell_type": "markdown",
   "id": "7b140605",
   "metadata": {},
   "source": [
    "### Seaborn\n",
    "Seaborn is all about turning vintage Matplotlib plots into nice and cool plots. Seaborn allows us to plot figures that Matplotlib provides and we can still use matplotlib's function along with Seaborn. \n",
    "\n",
    "### Pros\n",
    "* Gives nice look to plots.\n",
    "* Gives variety of options and design on plots by default.\n",
    "\n",
    "### Cons\n",
    "* Not interactive."
   ]
  },
  {
   "cell_type": "markdown",
   "id": "eb7dfc3a",
   "metadata": {},
   "source": [
    "### Autoviz"
   ]
  },
  {
   "cell_type": "code",
   "execution_count": null,
   "id": "22d37e24",
   "metadata": {},
   "outputs": [],
   "source": []
  }
 ],
 "metadata": {
  "hide_input": false,
  "kernelspec": {
   "display_name": "Python 3",
   "language": "python",
   "name": "python3"
  },
  "language_info": {
   "codemirror_mode": {
    "name": "ipython",
    "version": 3
   },
   "file_extension": ".py",
   "mimetype": "text/x-python",
   "name": "python",
   "nbconvert_exporter": "python",
   "pygments_lexer": "ipython3",
   "version": "3.8.8"
  },
  "toc": {
   "base_numbering": 1,
   "nav_menu": {},
   "number_sections": true,
   "sideBar": true,
   "skip_h1_title": false,
   "title_cell": "Table of Contents",
   "title_sidebar": "Contents",
   "toc_cell": true,
   "toc_position": {},
   "toc_section_display": true,
   "toc_window_display": true
  },
  "varInspector": {
   "cols": {
    "lenName": 16,
    "lenType": 16,
    "lenVar": 40
   },
   "kernels_config": {
    "python": {
     "delete_cmd_postfix": "",
     "delete_cmd_prefix": "del ",
     "library": "var_list.py",
     "varRefreshCmd": "print(var_dic_list())"
    },
    "r": {
     "delete_cmd_postfix": ") ",
     "delete_cmd_prefix": "rm(",
     "library": "var_list.r",
     "varRefreshCmd": "cat(var_dic_list()) "
    }
   },
   "types_to_exclude": [
    "module",
    "function",
    "builtin_function_or_method",
    "instance",
    "_Feature"
   ],
   "window_display": false
  }
 },
 "nbformat": 4,
 "nbformat_minor": 5
}
