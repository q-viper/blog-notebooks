{
 "cells": [
  {
   "cell_type": "markdown",
   "id": "c4acd7ce",
   "metadata": {
    "toc": true
   },
   "source": [
    "<h1>Table of Contents<span class=\"tocSkip\"></span></h1>\n",
    "<div class=\"toc\"><ul class=\"toc-item\"></ul></div>"
   ]
  },
  {
   "cell_type": "markdown",
   "id": "011ddfa4",
   "metadata": {},
   "source": [
    "Data is the new oil but it is a raw oil. How do we make it a valuable source of insights depends upon the analyst like us. There are various ways one can provide insights and to list some:\n",
    "* Metrics as a table like number of cases per day, effectiveness of the vaccine and so on.\n",
    "* Metrics as a dashboard containing charts or plots.\n",
    "\n",
    "In this blog, we will focus on the second part which is making dashboard. We have already made data dashboard using [Streamlit](https://dataqoil.com/2022/02/27/creating-awesome-data-dashboard-with-plotly-in-streamlit-clustering/) and here in this blog, we will make one using Plotly Dash. Without getting any delay lets get started."
   ]
  },
  {
   "cell_type": "code",
   "execution_count": null,
   "id": "6173d98c",
   "metadata": {},
   "outputs": [],
   "source": []
  }
 ],
 "metadata": {
  "hide_input": false,
  "kernelspec": {
   "display_name": "Python 3",
   "language": "python",
   "name": "python3"
  },
  "language_info": {
   "codemirror_mode": {
    "name": "ipython",
    "version": 3
   },
   "file_extension": ".py",
   "mimetype": "text/x-python",
   "name": "python",
   "nbconvert_exporter": "python",
   "pygments_lexer": "ipython3",
   "version": "3.8.8"
  },
  "toc": {
   "base_numbering": 1,
   "nav_menu": {},
   "number_sections": true,
   "sideBar": true,
   "skip_h1_title": false,
   "title_cell": "Table of Contents",
   "title_sidebar": "Contents",
   "toc_cell": true,
   "toc_position": {},
   "toc_section_display": true,
   "toc_window_display": false
  },
  "varInspector": {
   "cols": {
    "lenName": 16,
    "lenType": 16,
    "lenVar": 40
   },
   "kernels_config": {
    "python": {
     "delete_cmd_postfix": "",
     "delete_cmd_prefix": "del ",
     "library": "var_list.py",
     "varRefreshCmd": "print(var_dic_list())"
    },
    "r": {
     "delete_cmd_postfix": ") ",
     "delete_cmd_prefix": "rm(",
     "library": "var_list.r",
     "varRefreshCmd": "cat(var_dic_list()) "
    }
   },
   "types_to_exclude": [
    "module",
    "function",
    "builtin_function_or_method",
    "instance",
    "_Feature"
   ],
   "window_display": false
  }
 },
 "nbformat": 4,
 "nbformat_minor": 5
}
