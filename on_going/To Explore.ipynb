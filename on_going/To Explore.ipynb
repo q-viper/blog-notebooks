{
 "cells": [
  {
   "cell_type": "markdown",
   "id": "c9aa5868",
   "metadata": {
    "toc": true
   },
   "source": [
    "<h1>Table of Contents<span class=\"tocSkip\"></span></h1>\n",
    "<div class=\"toc\"><ul class=\"toc-item\"><li><span><a href=\"#TO-Explore\" data-toc-modified-id=\"TO-Explore-1\"><span class=\"toc-item-num\">1&nbsp;&nbsp;</span>TO Explore</a></span></li><li><span><a href=\"#Box-Cox\" data-toc-modified-id=\"Box-Cox-2\"><span class=\"toc-item-num\">2&nbsp;&nbsp;</span>Box-Cox</a></span><ul class=\"toc-item\"><li><span><a href=\"#Normal-Probability-Curve\" data-toc-modified-id=\"Normal-Probability-Curve-2.1\"><span class=\"toc-item-num\">2.1&nbsp;&nbsp;</span>Normal Probability Curve</a></span><ul class=\"toc-item\"><li><span><a href=\"#Calculation\" data-toc-modified-id=\"Calculation-2.1.1\"><span class=\"toc-item-num\">2.1.1&nbsp;&nbsp;</span>Calculation</a></span></li></ul></li><li><span><a href=\"#References\" data-toc-modified-id=\"References-2.2\"><span class=\"toc-item-num\">2.2&nbsp;&nbsp;</span>References</a></span></li></ul></li><li><span><a href=\"#Binomial-Theorem\" data-toc-modified-id=\"Binomial-Theorem-3\"><span class=\"toc-item-num\">3&nbsp;&nbsp;</span>Binomial Theorem</a></span></li><li><span><a href=\"#ACE\" data-toc-modified-id=\"ACE-4\"><span class=\"toc-item-num\">4&nbsp;&nbsp;</span>ACE</a></span></li><li><span><a href=\"#Kalman-Filter\" data-toc-modified-id=\"Kalman-Filter-5\"><span class=\"toc-item-num\">5&nbsp;&nbsp;</span>Kalman Filter</a></span></li></ul></div>"
   ]
  },
  {
   "cell_type": "markdown",
   "id": "cfaf5479",
   "metadata": {},
   "source": [
    "## TO Explore\n",
    "* Box Cox Transformation in linear regression\n",
    "* alternating conditional expectation (ACE)\n",
    "* Kalman Filter\n",
    "* Markov Chains\n",
    "* "
   ]
  },
  {
   "cell_type": "markdown",
   "id": "6c69565c",
   "metadata": {},
   "source": [
    "## Box-Cox\n",
    "* The Box Cox transformation is named after statisticians George Box and Sir David Roxbee Cox who collaborated on a 1964 paper and developed the technique.\n",
    "* A Box Cox transformation is a transformation of non-normal dependent variables into a normal shape. Normality is an important assumption for many statistical techniques; if your data isn’t normal, applying a Box-Cox means that you are able to run a broader number of tests.\n",
    "* At the core of the Box Cox transformation is an exponent, lambda (λ), which varies from -5 to 5. All values of λ are considered and the optimal value for your data is selected; The “optimal value” is the one which results in the best approximation of a normal distribution curve. The transformation of Y has the form:\n",
    "\n",
    "![](https://www.statisticshowto.com/wp-content/uploads/2015/07/boxcox-formula-1.png)\n",
    "\n",
    "* This test only works for positive data. However, Box and Cox did propose a second formula that can be used for negative y-values:\n",
    "\n",
    "![](https://www.statisticshowto.com/wp-content/uploads/2015/07/boxcox-formula2.png)\n",
    "\n",
    "* The transformation doesn’t always work well, so make sure you check your data after the transformation with a [normal probability plot](https://www.statisticshowto.com/normal-probability-plot/).\n",
    "* The transformation for zero is log(0), otherwise all data would transform to Y0 = 1.\n",
    "\n",
    "### Normal Probability Curve\n",
    "* A plot against a z score of our data.\n",
    "* A straight, diagonal line means that you have normally distributed data. If the line is skewed to the left or right, it means that you do not have normally distributed data.\n",
    "* It’s best to make a histogram of your data to make sure it’s normally distributed before you make a normal probability plot. That’s because it’s easier to see a bell curve on a histogram that it is to gauge whether or not your data is normally distributed on a straight line (or almost straight line).\n",
    "\n",
    "#### Calculation\n",
    "* Arrange your x-values in ascending order.\n",
    "* Calculate fi = (i-0.375)/(n+0.25), where i is the position of the data value in the ordered list and n is the number of observations.\n",
    "* Find the z-score for each fi\n",
    "* Plot your x-values on the horizontal axis and the corresponding z-score on the vertical axis.\n",
    "\n",
    "### References\n",
    "* https://www.statisticshowto.com/box-cox-transformation/\n",
    "* https://www.statisticshowto.com/normal-probability-plot/"
   ]
  },
  {
   "cell_type": "markdown",
   "id": "3c4bdc98",
   "metadata": {},
   "source": [
    "## Binomial Theorem\n",
    "* https://www.statisticshowto.com/probability-and-statistics/binomial-theorem/\n",
    "* https://calculushowto.com/binomial-series/\n",
    "* "
   ]
  },
  {
   "cell_type": "markdown",
   "id": "3825884e",
   "metadata": {},
   "source": [
    "## ACE\n",
    "* https://www.linkedin.com/pulse/using-ace-algorithm-optimal-multiple-regression-engineering-rizk/?articleId=6489240436761198592\n",
    "* "
   ]
  },
  {
   "cell_type": "markdown",
   "id": "bda62978",
   "metadata": {},
   "source": [
    "## Kalman Filter\n",
    "\n",
    "* https://www.youtube.com/watch?v=E-6paM_Iwfc\n",
    "* "
   ]
  },
  {
   "cell_type": "code",
   "execution_count": null,
   "id": "f7080b05",
   "metadata": {},
   "outputs": [],
   "source": []
  }
 ],
 "metadata": {
  "hide_input": false,
  "kernelspec": {
   "display_name": "Python 3",
   "language": "python",
   "name": "python3"
  },
  "language_info": {
   "codemirror_mode": {
    "name": "ipython",
    "version": 3
   },
   "file_extension": ".py",
   "mimetype": "text/x-python",
   "name": "python",
   "nbconvert_exporter": "python",
   "pygments_lexer": "ipython3",
   "version": "3.8.8"
  },
  "toc": {
   "base_numbering": 1,
   "nav_menu": {},
   "number_sections": true,
   "sideBar": true,
   "skip_h1_title": false,
   "title_cell": "Table of Contents",
   "title_sidebar": "Contents",
   "toc_cell": true,
   "toc_position": {},
   "toc_section_display": true,
   "toc_window_display": true
  },
  "varInspector": {
   "cols": {
    "lenName": 16,
    "lenType": 16,
    "lenVar": 40
   },
   "kernels_config": {
    "python": {
     "delete_cmd_postfix": "",
     "delete_cmd_prefix": "del ",
     "library": "var_list.py",
     "varRefreshCmd": "print(var_dic_list())"
    },
    "r": {
     "delete_cmd_postfix": ") ",
     "delete_cmd_prefix": "rm(",
     "library": "var_list.r",
     "varRefreshCmd": "cat(var_dic_list()) "
    }
   },
   "types_to_exclude": [
    "module",
    "function",
    "builtin_function_or_method",
    "instance",
    "_Feature"
   ],
   "window_display": false
  }
 },
 "nbformat": 4,
 "nbformat_minor": 5
}
