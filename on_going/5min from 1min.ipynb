{
 "cells": [
  {
   "cell_type": "markdown",
   "id": "97a937b7",
   "metadata": {
    "toc": true
   },
   "source": [
    "<h1>Table of Contents<span class=\"tocSkip\"></span></h1>\n",
    "<div class=\"toc\"><ul class=\"toc-item\"></ul></div>"
   ]
  },
  {
   "cell_type": "code",
   "execution_count": 1,
   "id": "2c1e57f2",
   "metadata": {
    "ExecuteTime": {
     "end_time": "2022-05-29T11:15:09.613964Z",
     "start_time": "2022-05-29T11:15:09.608747Z"
    }
   },
   "outputs": [],
   "source": [
    "import pandas as pd"
   ]
  },
  {
   "cell_type": "code",
   "execution_count": 13,
   "id": "cd4814e7",
   "metadata": {
    "ExecuteTime": {
     "end_time": "2022-05-29T11:21:16.814483Z",
     "start_time": "2022-05-29T11:21:16.789697Z"
    }
   },
   "outputs": [],
   "source": [
    "fmin = pd.read_csv(\"bars_5m(2).csv\",parse_dates=[\"stamp\"])\n",
    "omin = pd.read_csv(\"bars_1m(1).csv\",parse_dates=[\"stamp\"])"
   ]
  },
  {
   "cell_type": "code",
   "execution_count": 14,
   "id": "2508152f",
   "metadata": {
    "ExecuteTime": {
     "end_time": "2022-05-29T11:21:17.579857Z",
     "start_time": "2022-05-29T11:21:17.538784Z"
    }
   },
   "outputs": [
    {
     "data": {
      "text/html": [
       "<div><div id=b260fc35-29ad-4e2b-9e62-512828f5e85b style=\"display:none; background-color:#9D6CFF; color:white; width:200px; height:30px; padding-left:5px; border-radius:4px; flex-direction:row; justify-content:space-around; align-items:center;\" onmouseover=\"this.style.backgroundColor='#BA9BF8'\" onmouseout=\"this.style.backgroundColor='#9D6CFF'\" onclick=\"window.commands?.execute('create-mitosheet-from-dataframe-output');\">See Full Dataframe in Mito</div> <script> if (window.commands.hasCommand('create-mitosheet-from-dataframe-output')) document.getElementById('b260fc35-29ad-4e2b-9e62-512828f5e85b').style.display = 'flex' </script> <table border=\"1\" class=\"dataframe\">\n",
       "  <thead>\n",
       "    <tr style=\"text-align: right;\">\n",
       "      <th></th>\n",
       "      <th>stamp</th>\n",
       "      <th>symbol</th>\n",
       "      <th>open</th>\n",
       "      <th>high</th>\n",
       "      <th>low</th>\n",
       "      <th>close</th>\n",
       "      <th>volume</th>\n",
       "    </tr>\n",
       "  </thead>\n",
       "  <tbody>\n",
       "    <tr>\n",
       "      <th>0</th>\n",
       "      <td>2022-05-26 04:00:00</td>\n",
       "      <td>AAPL</td>\n",
       "      <td>140.53</td>\n",
       "      <td>140.53</td>\n",
       "      <td>139.60</td>\n",
       "      <td>139.96</td>\n",
       "      <td>21263</td>\n",
       "    </tr>\n",
       "    <tr>\n",
       "      <th>1</th>\n",
       "      <td>2022-05-26 04:05:00</td>\n",
       "      <td>AAPL</td>\n",
       "      <td>139.88</td>\n",
       "      <td>139.90</td>\n",
       "      <td>139.51</td>\n",
       "      <td>139.70</td>\n",
       "      <td>19146</td>\n",
       "    </tr>\n",
       "    <tr>\n",
       "      <th>2</th>\n",
       "      <td>2022-05-26 04:10:00</td>\n",
       "      <td>AAPL</td>\n",
       "      <td>139.66</td>\n",
       "      <td>139.68</td>\n",
       "      <td>139.19</td>\n",
       "      <td>139.19</td>\n",
       "      <td>11904</td>\n",
       "    </tr>\n",
       "    <tr>\n",
       "      <th>3</th>\n",
       "      <td>2022-05-26 04:15:00</td>\n",
       "      <td>AAPL</td>\n",
       "      <td>139.04</td>\n",
       "      <td>139.25</td>\n",
       "      <td>138.80</td>\n",
       "      <td>139.00</td>\n",
       "      <td>21026</td>\n",
       "    </tr>\n",
       "    <tr>\n",
       "      <th>4</th>\n",
       "      <td>2022-05-26 04:20:00</td>\n",
       "      <td>AAPL</td>\n",
       "      <td>138.90</td>\n",
       "      <td>139.13</td>\n",
       "      <td>138.59</td>\n",
       "      <td>138.85</td>\n",
       "      <td>12703</td>\n",
       "    </tr>\n",
       "    <tr>\n",
       "      <th>...</th>\n",
       "      <td>...</td>\n",
       "      <td>...</td>\n",
       "      <td>...</td>\n",
       "      <td>...</td>\n",
       "      <td>...</td>\n",
       "      <td>...</td>\n",
       "      <td>...</td>\n",
       "    </tr>\n",
       "    <tr>\n",
       "      <th>377</th>\n",
       "      <td>2022-05-27 19:35:00</td>\n",
       "      <td>AAPL</td>\n",
       "      <td>149.99</td>\n",
       "      <td>150.00</td>\n",
       "      <td>149.97</td>\n",
       "      <td>149.98</td>\n",
       "      <td>6252</td>\n",
       "    </tr>\n",
       "    <tr>\n",
       "      <th>378</th>\n",
       "      <td>2022-05-27 19:40:00</td>\n",
       "      <td>AAPL</td>\n",
       "      <td>149.99</td>\n",
       "      <td>150.00</td>\n",
       "      <td>149.99</td>\n",
       "      <td>150.00</td>\n",
       "      <td>9050</td>\n",
       "    </tr>\n",
       "    <tr>\n",
       "      <th>379</th>\n",
       "      <td>2022-05-27 19:45:00</td>\n",
       "      <td>AAPL</td>\n",
       "      <td>150.00</td>\n",
       "      <td>150.00</td>\n",
       "      <td>149.98</td>\n",
       "      <td>150.00</td>\n",
       "      <td>13135</td>\n",
       "    </tr>\n",
       "    <tr>\n",
       "      <th>380</th>\n",
       "      <td>2022-05-27 19:50:00</td>\n",
       "      <td>AAPL</td>\n",
       "      <td>150.00</td>\n",
       "      <td>150.00</td>\n",
       "      <td>149.99</td>\n",
       "      <td>150.00</td>\n",
       "      <td>14791</td>\n",
       "    </tr>\n",
       "    <tr>\n",
       "      <th>381</th>\n",
       "      <td>2022-05-27 19:55:00</td>\n",
       "      <td>AAPL</td>\n",
       "      <td>149.99</td>\n",
       "      <td>150.00</td>\n",
       "      <td>149.99</td>\n",
       "      <td>150.00</td>\n",
       "      <td>42100</td>\n",
       "    </tr>\n",
       "  </tbody>\n",
       "</table></div>"
      ],
      "text/plain": [
       "                  stamp symbol    open    high     low   close  volume\n",
       "0   2022-05-26 04:00:00   AAPL  140.53  140.53  139.60  139.96   21263\n",
       "1   2022-05-26 04:05:00   AAPL  139.88  139.90  139.51  139.70   19146\n",
       "2   2022-05-26 04:10:00   AAPL  139.66  139.68  139.19  139.19   11904\n",
       "3   2022-05-26 04:15:00   AAPL  139.04  139.25  138.80  139.00   21026\n",
       "4   2022-05-26 04:20:00   AAPL  138.90  139.13  138.59  138.85   12703\n",
       "..                  ...    ...     ...     ...     ...     ...     ...\n",
       "377 2022-05-27 19:35:00   AAPL  149.99  150.00  149.97  149.98    6252\n",
       "378 2022-05-27 19:40:00   AAPL  149.99  150.00  149.99  150.00    9050\n",
       "379 2022-05-27 19:45:00   AAPL  150.00  150.00  149.98  150.00   13135\n",
       "380 2022-05-27 19:50:00   AAPL  150.00  150.00  149.99  150.00   14791\n",
       "381 2022-05-27 19:55:00   AAPL  149.99  150.00  149.99  150.00   42100\n",
       "\n",
       "[382 rows x 7 columns]"
      ]
     },
     "execution_count": 14,
     "metadata": {},
     "output_type": "execute_result"
    }
   ],
   "source": [
    "fmin"
   ]
  },
  {
   "cell_type": "code",
   "execution_count": 23,
   "id": "01af9d1e",
   "metadata": {
    "ExecuteTime": {
     "end_time": "2022-05-29T11:25:41.045205Z",
     "start_time": "2022-05-29T11:25:40.983973Z"
    }
   },
   "outputs": [
    {
     "data": {
      "text/html": [
       "<div><div id=ccff1c7e-7239-4111-a1e0-cf96951266ae style=\"display:none; background-color:#9D6CFF; color:white; width:200px; height:30px; padding-left:5px; border-radius:4px; flex-direction:row; justify-content:space-around; align-items:center;\" onmouseover=\"this.style.backgroundColor='#BA9BF8'\" onmouseout=\"this.style.backgroundColor='#9D6CFF'\" onclick=\"window.commands?.execute('create-mitosheet-from-dataframe-output');\">See Full Dataframe in Mito</div> <script> if (window.commands.hasCommand('create-mitosheet-from-dataframe-output')) document.getElementById('ccff1c7e-7239-4111-a1e0-cf96951266ae').style.display = 'flex' </script> <table border=\"1\" class=\"dataframe\">\n",
       "  <thead>\n",
       "    <tr style=\"text-align: right;\">\n",
       "      <th></th>\n",
       "      <th>stamp</th>\n",
       "      <th>symbol</th>\n",
       "      <th>open</th>\n",
       "      <th>high</th>\n",
       "      <th>low</th>\n",
       "      <th>close</th>\n",
       "      <th>volume</th>\n",
       "    </tr>\n",
       "  </thead>\n",
       "  <tbody>\n",
       "    <tr>\n",
       "      <th>0</th>\n",
       "      <td>2022-05-26 04:00:00</td>\n",
       "      <td>AAPL</td>\n",
       "      <td>140.53</td>\n",
       "      <td>140.53</td>\n",
       "      <td>139.60</td>\n",
       "      <td>139.96</td>\n",
       "      <td>21263</td>\n",
       "    </tr>\n",
       "    <tr>\n",
       "      <th>1</th>\n",
       "      <td>2022-05-26 04:05:00</td>\n",
       "      <td>AAPL</td>\n",
       "      <td>139.88</td>\n",
       "      <td>139.90</td>\n",
       "      <td>139.51</td>\n",
       "      <td>139.70</td>\n",
       "      <td>19146</td>\n",
       "    </tr>\n",
       "    <tr>\n",
       "      <th>2</th>\n",
       "      <td>2022-05-26 04:10:00</td>\n",
       "      <td>AAPL</td>\n",
       "      <td>139.66</td>\n",
       "      <td>139.68</td>\n",
       "      <td>139.19</td>\n",
       "      <td>139.19</td>\n",
       "      <td>11904</td>\n",
       "    </tr>\n",
       "    <tr>\n",
       "      <th>3</th>\n",
       "      <td>2022-05-26 04:15:00</td>\n",
       "      <td>AAPL</td>\n",
       "      <td>139.04</td>\n",
       "      <td>139.25</td>\n",
       "      <td>138.80</td>\n",
       "      <td>139.00</td>\n",
       "      <td>21026</td>\n",
       "    </tr>\n",
       "    <tr>\n",
       "      <th>4</th>\n",
       "      <td>2022-05-26 04:20:00</td>\n",
       "      <td>AAPL</td>\n",
       "      <td>138.90</td>\n",
       "      <td>139.13</td>\n",
       "      <td>138.59</td>\n",
       "      <td>138.85</td>\n",
       "      <td>12703</td>\n",
       "    </tr>\n",
       "    <tr>\n",
       "      <th>...</th>\n",
       "      <td>...</td>\n",
       "      <td>...</td>\n",
       "      <td>...</td>\n",
       "      <td>...</td>\n",
       "      <td>...</td>\n",
       "      <td>...</td>\n",
       "      <td>...</td>\n",
       "    </tr>\n",
       "    <tr>\n",
       "      <th>377</th>\n",
       "      <td>2022-05-27 19:35:00</td>\n",
       "      <td>AAPL</td>\n",
       "      <td>149.99</td>\n",
       "      <td>150.00</td>\n",
       "      <td>149.97</td>\n",
       "      <td>149.98</td>\n",
       "      <td>6252</td>\n",
       "    </tr>\n",
       "    <tr>\n",
       "      <th>378</th>\n",
       "      <td>2022-05-27 19:40:00</td>\n",
       "      <td>AAPL</td>\n",
       "      <td>149.99</td>\n",
       "      <td>150.00</td>\n",
       "      <td>149.99</td>\n",
       "      <td>150.00</td>\n",
       "      <td>9050</td>\n",
       "    </tr>\n",
       "    <tr>\n",
       "      <th>379</th>\n",
       "      <td>2022-05-27 19:45:00</td>\n",
       "      <td>AAPL</td>\n",
       "      <td>150.00</td>\n",
       "      <td>150.00</td>\n",
       "      <td>149.98</td>\n",
       "      <td>150.00</td>\n",
       "      <td>13135</td>\n",
       "    </tr>\n",
       "    <tr>\n",
       "      <th>380</th>\n",
       "      <td>2022-05-27 19:50:00</td>\n",
       "      <td>AAPL</td>\n",
       "      <td>150.00</td>\n",
       "      <td>150.00</td>\n",
       "      <td>149.99</td>\n",
       "      <td>150.00</td>\n",
       "      <td>14791</td>\n",
       "    </tr>\n",
       "    <tr>\n",
       "      <th>381</th>\n",
       "      <td>2022-05-27 19:55:00</td>\n",
       "      <td>AAPL</td>\n",
       "      <td>149.99</td>\n",
       "      <td>150.00</td>\n",
       "      <td>149.99</td>\n",
       "      <td>150.00</td>\n",
       "      <td>42100</td>\n",
       "    </tr>\n",
       "  </tbody>\n",
       "</table></div>"
      ],
      "text/plain": [
       "                  stamp symbol    open    high     low   close  volume\n",
       "0   2022-05-26 04:00:00   AAPL  140.53  140.53  139.60  139.96   21263\n",
       "1   2022-05-26 04:05:00   AAPL  139.88  139.90  139.51  139.70   19146\n",
       "2   2022-05-26 04:10:00   AAPL  139.66  139.68  139.19  139.19   11904\n",
       "3   2022-05-26 04:15:00   AAPL  139.04  139.25  138.80  139.00   21026\n",
       "4   2022-05-26 04:20:00   AAPL  138.90  139.13  138.59  138.85   12703\n",
       "..                  ...    ...     ...     ...     ...     ...     ...\n",
       "377 2022-05-27 19:35:00   AAPL  149.99  150.00  149.97  149.98    6252\n",
       "378 2022-05-27 19:40:00   AAPL  149.99  150.00  149.99  150.00    9050\n",
       "379 2022-05-27 19:45:00   AAPL  150.00  150.00  149.98  150.00   13135\n",
       "380 2022-05-27 19:50:00   AAPL  150.00  150.00  149.99  150.00   14791\n",
       "381 2022-05-27 19:55:00   AAPL  149.99  150.00  149.99  150.00   42100\n",
       "\n",
       "[382 rows x 7 columns]"
      ]
     },
     "execution_count": 23,
     "metadata": {},
     "output_type": "execute_result"
    }
   ],
   "source": [
    "nfmin = omin.groupby([\"symbol\", pd.Grouper(key=\"stamp\", freq=\"5Min\")]).agg(open=(\"open\",\"first\"),\n",
    "                                                                   high=(\"high\",\"max\"),\n",
    "                                                                  low=(\"low\",\"min\"),\n",
    "                                                                   close=(\"close\",\"last\"),\n",
    "                                                                   volume=(\"volume\",\"sum\")\n",
    "                                                                  ).reset_index()\n",
    "nfmin=nfmin[[\"stamp\",\"symbol\", \"open\",\"high\",\"low\",\"close\",\"volume\"]]\n",
    "nfmin"
   ]
  },
  {
   "cell_type": "code",
   "execution_count": 28,
   "id": "7e12e70f",
   "metadata": {
    "ExecuteTime": {
     "end_time": "2022-05-29T11:26:10.592914Z",
     "start_time": "2022-05-29T11:26:10.571889Z"
    }
   },
   "outputs": [
    {
     "data": {
      "text/plain": [
       "stamp     0\n",
       "symbol    0\n",
       "open      0\n",
       "high      0\n",
       "low       0\n",
       "close     0\n",
       "volume    0\n",
       "dtype: int64"
      ]
     },
     "execution_count": 28,
     "metadata": {},
     "output_type": "execute_result"
    }
   ],
   "source": [
    "(nfmin!=fmin).sum()"
   ]
  },
  {
   "cell_type": "code",
   "execution_count": 29,
   "id": "1ffe7017",
   "metadata": {
    "ExecuteTime": {
     "end_time": "2022-05-29T11:36:05.210624Z",
     "start_time": "2022-05-29T11:36:05.182925Z"
    }
   },
   "outputs": [
    {
     "data": {
      "text/plain": [
       "'bars_5m'"
      ]
     },
     "execution_count": 29,
     "metadata": {},
     "output_type": "execute_result"
    }
   ],
   "source": [
    "\"bars_1m\".replace(\"1\",\"5\")"
   ]
  },
  {
   "cell_type": "code",
   "execution_count": null,
   "id": "3b07d848",
   "metadata": {},
   "outputs": [],
   "source": []
  }
 ],
 "metadata": {
  "hide_input": false,
  "kernelspec": {
   "display_name": "Python 3",
   "language": "python",
   "name": "python3"
  },
  "language_info": {
   "codemirror_mode": {
    "name": "ipython",
    "version": 3
   },
   "file_extension": ".py",
   "mimetype": "text/x-python",
   "name": "python",
   "nbconvert_exporter": "python",
   "pygments_lexer": "ipython3",
   "version": "3.8.8"
  },
  "toc": {
   "base_numbering": 1,
   "nav_menu": {},
   "number_sections": true,
   "sideBar": true,
   "skip_h1_title": false,
   "title_cell": "Table of Contents",
   "title_sidebar": "Contents",
   "toc_cell": true,
   "toc_position": {},
   "toc_section_display": true,
   "toc_window_display": false
  },
  "varInspector": {
   "cols": {
    "lenName": 16,
    "lenType": 16,
    "lenVar": 40
   },
   "kernels_config": {
    "python": {
     "delete_cmd_postfix": "",
     "delete_cmd_prefix": "del ",
     "library": "var_list.py",
     "varRefreshCmd": "print(var_dic_list())"
    },
    "r": {
     "delete_cmd_postfix": ") ",
     "delete_cmd_prefix": "rm(",
     "library": "var_list.r",
     "varRefreshCmd": "cat(var_dic_list()) "
    }
   },
   "types_to_exclude": [
    "module",
    "function",
    "builtin_function_or_method",
    "instance",
    "_Feature"
   ],
   "window_display": false
  }
 },
 "nbformat": 4,
 "nbformat_minor": 5
}
