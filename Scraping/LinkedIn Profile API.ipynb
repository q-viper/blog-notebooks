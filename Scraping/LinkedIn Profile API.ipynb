{
 "cells": [
  {
   "cell_type": "markdown",
   "metadata": {},
   "source": [
    "## Getting Started with LinkedIn API\n",
    "Have you ever tried to view someone's LinkedIn profile but was too afraid that they might know it? And with mindset, have you ever tried to view their profile URL in incognito browser mode? And with very little chance you can view their profile without having to login and notifying then that you viewed their profile.\n",
    "\n",
    "\n",
    "### Getting API Keys\n",
    "In order to make API requests, we should have API keys from the [developer console](https://www.linkedin.com/developers/apps). We have to create an app. But first, we need a LinkedIn Page to do that. I am creating one page and then create an App with it.\n",
    "\n",
    "![](page.png)\n",
    "\n",
    "Once created a page, we can paste its URL in the app's form and complete the application process. \n",
    "\n",
    "Next we need to verify our App. In the settings, there will be App Settings and clicking on Verify will open a pop up which will give us verification URL and that URL has to be followed by page admin and allow it.\n",
    "\n",
    "![](verify.png)\n",
    "\n",
    "Next, we need to have auth keys and we could do that by like below.\n",
    "\n",
    "![](authk.png)\n",
    "\n",
    "But for that we need to have products.\n",
    "\n",
    "![](prods.png)\n",
    "\n",
    "Once done, we can get keys from Auth section of the page.\n",
    "\n",
    "![](auth.png)\n"
   ]
  },
  {
   "cell_type": "code",
   "execution_count": null,
   "metadata": {
    "ExecuteTime": {
     "end_time": "2022-07-17T03:35:21.070945Z",
     "start_time": "2022-07-17T03:35:06.705544Z"
    }
   },
   "outputs": [],
   "source": []
  },
  {
   "cell_type": "markdown",
   "metadata": {},
   "source": [
    "Now we can use the generated access token to make our first request. Lets see my profile by making a get request to `https://api.linkedin.com/v2/me`."
   ]
  },
  {
   "cell_type": "code",
   "execution_count": 19,
   "metadata": {
    "ExecuteTime": {
     "end_time": "2022-07-17T04:10:22.630641Z",
     "start_time": "2022-07-17T04:10:21.429415Z"
    }
   },
   "outputs": [
    {
     "name": "stdout",
     "output_type": "stream",
     "text": [
      "{'localizedLastName': 'Acharya', 'profilePicture': {'displayImage': 'urn:li:digitalmediaAsset:C5103AQGbgVQhozb_EQ'}, 'firstName': {'localized': {'en_US': 'Ramkrishna'}, 'preferredLocale': {'country': 'US', 'language': 'en'}}, 'lastName': {'localized': {'en_US': 'Acharya'}, 'preferredLocale': {'country': 'US', 'language': 'en'}}, 'id': 'ciiPHCw5tC', 'localizedFirstName': 'Ramkrishna'}\n"
     ]
    }
   ],
   "source": [
    "def get_my_profile(access_token):\n",
    "    URL = \"https://api.linkedin.com/v2/me\"\n",
    "    headers = {'Content-Type': 'application/x-www-form-urlencoded','Authorization':'Bearer {}'.format(access_token),'X-Restli-Protocol-Version':'2.0.0'}\n",
    "    response = requests.get(url=URL, headers=headers)\n",
    "    print(response.json())\n",
    "\n",
    "access=\"AQVnV_W5nb6y30uoIHkZpH6fHDuE1pytBWBVDqmJLHWWh5ges-xmPu6H77SX6W8_J7I1NTcScv5znSt5jhPSu_EGCTi0tHnbCNQ8z-Mx3eWNnMYzWeprYbFoa5oTzrzwNN8YVQeEcbKIu-6fQfZYUdETnfYDxNP3z69o_qSdAqnd98TOzgyrMENsuLNBoNOW7CBg8RregIRF6obbDnc6JjgkDp9nj7Vr6q0ogJ87l5WdJ5Y7M8BAgFCe2MA4gXaMZStVp6InPUIeZRZCOJWTW7uW3ZXV_9-s7d_4IT0tObDANa4L6FjoHmFfZONGiaF6nrQgs_goYDM5p6oqCPo18cDxppSWgw\"\n",
    "get_my_profile(access)"
   ]
  },
  {
   "cell_type": "markdown",
   "metadata": {
    "ExecuteTime": {
     "end_time": "2022-07-17T04:37:04.272387Z",
     "start_time": "2022-07-17T04:37:02.770133Z"
    }
   },
   "source": []
  },
  {
   "cell_type": "code",
   "execution_count": null,
   "metadata": {
    "ExecuteTime": {
     "end_time": "2022-07-17T04:37:31.947665Z",
     "start_time": "2022-07-17T04:37:30.374316Z"
    }
   },
   "outputs": [],
   "source": []
  },
  {
   "cell_type": "code",
   "execution_count": null,
   "metadata": {},
   "outputs": [],
   "source": []
  }
 ],
 "metadata": {
  "kernelspec": {
   "display_name": "Python 3",
   "language": "python",
   "name": "python3"
  },
  "language_info": {
   "codemirror_mode": {
    "name": "ipython",
    "version": 3
   },
   "file_extension": ".py",
   "mimetype": "text/x-python",
   "name": "python",
   "nbconvert_exporter": "python",
   "pygments_lexer": "ipython3",
   "version": "3.8.5"
  },
  "latex_envs": {
   "LaTeX_envs_menu_present": true,
   "autoclose": false,
   "autocomplete": true,
   "bibliofile": "biblio.bib",
   "cite_by": "apalike",
   "current_citInitial": 1,
   "eqLabelWithNumbers": true,
   "eqNumInitial": 1,
   "hotkeys": {
    "equation": "Ctrl-E",
    "itemize": "Ctrl-I"
   },
   "labels_anchors": false,
   "latex_user_defs": false,
   "report_style_numbering": false,
   "user_envs_cfg": false
  },
  "toc": {
   "base_numbering": 1,
   "nav_menu": {},
   "number_sections": true,
   "sideBar": true,
   "skip_h1_title": false,
   "title_cell": "Table of Contents",
   "title_sidebar": "Contents",
   "toc_cell": false,
   "toc_position": {},
   "toc_section_display": true,
   "toc_window_display": false
  },
  "varInspector": {
   "cols": {
    "lenName": 16,
    "lenType": 16,
    "lenVar": 40
   },
   "kernels_config": {
    "python": {
     "delete_cmd_postfix": "",
     "delete_cmd_prefix": "del ",
     "library": "var_list.py",
     "varRefreshCmd": "print(var_dic_list())"
    },
    "r": {
     "delete_cmd_postfix": ") ",
     "delete_cmd_prefix": "rm(",
     "library": "var_list.r",
     "varRefreshCmd": "cat(var_dic_list()) "
    }
   },
   "types_to_exclude": [
    "module",
    "function",
    "builtin_function_or_method",
    "instance",
    "_Feature"
   ],
   "window_display": false
  }
 },
 "nbformat": 4,
 "nbformat_minor": 4
}
