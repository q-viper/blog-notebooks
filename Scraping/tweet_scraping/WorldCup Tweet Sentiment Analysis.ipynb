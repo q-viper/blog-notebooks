{
 "cells": [
  {
   "cell_type": "markdown",
   "metadata": {},
   "source": [
    "WorldCup tweet sentiment analysis will be done based on tweets related to worldcup.\n",
    "\n",
    "This is a time of worldcup and social media might be full of activities related to worldcup. Most of us pick a side with country and make post based on them or against other teams. I remember getting angry with friend while being on the opposite team during worldcup. Since we are busy in social media and we share opinion of ours in it, we could be part of heated arguments too. But can we detect those? Let's use sentiment analysis in them."
   ]
  },
  {
   "cell_type": "markdown",
   "metadata": {},
   "source": [
    "## Getting Tweet Data\n",
    "First step is to get tweet data related to worldcup and to do that, we will use Tweepy. I have written a walkthrough blog to use Tweepy to get tweets using Tweeter API and you can read it below.\n",
    "* [Tweet Scraping Using Tweepy](https://q-viper.github.io/2022/06/04/scraping-tweets-with-tweepy/)\n",
    "\n",
    "But first step is to install latest Tweepy:\n",
    "\n",
    "* `!pip install git+https://github.com/tweepy/tweepy.git`\n"
   ]
  },
  {
   "cell_type": "code",
   "execution_count": 1,
   "metadata": {
    "ExecuteTime": {
     "end_time": "2022-12-10T10:58:36.345692Z",
     "start_time": "2022-12-10T10:57:45.322354Z"
    }
   },
   "outputs": [
    {
     "name": "stdout",
     "output_type": "stream",
     "text": [
      "Collecting git+https://github.com/tweepy/tweepy.git"
     ]
    },
    {
     "name": "stderr",
     "output_type": "stream",
     "text": [
      "WARNING: Ignoring invalid distribution -sgpack (c:\\programdata\\anaconda3\\lib\\site-packages)\n",
      "WARNING: Ignoring invalid distribution -ryptography (c:\\programdata\\anaconda3\\lib\\site-packages)\n",
      "WARNING: Ignoring invalid distribution -rapt (c:\\programdata\\anaconda3\\lib\\site-packages)\n",
      "WARNING: Ignoring invalid distribution -lick (c:\\programdata\\anaconda3\\lib\\site-packages)\n",
      "WARNING: Ignoring invalid distribution - (c:\\programdata\\anaconda3\\lib\\site-packages)\n",
      "WARNING: Ignoring invalid distribution -equests (c:\\programdata\\anaconda3\\lib\\site-packages)\n",
      "WARNING: Ignoring invalid distribution -cikit-learn (c:\\programdata\\anaconda3\\lib\\site-packages)\n",
      "  Running command git clone --filter=blob:none --quiet https://github.com/tweepy/tweepy.git 'C:\\Users\\Viper\\AppData\\Local\\Temp\\pip-req-build-t4466103'\n",
      "WARNING: Ignoring invalid distribution -sgpack (c:\\programdata\\anaconda3\\lib\\site-packages)\n",
      "WARNING: Ignoring invalid distribution -ryptography (c:\\programdata\\anaconda3\\lib\\site-packages)\n",
      "WARNING: Ignoring invalid distribution -rapt (c:\\programdata\\anaconda3\\lib\\site-packages)\n",
      "WARNING: Ignoring invalid distribution -lick (c:\\programdata\\anaconda3\\lib\\site-packages)\n",
      "WARNING: Ignoring invalid distribution - (c:\\programdata\\anaconda3\\lib\\site-packages)\n",
      "WARNING: Ignoring invalid distribution -equests (c:\\programdata\\anaconda3\\lib\\site-packages)\n",
      "WARNING: Ignoring invalid distribution -cikit-learn (c:\\programdata\\anaconda3\\lib\\site-packages)\n"
     ]
    },
    {
     "name": "stdout",
     "output_type": "stream",
     "text": [
      "\n",
      "  Cloning https://github.com/tweepy/tweepy.git to c:\\users\\viper\\appdata\\local\\temp\\pip-req-build-t4466103\n",
      "  Resolved https://github.com/tweepy/tweepy.git to commit 4b0fa90e91eb2b67dfd33f0d27b148e95ea05f65\n",
      "  Preparing metadata (setup.py): started\n",
      "  Preparing metadata (setup.py): finished with status 'done'\n",
      "Requirement already satisfied: oauthlib<4,>=3.2.0 in c:\\programdata\\anaconda3\\lib\\site-packages (from tweepy==4.12.1) (3.2.2)\n",
      "Requirement already satisfied: requests<3,>=2.27.0 in c:\\users\\viper\\appdata\\roaming\\python\\python38\\site-packages (from tweepy==4.12.1) (2.28.1)\n",
      "Requirement already satisfied: requests-oauthlib<2,>=1.2.0 in c:\\programdata\\anaconda3\\lib\\site-packages (from tweepy==4.12.1) (1.3.0)\n",
      "Requirement already satisfied: idna<4,>=2.5 in c:\\programdata\\anaconda3\\lib\\site-packages (from requests<3,>=2.27.0->tweepy==4.12.1) (2.10)\n",
      "Requirement already satisfied: charset-normalizer<3,>=2 in c:\\users\\viper\\appdata\\roaming\\python\\python38\\site-packages (from requests<3,>=2.27.0->tweepy==4.12.1) (2.1.0)\n",
      "Requirement already satisfied: urllib3<1.27,>=1.21.1 in c:\\users\\viper\\appdata\\roaming\\python\\python38\\site-packages (from requests<3,>=2.27.0->tweepy==4.12.1) (1.25.11)\n",
      "Requirement already satisfied: certifi>=2017.4.17 in c:\\programdata\\anaconda3\\lib\\site-packages (from requests<3,>=2.27.0->tweepy==4.12.1) (2020.6.20)\n"
     ]
    }
   ],
   "source": [
    "!pip install git+https://github.com/tweepy/tweepy.git"
   ]
  },
  {
   "cell_type": "markdown",
   "metadata": {},
   "source": [
    "## Setting Keys\n",
    "Lets set keys as below:\n",
    "\n",
    "```python\n",
    "api_key=\"api_key here\"\n",
    "secret=\"secret key here\"\n",
    "bearer=\"bearer here\"\n",
    "access_token=\"access_token here\"\n",
    "access_token_secret=\"access_token_secret here\"\n",
    "```"
   ]
  },
  {
   "cell_type": "code",
   "execution_count": 2,
   "metadata": {
    "ExecuteTime": {
     "end_time": "2022-12-10T10:58:36.542572Z",
     "start_time": "2022-12-10T10:58:36.522579Z"
    }
   },
   "outputs": [],
   "source": [
    "api_key=\"\"\n",
    "secret=\"\"\n",
    "bearer=\"\"\n",
    "access_token=\"\"\n",
    "access_token_secret=\"\""
   ]
  },
  {
   "cell_type": "markdown",
   "metadata": {},
   "source": [
    "## Making a Connection\n",
    "Now that our keys are set lets make a connection to API using tweepy."
   ]
  },
  {
   "cell_type": "code",
   "execution_count": 3,
   "metadata": {
    "ExecuteTime": {
     "end_time": "2022-12-10T10:58:37.630308Z",
     "start_time": "2022-12-10T10:58:36.716110Z"
    }
   },
   "outputs": [],
   "source": [
    "import tweepy as tw\n",
    "\n",
    "api_key= api_key\n",
    "api_secret= secret\n",
    "\n",
    "\n",
    "auth = tw.OAuthHandler(api_key, api_secret)\n",
    "auth.set_access_token(access_token, access_token_secret)\n",
    "api = tw.API(auth, wait_on_rate_limit=True)\n"
   ]
  },
  {
   "cell_type": "code",
   "execution_count": null,
   "metadata": {
    "ExecuteTime": {
     "end_time": "2022-12-10T10:47:12.998449Z",
     "start_time": "2022-12-10T10:47:12.736398Z"
    }
   },
   "outputs": [],
   "source": []
  },
  {
   "cell_type": "markdown",
   "metadata": {},
   "source": [
    "If no error shown then it worked!"
   ]
  },
  {
   "cell_type": "markdown",
   "metadata": {},
   "source": [
    "## A Function to get Related Tweets\n",
    "This is taken from the above blog."
   ]
  },
  {
   "cell_type": "code",
   "execution_count": null,
   "metadata": {},
   "outputs": [],
   "source": []
  },
  {
   "cell_type": "code",
   "execution_count": 9,
   "metadata": {
    "ExecuteTime": {
     "end_time": "2022-12-10T11:00:38.205778Z",
     "start_time": "2022-12-10T11:00:38.148250Z"
    },
    "code_folding": [
     41,
     44
    ]
   },
   "outputs": [],
   "source": [
    "import json,csv,time,os\n",
    "import pandas as pd\n",
    "\n",
    "def get_related_tweets(key_words, language=\"en\", max_tweets=5000, max_items=500):\n",
    "    fname=language+str(time.time())+\".csv\"\n",
    "    print(f\"Filename {fname}\")\n",
    "    \n",
    "    count=0\n",
    "    tweets=max_tweets\n",
    "    \n",
    "    for key_word in key_words:\n",
    "        print(f\"Current Keyword: {key_word}\")\n",
    "        for tweet in tw.Cursor(api.search_tweets,\n",
    "                               q=key_word, count=max_items).items(max_items):\n",
    "            \n",
    "            tweet_created_at = []\n",
    "            text = []\n",
    "            user=[]\n",
    "            hashtags = []\n",
    "            user_mentions = []\n",
    "            in_reply = []\n",
    "            protected = []\n",
    "            followers_count = [] \n",
    "            friends_count = []\n",
    "            listed_count = []\n",
    "            created_at = []\n",
    "            favourites_count = []\n",
    "            geo_enabled = []\n",
    "            verified =[]\n",
    "            statuses_count=[]\n",
    "            coordinates=[]\n",
    "            is_quote_status=[]\n",
    "            retweet_count=[]\n",
    "            favorited=[]\n",
    "            retweeted=[]\n",
    "            source = []\n",
    "            place=[]\n",
    "            lang=[]\n",
    "            kwd=[]\n",
    "            ids=[]\n",
    "            locations=[]\n",
    "            description=[]\n",
    "\n",
    "            if tweet.lang!=language:\n",
    "                continue\n",
    "            count+=1\n",
    "            try:\n",
    "              tweet_created_at.append(tweet.created_at)\n",
    "              status = api.get_status(tweet.id, tweet_mode=\"extended\")\n",
    "              try:\n",
    "                  txt = status.retweeted_status.full_text\n",
    "              except AttributeError:  \n",
    "                  txt = status.full_text\n",
    "\n",
    "              description.append(tweet.user.description)\n",
    "              locations.append(tweet.user.location)\n",
    "              ids.append(tweet.id)\n",
    "              text.append(txt)\n",
    "              user.append(tweet.user.screen_name)\n",
    "              hashtags.append(tweet.entities[\"hashtags\"])\n",
    "              user_mentions.append(len(tweet.entities[\"user_mentions\"]))\n",
    "              in_reply.append(tweet.in_reply_to_status_id)\n",
    "              protected.append(tweet.user.protected)\n",
    "              followers_count.append(tweet.user.followers_count)\n",
    "              friends_count.append(tweet.user.friends_count)\n",
    "              listed_count.append(tweet.user.listed_count)\n",
    "              created_at.append(tweet.user.created_at)\n",
    "              favourites_count.append(tweet.user.favourites_count)\n",
    "              geo_enabled.append(tweet.user.geo_enabled)\n",
    "              verified.append(tweet.user.verified)\n",
    "              statuses_count.append(tweet.user.statuses_count)\n",
    "              coordinates.append(tweet.coordinates)\n",
    "              is_quote_status.append(tweet.is_quote_status)\n",
    "              retweet_count.append(tweet.retweet_count)\n",
    "              favorited.append(tweet.favorited)\n",
    "              retweeted.append(tweet.retweeted)\n",
    "              source.append(tweet.source)\n",
    "              place.append(tweet.place)\n",
    "              lang.append(tweet.lang)\n",
    "              kwd.append(key_word)\n",
    "\n",
    "              dict_data={\"id\":ids,'tweet_created_at':tweet_created_at, \n",
    "                                    'text': text, 'user': user, \"bio\":description,\"location\":locations,\n",
    "                                    \"hashtags\":hashtags, \"user_mentions\":user_mentions,\n",
    "                                    \"in_reply\":in_reply, \"protected\":protected, \"followers_count\":followers_count,\n",
    "                                    \"friends_count\":friends_count, \"listed_count\":listed_count, \"created_at\":created_at,\n",
    "                                    \"favourites_count\":favourites_count, \"geo_enabled\":geo_enabled, \"verified\":verified,\n",
    "                                    \"statuses_count\":statuses_count, \"coordinates\":coordinates, \"is_quote_status\":is_quote_status,\n",
    "                                    \"retweet_count\":retweet_count,\n",
    "                                    \"retweeted\":retweeted,\"lang\":lang,\n",
    "                                    \"source\":source,\"place\":place,\"kwd\":key_word}\n",
    "              csv_columns=list(dict_data.keys())\n",
    "              dict_data = {k:v[0] for k,v in dict_data.items()}\n",
    "              if os.path.isfile(fname):  \n",
    "                # print(\"File Exists\")\n",
    "                pass\n",
    "              else:\n",
    "                # print(\"File does not exist\")\n",
    "                with open(fname, 'a', encoding='utf-8') as csvfile:\n",
    "                  writer = csv.DictWriter(csvfile, fieldnames=csv_columns)\n",
    "                  writer.writeheader()\n",
    "\n",
    "              with open(fname, 'a', encoding='utf-8') as csvfile:\n",
    "                  writer = csv.DictWriter(csvfile, fieldnames=csv_columns)\n",
    "                  for data in [dict_data]:\n",
    "                      writer.writerow(data)\n",
    "\n",
    "              if count>=tweets:\n",
    "                break\n",
    "            except:\n",
    "              print(\"Something is wrong. Skipping this tweet.\")\n",
    "    \n",
    "    return pd.read_csv(fname, parse_dates=[\"tweet_created_at\",\"created_at\"])"
   ]
  },
  {
   "cell_type": "code",
   "execution_count": 10,
   "metadata": {
    "ExecuteTime": {
     "end_time": "2022-12-10T11:32:54.968017Z",
     "start_time": "2022-12-10T11:00:38.842828Z"
    }
   },
   "outputs": [
    {
     "name": "stdout",
     "output_type": "stream",
     "text": [
      "Filename en1670670038.8448372.csv\n",
      "Current Keyword: worldcup\n",
      "Current Keyword: world cup\n",
      "Current Keyword: wcup\n",
      "Current Keyword: football\n",
      "Something is wrong. Skipping this tweet.\n",
      "Something is wrong. Skipping this tweet.\n",
      "Current Keyword: qatar worldcup prediction\n"
     ]
    },
    {
     "name": "stderr",
     "output_type": "stream",
     "text": [
      "Rate limit reached. Sleeping for: 174\n"
     ]
    },
    {
     "data": {
      "text/html": [
       "<div>\n",
       "<style scoped>\n",
       "    .dataframe tbody tr th:only-of-type {\n",
       "        vertical-align: middle;\n",
       "    }\n",
       "\n",
       "    .dataframe tbody tr th {\n",
       "        vertical-align: top;\n",
       "    }\n",
       "\n",
       "    .dataframe thead th {\n",
       "        text-align: right;\n",
       "    }\n",
       "</style>\n",
       "<table border=\"1\" class=\"dataframe\">\n",
       "  <thead>\n",
       "    <tr style=\"text-align: right;\">\n",
       "      <th></th>\n",
       "      <th>id</th>\n",
       "      <th>tweet_created_at</th>\n",
       "      <th>text</th>\n",
       "      <th>user</th>\n",
       "      <th>bio</th>\n",
       "      <th>location</th>\n",
       "      <th>hashtags</th>\n",
       "      <th>user_mentions</th>\n",
       "      <th>in_reply</th>\n",
       "      <th>protected</th>\n",
       "      <th>...</th>\n",
       "      <th>verified</th>\n",
       "      <th>statuses_count</th>\n",
       "      <th>coordinates</th>\n",
       "      <th>is_quote_status</th>\n",
       "      <th>retweet_count</th>\n",
       "      <th>retweeted</th>\n",
       "      <th>lang</th>\n",
       "      <th>source</th>\n",
       "      <th>place</th>\n",
       "      <th>kwd</th>\n",
       "    </tr>\n",
       "  </thead>\n",
       "  <tbody>\n",
       "    <tr>\n",
       "      <th>0</th>\n",
       "      <td>1601532325241950209</td>\n",
       "      <td>2022-12-10 11:00:36+00:00</td>\n",
       "      <td>@mcbenwell @TheTotallyShow Unsurprisingly, thi...</td>\n",
       "      <td>DrLouiseClare1</td>\n",
       "      <td>Historian looking at Argentine, British and US...</td>\n",
       "      <td>NaN</td>\n",
       "      <td>[]</td>\n",
       "      <td>2</td>\n",
       "      <td>1.601523e+18</td>\n",
       "      <td>False</td>\n",
       "      <td>...</td>\n",
       "      <td>False</td>\n",
       "      <td>1187</td>\n",
       "      <td>NaN</td>\n",
       "      <td>False</td>\n",
       "      <td>0</td>\n",
       "      <td>False</td>\n",
       "      <td>en</td>\n",
       "      <td>Twitter for iPhone</td>\n",
       "      <td>NaN</td>\n",
       "      <td>w</td>\n",
       "    </tr>\n",
       "    <tr>\n",
       "      <th>1</th>\n",
       "      <td>1601532314613334018</td>\n",
       "      <td>2022-12-10 11:00:33+00:00</td>\n",
       "      <td>All the best to England playing in the quarter...</td>\n",
       "      <td>bookajet</td>\n",
       "      <td>Enjoy freedom without responsibility and let y...</td>\n",
       "      <td>Farnborough Airport</td>\n",
       "      <td>[{'text': 'worldcup', 'indices': [61, 70]}, {'...</td>\n",
       "      <td>0</td>\n",
       "      <td>NaN</td>\n",
       "      <td>False</td>\n",
       "      <td>...</td>\n",
       "      <td>False</td>\n",
       "      <td>959</td>\n",
       "      <td>NaN</td>\n",
       "      <td>False</td>\n",
       "      <td>0</td>\n",
       "      <td>False</td>\n",
       "      <td>en</td>\n",
       "      <td>Hootsuite Inc.</td>\n",
       "      <td>NaN</td>\n",
       "      <td>w</td>\n",
       "    </tr>\n",
       "    <tr>\n",
       "      <th>2</th>\n",
       "      <td>1601532312696811520</td>\n",
       "      <td>2022-12-10 11:00:33+00:00</td>\n",
       "      <td>1/It's Matchday⚽️\\r\\n\\r\\nShow support to your ...</td>\n",
       "      <td>0xNeverWinn</td>\n",
       "      <td>@GaHunter688 suspended</td>\n",
       "      <td>NaN</td>\n",
       "      <td>[{'text': 'worldcup', 'indices': [61, 70]}, {'...</td>\n",
       "      <td>1</td>\n",
       "      <td>NaN</td>\n",
       "      <td>False</td>\n",
       "      <td>...</td>\n",
       "      <td>False</td>\n",
       "      <td>8442</td>\n",
       "      <td>NaN</td>\n",
       "      <td>False</td>\n",
       "      <td>4472</td>\n",
       "      <td>False</td>\n",
       "      <td>en</td>\n",
       "      <td>Twitter Web App</td>\n",
       "      <td>NaN</td>\n",
       "      <td>w</td>\n",
       "    </tr>\n",
       "    <tr>\n",
       "      <th>3</th>\n",
       "      <td>1601532303762677762</td>\n",
       "      <td>2022-12-10 11:00:30+00:00</td>\n",
       "      <td>Good Luck England ⚽⚽⚽\\r\\n #Itscominghome #Worl...</td>\n",
       "      <td>3LionsOnMaShirt</td>\n",
       "      <td>Sharing the latest #ThreeLions news and fan ta...</td>\n",
       "      <td>Manchester, England</td>\n",
       "      <td>[{'text': 'Itscominghome', 'indices': [40, 54]...</td>\n",
       "      <td>1</td>\n",
       "      <td>NaN</td>\n",
       "      <td>False</td>\n",
       "      <td>...</td>\n",
       "      <td>False</td>\n",
       "      <td>157</td>\n",
       "      <td>NaN</td>\n",
       "      <td>False</td>\n",
       "      <td>1</td>\n",
       "      <td>False</td>\n",
       "      <td>en</td>\n",
       "      <td>VillaBotMan</td>\n",
       "      <td>NaN</td>\n",
       "      <td>w</td>\n",
       "    </tr>\n",
       "    <tr>\n",
       "      <th>4</th>\n",
       "      <td>1601532286507552768</td>\n",
       "      <td>2022-12-10 11:00:26+00:00</td>\n",
       "      <td>Guess the Quarter Final Winners ⚽️🥂\\r\\n\\r\\nThe...</td>\n",
       "      <td>EdehRonald</td>\n",
       "      <td>crypto enthusiast/trader</td>\n",
       "      <td>NaN</td>\n",
       "      <td>[{'text': 'WorldcupQatar2022', 'indices': [64,...</td>\n",
       "      <td>1</td>\n",
       "      <td>NaN</td>\n",
       "      <td>False</td>\n",
       "      <td>...</td>\n",
       "      <td>False</td>\n",
       "      <td>92</td>\n",
       "      <td>NaN</td>\n",
       "      <td>False</td>\n",
       "      <td>24</td>\n",
       "      <td>False</td>\n",
       "      <td>en</td>\n",
       "      <td>Twitter for Android</td>\n",
       "      <td>NaN</td>\n",
       "      <td>w</td>\n",
       "    </tr>\n",
       "    <tr>\n",
       "      <th>...</th>\n",
       "      <td>...</td>\n",
       "      <td>...</td>\n",
       "      <td>...</td>\n",
       "      <td>...</td>\n",
       "      <td>...</td>\n",
       "      <td>...</td>\n",
       "      <td>...</td>\n",
       "      <td>...</td>\n",
       "      <td>...</td>\n",
       "      <td>...</td>\n",
       "      <td>...</td>\n",
       "      <td>...</td>\n",
       "      <td>...</td>\n",
       "      <td>...</td>\n",
       "      <td>...</td>\n",
       "      <td>...</td>\n",
       "      <td>...</td>\n",
       "      <td>...</td>\n",
       "      <td>...</td>\n",
       "      <td>...</td>\n",
       "      <td>...</td>\n",
       "    </tr>\n",
       "    <tr>\n",
       "      <th>1844</th>\n",
       "      <td>1600634805494112256</td>\n",
       "      <td>2022-12-07 23:34:10+00:00</td>\n",
       "      <td>🔮 PREDICTION #30: WORLD CUP WINNER ⚽️\\r\\n\\r\\nW...</td>\n",
       "      <td>YuaXie1</td>\n",
       "      <td>Xie</td>\n",
       "      <td>NaN</td>\n",
       "      <td>[]</td>\n",
       "      <td>1</td>\n",
       "      <td>NaN</td>\n",
       "      <td>False</td>\n",
       "      <td>...</td>\n",
       "      <td>False</td>\n",
       "      <td>30</td>\n",
       "      <td>NaN</td>\n",
       "      <td>False</td>\n",
       "      <td>1144</td>\n",
       "      <td>False</td>\n",
       "      <td>en</td>\n",
       "      <td>Twitter for Android</td>\n",
       "      <td>NaN</td>\n",
       "      <td>q</td>\n",
       "    </tr>\n",
       "    <tr>\n",
       "      <th>1845</th>\n",
       "      <td>1600634015593046016</td>\n",
       "      <td>2022-12-07 23:31:02+00:00</td>\n",
       "      <td>🔮 PREDICTION #30: WORLD CUP WINNER ⚽️\\r\\n\\r\\nW...</td>\n",
       "      <td>MiaKhezia</td>\n",
       "      <td>Mia</td>\n",
       "      <td>NaN</td>\n",
       "      <td>[]</td>\n",
       "      <td>1</td>\n",
       "      <td>NaN</td>\n",
       "      <td>False</td>\n",
       "      <td>...</td>\n",
       "      <td>False</td>\n",
       "      <td>30</td>\n",
       "      <td>NaN</td>\n",
       "      <td>False</td>\n",
       "      <td>1144</td>\n",
       "      <td>False</td>\n",
       "      <td>en</td>\n",
       "      <td>Twitter for Android</td>\n",
       "      <td>NaN</td>\n",
       "      <td>q</td>\n",
       "    </tr>\n",
       "    <tr>\n",
       "      <th>1846</th>\n",
       "      <td>1600633247909965824</td>\n",
       "      <td>2022-12-07 23:27:59+00:00</td>\n",
       "      <td>🔮 PREDICTION #30: WORLD CUP WINNER ⚽️\\r\\n\\r\\nW...</td>\n",
       "      <td>RiaHarianto1818</td>\n",
       "      <td>True Love</td>\n",
       "      <td>NaN</td>\n",
       "      <td>[]</td>\n",
       "      <td>1</td>\n",
       "      <td>NaN</td>\n",
       "      <td>False</td>\n",
       "      <td>...</td>\n",
       "      <td>False</td>\n",
       "      <td>30</td>\n",
       "      <td>NaN</td>\n",
       "      <td>False</td>\n",
       "      <td>1144</td>\n",
       "      <td>False</td>\n",
       "      <td>en</td>\n",
       "      <td>Twitter for Android</td>\n",
       "      <td>NaN</td>\n",
       "      <td>q</td>\n",
       "    </tr>\n",
       "    <tr>\n",
       "      <th>1847</th>\n",
       "      <td>1600632624745435136</td>\n",
       "      <td>2022-12-07 23:25:30+00:00</td>\n",
       "      <td>🔮 PREDICTION #30: WORLD CUP WINNER ⚽️\\r\\n\\r\\nW...</td>\n",
       "      <td>RinaPort3</td>\n",
       "      <td>Yooo</td>\n",
       "      <td>NaN</td>\n",
       "      <td>[]</td>\n",
       "      <td>1</td>\n",
       "      <td>NaN</td>\n",
       "      <td>False</td>\n",
       "      <td>...</td>\n",
       "      <td>False</td>\n",
       "      <td>30</td>\n",
       "      <td>NaN</td>\n",
       "      <td>False</td>\n",
       "      <td>1144</td>\n",
       "      <td>False</td>\n",
       "      <td>en</td>\n",
       "      <td>Twitter for Android</td>\n",
       "      <td>NaN</td>\n",
       "      <td>q</td>\n",
       "    </tr>\n",
       "    <tr>\n",
       "      <th>1848</th>\n",
       "      <td>1600632027530682368</td>\n",
       "      <td>2022-12-07 23:23:08+00:00</td>\n",
       "      <td>🔮 PREDICTION #30: WORLD CUP WINNER ⚽️\\r\\n\\r\\nW...</td>\n",
       "      <td>TifaLee8</td>\n",
       "      <td>Like</td>\n",
       "      <td>NaN</td>\n",
       "      <td>[]</td>\n",
       "      <td>1</td>\n",
       "      <td>NaN</td>\n",
       "      <td>False</td>\n",
       "      <td>...</td>\n",
       "      <td>False</td>\n",
       "      <td>30</td>\n",
       "      <td>NaN</td>\n",
       "      <td>False</td>\n",
       "      <td>1144</td>\n",
       "      <td>False</td>\n",
       "      <td>en</td>\n",
       "      <td>Twitter for Android</td>\n",
       "      <td>NaN</td>\n",
       "      <td>q</td>\n",
       "    </tr>\n",
       "  </tbody>\n",
       "</table>\n",
       "<p>1849 rows × 26 columns</p>\n",
       "</div>"
      ],
      "text/plain": [
       "                       id          tweet_created_at  \\\n",
       "0     1601532325241950209 2022-12-10 11:00:36+00:00   \n",
       "1     1601532314613334018 2022-12-10 11:00:33+00:00   \n",
       "2     1601532312696811520 2022-12-10 11:00:33+00:00   \n",
       "3     1601532303762677762 2022-12-10 11:00:30+00:00   \n",
       "4     1601532286507552768 2022-12-10 11:00:26+00:00   \n",
       "...                   ...                       ...   \n",
       "1844  1600634805494112256 2022-12-07 23:34:10+00:00   \n",
       "1845  1600634015593046016 2022-12-07 23:31:02+00:00   \n",
       "1846  1600633247909965824 2022-12-07 23:27:59+00:00   \n",
       "1847  1600632624745435136 2022-12-07 23:25:30+00:00   \n",
       "1848  1600632027530682368 2022-12-07 23:23:08+00:00   \n",
       "\n",
       "                                                   text             user  \\\n",
       "0     @mcbenwell @TheTotallyShow Unsurprisingly, thi...   DrLouiseClare1   \n",
       "1     All the best to England playing in the quarter...         bookajet   \n",
       "2     1/It's Matchday⚽️\\r\\n\\r\\nShow support to your ...      0xNeverWinn   \n",
       "3     Good Luck England ⚽⚽⚽\\r\\n #Itscominghome #Worl...  3LionsOnMaShirt   \n",
       "4     Guess the Quarter Final Winners ⚽️🥂\\r\\n\\r\\nThe...       EdehRonald   \n",
       "...                                                 ...              ...   \n",
       "1844  🔮 PREDICTION #30: WORLD CUP WINNER ⚽️\\r\\n\\r\\nW...          YuaXie1   \n",
       "1845  🔮 PREDICTION #30: WORLD CUP WINNER ⚽️\\r\\n\\r\\nW...        MiaKhezia   \n",
       "1846  🔮 PREDICTION #30: WORLD CUP WINNER ⚽️\\r\\n\\r\\nW...  RiaHarianto1818   \n",
       "1847  🔮 PREDICTION #30: WORLD CUP WINNER ⚽️\\r\\n\\r\\nW...        RinaPort3   \n",
       "1848  🔮 PREDICTION #30: WORLD CUP WINNER ⚽️\\r\\n\\r\\nW...         TifaLee8   \n",
       "\n",
       "                                                    bio             location  \\\n",
       "0     Historian looking at Argentine, British and US...                  NaN   \n",
       "1     Enjoy freedom without responsibility and let y...  Farnborough Airport   \n",
       "2                                @GaHunter688 suspended                  NaN   \n",
       "3     Sharing the latest #ThreeLions news and fan ta...  Manchester, England   \n",
       "4                              crypto enthusiast/trader                  NaN   \n",
       "...                                                 ...                  ...   \n",
       "1844                                                Xie                  NaN   \n",
       "1845                                                Mia                  NaN   \n",
       "1846                                          True Love                  NaN   \n",
       "1847                                               Yooo                  NaN   \n",
       "1848                                               Like                  NaN   \n",
       "\n",
       "                                               hashtags  user_mentions  \\\n",
       "0                                                    []              2   \n",
       "1     [{'text': 'worldcup', 'indices': [61, 70]}, {'...              0   \n",
       "2     [{'text': 'worldcup', 'indices': [61, 70]}, {'...              1   \n",
       "3     [{'text': 'Itscominghome', 'indices': [40, 54]...              1   \n",
       "4     [{'text': 'WorldcupQatar2022', 'indices': [64,...              1   \n",
       "...                                                 ...            ...   \n",
       "1844                                                 []              1   \n",
       "1845                                                 []              1   \n",
       "1846                                                 []              1   \n",
       "1847                                                 []              1   \n",
       "1848                                                 []              1   \n",
       "\n",
       "          in_reply  protected  ...  verified  statuses_count  coordinates  \\\n",
       "0     1.601523e+18      False  ...     False            1187          NaN   \n",
       "1              NaN      False  ...     False             959          NaN   \n",
       "2              NaN      False  ...     False            8442          NaN   \n",
       "3              NaN      False  ...     False             157          NaN   \n",
       "4              NaN      False  ...     False              92          NaN   \n",
       "...            ...        ...  ...       ...             ...          ...   \n",
       "1844           NaN      False  ...     False              30          NaN   \n",
       "1845           NaN      False  ...     False              30          NaN   \n",
       "1846           NaN      False  ...     False              30          NaN   \n",
       "1847           NaN      False  ...     False              30          NaN   \n",
       "1848           NaN      False  ...     False              30          NaN   \n",
       "\n",
       "     is_quote_status  retweet_count  retweeted  lang               source  \\\n",
       "0              False              0      False    en   Twitter for iPhone   \n",
       "1              False              0      False    en       Hootsuite Inc.   \n",
       "2              False           4472      False    en      Twitter Web App   \n",
       "3              False              1      False    en          VillaBotMan   \n",
       "4              False             24      False    en  Twitter for Android   \n",
       "...              ...            ...        ...   ...                  ...   \n",
       "1844           False           1144      False    en  Twitter for Android   \n",
       "1845           False           1144      False    en  Twitter for Android   \n",
       "1846           False           1144      False    en  Twitter for Android   \n",
       "1847           False           1144      False    en  Twitter for Android   \n",
       "1848           False           1144      False    en  Twitter for Android   \n",
       "\n",
       "     place  kwd  \n",
       "0      NaN    w  \n",
       "1      NaN    w  \n",
       "2      NaN    w  \n",
       "3      NaN    w  \n",
       "4      NaN    w  \n",
       "...    ...  ...  \n",
       "1844   NaN    q  \n",
       "1845   NaN    q  \n",
       "1846   NaN    q  \n",
       "1847   NaN    q  \n",
       "1848   NaN    q  \n",
       "\n",
       "[1849 rows x 26 columns]"
      ]
     },
     "execution_count": 10,
     "metadata": {},
     "output_type": "execute_result"
    }
   ],
   "source": [
    "kwds = ['worldcup', 'world cup', 'wcup', 'football', 'qatar worldcup prediction']\n",
    "get_related_tweets(kwds)"
   ]
  },
  {
   "cell_type": "markdown",
   "metadata": {},
   "source": [
    "Now lets read that csv file."
   ]
  },
  {
   "cell_type": "code",
   "execution_count": 11,
   "metadata": {
    "ExecuteTime": {
     "end_time": "2022-12-10T11:35:36.268451Z",
     "start_time": "2022-12-10T11:35:36.093454Z"
    }
   },
   "outputs": [
    {
     "data": {
      "text/html": [
       "<div>\n",
       "<style scoped>\n",
       "    .dataframe tbody tr th:only-of-type {\n",
       "        vertical-align: middle;\n",
       "    }\n",
       "\n",
       "    .dataframe tbody tr th {\n",
       "        vertical-align: top;\n",
       "    }\n",
       "\n",
       "    .dataframe thead th {\n",
       "        text-align: right;\n",
       "    }\n",
       "</style>\n",
       "<table border=\"1\" class=\"dataframe\">\n",
       "  <thead>\n",
       "    <tr style=\"text-align: right;\">\n",
       "      <th></th>\n",
       "      <th>id</th>\n",
       "      <th>tweet_created_at</th>\n",
       "      <th>text</th>\n",
       "      <th>user</th>\n",
       "      <th>bio</th>\n",
       "      <th>location</th>\n",
       "      <th>hashtags</th>\n",
       "      <th>user_mentions</th>\n",
       "      <th>in_reply</th>\n",
       "      <th>protected</th>\n",
       "      <th>...</th>\n",
       "      <th>verified</th>\n",
       "      <th>statuses_count</th>\n",
       "      <th>coordinates</th>\n",
       "      <th>is_quote_status</th>\n",
       "      <th>retweet_count</th>\n",
       "      <th>retweeted</th>\n",
       "      <th>lang</th>\n",
       "      <th>source</th>\n",
       "      <th>place</th>\n",
       "      <th>kwd</th>\n",
       "    </tr>\n",
       "  </thead>\n",
       "  <tbody>\n",
       "    <tr>\n",
       "      <th>0</th>\n",
       "      <td>1601532325241950209</td>\n",
       "      <td>2022-12-10 11:00:36+00:00</td>\n",
       "      <td>@mcbenwell @TheTotallyShow Unsurprisingly, thi...</td>\n",
       "      <td>DrLouiseClare1</td>\n",
       "      <td>Historian looking at Argentine, British and US...</td>\n",
       "      <td>NaN</td>\n",
       "      <td>[]</td>\n",
       "      <td>2</td>\n",
       "      <td>1.601523e+18</td>\n",
       "      <td>False</td>\n",
       "      <td>...</td>\n",
       "      <td>False</td>\n",
       "      <td>1187</td>\n",
       "      <td>NaN</td>\n",
       "      <td>False</td>\n",
       "      <td>0</td>\n",
       "      <td>False</td>\n",
       "      <td>en</td>\n",
       "      <td>Twitter for iPhone</td>\n",
       "      <td>NaN</td>\n",
       "      <td>w</td>\n",
       "    </tr>\n",
       "    <tr>\n",
       "      <th>1</th>\n",
       "      <td>1601532314613334018</td>\n",
       "      <td>2022-12-10 11:00:33+00:00</td>\n",
       "      <td>All the best to England playing in the quarter...</td>\n",
       "      <td>bookajet</td>\n",
       "      <td>Enjoy freedom without responsibility and let y...</td>\n",
       "      <td>Farnborough Airport</td>\n",
       "      <td>[{'text': 'worldcup', 'indices': [61, 70]}, {'...</td>\n",
       "      <td>0</td>\n",
       "      <td>NaN</td>\n",
       "      <td>False</td>\n",
       "      <td>...</td>\n",
       "      <td>False</td>\n",
       "      <td>959</td>\n",
       "      <td>NaN</td>\n",
       "      <td>False</td>\n",
       "      <td>0</td>\n",
       "      <td>False</td>\n",
       "      <td>en</td>\n",
       "      <td>Hootsuite Inc.</td>\n",
       "      <td>NaN</td>\n",
       "      <td>w</td>\n",
       "    </tr>\n",
       "    <tr>\n",
       "      <th>2</th>\n",
       "      <td>1601532312696811520</td>\n",
       "      <td>2022-12-10 11:00:33+00:00</td>\n",
       "      <td>1/It's Matchday⚽️\\r\\n\\r\\nShow support to your ...</td>\n",
       "      <td>0xNeverWinn</td>\n",
       "      <td>@GaHunter688 suspended</td>\n",
       "      <td>NaN</td>\n",
       "      <td>[{'text': 'worldcup', 'indices': [61, 70]}, {'...</td>\n",
       "      <td>1</td>\n",
       "      <td>NaN</td>\n",
       "      <td>False</td>\n",
       "      <td>...</td>\n",
       "      <td>False</td>\n",
       "      <td>8442</td>\n",
       "      <td>NaN</td>\n",
       "      <td>False</td>\n",
       "      <td>4472</td>\n",
       "      <td>False</td>\n",
       "      <td>en</td>\n",
       "      <td>Twitter Web App</td>\n",
       "      <td>NaN</td>\n",
       "      <td>w</td>\n",
       "    </tr>\n",
       "    <tr>\n",
       "      <th>3</th>\n",
       "      <td>1601532303762677762</td>\n",
       "      <td>2022-12-10 11:00:30+00:00</td>\n",
       "      <td>Good Luck England ⚽⚽⚽\\r\\n #Itscominghome #Worl...</td>\n",
       "      <td>3LionsOnMaShirt</td>\n",
       "      <td>Sharing the latest #ThreeLions news and fan ta...</td>\n",
       "      <td>Manchester, England</td>\n",
       "      <td>[{'text': 'Itscominghome', 'indices': [40, 54]...</td>\n",
       "      <td>1</td>\n",
       "      <td>NaN</td>\n",
       "      <td>False</td>\n",
       "      <td>...</td>\n",
       "      <td>False</td>\n",
       "      <td>157</td>\n",
       "      <td>NaN</td>\n",
       "      <td>False</td>\n",
       "      <td>1</td>\n",
       "      <td>False</td>\n",
       "      <td>en</td>\n",
       "      <td>VillaBotMan</td>\n",
       "      <td>NaN</td>\n",
       "      <td>w</td>\n",
       "    </tr>\n",
       "    <tr>\n",
       "      <th>4</th>\n",
       "      <td>1601532286507552768</td>\n",
       "      <td>2022-12-10 11:00:26+00:00</td>\n",
       "      <td>Guess the Quarter Final Winners ⚽️🥂\\r\\n\\r\\nThe...</td>\n",
       "      <td>EdehRonald</td>\n",
       "      <td>crypto enthusiast/trader</td>\n",
       "      <td>NaN</td>\n",
       "      <td>[{'text': 'WorldcupQatar2022', 'indices': [64,...</td>\n",
       "      <td>1</td>\n",
       "      <td>NaN</td>\n",
       "      <td>False</td>\n",
       "      <td>...</td>\n",
       "      <td>False</td>\n",
       "      <td>92</td>\n",
       "      <td>NaN</td>\n",
       "      <td>False</td>\n",
       "      <td>24</td>\n",
       "      <td>False</td>\n",
       "      <td>en</td>\n",
       "      <td>Twitter for Android</td>\n",
       "      <td>NaN</td>\n",
       "      <td>w</td>\n",
       "    </tr>\n",
       "    <tr>\n",
       "      <th>...</th>\n",
       "      <td>...</td>\n",
       "      <td>...</td>\n",
       "      <td>...</td>\n",
       "      <td>...</td>\n",
       "      <td>...</td>\n",
       "      <td>...</td>\n",
       "      <td>...</td>\n",
       "      <td>...</td>\n",
       "      <td>...</td>\n",
       "      <td>...</td>\n",
       "      <td>...</td>\n",
       "      <td>...</td>\n",
       "      <td>...</td>\n",
       "      <td>...</td>\n",
       "      <td>...</td>\n",
       "      <td>...</td>\n",
       "      <td>...</td>\n",
       "      <td>...</td>\n",
       "      <td>...</td>\n",
       "      <td>...</td>\n",
       "      <td>...</td>\n",
       "    </tr>\n",
       "    <tr>\n",
       "      <th>1844</th>\n",
       "      <td>1600634805494112256</td>\n",
       "      <td>2022-12-07 23:34:10+00:00</td>\n",
       "      <td>🔮 PREDICTION #30: WORLD CUP WINNER ⚽️\\r\\n\\r\\nW...</td>\n",
       "      <td>YuaXie1</td>\n",
       "      <td>Xie</td>\n",
       "      <td>NaN</td>\n",
       "      <td>[]</td>\n",
       "      <td>1</td>\n",
       "      <td>NaN</td>\n",
       "      <td>False</td>\n",
       "      <td>...</td>\n",
       "      <td>False</td>\n",
       "      <td>30</td>\n",
       "      <td>NaN</td>\n",
       "      <td>False</td>\n",
       "      <td>1144</td>\n",
       "      <td>False</td>\n",
       "      <td>en</td>\n",
       "      <td>Twitter for Android</td>\n",
       "      <td>NaN</td>\n",
       "      <td>q</td>\n",
       "    </tr>\n",
       "    <tr>\n",
       "      <th>1845</th>\n",
       "      <td>1600634015593046016</td>\n",
       "      <td>2022-12-07 23:31:02+00:00</td>\n",
       "      <td>🔮 PREDICTION #30: WORLD CUP WINNER ⚽️\\r\\n\\r\\nW...</td>\n",
       "      <td>MiaKhezia</td>\n",
       "      <td>Mia</td>\n",
       "      <td>NaN</td>\n",
       "      <td>[]</td>\n",
       "      <td>1</td>\n",
       "      <td>NaN</td>\n",
       "      <td>False</td>\n",
       "      <td>...</td>\n",
       "      <td>False</td>\n",
       "      <td>30</td>\n",
       "      <td>NaN</td>\n",
       "      <td>False</td>\n",
       "      <td>1144</td>\n",
       "      <td>False</td>\n",
       "      <td>en</td>\n",
       "      <td>Twitter for Android</td>\n",
       "      <td>NaN</td>\n",
       "      <td>q</td>\n",
       "    </tr>\n",
       "    <tr>\n",
       "      <th>1846</th>\n",
       "      <td>1600633247909965824</td>\n",
       "      <td>2022-12-07 23:27:59+00:00</td>\n",
       "      <td>🔮 PREDICTION #30: WORLD CUP WINNER ⚽️\\r\\n\\r\\nW...</td>\n",
       "      <td>RiaHarianto1818</td>\n",
       "      <td>True Love</td>\n",
       "      <td>NaN</td>\n",
       "      <td>[]</td>\n",
       "      <td>1</td>\n",
       "      <td>NaN</td>\n",
       "      <td>False</td>\n",
       "      <td>...</td>\n",
       "      <td>False</td>\n",
       "      <td>30</td>\n",
       "      <td>NaN</td>\n",
       "      <td>False</td>\n",
       "      <td>1144</td>\n",
       "      <td>False</td>\n",
       "      <td>en</td>\n",
       "      <td>Twitter for Android</td>\n",
       "      <td>NaN</td>\n",
       "      <td>q</td>\n",
       "    </tr>\n",
       "    <tr>\n",
       "      <th>1847</th>\n",
       "      <td>1600632624745435136</td>\n",
       "      <td>2022-12-07 23:25:30+00:00</td>\n",
       "      <td>🔮 PREDICTION #30: WORLD CUP WINNER ⚽️\\r\\n\\r\\nW...</td>\n",
       "      <td>RinaPort3</td>\n",
       "      <td>Yooo</td>\n",
       "      <td>NaN</td>\n",
       "      <td>[]</td>\n",
       "      <td>1</td>\n",
       "      <td>NaN</td>\n",
       "      <td>False</td>\n",
       "      <td>...</td>\n",
       "      <td>False</td>\n",
       "      <td>30</td>\n",
       "      <td>NaN</td>\n",
       "      <td>False</td>\n",
       "      <td>1144</td>\n",
       "      <td>False</td>\n",
       "      <td>en</td>\n",
       "      <td>Twitter for Android</td>\n",
       "      <td>NaN</td>\n",
       "      <td>q</td>\n",
       "    </tr>\n",
       "    <tr>\n",
       "      <th>1848</th>\n",
       "      <td>1600632027530682368</td>\n",
       "      <td>2022-12-07 23:23:08+00:00</td>\n",
       "      <td>🔮 PREDICTION #30: WORLD CUP WINNER ⚽️\\r\\n\\r\\nW...</td>\n",
       "      <td>TifaLee8</td>\n",
       "      <td>Like</td>\n",
       "      <td>NaN</td>\n",
       "      <td>[]</td>\n",
       "      <td>1</td>\n",
       "      <td>NaN</td>\n",
       "      <td>False</td>\n",
       "      <td>...</td>\n",
       "      <td>False</td>\n",
       "      <td>30</td>\n",
       "      <td>NaN</td>\n",
       "      <td>False</td>\n",
       "      <td>1144</td>\n",
       "      <td>False</td>\n",
       "      <td>en</td>\n",
       "      <td>Twitter for Android</td>\n",
       "      <td>NaN</td>\n",
       "      <td>q</td>\n",
       "    </tr>\n",
       "  </tbody>\n",
       "</table>\n",
       "<p>1849 rows × 26 columns</p>\n",
       "</div>"
      ],
      "text/plain": [
       "                       id           tweet_created_at  \\\n",
       "0     1601532325241950209  2022-12-10 11:00:36+00:00   \n",
       "1     1601532314613334018  2022-12-10 11:00:33+00:00   \n",
       "2     1601532312696811520  2022-12-10 11:00:33+00:00   \n",
       "3     1601532303762677762  2022-12-10 11:00:30+00:00   \n",
       "4     1601532286507552768  2022-12-10 11:00:26+00:00   \n",
       "...                   ...                        ...   \n",
       "1844  1600634805494112256  2022-12-07 23:34:10+00:00   \n",
       "1845  1600634015593046016  2022-12-07 23:31:02+00:00   \n",
       "1846  1600633247909965824  2022-12-07 23:27:59+00:00   \n",
       "1847  1600632624745435136  2022-12-07 23:25:30+00:00   \n",
       "1848  1600632027530682368  2022-12-07 23:23:08+00:00   \n",
       "\n",
       "                                                   text             user  \\\n",
       "0     @mcbenwell @TheTotallyShow Unsurprisingly, thi...   DrLouiseClare1   \n",
       "1     All the best to England playing in the quarter...         bookajet   \n",
       "2     1/It's Matchday⚽️\\r\\n\\r\\nShow support to your ...      0xNeverWinn   \n",
       "3     Good Luck England ⚽⚽⚽\\r\\n #Itscominghome #Worl...  3LionsOnMaShirt   \n",
       "4     Guess the Quarter Final Winners ⚽️🥂\\r\\n\\r\\nThe...       EdehRonald   \n",
       "...                                                 ...              ...   \n",
       "1844  🔮 PREDICTION #30: WORLD CUP WINNER ⚽️\\r\\n\\r\\nW...          YuaXie1   \n",
       "1845  🔮 PREDICTION #30: WORLD CUP WINNER ⚽️\\r\\n\\r\\nW...        MiaKhezia   \n",
       "1846  🔮 PREDICTION #30: WORLD CUP WINNER ⚽️\\r\\n\\r\\nW...  RiaHarianto1818   \n",
       "1847  🔮 PREDICTION #30: WORLD CUP WINNER ⚽️\\r\\n\\r\\nW...        RinaPort3   \n",
       "1848  🔮 PREDICTION #30: WORLD CUP WINNER ⚽️\\r\\n\\r\\nW...         TifaLee8   \n",
       "\n",
       "                                                    bio             location  \\\n",
       "0     Historian looking at Argentine, British and US...                  NaN   \n",
       "1     Enjoy freedom without responsibility and let y...  Farnborough Airport   \n",
       "2                                @GaHunter688 suspended                  NaN   \n",
       "3     Sharing the latest #ThreeLions news and fan ta...  Manchester, England   \n",
       "4                              crypto enthusiast/trader                  NaN   \n",
       "...                                                 ...                  ...   \n",
       "1844                                                Xie                  NaN   \n",
       "1845                                                Mia                  NaN   \n",
       "1846                                          True Love                  NaN   \n",
       "1847                                               Yooo                  NaN   \n",
       "1848                                               Like                  NaN   \n",
       "\n",
       "                                               hashtags  user_mentions  \\\n",
       "0                                                    []              2   \n",
       "1     [{'text': 'worldcup', 'indices': [61, 70]}, {'...              0   \n",
       "2     [{'text': 'worldcup', 'indices': [61, 70]}, {'...              1   \n",
       "3     [{'text': 'Itscominghome', 'indices': [40, 54]...              1   \n",
       "4     [{'text': 'WorldcupQatar2022', 'indices': [64,...              1   \n",
       "...                                                 ...            ...   \n",
       "1844                                                 []              1   \n",
       "1845                                                 []              1   \n",
       "1846                                                 []              1   \n",
       "1847                                                 []              1   \n",
       "1848                                                 []              1   \n",
       "\n",
       "          in_reply  protected  ...  verified  statuses_count  coordinates  \\\n",
       "0     1.601523e+18      False  ...     False            1187          NaN   \n",
       "1              NaN      False  ...     False             959          NaN   \n",
       "2              NaN      False  ...     False            8442          NaN   \n",
       "3              NaN      False  ...     False             157          NaN   \n",
       "4              NaN      False  ...     False              92          NaN   \n",
       "...            ...        ...  ...       ...             ...          ...   \n",
       "1844           NaN      False  ...     False              30          NaN   \n",
       "1845           NaN      False  ...     False              30          NaN   \n",
       "1846           NaN      False  ...     False              30          NaN   \n",
       "1847           NaN      False  ...     False              30          NaN   \n",
       "1848           NaN      False  ...     False              30          NaN   \n",
       "\n",
       "     is_quote_status  retweet_count  retweeted  lang               source  \\\n",
       "0              False              0      False    en   Twitter for iPhone   \n",
       "1              False              0      False    en       Hootsuite Inc.   \n",
       "2              False           4472      False    en      Twitter Web App   \n",
       "3              False              1      False    en          VillaBotMan   \n",
       "4              False             24      False    en  Twitter for Android   \n",
       "...              ...            ...        ...   ...                  ...   \n",
       "1844           False           1144      False    en  Twitter for Android   \n",
       "1845           False           1144      False    en  Twitter for Android   \n",
       "1846           False           1144      False    en  Twitter for Android   \n",
       "1847           False           1144      False    en  Twitter for Android   \n",
       "1848           False           1144      False    en  Twitter for Android   \n",
       "\n",
       "     place  kwd  \n",
       "0      NaN    w  \n",
       "1      NaN    w  \n",
       "2      NaN    w  \n",
       "3      NaN    w  \n",
       "4      NaN    w  \n",
       "...    ...  ...  \n",
       "1844   NaN    q  \n",
       "1845   NaN    q  \n",
       "1846   NaN    q  \n",
       "1847   NaN    q  \n",
       "1848   NaN    q  \n",
       "\n",
       "[1849 rows x 26 columns]"
      ]
     },
     "execution_count": 11,
     "metadata": {},
     "output_type": "execute_result"
    }
   ],
   "source": [
    "df = pd.read_csv('en1670670038.8448372.csv')\n",
    "df"
   ]
  },
  {
   "cell_type": "markdown",
   "metadata": {},
   "source": [
    "## Cleaning Tweet Text\n",
    "Looking into the tweet text above, we can see many noises like @, hashtags, hyper links, so lets remove them and pre-process text to usable format."
   ]
  },
  {
   "cell_type": "code",
   "execution_count": 13,
   "metadata": {
    "ExecuteTime": {
     "end_time": "2022-12-10T11:40:53.875040Z",
     "start_time": "2022-12-10T11:40:53.862042Z"
    }
   },
   "outputs": [],
   "source": [
    "import re, string\n",
    "\n",
    "def remove_noise(tweet):\n",
    "        '''\n",
    "        To remove noise\n",
    "        '''\n",
    "        return ' '.join(re.sub(\"(@[A-Za-z0-9]+)|([^0-9A-Za-z \\t])|(\\w+:\\/\\/\\S+)\", \" \", tweet).split())\n",
    "\n",
    "lower = lambda x: str(x).lower()\n",
    "remove_punctuation = lambda x: re.sub('[%s]' % re.escape(string.punctuation), '', x)\n",
    "remove_new_line = lambda x: re.sub('\\n', '', x)\n",
    "remove_numbers = lambda x: re.sub('\\w*\\d\\w*', '', x)\n",
    "remove_html = lambda x: re.sub('https?://\\S+|www\\.\\S+', '', str(x))\n",
    "remove_symbols = lambda x: re.sub('<.*?>+', '', re.sub('\\[.*?\\]', '', x))\n",
    "\n",
    "\n"
   ]
  },
  {
   "cell_type": "markdown",
   "metadata": {},
   "source": [
    "The function `remove_noise` does the job but just to be on the safe side other function is also recommended."
   ]
  },
  {
   "cell_type": "code",
   "execution_count": 16,
   "metadata": {
    "ExecuteTime": {
     "end_time": "2022-12-10T11:43:59.124395Z",
     "start_time": "2022-12-10T11:43:58.898970Z"
    }
   },
   "outputs": [
    {
     "data": {
      "text/html": [
       "<div>\n",
       "<style scoped>\n",
       "    .dataframe tbody tr th:only-of-type {\n",
       "        vertical-align: middle;\n",
       "    }\n",
       "\n",
       "    .dataframe tbody tr th {\n",
       "        vertical-align: top;\n",
       "    }\n",
       "\n",
       "    .dataframe thead th {\n",
       "        text-align: right;\n",
       "    }\n",
       "</style>\n",
       "<table border=\"1\" class=\"dataframe\">\n",
       "  <thead>\n",
       "    <tr style=\"text-align: right;\">\n",
       "      <th></th>\n",
       "      <th>text</th>\n",
       "      <th>ctext</th>\n",
       "    </tr>\n",
       "  </thead>\n",
       "  <tbody>\n",
       "    <tr>\n",
       "      <th>0</th>\n",
       "      <td>@mcbenwell @TheTotallyShow Unsurprisingly, thi...</td>\n",
       "      <td>Unsurprisingly this has been all over the inte...</td>\n",
       "    </tr>\n",
       "    <tr>\n",
       "      <th>1</th>\n",
       "      <td>All the best to England playing in the quarter...</td>\n",
       "      <td>All the best to England playing in the quarter...</td>\n",
       "    </tr>\n",
       "    <tr>\n",
       "      <th>2</th>\n",
       "      <td>1/It's Matchday⚽️\\r\\n\\r\\nShow support to your ...</td>\n",
       "      <td>1 It s Matchday Show support to your worldcup ...</td>\n",
       "    </tr>\n",
       "    <tr>\n",
       "      <th>3</th>\n",
       "      <td>Good Luck England ⚽⚽⚽\\r\\n #Itscominghome #Worl...</td>\n",
       "      <td>Good Luck England Itscominghome Worldcup Three...</td>\n",
       "    </tr>\n",
       "    <tr>\n",
       "      <th>4</th>\n",
       "      <td>Guess the Quarter Final Winners ⚽️🥂\\r\\n\\r\\nThe...</td>\n",
       "      <td>Guess the Quarter Final Winners The four World...</td>\n",
       "    </tr>\n",
       "    <tr>\n",
       "      <th>...</th>\n",
       "      <td>...</td>\n",
       "      <td>...</td>\n",
       "    </tr>\n",
       "    <tr>\n",
       "      <th>1844</th>\n",
       "      <td>🔮 PREDICTION #30: WORLD CUP WINNER ⚽️\\r\\n\\r\\nW...</td>\n",
       "      <td>PREDICTION 30 WORLD CUP WINNER Who will be the...</td>\n",
       "    </tr>\n",
       "    <tr>\n",
       "      <th>1845</th>\n",
       "      <td>🔮 PREDICTION #30: WORLD CUP WINNER ⚽️\\r\\n\\r\\nW...</td>\n",
       "      <td>PREDICTION 30 WORLD CUP WINNER Who will be the...</td>\n",
       "    </tr>\n",
       "    <tr>\n",
       "      <th>1846</th>\n",
       "      <td>🔮 PREDICTION #30: WORLD CUP WINNER ⚽️\\r\\n\\r\\nW...</td>\n",
       "      <td>PREDICTION 30 WORLD CUP WINNER Who will be the...</td>\n",
       "    </tr>\n",
       "    <tr>\n",
       "      <th>1847</th>\n",
       "      <td>🔮 PREDICTION #30: WORLD CUP WINNER ⚽️\\r\\n\\r\\nW...</td>\n",
       "      <td>PREDICTION 30 WORLD CUP WINNER Who will be the...</td>\n",
       "    </tr>\n",
       "    <tr>\n",
       "      <th>1848</th>\n",
       "      <td>🔮 PREDICTION #30: WORLD CUP WINNER ⚽️\\r\\n\\r\\nW...</td>\n",
       "      <td>PREDICTION 30 WORLD CUP WINNER Who will be the...</td>\n",
       "    </tr>\n",
       "  </tbody>\n",
       "</table>\n",
       "<p>1849 rows × 2 columns</p>\n",
       "</div>"
      ],
      "text/plain": [
       "                                                   text  \\\n",
       "0     @mcbenwell @TheTotallyShow Unsurprisingly, thi...   \n",
       "1     All the best to England playing in the quarter...   \n",
       "2     1/It's Matchday⚽️\\r\\n\\r\\nShow support to your ...   \n",
       "3     Good Luck England ⚽⚽⚽\\r\\n #Itscominghome #Worl...   \n",
       "4     Guess the Quarter Final Winners ⚽️🥂\\r\\n\\r\\nThe...   \n",
       "...                                                 ...   \n",
       "1844  🔮 PREDICTION #30: WORLD CUP WINNER ⚽️\\r\\n\\r\\nW...   \n",
       "1845  🔮 PREDICTION #30: WORLD CUP WINNER ⚽️\\r\\n\\r\\nW...   \n",
       "1846  🔮 PREDICTION #30: WORLD CUP WINNER ⚽️\\r\\n\\r\\nW...   \n",
       "1847  🔮 PREDICTION #30: WORLD CUP WINNER ⚽️\\r\\n\\r\\nW...   \n",
       "1848  🔮 PREDICTION #30: WORLD CUP WINNER ⚽️\\r\\n\\r\\nW...   \n",
       "\n",
       "                                                  ctext  \n",
       "0     Unsurprisingly this has been all over the inte...  \n",
       "1     All the best to England playing in the quarter...  \n",
       "2     1 It s Matchday Show support to your worldcup ...  \n",
       "3     Good Luck England Itscominghome Worldcup Three...  \n",
       "4     Guess the Quarter Final Winners The four World...  \n",
       "...                                                 ...  \n",
       "1844  PREDICTION 30 WORLD CUP WINNER Who will be the...  \n",
       "1845  PREDICTION 30 WORLD CUP WINNER Who will be the...  \n",
       "1846  PREDICTION 30 WORLD CUP WINNER Who will be the...  \n",
       "1847  PREDICTION 30 WORLD CUP WINNER Who will be the...  \n",
       "1848  PREDICTION 30 WORLD CUP WINNER Who will be the...  \n",
       "\n",
       "[1849 rows x 2 columns]"
      ]
     },
     "execution_count": 16,
     "metadata": {},
     "output_type": "execute_result"
    }
   ],
   "source": [
    "df['ctext'] = df.text.apply(remove_noise)\n",
    "df[['text', 'ctext']]"
   ]
  },
  {
   "cell_type": "markdown",
   "metadata": {},
   "source": [
    "The emoji, @, # all are gone but there are still numbers present and I do not think that would affect the result. "
   ]
  },
  {
   "cell_type": "markdown",
   "metadata": {},
   "source": [
    "## Getting Sentiment\n",
    "For this, we need to install Python Package textblob.\n",
    "\n",
    "`pip install textblob`"
   ]
  },
  {
   "cell_type": "code",
   "execution_count": 15,
   "metadata": {
    "ExecuteTime": {
     "end_time": "2022-12-10T11:41:49.990341Z",
     "start_time": "2022-12-10T11:41:49.981338Z"
    }
   },
   "outputs": [],
   "source": [
    "from textblob import TextBlob\n",
    "\n",
    "def get_sentiment(tweet):\n",
    "    analysis = TextBlob(remove_noise(tweet))\n",
    "    # set sentiment\n",
    "    if analysis.sentiment.polarity > 0:\n",
    "        return 'positive'\n",
    "    elif analysis.sentiment.polarity == 0:\n",
    "        return 'neutral'\n",
    "    else:\n",
    "        return 'negative'\n"
   ]
  },
  {
   "cell_type": "code",
   "execution_count": 17,
   "metadata": {
    "ExecuteTime": {
     "end_time": "2022-12-10T11:45:14.201440Z",
     "start_time": "2022-12-10T11:45:12.684839Z"
    }
   },
   "outputs": [
    {
     "data": {
      "text/html": [
       "<div>\n",
       "<style scoped>\n",
       "    .dataframe tbody tr th:only-of-type {\n",
       "        vertical-align: middle;\n",
       "    }\n",
       "\n",
       "    .dataframe tbody tr th {\n",
       "        vertical-align: top;\n",
       "    }\n",
       "\n",
       "    .dataframe thead th {\n",
       "        text-align: right;\n",
       "    }\n",
       "</style>\n",
       "<table border=\"1\" class=\"dataframe\">\n",
       "  <thead>\n",
       "    <tr style=\"text-align: right;\">\n",
       "      <th></th>\n",
       "      <th>ctext</th>\n",
       "      <th>sentiment</th>\n",
       "    </tr>\n",
       "  </thead>\n",
       "  <tbody>\n",
       "    <tr>\n",
       "      <th>0</th>\n",
       "      <td>Unsurprisingly this has been all over the inte...</td>\n",
       "      <td>positive</td>\n",
       "    </tr>\n",
       "    <tr>\n",
       "      <th>1</th>\n",
       "      <td>All the best to England playing in the quarter...</td>\n",
       "      <td>positive</td>\n",
       "    </tr>\n",
       "    <tr>\n",
       "      <th>2</th>\n",
       "      <td>1 It s Matchday Show support to your worldcup ...</td>\n",
       "      <td>positive</td>\n",
       "    </tr>\n",
       "    <tr>\n",
       "      <th>3</th>\n",
       "      <td>Good Luck England Itscominghome Worldcup Three...</td>\n",
       "      <td>positive</td>\n",
       "    </tr>\n",
       "    <tr>\n",
       "      <th>4</th>\n",
       "      <td>Guess the Quarter Final Winners The four World...</td>\n",
       "      <td>neutral</td>\n",
       "    </tr>\n",
       "    <tr>\n",
       "      <th>...</th>\n",
       "      <td>...</td>\n",
       "      <td>...</td>\n",
       "    </tr>\n",
       "    <tr>\n",
       "      <th>1844</th>\n",
       "      <td>PREDICTION 30 WORLD CUP WINNER Who will be the...</td>\n",
       "      <td>neutral</td>\n",
       "    </tr>\n",
       "    <tr>\n",
       "      <th>1845</th>\n",
       "      <td>PREDICTION 30 WORLD CUP WINNER Who will be the...</td>\n",
       "      <td>neutral</td>\n",
       "    </tr>\n",
       "    <tr>\n",
       "      <th>1846</th>\n",
       "      <td>PREDICTION 30 WORLD CUP WINNER Who will be the...</td>\n",
       "      <td>neutral</td>\n",
       "    </tr>\n",
       "    <tr>\n",
       "      <th>1847</th>\n",
       "      <td>PREDICTION 30 WORLD CUP WINNER Who will be the...</td>\n",
       "      <td>neutral</td>\n",
       "    </tr>\n",
       "    <tr>\n",
       "      <th>1848</th>\n",
       "      <td>PREDICTION 30 WORLD CUP WINNER Who will be the...</td>\n",
       "      <td>neutral</td>\n",
       "    </tr>\n",
       "  </tbody>\n",
       "</table>\n",
       "<p>1849 rows × 2 columns</p>\n",
       "</div>"
      ],
      "text/plain": [
       "                                                  ctext sentiment\n",
       "0     Unsurprisingly this has been all over the inte...  positive\n",
       "1     All the best to England playing in the quarter...  positive\n",
       "2     1 It s Matchday Show support to your worldcup ...  positive\n",
       "3     Good Luck England Itscominghome Worldcup Three...  positive\n",
       "4     Guess the Quarter Final Winners The four World...   neutral\n",
       "...                                                 ...       ...\n",
       "1844  PREDICTION 30 WORLD CUP WINNER Who will be the...   neutral\n",
       "1845  PREDICTION 30 WORLD CUP WINNER Who will be the...   neutral\n",
       "1846  PREDICTION 30 WORLD CUP WINNER Who will be the...   neutral\n",
       "1847  PREDICTION 30 WORLD CUP WINNER Who will be the...   neutral\n",
       "1848  PREDICTION 30 WORLD CUP WINNER Who will be the...   neutral\n",
       "\n",
       "[1849 rows x 2 columns]"
      ]
     },
     "execution_count": 17,
     "metadata": {},
     "output_type": "execute_result"
    }
   ],
   "source": [
    "df['sentiment'] = df.ctext.apply(get_sentiment)\n",
    "df[['ctext', 'sentiment']]"
   ]
  },
  {
   "cell_type": "markdown",
   "metadata": {},
   "source": [
    "### Plot Sentiment Distribution\n",
    "Lets plot worldcup tweet sentiment analysis in histogram."
   ]
  },
  {
   "cell_type": "code",
   "execution_count": 52,
   "metadata": {
    "ExecuteTime": {
     "end_time": "2022-12-10T12:13:22.103781Z",
     "start_time": "2022-12-10T12:13:21.873114Z"
    },
    "scrolled": false
   },
   "outputs": [
    {
     "data": {
      "image/png": "[encoded data removed]",
      "text/plain": [
       "<Figure size 1080x720 with 1 Axes>"
      ]
     },
     "metadata": {},
     "output_type": "display_data"
    }
   ],
   "source": [
    "import matplotlib.pyplot as plt\n",
    "\n",
    "df.sentiment.value_counts().plot(kind='pie', figsize=(15,10))\n",
    "plt.title('Sentiment Distribution')\n",
    "plt.show()"
   ]
  },
  {
   "cell_type": "markdown",
   "metadata": {},
   "source": [
    "Many seems to be on the neutral side."
   ]
  },
  {
   "cell_type": "markdown",
   "metadata": {},
   "source": [
    "## Sentiment Based on Users\n",
    "From the data we collected, we could do further analysis like how many of the users actually made tweets and how many are on neutral and negative sides?\n",
    "But first let's see how many of unique users are there?"
   ]
  },
  {
   "cell_type": "code",
   "execution_count": 38,
   "metadata": {
    "ExecuteTime": {
     "end_time": "2022-12-10T12:03:31.926866Z",
     "start_time": "2022-12-10T12:03:31.669127Z"
    },
    "scrolled": true
   },
   "outputs": [
    {
     "data": {
      "image/png": "[encoded data removed]",
      "text/plain": [
       "<Figure size 432x288 with 1 Axes>"
      ]
     },
     "metadata": {
      "needs_background": "light"
     },
     "output_type": "display_data"
    }
   ],
   "source": [
    "\n",
    "df.user.value_counts().hist()\n",
    "plt.title('Tweets per User')\n",
    "plt.show()"
   ]
  },
  {
   "cell_type": "markdown",
   "metadata": {},
   "source": [
    "It seems that there are only few users who did more than one tweet."
   ]
  },
  {
   "cell_type": "markdown",
   "metadata": {},
   "source": [
    "## Distribution of Source\n",
    "\n",
    "But there are many sources and our plot will be ugly if we plot distribution of them all. So let's plot of only top 3 sources."
   ]
  },
  {
   "cell_type": "code",
   "execution_count": 25,
   "metadata": {
    "ExecuteTime": {
     "end_time": "2022-12-10T11:57:20.571249Z",
     "start_time": "2022-12-10T11:57:20.559247Z"
    }
   },
   "outputs": [
    {
     "data": {
      "text/plain": [
       "array(['Twitter for iPhone', 'Hootsuite Inc.', 'Twitter Web App',\n",
       "       'VillaBotMan', 'Twitter for Android', 'infolinity', 'HubSpot',\n",
       "       'yorkshire-times', 'Buffer', 'TweetDeck', 'Focus For Twitter',\n",
       "       'Blog2Social APP', 'Metro_NFTs', 'IFTTT', 'Twitter for iPad',\n",
       "       'RageOfFifaAutoTweeter', 'Instagram', 'BIGO LIVE', 'Sprout Social',\n",
       "       'Valurank', 'Echobox', 'grow_bot', 'Jetpack.com',\n",
       "       'Tweetbot for iΟS', 'dlvr.it', 'Paiger', 'Bot Libre!',\n",
       "       'Twitter Ads', 'cmssocialservice', 'Twitter Media Studio',\n",
       "       'BestTLDApp', 'THEDOTBEST', 'BestTLD', 'NigNewspapers',\n",
       "       'SMAP Lite', 'GilgameshJpnBot', 't2r app 2',\n",
       "       'Cheap Bots, Done Quick!', 'SocialFlow', 'Typefully',\n",
       "       'Twitter for Advertisers', 'Post Planner Inc.',\n",
       "       'TweetCaster for Android', 'mem-dev1', 'ScotchEggBot'],\n",
       "      dtype=object)"
      ]
     },
     "execution_count": 25,
     "metadata": {},
     "output_type": "execute_result"
    }
   ],
   "source": [
    "df.source.unique()"
   ]
  },
  {
   "cell_type": "code",
   "execution_count": 37,
   "metadata": {
    "ExecuteTime": {
     "end_time": "2022-12-10T12:03:00.175005Z",
     "start_time": "2022-12-10T12:02:59.785641Z"
    },
    "scrolled": true
   },
   "outputs": [
    {
     "data": {
      "image/png": "[encoded data removed]",
      "text/plain": [
       "<Figure size 432x288 with 1 Axes>"
      ]
     },
     "metadata": {
      "needs_background": "light"
     },
     "output_type": "display_data"
    }
   ],
   "source": [
    "df[df.source.isin(df.source.value_counts().keys()[:3])].source.hist()\n",
    "plt.title('Source vs Tweets')\n",
    "plt.show()"
   ]
  },
  {
   "cell_type": "markdown",
   "metadata": {},
   "source": [
    "It seems that android users are most."
   ]
  },
  {
   "cell_type": "markdown",
   "metadata": {},
   "source": [
    "## Tweets Per Day\n",
    "We have a column `tweet_created_at` which means when the tweet was created and we can plot to see how many tweets were made in particular day. And further more we could view what is the sentiment distribution throughout the days."
   ]
  },
  {
   "cell_type": "code",
   "execution_count": 31,
   "metadata": {
    "ExecuteTime": {
     "end_time": "2022-12-10T12:00:28.931588Z",
     "start_time": "2022-12-10T12:00:28.905589Z"
    }
   },
   "outputs": [
    {
     "data": {
      "text/plain": [
       "0       2022-12-10\n",
       "1       2022-12-10\n",
       "2       2022-12-10\n",
       "3       2022-12-10\n",
       "4       2022-12-10\n",
       "           ...    \n",
       "1844    2022-12-07\n",
       "1845    2022-12-07\n",
       "1846    2022-12-07\n",
       "1847    2022-12-07\n",
       "1848    2022-12-07\n",
       "Name: tweet_created_at, Length: 1849, dtype: object"
      ]
     },
     "execution_count": 31,
     "metadata": {},
     "output_type": "execute_result"
    }
   ],
   "source": [
    "pd.to_datetime(df.tweet_created_at).dt.date"
   ]
  },
  {
   "cell_type": "code",
   "execution_count": 36,
   "metadata": {
    "ExecuteTime": {
     "end_time": "2022-12-10T12:02:08.892752Z",
     "start_time": "2022-12-10T12:02:08.619526Z"
    }
   },
   "outputs": [
    {
     "data": {
      "image/png": "[encoded data removed]",
      "text/plain": [
       "<Figure size 1080x720 with 1 Axes>"
      ]
     },
     "metadata": {
      "needs_background": "light"
     },
     "output_type": "display_data"
    }
   ],
   "source": [
    "df['date'] = pd.to_datetime(df.tweet_created_at).dt.date\n",
    "df.date.value_counts().plot(kind='bar',figsize=(15,10))\n",
    "plt.title('Tweets over a Days')\n",
    "plt.show()"
   ]
  },
  {
   "cell_type": "markdown",
   "metadata": {},
   "source": [
    "It seems that latest date have the most tweets. But this is only an experiment and if we tried to collect more tweets and perform analysis, this will change."
   ]
  },
  {
   "cell_type": "markdown",
   "metadata": {},
   "source": [
    "## Tweeting Hour"
   ]
  },
  {
   "cell_type": "code",
   "execution_count": 44,
   "metadata": {
    "ExecuteTime": {
     "end_time": "2022-12-10T12:08:37.328700Z",
     "start_time": "2022-12-10T12:08:36.945975Z"
    }
   },
   "outputs": [
    {
     "data": {
      "image/png": "[encoded data removed]",
      "text/plain": [
       "<Figure size 1080x720 with 1 Axes>"
      ]
     },
     "metadata": {
      "needs_background": "light"
     },
     "output_type": "display_data"
    }
   ],
   "source": [
    "pd.to_datetime(df.tweet_created_at).dt.hour.value_counts().plot(kind='bar',figsize=(15,10))\n",
    "plt.title('Distribution of Tweets Over a Day')\n",
    "plt.show()"
   ]
  },
  {
   "cell_type": "markdown",
   "metadata": {},
   "source": [
    "It seems that most tweets are done around 11am."
   ]
  },
  {
   "cell_type": "markdown",
   "metadata": {},
   "source": [
    "## Sentiment of Tweet within Hours\n",
    "What was the sentiment of tweet within every hour? Will it hold any insights?"
   ]
  },
  {
   "cell_type": "code",
   "execution_count": 49,
   "metadata": {
    "ExecuteTime": {
     "end_time": "2022-12-10T12:12:11.840275Z",
     "start_time": "2022-12-10T12:12:10.254966Z"
    }
   },
   "outputs": [
    {
     "data": {
      "image/png": "[encoded data removed]",
      "text/plain": [
       "<Figure size 1080x720 with 1 Axes>"
      ]
     },
     "metadata": {
      "needs_background": "light"
     },
     "output_type": "display_data"
    }
   ],
   "source": [
    "df['hour'] = pd.to_datetime(df.tweet_created_at).dt.hour\n",
    "df[['hour', 'sentiment']].value_counts().plot(kind='bar',figsize=(15,10))\n",
    "plt.title('Distribution (count) of Tweets Sentiment Over an Hour in Day')\n",
    "plt.show()"
   ]
  },
  {
   "cell_type": "markdown",
   "metadata": {},
   "source": [
    "It does not explain much but we could plot ratios instead of counts."
   ]
  },
  {
   "cell_type": "code",
   "execution_count": 50,
   "metadata": {
    "ExecuteTime": {
     "end_time": "2022-12-10T12:12:14.443827Z",
     "start_time": "2022-12-10T12:12:12.934755Z"
    }
   },
   "outputs": [
    {
     "data": {
      "image/png": "[encoded data removed]",
      "text/plain": [
       "<Figure size 1080x720 with 1 Axes>"
      ]
     },
     "metadata": {
      "needs_background": "light"
     },
     "output_type": "display_data"
    }
   ],
   "source": [
    "df[['hour', 'sentiment']].value_counts(normalize=True).plot(kind='bar',figsize=(15,10))\n",
    "plt.title('Distribution (ratio) of Tweets Sentiment Over an Hour in a Day')\n",
    "plt.show()"
   ]
  },
  {
   "cell_type": "markdown",
   "metadata": {},
   "source": [
    "Does it hold any insights?"
   ]
  },
  {
   "cell_type": "markdown",
   "metadata": {},
   "source": [
    "## Word Cloud of Tweets\n",
    "For the word clouds of the Tweets please refer to [this blog]()!"
   ]
  },
  {
   "cell_type": "markdown",
   "metadata": {},
   "source": [
    "## Further Analysis\n",
    "For the further worldcup tweet sentiment analysis, we can find the answers to the following questions:\n",
    "* What is the distribution of sentiment based upon a source of tweet?\n",
    "* What is the behaviour of user if they have tweeted multiple times?\n",
    "* How often does a single user tweets?\n",
    "* What is the peak hour of negative sentiment tweet and positive sentiment tweets?\n",
    "* What day has most negative tweets and what has most positive tweets?\n",
    "* Is there any relationship between days, hour of tweeting vs sentiment?"
   ]
  },
  {
   "cell_type": "code",
   "execution_count": null,
   "metadata": {},
   "outputs": [],
   "source": []
  }
 ],
 "metadata": {
  "kernelspec": {
   "display_name": "Python 3",
   "language": "python",
   "name": "python3"
  },
  "language_info": {
   "codemirror_mode": {
    "name": "ipython",
    "version": 3
   },
   "file_extension": ".py",
   "mimetype": "text/x-python",
   "name": "python",
   "nbconvert_exporter": "python",
   "pygments_lexer": "ipython3",
   "version": "3.8.5"
  },
  "latex_envs": {
   "LaTeX_envs_menu_present": true,
   "autoclose": false,
   "autocomplete": true,
   "bibliofile": "biblio.bib",
   "cite_by": "apalike",
   "current_citInitial": 1,
   "eqLabelWithNumbers": true,
   "eqNumInitial": 1,
   "hotkeys": {
    "equation": "Ctrl-E",
    "itemize": "Ctrl-I"
   },
   "labels_anchors": false,
   "latex_user_defs": false,
   "report_style_numbering": false,
   "user_envs_cfg": false
  },
  "toc": {
   "base_numbering": 1,
   "nav_menu": {},
   "number_sections": true,
   "sideBar": true,
   "skip_h1_title": false,
   "title_cell": "Table of Contents",
   "title_sidebar": "Contents",
   "toc_cell": false,
   "toc_position": {},
   "toc_section_display": true,
   "toc_window_display": false
  },
  "varInspector": {
   "cols": {
    "lenName": 16,
    "lenType": 16,
    "lenVar": 40
   },
   "kernels_config": {
    "python": {
     "delete_cmd_postfix": "",
     "delete_cmd_prefix": "del ",
     "library": "var_list.py",
     "varRefreshCmd": "print(var_dic_list())"
    },
    "r": {
     "delete_cmd_postfix": ") ",
     "delete_cmd_prefix": "rm(",
     "library": "var_list.r",
     "varRefreshCmd": "cat(var_dic_list()) "
    }
   },
   "types_to_exclude": [
    "module",
    "function",
    "builtin_function_or_method",
    "instance",
    "_Feature"
   ],
   "window_display": false
  }
 },
 "nbformat": 4,
 "nbformat_minor": 4
}
