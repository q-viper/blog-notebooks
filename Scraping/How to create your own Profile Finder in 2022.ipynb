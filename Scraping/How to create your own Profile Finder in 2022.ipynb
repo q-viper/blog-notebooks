{
 "cells": [
  {
   "cell_type": "markdown",
   "metadata": {},
   "source": [
    "## Introduction\n",
    "\n",
    "Hello and welcome back everyone, in this part of the blog I am going to share how can we create our own people finder tool using BeautifulSoup and Python. \n",
    "\n",
    "### Why do we need people finder?\n",
    "There are lots of benefits of having easier way to find the person. And this might be the best thing for HR companies. Having the list of professionals and their public profile based on their expertise and the experience is one of the rich data. So lets try to make one such data for ourselves.\n",
    "\n",
    "### How will we do it?\n",
    "We will automate the search in Search Engine and some search portal like GitHub and then store the result in dataframe then into file. First, we will do google search to find the linkedin profile based on the keyword.\n",
    "\n",
    "\n",
    "### Installing Dependencies\n",
    "For this purpose, we are going to use BeautifulSoup, a python library."
   ]
  },
  {
   "cell_type": "code",
   "execution_count": null,
   "metadata": {
    "ExecuteTime": {
     "end_time": "2022-07-17T05:12:32.510717Z",
     "start_time": "2022-07-17T05:12:08.203560Z"
    }
   },
   "outputs": [],
   "source": [
    "!pip install beautifulsoup4"
   ]
  },
  {
   "cell_type": "markdown",
   "metadata": {},
   "source": [
    "## Importing Libraries"
   ]
  },
  {
   "cell_type": "code",
   "execution_count": null,
   "metadata": {
    "ExecuteTime": {
     "end_time": "2022-07-17T07:10:38.044226Z",
     "start_time": "2022-07-17T07:10:35.314763Z"
    }
   },
   "outputs": [],
   "source": [
    "import pandas as pd\n",
    "import requests\n",
    "import urllib3\n",
    "from bs4 import BeautifulSoup as BS\n",
    "import time\n",
    "import bs4\n",
    "import warnings\n",
    "warnings.filterwarnings(\"ignore\")\n"
   ]
  },
  {
   "cell_type": "markdown",
   "metadata": {},
   "source": [
    "There are bunch of libraries we will use:\n",
    "* Pandas to make dataframe later on.\n",
    "* Requests to make HTTP requests.\n",
    "* Urllib3 to make manager and headers.\n",
    "* BeautifulSoup to scrape and search over the page.\n",
    "* Time to show scrape time.\n",
    "* Warning to supress the warnings."
   ]
  },
  {
   "cell_type": "markdown",
   "metadata": {},
   "source": [
    "## Google Search\n",
    "\n",
    "Lets use google search to make our first search. Head over to the Google.com and make a first search, `linkedin google engineer`.\n",
    "\n",
    "![](google.png)"
   ]
  },
  {
   "cell_type": "markdown",
   "metadata": {},
   "source": [
    "Whenever we search something in Google, it takes our query into `https://google.com/search?q=` and shows the list of results. But mostly the results are location based."
   ]
  },
  {
   "cell_type": "code",
   "execution_count": 45,
   "metadata": {
    "ExecuteTime": {
     "end_time": "2022-07-17T08:12:26.017526Z",
     "start_time": "2022-07-17T08:12:25.041351Z"
    }
   },
   "outputs": [],
   "source": [
    "\n",
    "query=\"linkedin google engineer\"\n",
    "url = f\"https://google.com/search?q={query}\"\n",
    "\n",
    "http = urllib3.PoolManager()\n",
    "http.addheaders = [('User-agent', 'Mozilla/61.0')]\n",
    "# web_page = http.request('GET',url)\n",
    "web_page=requests.get(url)\n",
    "soup = BS(web_page.content, 'html5lib')\n",
    "# soup"
   ]
  },
  {
   "cell_type": "markdown",
   "metadata": {},
   "source": [
    "### Getting All URLs\n",
    "\n",
    "In the search result, there will be a lot of links and we only need links at this moment. So lets find all links using the element `a`."
   ]
  },
  {
   "cell_type": "code",
   "execution_count": 46,
   "metadata": {
    "ExecuteTime": {
     "end_time": "2022-07-17T08:13:12.966739Z",
     "start_time": "2022-07-17T08:13:12.958742Z"
    },
    "scrolled": true
   },
   "outputs": [],
   "source": [
    "urls = soup.find_all(\"a\")\n",
    "# urls"
   ]
  },
  {
   "cell_type": "markdown",
   "metadata": {},
   "source": [
    "### Getting only URLs that will be relevent\n",
    "\n",
    "There will be lots of other links which will not be relevant to us at this moment. For example the Google's Sign In page or Privacy Policy so lets do simple check. We will put the name, url of the profile and then role in a dictionary."
   ]
  },
  {
   "cell_type": "code",
   "execution_count": 47,
   "metadata": {
    "ExecuteTime": {
     "end_time": "2022-07-17T08:14:31.854461Z",
     "start_time": "2022-07-17T08:14:31.823467Z"
    }
   },
   "outputs": [
    {
     "name": "stdout",
     "output_type": "stream",
     "text": [
      "Akshay Miterani - Software Engineer - Google - LinkedInin.linkedin.com › akshay-mite... https://in.linkedin.com/in/akshay-miterani-108827105\n",
      "David Garry - Software Engineer - Google | LinkedInwww.linkedin.com › davidgar... https://www.linkedin.com/in/davidgarry1\n",
      "Betty Chen - Software Engineer - Google | LinkedInwww.linkedin.com › bettyjxch... https://www.linkedin.com/in/bettyjxchen\n",
      "Risab Manandhar - Software Engineer - Google - LinkedInwww.linkedin.com › risab-ma... https://www.linkedin.com/in/risab-manandhar\n",
      "Hai Bi - Software Engineer - Google | LinkedInwww.linkedin.com › ... https://www.linkedin.com/in/hai-bi-b6a10010\n",
      "Sabbir Yousuf Sanny - Software Engineer - Google | LinkedInwww.linkedin.com › ... https://www.linkedin.com/in/sabbir-yousuf-sanny-11aa7a21\n",
      "Delia Lazarescu - Software Engineer - Google - LinkedInca.linkedin.com › delialazarescu https://ca.linkedin.com/in/delialazarescu\n",
      "Shailee Patel - Software Engineer - Google | LinkedInwww.linkedin.com › shailee26 https://www.linkedin.com/in/shailee26\n",
      "Sahil Gaba - Software Engineer - Google | LinkedInwww.linkedin.com › gabag26 https://www.linkedin.com/in/gabag26\n"
     ]
    }
   ],
   "source": [
    "profiles = {\"names\":[],\"urls\":[],\"roles\":[]}\n",
    "\n",
    "for url in urls:\n",
    "    href = url.get(\"href\")\n",
    "    \n",
    "    if \"/url?q=\" in href and \"linkedin\" in href and \\\n",
    "        \"accounts.google.com\" not in href and \"policies.google.com\" not in href and \"linkedin.com/in\" in href:\n",
    "        nhref=href.split(\"=\")[1].split(\"&\")[0]\n",
    "        \n",
    "        print(url.text, nhref)\n",
    "        \n",
    "        profiles[\"names\"].append(url.text.split(\"-\")[0])\n",
    "        profiles[\"roles\"].append(url.text.split(\"-\")[1])\n",
    "        profiles[\"urls\"].append(nhref)\n",
    "        \n",
    "        "
   ]
  },
  {
   "cell_type": "markdown",
   "metadata": {},
   "source": [
    "### Dataframe of the results\n",
    "Dataframes are easy to do data analysis works in Pandas. So lets make one out of above dictionary."
   ]
  },
  {
   "cell_type": "code",
   "execution_count": 50,
   "metadata": {
    "ExecuteTime": {
     "end_time": "2022-07-17T08:15:25.298395Z",
     "start_time": "2022-07-17T08:15:25.276393Z"
    }
   },
   "outputs": [
    {
     "data": {
      "text/html": [
       "<div>\n",
       "<style scoped>\n",
       "    .dataframe tbody tr th:only-of-type {\n",
       "        vertical-align: middle;\n",
       "    }\n",
       "\n",
       "    .dataframe tbody tr th {\n",
       "        vertical-align: top;\n",
       "    }\n",
       "\n",
       "    .dataframe thead th {\n",
       "        text-align: right;\n",
       "    }\n",
       "</style>\n",
       "<table border=\"1\" class=\"dataframe\">\n",
       "  <thead>\n",
       "    <tr style=\"text-align: right;\">\n",
       "      <th></th>\n",
       "      <th>names</th>\n",
       "      <th>urls</th>\n",
       "      <th>roles</th>\n",
       "    </tr>\n",
       "  </thead>\n",
       "  <tbody>\n",
       "    <tr>\n",
       "      <th>0</th>\n",
       "      <td>Akshay Miterani</td>\n",
       "      <td>https://in.linkedin.com/in/akshay-miterani-108...</td>\n",
       "      <td>Software Engineer</td>\n",
       "    </tr>\n",
       "    <tr>\n",
       "      <th>1</th>\n",
       "      <td>David Garry</td>\n",
       "      <td>https://www.linkedin.com/in/davidgarry1</td>\n",
       "      <td>Software Engineer</td>\n",
       "    </tr>\n",
       "    <tr>\n",
       "      <th>2</th>\n",
       "      <td>Betty Chen</td>\n",
       "      <td>https://www.linkedin.com/in/bettyjxchen</td>\n",
       "      <td>Software Engineer</td>\n",
       "    </tr>\n",
       "    <tr>\n",
       "      <th>3</th>\n",
       "      <td>Risab Manandhar</td>\n",
       "      <td>https://www.linkedin.com/in/risab-manandhar</td>\n",
       "      <td>Software Engineer</td>\n",
       "    </tr>\n",
       "    <tr>\n",
       "      <th>4</th>\n",
       "      <td>Hai Bi</td>\n",
       "      <td>https://www.linkedin.com/in/hai-bi-b6a10010</td>\n",
       "      <td>Software Engineer</td>\n",
       "    </tr>\n",
       "    <tr>\n",
       "      <th>5</th>\n",
       "      <td>Sabbir Yousuf Sanny</td>\n",
       "      <td>https://www.linkedin.com/in/sabbir-yousuf-sann...</td>\n",
       "      <td>Software Engineer</td>\n",
       "    </tr>\n",
       "    <tr>\n",
       "      <th>6</th>\n",
       "      <td>Delia Lazarescu</td>\n",
       "      <td>https://ca.linkedin.com/in/delialazarescu</td>\n",
       "      <td>Software Engineer</td>\n",
       "    </tr>\n",
       "    <tr>\n",
       "      <th>7</th>\n",
       "      <td>Shailee Patel</td>\n",
       "      <td>https://www.linkedin.com/in/shailee26</td>\n",
       "      <td>Software Engineer</td>\n",
       "    </tr>\n",
       "    <tr>\n",
       "      <th>8</th>\n",
       "      <td>Sahil Gaba</td>\n",
       "      <td>https://www.linkedin.com/in/gabag26</td>\n",
       "      <td>Software Engineer</td>\n",
       "    </tr>\n",
       "  </tbody>\n",
       "</table>\n",
       "</div>"
      ],
      "text/plain": [
       "                  names                                               urls  \\\n",
       "0      Akshay Miterani   https://in.linkedin.com/in/akshay-miterani-108...   \n",
       "1          David Garry             https://www.linkedin.com/in/davidgarry1   \n",
       "2           Betty Chen             https://www.linkedin.com/in/bettyjxchen   \n",
       "3      Risab Manandhar         https://www.linkedin.com/in/risab-manandhar   \n",
       "4               Hai Bi         https://www.linkedin.com/in/hai-bi-b6a10010   \n",
       "5  Sabbir Yousuf Sanny   https://www.linkedin.com/in/sabbir-yousuf-sann...   \n",
       "6      Delia Lazarescu           https://ca.linkedin.com/in/delialazarescu   \n",
       "7        Shailee Patel               https://www.linkedin.com/in/shailee26   \n",
       "8           Sahil Gaba                 https://www.linkedin.com/in/gabag26   \n",
       "\n",
       "                 roles  \n",
       "0   Software Engineer   \n",
       "1   Software Engineer   \n",
       "2   Software Engineer   \n",
       "3   Software Engineer   \n",
       "4   Software Engineer   \n",
       "5   Software Engineer   \n",
       "6   Software Engineer   \n",
       "7   Software Engineer   \n",
       "8   Software Engineer   "
      ]
     },
     "execution_count": 50,
     "metadata": {},
     "output_type": "execute_result"
    }
   ],
   "source": [
    "pd.DataFrame(profiles)"
   ]
  },
  {
   "cell_type": "markdown",
   "metadata": {},
   "source": [
    "### Pros and Cons of Using Google Search\n",
    "* Its easier to make GET requests however it might ask us for security check if made too many request and at that time scraping fails.\n",
    "* It is easier to find people as Google's Crawlers already have list of results based on our query and thus we only have to do very little to find right information. But it might be tough to get information by visiting LinkedIn profile.\n",
    "* With very little luck, we could visit the person's LinkedIn profile without having to login. So relying in Google Search to find LinkedIn Profile is not much fruitful.\n"
   ]
  },
  {
   "cell_type": "markdown",
   "metadata": {},
   "source": [
    "## GitHub Search\n",
    "\n",
    "In the above part, we scraped some of the LinkedIn profiles from the Google Search but we were unable to get portfolio of people. It is quite common among the tech people to have a portfolio and GitHub account. Lets use GitHub's Search to find people based on the keyword. Most people often put their location, company they work for, twitter handle and the portfolio in the GitHub Profile and we are willing to scrape those."
   ]
  },
  {
   "cell_type": "markdown",
   "metadata": {
    "ExecuteTime": {
     "end_time": "2022-07-17T06:02:55.096899Z",
     "start_time": "2022-07-17T06:02:53.715061Z"
    }
   },
   "source": [
    "The URL to get result is `https://github.com/search?q=[QUERY]&type=users&p=[PAGE]`. Where QUERY is the query we will search for, type is user and the p for page."
   ]
  },
  {
   "cell_type": "code",
   "execution_count": 51,
   "metadata": {
    "ExecuteTime": {
     "end_time": "2022-07-17T08:18:28.568824Z",
     "start_time": "2022-07-17T08:18:27.547896Z"
    }
   },
   "outputs": [
    {
     "name": "stdout",
     "output_type": "stream",
     "text": [
      "URL : https://github.com/search?q=google engineer&type=users\n"
     ]
    },
    {
     "data": {
      "text/plain": [
       "'100'"
      ]
     },
     "execution_count": 51,
     "metadata": {},
     "output_type": "execute_result"
    }
   ],
   "source": [
    "\n",
    "query=\"google engineer\"\n",
    "url = f\"https://github.com/search?q={query}&type=users\"\n",
    "\n",
    "print(f\"URL : {url}\")\n",
    "\n",
    "http = urllib3.PoolManager()\n",
    "http.addheaders = [('User-agent', 'Mozilla/61.0')]\n",
    "# web_page = http.request('GET',url)\n",
    "web_page=requests.get(url)\n",
    "soup = BS(web_page.content, 'html5lib')\n",
    "\n",
    "pages = soup.find_all(\"em\", class_=\"current\")[0].get(\"data-total-pages\")\n",
    "\n",
    "max_page = 5\n",
    "\n",
    "pages"
   ]
  },
  {
   "cell_type": "markdown",
   "metadata": {},
   "source": []
  },
  {
   "cell_type": "markdown",
   "metadata": {},
   "source": [
    "In above result, we did GET request and received a webpage and upon Inspecting the page, we can see the Elements. From Elements we can find the elements like `dev`, `a` and so on where our desired information will be. Like that, we searched for `em` with class as `current` and it have a `data-total-pages` attribute in it. Upon doing get, one can get the value of it. It seems that there are 100 pages with results.\n",
    "\n",
    "![](github_search.png)"
   ]
  },
  {
   "cell_type": "markdown",
   "metadata": {},
   "source": [
    "Now we will loop over to those pages to get the information of the user like name and URL of profile."
   ]
  },
  {
   "cell_type": "code",
   "execution_count": 52,
   "metadata": {
    "ExecuteTime": {
     "end_time": "2022-07-17T08:18:37.990910Z",
     "start_time": "2022-07-17T08:18:32.276257Z"
    },
    "scrolled": true
   },
   "outputs": [
    {
     "name": "stdout",
     "output_type": "stream",
     "text": [
      "Total Pages: 100\n",
      "\n",
      " Current URL: https://github.com/search?q=google engineer&type=users&p=1 \n",
      "\n",
      "Seth Vargo https://github.com//sethvargo\n",
      "Kevin Naughton Jr. https://github.com//kdn251\n",
      "Miguel Ángel Durán https://github.com//midudev\n",
      "Jose Alcérreca https://github.com//JoseAlcerreca\n",
      "Shubham Mathur https://github.com//googleknight\n",
      "Dan Field https://github.com//dnfield\n",
      "Nick Bourdakos https://github.com//bourdakos1\n",
      "Mark https://github.com//MarkEdmondson1234\n",
      "\n",
      " Current URL: https://github.com/search?q=google engineer&type=users&p=2 \n",
      "\n",
      "Pierfrancesco Soffritti https://github.com//PierfrancescoSoffritti\n",
      "Parker Moore https://github.com//parkr\n",
      "Gokmen Goksel https://github.com//gokmen\n",
      "Justin Poehnelt https://github.com//jpoehnelt\n",
      "Sanket Singh https://github.com//singhsanket143\n",
      "Shanqing Cai https://github.com//caisq\n",
      "Adam Silverstein https://github.com//adamsilverstein\n",
      "Mizux https://github.com//Mizux\n",
      "Valerii Iatsko https://github.com//viatsko\n",
      "Zulkarnine Mahmud https://github.com//zulkarnine\n",
      "\n",
      " Current URL: https://github.com/search?q=google engineer&type=users&p=3 \n",
      "\n",
      "Yacine Rezgui https://github.com//yrezgui\n",
      "Zulkarnine Mahmud https://github.com//zulkarnine\n",
      "Google https://github.com//Google987\n",
      "Prateek Narang https://github.com//prateek27\n",
      "Rakina Zata Amni https://github.com//rakina\n",
      "Sriram Sundarraj https://github.com//ssundarraj\n",
      "Irene Ros https://github.com//iros\n",
      "Clément Mihailescu https://github.com//clementmihailescu\n",
      "Márton Braun https://github.com//zsmb13\n",
      "Andrey Kulikov https://github.com//andkulikov\n",
      "\n",
      " Current URL: https://github.com/search?q=google engineer&type=users&p=4 \n",
      "\n",
      "Kate Lovett https://github.com//Piinks\n",
      "Faisal Abid https://github.com//FaisalAbid\n",
      "Viktor Turskyi https://github.com//koorchik\n",
      "Milad Naseri https://github.com//mmnaseri\n",
      "Rahul Ravikumar https://github.com//tikurahul\n",
      "Robert Kubis https://github.com//hostirosti\n",
      "Corey Lynch https://github.com//coreylynch\n",
      "Emma Twersky https://github.com//twerske\n",
      "Shivam Goyal https://github.com//ShivamGoyal1899\n",
      "Abhinay Omkar https://github.com//abhiomkar\n",
      "\n",
      " Current URL: https://github.com/search?q=google engineer&type=users&p=5 \n",
      "\n",
      "Marek Siarkowicz https://github.com//serathius\n",
      "Mais Alheraki https://github.com//pr-Mais\n",
      "Abhinay Omkar https://github.com//abhiomkar\n",
      "Imaculate https://github.com//imaculate\n",
      "Zhixun Tan https://github.com//phisiart\n",
      "Jafer Haider https://github.com//itsjafer\n",
      "Christie Wilson https://github.com//bobcatfish\n",
      "Jason Feinstein https://github.com//jasonwyatt\n",
      "Ryan Sepassi https://github.com//rsepassi\n",
      "Nick Rout https://github.com//ricknout\n"
     ]
    }
   ],
   "source": [
    "\n",
    "github_profiles = {\"name\":[], \"urls\":[]}\n",
    "\n",
    "if pages:\n",
    "    pages=int(pages)\n",
    "    print(f\"Total Pages: {pages}\")\n",
    "    \n",
    "    for page in range(1,pages):\n",
    "        if page>max_page:\n",
    "            break\n",
    "        url = f\"https://github.com/search?q={query}&type=users&p={page}\"\n",
    "        print(f\"\\n Current URL: {url} \\n\")\n",
    "        \n",
    "        http = urllib3.PoolManager()\n",
    "        http.addheaders = [('User-agent', 'Mozilla/61.0')]\n",
    "        \n",
    "        web_page=requests.get(url)\n",
    "        soup = BS(web_page.content, 'html5lib')\n",
    "\n",
    "        for a in soup.find_all(\"a\",class_=\"mr-1\"):\n",
    "\n",
    "            gurl = \"https://github.com/\"+a.get(\"href\")\n",
    "            gname = a.text\n",
    "\n",
    "            print(gname, gurl)\n",
    "\n",
    "            github_profiles[\"name\"].append(gname)\n",
    "            github_profiles[\"urls\"].append(gurl)"
   ]
  },
  {
   "cell_type": "markdown",
   "metadata": {
    "ExecuteTime": {
     "end_time": "2022-07-17T06:32:46.402769Z",
     "start_time": "2022-07-17T06:32:46.382771Z"
    }
   },
   "source": [
    "In above example, we looped for 5 pages and we have stored those info in dictionary `github_profiles`.\n",
    "\n",
    "Now we will open the profile of a person and extract information like Twitter Handle and Portfolio.\n",
    "Lets select a last profile url."
   ]
  },
  {
   "cell_type": "code",
   "execution_count": 53,
   "metadata": {
    "ExecuteTime": {
     "end_time": "2022-07-17T08:19:00.079228Z",
     "start_time": "2022-07-17T08:19:00.069234Z"
    }
   },
   "outputs": [
    {
     "data": {
      "text/plain": [
       "'https://github.com//ricknout'"
      ]
     },
     "execution_count": 53,
     "metadata": {},
     "output_type": "execute_result"
    }
   ],
   "source": [
    "gurl"
   ]
  },
  {
   "cell_type": "markdown",
   "metadata": {},
   "source": [
    "Lets visit that url from BS4."
   ]
  },
  {
   "cell_type": "code",
   "execution_count": 54,
   "metadata": {
    "ExecuteTime": {
     "end_time": "2022-07-17T08:19:06.915196Z",
     "start_time": "2022-07-17T08:19:05.493715Z"
    }
   },
   "outputs": [],
   "source": [
    "\n",
    "http = urllib3.PoolManager()\n",
    "http.addheaders = [('User-agent', 'Mozilla/61.0')]\n",
    "# web_page = http.request('GET',url)\n",
    "web_page=requests.get(gurl)\n",
    "soup = BS(web_page.content, 'html5lib')\n",
    "# soup"
   ]
  },
  {
   "cell_type": "markdown",
   "metadata": {},
   "source": [
    "Just like previous time, we should look for the class that holds our information. For headline we can do like below."
   ]
  },
  {
   "cell_type": "code",
   "execution_count": 55,
   "metadata": {
    "ExecuteTime": {
     "end_time": "2022-07-17T08:19:07.801932Z",
     "start_time": "2022-07-17T08:19:07.776934Z"
    }
   },
   "outputs": [
    {
     "data": {
      "text/plain": [
       "'Android Developer Relations Engineer at Google 🇿🇦'"
      ]
     },
     "execution_count": 55,
     "metadata": {},
     "output_type": "execute_result"
    }
   ],
   "source": [
    "headline = soup.find_all(\"div\",class_=\"p-note user-profile-bio mb-3 js-user-profile-bio f4\")[0].text\n",
    "headline"
   ]
  },
  {
   "cell_type": "markdown",
   "metadata": {},
   "source": [
    "For Followers and Following Counts we can do something like below."
   ]
  },
  {
   "cell_type": "code",
   "execution_count": 56,
   "metadata": {
    "ExecuteTime": {
     "end_time": "2022-07-17T08:19:08.247934Z",
     "start_time": "2022-07-17T08:19:08.211932Z"
    }
   },
   "outputs": [
    {
     "data": {
      "text/plain": [
       "('510', '29')"
      ]
     },
     "execution_count": 56,
     "metadata": {},
     "output_type": "execute_result"
    }
   ],
   "source": [
    "followers = soup.find_all(\"a\",class_=\"Link--secondary no-underline no-wrap\")[0].text.strip().split(\"\\n\")[0]\n",
    "following = soup.find_all(\"a\",class_=\"Link--secondary no-underline no-wrap\")[1].text.strip().split(\"\\n\")[0]\n",
    "followers,following"
   ]
  },
  {
   "cell_type": "markdown",
   "metadata": {},
   "source": [
    "For the information like Twitter handle and Portfolio URL we can do something like below."
   ]
  },
  {
   "cell_type": "code",
   "execution_count": 57,
   "metadata": {
    "ExecuteTime": {
     "end_time": "2022-07-17T08:19:09.639931Z",
     "start_time": "2022-07-17T08:19:09.605928Z"
    }
   },
   "outputs": [
    {
     "data": {
      "text/plain": [
       "['@google', 'Cape Town, South Africa', 'ricknout.dev', 'Twitter', '@ricknout']"
      ]
     },
     "execution_count": 57,
     "metadata": {},
     "output_type": "execute_result"
    }
   ],
   "source": [
    "vcard = soup.find_all(\"ul\",class_=\"vcard-details\")[0].text\n",
    "vcard = [v.strip() for v in vcard.strip().split(\"\\n\") if len(v.strip())>0]\n",
    "\n",
    "vcard"
   ]
  },
  {
   "cell_type": "markdown",
   "metadata": {},
   "source": [
    "But more easily, we can find these information using Itemprop attribute assigned."
   ]
  },
  {
   "cell_type": "code",
   "execution_count": 58,
   "metadata": {
    "ExecuteTime": {
     "end_time": "2022-07-17T08:19:13.259850Z",
     "start_time": "2022-07-17T08:19:13.223851Z"
    }
   },
   "outputs": [
    {
     "data": {
      "text/plain": [
       "('ricknout.dev',\n",
       " 'Cape Town, South Africa',\n",
       " '@google',\n",
       " 'Twitter\\n\\n      @ricknout')"
      ]
     },
     "execution_count": 58,
     "metadata": {},
     "output_type": "execute_result"
    }
   ],
   "source": [
    "vcard = soup.find_all(\"ul\",class_=\"vcard-details\")[0]\n",
    "\n",
    "portfolio=None\n",
    "home=None\n",
    "work=None\n",
    "twitter=None\n",
    "for vc in vcard.find_all(\"li\"):\n",
    "    item=vc.get(\"itemprop\")\n",
    "    if item==\"url\":\n",
    "        portfolio=vc.text.strip()\n",
    "    if item==\"homeLocation\":\n",
    "        home=vc.text.strip()\n",
    "    if item==\"worksFor\":\n",
    "        work=vc.text.strip()\n",
    "    if item==\"twitter\":\n",
    "        twitter=vc.text.strip()\n",
    "\n",
    "portfolio,home,work,twitter"
   ]
  },
  {
   "cell_type": "markdown",
   "metadata": {},
   "source": [
    "Now let combine above codes to work as a whole."
   ]
  },
  {
   "cell_type": "code",
   "execution_count": 59,
   "metadata": {
    "ExecuteTime": {
     "end_time": "2022-07-17T08:21:06.821805Z",
     "start_time": "2022-07-17T08:19:33.385290Z"
    }
   },
   "outputs": [
    {
     "name": "stdout",
     "output_type": "stream",
     "text": [
      "URL : https://github.com/search?q=google engineer&type=users\n",
      "Total Pages: 100. Running upto 5.\n",
      "\n",
      " Current URL: https://github.com/search?q=google engineer&type=users&p=1 \n",
      "\n",
      "Got: Seth Vargo, https://github.com//sethvargo\n",
      "Got: Kevin Naughton Jr., https://github.com//kdn251\n",
      "Got: Miguel Ángel Durán, https://github.com//midudev\n",
      "Got: Jose Alcérreca, https://github.com//JoseAlcerreca\n",
      "Got: Shubham Mathur, https://github.com//googleknight\n",
      "Got: Nick Bourdakos, https://github.com//bourdakos1\n",
      "Got: Mark, https://github.com//MarkEdmondson1234\n",
      "Got: Dan Field, https://github.com//dnfield\n",
      "Got: Pierfrancesco Soffritti, https://github.com//PierfrancescoSoffritti\n",
      "\n",
      " Current URL: https://github.com/search?q=google engineer&type=users&p=2 \n",
      "\n",
      "Got: Parker Moore, https://github.com//parkr\n",
      "Got: Gokmen Goksel, https://github.com//gokmen\n",
      "Got: Sanket Singh, https://github.com//singhsanket143\n",
      "Got: Justin Poehnelt, https://github.com//jpoehnelt\n",
      "Got: Shanqing Cai, https://github.com//caisq\n",
      "Got: Valerii Iatsko, https://github.com//viatsko\n",
      "Got: Mizux, https://github.com//Mizux\n",
      "Got: Gabriela D'Ávila Ferrara, https://github.com//gabidavila\n",
      "Got: Zulkarnine Mahmud, https://github.com//zulkarnine\n",
      "\n",
      " Current URL: https://github.com/search?q=google engineer&type=users&p=3 \n",
      "\n",
      "Got: Adam Silverstein, https://github.com//adamsilverstein\n",
      "Got: Yacine Rezgui, https://github.com//yrezgui\n",
      "Got: Google, https://github.com//Google987\n",
      "Got: Prateek Narang, https://github.com//prateek27\n",
      "Got: Rakina Zata Amni, https://github.com//rakina\n",
      "Got: Clément Mihailescu, https://github.com//clementmihailescu\n",
      "Got: Faisal Abid, https://github.com//FaisalAbid\n",
      "Got: Kate Lovett, https://github.com//Piinks\n",
      "Got: Andrey Kulikov, https://github.com//andkulikov\n",
      "Got: Márton Braun, https://github.com//zsmb13\n",
      "\n",
      " Current URL: https://github.com/search?q=google engineer&type=users&p=4 \n",
      "\n",
      "Got: Kate Lovett, https://github.com//Piinks\n",
      "Got: Faisal Abid, https://github.com//FaisalAbid\n",
      "Got: Viktor Turskyi, https://github.com//koorchik\n",
      "Got: Milad Naseri, https://github.com//mmnaseri\n",
      "Got: Rahul Ravikumar, https://github.com//tikurahul\n",
      "Got: Robert Kubis, https://github.com//hostirosti\n",
      "Got: Corey Lynch, https://github.com//coreylynch\n",
      "Got: Emma Twersky, https://github.com//twerske\n",
      "Got: Shivam Goyal, https://github.com//ShivamGoyal1899\n",
      "Got: Abhinay Omkar, https://github.com//abhiomkar\n",
      "\n",
      " Current URL: https://github.com/search?q=google engineer&type=users&p=5 \n",
      "\n",
      "Got: Marek Siarkowicz, https://github.com//serathius\n",
      "Got: Greg Spencer, https://github.com//gspencergoog\n",
      "Got: Mais Alheraki, https://github.com//pr-Mais\n",
      "Got: Jafer Haider, https://github.com//itsjafer\n",
      "Got: Zhixun Tan, https://github.com//phisiart\n",
      "Got: Imaculate, https://github.com//imaculate\n",
      "Got: Christie Wilson, https://github.com//bobcatfish\n",
      "Got: Jason Feinstein, https://github.com//jasonwyatt\n",
      "Got: Nick Rout, https://github.com//ricknout\n",
      "Got: Joe Stanton, https://github.com//JoeStanton\n"
     ]
    }
   ],
   "source": [
    "\n",
    "query=\"google engineer\"\n",
    "url = f\"https://github.com/search?q={query}&type=users\"\n",
    "\n",
    "print(f\"URL : {url}\")\n",
    "\n",
    "http = urllib3.PoolManager()\n",
    "http.addheaders = [('User-agent', 'Mozilla/61.0')]\n",
    "# web_page = http.request('GET',url)\n",
    "web_page=requests.get(url)\n",
    "soup = BS(web_page.content, 'html5lib')\n",
    "\n",
    "pages = soup.find_all(\"em\", class_=\"current\")[0].get(\"data-total-pages\")\n",
    "\n",
    "max_page = 5\n",
    "\n",
    "github_profiles = {\"name\":[], \"urls\":[], \"portfolio\":[],\"headline\":[],\n",
    "                   \"followers\":[],\"following\":[],\n",
    "                   \"home\":[], \"work\":[], \"twitter\":[]}\n",
    "\n",
    "if pages:\n",
    "    pages=int(pages)\n",
    "    print(f\"Total Pages: {pages}. Running upto {max_page}.\")\n",
    "    \n",
    "    for page in range(1,pages):\n",
    "        if page>max_page:\n",
    "            break\n",
    "        url = f\"https://github.com/search?q={query}&type=users&p={page}\"\n",
    "        print(f\"\\n Current URL: {url} \\n\")\n",
    "        \n",
    "        http = urllib3.PoolManager()\n",
    "        http.addheaders = [('User-agent', 'Mozilla/61.0')]\n",
    "        \n",
    "        web_page=requests.get(url)\n",
    "        osoup = BS(web_page.content, 'html5lib')\n",
    "\n",
    "        for a in osoup.find_all(\"a\",class_=\"mr-1\"):\n",
    "\n",
    "            gurl = \"https://github.com/\"+a.get(\"href\")\n",
    "            gname = a.text\n",
    "\n",
    "            print(f\"Got: {gname}, {gurl}\")\n",
    "\n",
    "            github_profiles[\"name\"].append(gname)\n",
    "            github_profiles[\"urls\"].append(gurl)\n",
    "            \n",
    "            \n",
    "            http = urllib3.PoolManager()\n",
    "            http.addheaders = [('User-agent', 'Mozilla/61.0')]\n",
    "            web_page=requests.get(gurl)\n",
    "            soup = BS(web_page.content, 'html5lib')\n",
    "            \n",
    "            headline = soup.find_all(\"div\",class_=\"p-note user-profile-bio mb-3 js-user-profile-bio f4\")[0].text\n",
    "            \n",
    "            github_profiles[\"headline\"].append(headline)\n",
    "            \n",
    "            followers = soup.find_all(\"a\",class_=\"Link--secondary no-underline no-wrap\")[0].text.strip().split(\"\\n\")[0]\n",
    "            following = soup.find_all(\"a\",class_=\"Link--secondary no-underline no-wrap\")[1].text.strip().split(\"\\n\")[0]\n",
    "            \n",
    "            github_profiles[\"followers\"].append(followers)\n",
    "            github_profiles[\"following\"].append(following)\n",
    "            \n",
    "            vcard = soup.find_all(\"ul\",class_=\"vcard-details\")[0]\n",
    "\n",
    "            portfolio=None\n",
    "            home=None\n",
    "            work=None\n",
    "            twitter=None\n",
    "            for vc in vcard.find_all(\"li\"):\n",
    "                item=vc.get(\"itemprop\")\n",
    "                if item==\"url\":\n",
    "                    portfolio=vc.text.strip()\n",
    "                if item==\"homeLocation\":\n",
    "                    home=vc.text.strip()\n",
    "                if item==\"worksFor\":\n",
    "                    work=vc.text.strip()\n",
    "                if item==\"twitter\":\n",
    "                    twitter=vc.text.strip().split(\"\\n\")[-1].strip()\n",
    "            \n",
    "            github_profiles[\"portfolio\"].append(portfolio)\n",
    "            github_profiles[\"home\"].append(home)\n",
    "            github_profiles[\"work\"].append(work)\n",
    "            github_profiles[\"twitter\"].append(twitter)\n",
    "            \n",
    "            \n",
    "\n",
    "\n",
    "            \n",
    "            \n",
    "            "
   ]
  },
  {
   "cell_type": "markdown",
   "metadata": {},
   "source": [
    "### Turn Result into Dataframe\n",
    "In order to do data analysis, it is easier to work with tabular data. So lets convert our above dictionary into dataframe."
   ]
  },
  {
   "cell_type": "code",
   "execution_count": 63,
   "metadata": {
    "ExecuteTime": {
     "end_time": "2022-07-17T08:21:26.843242Z",
     "start_time": "2022-07-17T08:21:26.785242Z"
    }
   },
   "outputs": [
    {
     "data": {
      "text/html": [
       "<div>\n",
       "<style scoped>\n",
       "    .dataframe tbody tr th:only-of-type {\n",
       "        vertical-align: middle;\n",
       "    }\n",
       "\n",
       "    .dataframe tbody tr th {\n",
       "        vertical-align: top;\n",
       "    }\n",
       "\n",
       "    .dataframe thead th {\n",
       "        text-align: right;\n",
       "    }\n",
       "</style>\n",
       "<table border=\"1\" class=\"dataframe\">\n",
       "  <thead>\n",
       "    <tr style=\"text-align: right;\">\n",
       "      <th></th>\n",
       "      <th>name</th>\n",
       "      <th>urls</th>\n",
       "      <th>portfolio</th>\n",
       "      <th>headline</th>\n",
       "      <th>followers</th>\n",
       "      <th>following</th>\n",
       "      <th>home</th>\n",
       "      <th>work</th>\n",
       "      <th>twitter</th>\n",
       "    </tr>\n",
       "  </thead>\n",
       "  <tbody>\n",
       "    <tr>\n",
       "      <th>0</th>\n",
       "      <td>Seth Vargo</td>\n",
       "      <td>https://github.com//sethvargo</td>\n",
       "      <td>https://www.sethvargo.com</td>\n",
       "      <td>Engineer @google</td>\n",
       "      <td>3.2k</td>\n",
       "      <td>5</td>\n",
       "      <td>Pittsburgh, PA</td>\n",
       "      <td>@google</td>\n",
       "      <td>@sethvargo</td>\n",
       "    </tr>\n",
       "    <tr>\n",
       "      <th>1</th>\n",
       "      <td>Kevin Naughton Jr.</td>\n",
       "      <td>https://github.com//kdn251</td>\n",
       "      <td>youtube.com/kevinnaughtonjr</td>\n",
       "      <td>Software Engineer @google</td>\n",
       "      <td>3.8k</td>\n",
       "      <td>9</td>\n",
       "      <td>New York, New York</td>\n",
       "      <td>Google</td>\n",
       "      <td>@kevinnaughtonjr</td>\n",
       "    </tr>\n",
       "    <tr>\n",
       "      <th>2</th>\n",
       "      <td>Miguel Ángel Durán</td>\n",
       "      <td>https://github.com//midudev</td>\n",
       "      <td>https://midu.dev</td>\n",
       "      <td>Software Engineer\\n\\nGitHub Star 🌟\\nGoogle Dev...</td>\n",
       "      <td>6.3k</td>\n",
       "      <td>10</td>\n",
       "      <td>Barcelona</td>\n",
       "      <td>@AdevintaSpain</td>\n",
       "      <td>@midudev</td>\n",
       "    </tr>\n",
       "    <tr>\n",
       "      <th>3</th>\n",
       "      <td>Jose Alcérreca</td>\n",
       "      <td>https://github.com//JoseAlcerreca</td>\n",
       "      <td>twitter.com/ppvi</td>\n",
       "      <td>Android Developer Relations Engineer @ Google</td>\n",
       "      <td>2.3k</td>\n",
       "      <td>0</td>\n",
       "      <td>Madrid, Spain</td>\n",
       "      <td>@google</td>\n",
       "      <td>@ppvi</td>\n",
       "    </tr>\n",
       "    <tr>\n",
       "      <th>4</th>\n",
       "      <td>Shubham Mathur</td>\n",
       "      <td>https://github.com//googleknight</td>\n",
       "      <td>https://googleknight.github.io</td>\n",
       "      <td>Software engineer II @ MDL Bangalore\\n</td>\n",
       "      <td>29</td>\n",
       "      <td>40</td>\n",
       "      <td>Bangalore, India</td>\n",
       "      <td>Mckinsey &amp; Company</td>\n",
       "      <td>None</td>\n",
       "    </tr>\n",
       "    <tr>\n",
       "      <th>5</th>\n",
       "      <td>Nick Bourdakos</td>\n",
       "      <td>https://github.com//bourdakos1</td>\n",
       "      <td>None</td>\n",
       "      <td>Software Engineer @google</td>\n",
       "      <td>480</td>\n",
       "      <td>8</td>\n",
       "      <td>New York City</td>\n",
       "      <td>@google</td>\n",
       "      <td>None</td>\n",
       "    </tr>\n",
       "    <tr>\n",
       "      <th>6</th>\n",
       "      <td>Mark</td>\n",
       "      <td>https://github.com//MarkEdmondson1234</td>\n",
       "      <td>https://code.markedmondson.me/</td>\n",
       "      <td>Data Engineer @iihnordic  \\nGoogle Developer E...</td>\n",
       "      <td>783</td>\n",
       "      <td>117</td>\n",
       "      <td>Copenhagen</td>\n",
       "      <td>@iihnordic</td>\n",
       "      <td>@HoloMarkeD</td>\n",
       "    </tr>\n",
       "    <tr>\n",
       "      <th>7</th>\n",
       "      <td>Dan Field</td>\n",
       "      <td>https://github.com//dnfield</td>\n",
       "      <td>None</td>\n",
       "      <td>Software Engineer @google for @flutter</td>\n",
       "      <td>928</td>\n",
       "      <td>0</td>\n",
       "      <td>None</td>\n",
       "      <td>@google</td>\n",
       "      <td>None</td>\n",
       "    </tr>\n",
       "    <tr>\n",
       "      <th>8</th>\n",
       "      <td>Pierfrancesco Soffritti</td>\n",
       "      <td>https://github.com//PierfrancescoSoffritti</td>\n",
       "      <td>https://pierfrancescosoffritti.com/</td>\n",
       "      <td>Software engineer @google</td>\n",
       "      <td>566</td>\n",
       "      <td>40</td>\n",
       "      <td>London, UK</td>\n",
       "      <td>@google</td>\n",
       "      <td>@psoffritti</td>\n",
       "    </tr>\n",
       "    <tr>\n",
       "      <th>9</th>\n",
       "      <td>Parker Moore</td>\n",
       "      <td>https://github.com//parkr</td>\n",
       "      <td>https://byparker.com</td>\n",
       "      <td>🍩 🌎 Senior Engineer. Currently: @google. Forme...</td>\n",
       "      <td>1.3k</td>\n",
       "      <td>316</td>\n",
       "      <td>USA</td>\n",
       "      <td>Google</td>\n",
       "      <td>None</td>\n",
       "    </tr>\n",
       "    <tr>\n",
       "      <th>10</th>\n",
       "      <td>Gokmen Goksel</td>\n",
       "      <td>https://github.com//gokmen</td>\n",
       "      <td>None</td>\n",
       "      <td>Software Engineer @google</td>\n",
       "      <td>396</td>\n",
       "      <td>58</td>\n",
       "      <td>San Francisco</td>\n",
       "      <td>@google</td>\n",
       "      <td>@gokmen</td>\n",
       "    </tr>\n",
       "    <tr>\n",
       "      <th>11</th>\n",
       "      <td>Sanket Singh</td>\n",
       "      <td>https://github.com//singhsanket143</td>\n",
       "      <td>None</td>\n",
       "      <td>SDE @google | SDE @linkedin | Google Summer Of...</td>\n",
       "      <td>1.7k</td>\n",
       "      <td>13</td>\n",
       "      <td>India</td>\n",
       "      <td>@google</td>\n",
       "      <td>None</td>\n",
       "    </tr>\n",
       "    <tr>\n",
       "      <th>12</th>\n",
       "      <td>Justin Poehnelt</td>\n",
       "      <td>https://github.com//jpoehnelt</td>\n",
       "      <td>https://justin.poehnelt.com</td>\n",
       "      <td>@google, @googleworkspace  Developer Relations...</td>\n",
       "      <td>307</td>\n",
       "      <td>9</td>\n",
       "      <td>United States</td>\n",
       "      <td>@google</td>\n",
       "      <td>@jpoehnelt</td>\n",
       "    </tr>\n",
       "    <tr>\n",
       "      <th>13</th>\n",
       "      <td>Shanqing Cai</td>\n",
       "      <td>https://github.com//caisq</td>\n",
       "      <td>https://caisq.github.io/</td>\n",
       "      <td>Software Engineer @ Google Research</td>\n",
       "      <td>343</td>\n",
       "      <td>59</td>\n",
       "      <td>None</td>\n",
       "      <td>Google</td>\n",
       "      <td>None</td>\n",
       "    </tr>\n",
       "    <tr>\n",
       "      <th>14</th>\n",
       "      <td>Valerii Iatsko</td>\n",
       "      <td>https://github.com//viatsko</td>\n",
       "      <td>None</td>\n",
       "      <td>UI Engineer @ Google</td>\n",
       "      <td>346</td>\n",
       "      <td>55</td>\n",
       "      <td>None</td>\n",
       "      <td>Google</td>\n",
       "      <td>None</td>\n",
       "    </tr>\n",
       "    <tr>\n",
       "      <th>15</th>\n",
       "      <td>Mizux</td>\n",
       "      <td>https://github.com//Mizux</td>\n",
       "      <td>http://www.mizux.net</td>\n",
       "      <td>OSS Release Engineer @google</td>\n",
       "      <td>167</td>\n",
       "      <td>81</td>\n",
       "      <td>Tours, France</td>\n",
       "      <td>@google</td>\n",
       "      <td>None</td>\n",
       "    </tr>\n",
       "    <tr>\n",
       "      <th>16</th>\n",
       "      <td>Gabriela D'Ávila Ferrara</td>\n",
       "      <td>https://github.com//gabidavila</td>\n",
       "      <td>https://gabi.dev</td>\n",
       "      <td>Developer Relations Engineer @google</td>\n",
       "      <td>247</td>\n",
       "      <td>25</td>\n",
       "      <td>New Jersey</td>\n",
       "      <td>@google @GoogleCloudPlatform</td>\n",
       "      <td>@gabidavila</td>\n",
       "    </tr>\n",
       "    <tr>\n",
       "      <th>17</th>\n",
       "      <td>Zulkarnine Mahmud</td>\n",
       "      <td>https://github.com//zulkarnine</td>\n",
       "      <td>www.zulkarnine.com</td>\n",
       "      <td>Software Engineer at Google</td>\n",
       "      <td>564</td>\n",
       "      <td>0</td>\n",
       "      <td>None</td>\n",
       "      <td>Google</td>\n",
       "      <td>None</td>\n",
       "    </tr>\n",
       "    <tr>\n",
       "      <th>18</th>\n",
       "      <td>Adam Silverstein</td>\n",
       "      <td>https://github.com//adamsilverstein</td>\n",
       "      <td>http://www.earthbound.com</td>\n",
       "      <td>Developer Relations Engineer @ Google</td>\n",
       "      <td>153</td>\n",
       "      <td>6</td>\n",
       "      <td>Colorado, USA</td>\n",
       "      <td>Google</td>\n",
       "      <td>None</td>\n",
       "    </tr>\n",
       "    <tr>\n",
       "      <th>19</th>\n",
       "      <td>Yacine Rezgui</td>\n",
       "      <td>https://github.com//yrezgui</td>\n",
       "      <td>https://yrezgui.com</td>\n",
       "      <td>Creative software engineer.\\nDeveloper advocat...</td>\n",
       "      <td>513</td>\n",
       "      <td>143</td>\n",
       "      <td>London, UK</td>\n",
       "      <td>Google</td>\n",
       "      <td>None</td>\n",
       "    </tr>\n",
       "    <tr>\n",
       "      <th>20</th>\n",
       "      <td>Google</td>\n",
       "      <td>https://github.com//Google987</td>\n",
       "      <td>youtube.com/alittlecoding</td>\n",
       "      <td>Software Engineer\\nYoutube: a little coding</td>\n",
       "      <td>13</td>\n",
       "      <td>11</td>\n",
       "      <td>India</td>\n",
       "      <td>None</td>\n",
       "      <td>@arif_decrypted</td>\n",
       "    </tr>\n",
       "    <tr>\n",
       "      <th>21</th>\n",
       "      <td>Prateek Narang</td>\n",
       "      <td>https://github.com//prateek27</td>\n",
       "      <td>www.prateeknarang.com</td>\n",
       "      <td>Software Engineer-III at Google, Udemy Instruc...</td>\n",
       "      <td>2.4k</td>\n",
       "      <td>4</td>\n",
       "      <td>Hyderabad</td>\n",
       "      <td>Google India</td>\n",
       "      <td>None</td>\n",
       "    </tr>\n",
       "    <tr>\n",
       "      <th>22</th>\n",
       "      <td>Rakina Zata Amni</td>\n",
       "      <td>https://github.com//rakina</td>\n",
       "      <td>None</td>\n",
       "      <td>Software Engineer @google @chromium 🇮🇩 🇯🇵👩‍💻</td>\n",
       "      <td>307</td>\n",
       "      <td>22</td>\n",
       "      <td>Tokyo, Japan</td>\n",
       "      <td>@google</td>\n",
       "      <td>None</td>\n",
       "    </tr>\n",
       "    <tr>\n",
       "      <th>23</th>\n",
       "      <td>Clément Mihailescu</td>\n",
       "      <td>https://github.com//clementmihailescu</td>\n",
       "      <td>algoexpert.io/clem</td>\n",
       "      <td>Co-Founder &amp; CEO, AlgoExpert | Ex-Google &amp; Ex-...</td>\n",
       "      <td>7.5k</td>\n",
       "      <td>2</td>\n",
       "      <td>None</td>\n",
       "      <td>AlgoExpert</td>\n",
       "      <td>@clemmihai</td>\n",
       "    </tr>\n",
       "    <tr>\n",
       "      <th>24</th>\n",
       "      <td>Faisal Abid</td>\n",
       "      <td>https://github.com//FaisalAbid</td>\n",
       "      <td>http://www.FaisalAbid.com</td>\n",
       "      <td>@google Developer Expert, Entrepreneur, and En...</td>\n",
       "      <td>505</td>\n",
       "      <td>30</td>\n",
       "      <td>Toronto</td>\n",
       "      <td>@eirene-cremations @bitstrapped @Shopistry</td>\n",
       "      <td>@FaisalAbid</td>\n",
       "    </tr>\n",
       "    <tr>\n",
       "      <th>25</th>\n",
       "      <td>Kate Lovett</td>\n",
       "      <td>https://github.com//Piinks</td>\n",
       "      <td>None</td>\n",
       "      <td>Software Engineer at @google for @flutter</td>\n",
       "      <td>745</td>\n",
       "      <td>10</td>\n",
       "      <td>Nashville, TN</td>\n",
       "      <td>Google</td>\n",
       "      <td>@k8lovett</td>\n",
       "    </tr>\n",
       "    <tr>\n",
       "      <th>26</th>\n",
       "      <td>Andrey Kulikov</td>\n",
       "      <td>https://github.com//andkulikov</td>\n",
       "      <td>http://linkedin.com/in/andkulikov/</td>\n",
       "      <td>Software Engineer at Google</td>\n",
       "      <td>378</td>\n",
       "      <td>0</td>\n",
       "      <td>London</td>\n",
       "      <td>@google</td>\n",
       "      <td>None</td>\n",
       "    </tr>\n",
       "    <tr>\n",
       "      <th>27</th>\n",
       "      <td>Márton Braun</td>\n",
       "      <td>https://github.com//zsmb13</td>\n",
       "      <td>https://zsmb.co/</td>\n",
       "      <td>Android Developer Relations Engineer @google, ...</td>\n",
       "      <td>418</td>\n",
       "      <td>7</td>\n",
       "      <td>Budapest, Hungary</td>\n",
       "      <td>@google</td>\n",
       "      <td>@zsmb13</td>\n",
       "    </tr>\n",
       "    <tr>\n",
       "      <th>28</th>\n",
       "      <td>Kate Lovett</td>\n",
       "      <td>https://github.com//Piinks</td>\n",
       "      <td>None</td>\n",
       "      <td>Software Engineer at @google for @flutter</td>\n",
       "      <td>745</td>\n",
       "      <td>10</td>\n",
       "      <td>Nashville, TN</td>\n",
       "      <td>Google</td>\n",
       "      <td>@k8lovett</td>\n",
       "    </tr>\n",
       "    <tr>\n",
       "      <th>29</th>\n",
       "      <td>Faisal Abid</td>\n",
       "      <td>https://github.com//FaisalAbid</td>\n",
       "      <td>http://www.FaisalAbid.com</td>\n",
       "      <td>@google Developer Expert, Entrepreneur, and En...</td>\n",
       "      <td>505</td>\n",
       "      <td>30</td>\n",
       "      <td>Toronto</td>\n",
       "      <td>@eirene-cremations @bitstrapped @Shopistry</td>\n",
       "      <td>@FaisalAbid</td>\n",
       "    </tr>\n",
       "    <tr>\n",
       "      <th>30</th>\n",
       "      "
      ],
      "text/plain": [
       "                        name                                        urls  \\\n",
       "0                 Seth Vargo               https://github.com//sethvargo   \n",
       "1         Kevin Naughton Jr.                  https://github.com//kdn251   \n",
       "2         Miguel Ángel Durán                 https://github.com//midudev   \n",
       "3             Jose Alcérreca           https://github.com//JoseAlcerreca   \n",
       "4             Shubham Mathur            https://github.com//googleknight   \n",
       "5             Nick Bourdakos              https://github.com//bourdakos1   \n",
       "6                       Mark       https://github.com//MarkEdmondson1234   \n",
       "7                  Dan Field                 https://github.com//dnfield   \n",
       "8    Pierfrancesco Soffritti  https://github.com//PierfrancescoSoffritti   \n",
       "9               Parker Moore                   https://github.com//parkr   \n",
       "10             Gokmen Goksel                  https://github.com//gokmen   \n",
       "11              Sanket Singh          https://github.com//singhsanket143   \n",
       "12           Justin Poehnelt               https://github.com//jpoehnelt   \n",
       "13              Shanqing Cai                   https://github.com//caisq   \n",
       "14            Valerii Iatsko                 https://github.com//viatsko   \n",
       "15                     Mizux                   https://github.com//Mizux   \n",
       "16  Gabriela D'Ávila Ferrara              https://github.com//gabidavila   \n",
       "17         Zulkarnine Mahmud              https://github.com//zulkarnine   \n",
       "18          Adam Silverstein         https://github.com//adamsilverstein   \n",
       "19             Yacine Rezgui                 https://github.com//yrezgui   \n",
       "20                    Google               https://github.com//Google987   \n",
       "21            Prateek Narang               https://github.com//prateek27   \n",
       "22          Rakina Zata Amni                  https://github.com//rakina   \n",
       "23        Clément Mihailescu       https://github.com//clementmihailescu   \n",
       "24               Faisal Abid              https://github.com//FaisalAbid   \n",
       "25               Kate Lovett                  https://github.com//Piinks   \n",
       "26            Andrey Kulikov              https://github.com//andkulikov   \n",
       "27              Márton Braun                  https://github.com//zsmb13   \n",
       "28               Kate Lovett                  https://github.com//Piinks   \n",
       "29               Faisal Abid              https://github.com//FaisalAbid   \n",
       "30            Viktor Turskyi                https://github.com//koorchik   \n",
       "31              Milad Naseri                https://github.com//mmnaseri   \n",
       "32           Rahul Ravikumar               https://github.com//tikurahul   \n",
       "33              Robert Kubis              https://github.com//hostirosti   \n",
       "34               Corey Lynch              https://github.com//coreylynch   \n",
       "35              Emma Twersky                 https://github.com//twerske   \n",
       "36              Shivam Goyal         https://github.com//ShivamGoyal1899   \n",
       "37             Abhinay Omkar               https://github.com//abhiomkar   \n",
       "38          Marek Siarkowicz               https://github.com//serathius   \n",
       "39              Greg Spencer            https://github.com//gspencergoog   \n",
       "40             Mais Alheraki                 https://github.com//pr-Mais   \n",
       "41              Jafer Haider                https://github.com//itsjafer   \n",
       "42                Zhixun Tan                https://github.com//phisiart   \n",
       "43                 Imaculate               https://github.com//imaculate   \n",
       "44           Christie Wilson              https://github.com//bobcatfish   \n",
       "45           Jason Feinstein              https://github.com//jasonwyatt   \n",
       "46                 Nick Rout                https://github.com//ricknout   \n",
       "47               Joe Stanton              https://github.com//JoeStanton   \n",
       "\n",
       "                              portfolio  \\\n",
       "0             https://www.sethvargo.com   \n",
       "1           youtube.com/kevinnaughtonjr   \n",
       "2                      https://midu.dev   \n",
       "3                      twitter.com/ppvi   \n",
       "4        https://googleknight.github.io   \n",
       "5                                  None   \n",
       "6        https://code.markedmondson.me/   \n",
       "7                                  None   \n",
       "8   https://pierfrancescosoffritti.com/   \n",
       "9                  https://byparker.com   \n",
       "10                                 None   \n",
       "11                                 None   \n",
       "12          https://justin.poehnelt.com   \n",
       "13             https://caisq.github.io/   \n",
       "14                                 None   \n",
       "15                 http://www.mizux.net   \n",
       "16                     https://gabi.dev   \n",
       "17                   www.zulkarnine.com   \n",
       "18            http://www.earthbound.com   \n",
       "19                  https://yrezgui.com   \n",
       "20            youtube.com/alittlecoding   \n",
       "21                www.prateeknarang.com   \n",
       "22                                 None   \n",
       "23                   algoexpert.io/clem   \n",
       "24            http://www.FaisalAbid.com   \n",
       "25                                 None   \n",
       "26   http://linkedin.com/in/andkulikov/   \n",
       "27                     https://zsmb.co/   \n",
       "28                                 None   \n",
       "29            http://www.FaisalAbid.com   \n",
       "30   http://www.linkedin.com/in/turskyi   \n",
       "31                  http://mmnaseri.com   \n",
       "32            https://rahulrav.com/blog   \n",
       "33                                 None   \n",
       "34                                 None   \n",
       "35                                 None   \n",
       "36                      goyalshivam.com   \n",
       "37                  http://abhiomkar.in   \n",
       "38                                 None   \n",
       "39                                 None   \n",
       "40                        fairybits.com   \n",
       "41                         itsjafer.com   \n",
       "42                   phisiart.github.io   \n",
       "43           http://imaculate.github.io   \n",
       "44     https://twitter.com/bobcatwilson   \n",
       "45                                 None   \n",
       "46                         ricknout.dev   \n",
       "47                                 None   \n",
       "\n",
       "                                             headline followers following  \\\n",
       "0                                    Engineer @google      3.2k         5   \n",
       "1                       Software Engineer @google          3.8k         9   \n",
       "2   Software Engineer\\n\\nGitHub Star 🌟\\nGoogle Dev...      6.3k        10   \n",
       "3       Android Developer Relations Engineer @ Google      2.3k         0   \n",
       "4              Software engineer II @ MDL Bangalore\\n        29        40   \n",
       "5                           Software Engineer @google       480         8   \n",
       "6   Data Engineer @iihnordic  \\nGoogle Developer E...       783       117   \n",
       "7             Software Engineer @google for @flutter        928         0   \n",
       "8                           Software engineer @google       566        40   \n",
       "9   🍩 🌎 Senior Engineer. Currently: @google. Forme...      1.3k       316   \n",
       "10                          Software Engineer @google       396        58   \n",
       "11  SDE @google | SDE @linkedin | Google Summer Of...      1.7k        13   \n",
       "12  @google, @googleworkspace  Developer Relations...       307         9   \n",
       "13                Software Engineer @ Google Research       343        59   \n",
       "14                               UI Engineer @ Google       346        55   \n",
       "15                       OSS Release Engineer @google       167        81   \n",
       "16               Developer Relations Engineer @google       247        25   \n",
       "17                        Software Engineer at Google       564         0   \n",
       "18              Developer Relations Engineer @ Google       153         6   \n",
       "19  Creative software engineer.\\nDeveloper advocat...       513       143   \n",
       "20        Software Engineer\\nYoutube: a little coding        13        11   \n",
       "21  Software Engineer-III at Google, Udemy Instruc...      2.4k         4   \n",
       "22       Software Engineer @google @chromium 🇮🇩 🇯🇵👩‍💻       307        22   \n",
       "23  Co-Founder & CEO, AlgoExpert | Ex-Google & Ex-...      7.5k         2   \n",
       "24  @google Developer Expert, Entrepreneur, and En...       505        30   \n",
       "25         Software Engineer at @google for @flutter        745        10   \n",
       "26                        Software Engineer at Google       378         0   \n",
       "27  Android Developer Relations Engineer @google, ...       418         7   \n",
       "28         Software Engineer at @google for @flutter        745        10   \n",
       "29  @google Developer Expert, Entrepreneur, and En...       505        30   \n",
       "30                 Senior Software Engineer at Google       212        16   \n",
       "31                       Software engineer at @google       151         3   \n",
       "32                 Sr. Software Engineer at @google.        226        36   \n",
       "33              Developer Relations Engineer @ Google       149        16   \n",
       "34        Research Engineer, Robotics @ Google Brain        271        19   \n",
       "35              Developer Relations Engineer @ Google       178         2   \n",
       "36             Software Engineer at Navi. ex-@google.       418       196   \n",
       "37                              UX Engineer at Google        88        60   \n",
       "38                        Software Engineer at Google       100        28   \n",
       "39                 Senior Software Engineer at Google       210         1   \n",
       "40        Software engineer, Google Developer Expert.       257        32   \n",
       "41                        Software Engineer at Google       157        10   \n",
       "42                       Software Engineer at Google.       153        58   \n",
       "43                          Software Engineer @google        75       281   \n",
       "44                Software Engineer @ Google\\nshe/her       188        10   \n",
       "45                         Software Engineer @ Google       102        48   \n",
       "46  Android Developer Relations Engineer at Google 🇿🇦       510        29   \n",
       "47                      Engineer at @google @deepmind       104         4   \n",
       "\n",
       "                       home                                        work  \\\n",
       "0            Pittsburgh, PA                                     @google   \n",
       "1        New York, New York                                      Google   \n",
       "2                 Barcelona                              @AdevintaSpain   \n",
       "3             Madrid, Spain                                     @google   \n",
       "4      "
      ]
     },
     "execution_count": 63,
     "metadata": {},
     "output_type": "execute_result"
    },
    {
     "data": {
      "text/html": [
       "<b>limit_output extension: Maximum message size of 10000 exceeded with 15427 characters</b>"
      ]
     },
     "metadata": {},
     "output_type": "display_data"
    }
   ],
   "source": [
    "df = pd.DataFrame(github_profiles)\n",
    "df"
   ]
  },
  {
   "cell_type": "code",
   "execution_count": 64,
   "metadata": {
    "ExecuteTime": {
     "end_time": "2022-07-17T08:21:32.534849Z",
     "start_time": "2022-07-17T08:21:32.519854Z"
    }
   },
   "outputs": [
    {
     "data": {
      "text/plain": [
       "(48, 9)"
      ]
     },
     "execution_count": 64,
     "metadata": {},
     "output_type": "execute_result"
    }
   ],
   "source": [
    "df.shape"
   ]
  },
  {
   "cell_type": "markdown",
   "metadata": {},
   "source": [
    "We were able to scrape about 50 profiles. There are lots of rich information like portfolio of a person and his/her profile headline and twitter handle."
   ]
  },
  {
   "cell_type": "markdown",
   "metadata": {},
   "source": [
    "There are few more cleaning needed too. Like The followers and following counts."
   ]
  },
  {
   "cell_type": "code",
   "execution_count": 65,
   "metadata": {
    "ExecuteTime": {
     "end_time": "2022-07-17T08:22:17.843809Z",
     "start_time": "2022-07-17T08:22:17.819817Z"
    }
   },
   "outputs": [
    {
     "data": {
      "text/html": [
       "<div>\n",
       "<style scoped>\n",
       "    .dataframe tbody tr th:only-of-type {\n",
       "        vertical-align: middle;\n",
       "    }\n",
       "\n",
       "    .dataframe tbody tr th {\n",
       "        vertical-align: top;\n",
       "    }\n",
       "\n",
       "    .dataframe thead th {\n",
       "        text-align: right;\n",
       "    }\n",
       "</style>\n",
       "<table border=\"1\" class=\"dataframe\">\n",
       "  <thead>\n",
       "    <tr style=\"text-align: right;\">\n",
       "      <th></th>\n",
       "      <th>name</th>\n",
       "      <th>urls</th>\n",
       "      <th>portfolio</th>\n",
       "      <th>headline</th>\n",
       "      <th>followers</th>\n",
       "      <th>following</th>\n",
       "      <th>home</th>\n",
       "      <th>work</th>\n",
       "      <th>twitter</th>\n",
       "    </tr>\n",
       "  </thead>\n",
       "  <tbody>\n",
       "    <tr>\n",
       "      <th>0</th>\n",
       "      <td>Seth Vargo</td>\n",
       "      <td>https://github.com//sethvargo</td>\n",
       "      <td>https://www.sethvargo.com</td>\n",
       "      <td>Engineer @google</td>\n",
       "      <td>3200.0</td>\n",
       "      <td>5</td>\n",
       "      <td>Pittsburgh, PA</td>\n",
       "      <td>@google</td>\n",
       "      <td>@sethvargo</td>\n",
       "    </tr>\n",
       "    <tr>\n",
       "      <th>1</th>\n",
       "      <td>Kevin Naughton Jr.</td>\n",
       "      <td>https://github.com//kdn251</td>\n",
       "      <td>youtube.com/kevinnaughtonjr</td>\n",
       "      <td>Software Engineer @google</td>\n",
       "      <td>3800.0</td>\n",
       "      <td>9</td>\n",
       "      <td>New York, New York</td>\n",
       "      <td>Google</td>\n",
       "      <td>@kevinnaughtonjr</td>\n",
       "    </tr>\n",
       "    <tr>\n",
       "      <th>2</th>\n",
       "      <td>Miguel Ángel Durán</td>\n",
       "      <td>https://github.com//midudev</td>\n",
       "      <td>https://midu.dev</td>\n",
       "      <td>Software Engineer\\n\\nGitHub Star 🌟\\nGoogle Dev...</td>\n",
       "      <td>6300.0</td>\n",
       "      <td>10</td>\n",
       "      <td>Barcelona</td>\n",
       "      <td>@AdevintaSpain</td>\n",
       "      <td>@midudev</td>\n",
       "    </tr>\n",
       "    <tr>\n",
       "      <th>3</th>\n",
       "      <td>Jose Alcérreca</td>\n",
       "      <td>https://github.com//JoseAlcerreca</td>\n",
       "      <td>twitter.com/ppvi</td>\n",
       "      <td>Android Developer Relations Engineer @ Google</td>\n",
       "      <td>2300.0</td>\n",
       "      <td>0</td>\n",
       "      <td>Madrid, Spain</td>\n",
       "      <td>@google</td>\n",
       "      <td>@ppvi</td>\n",
       "    </tr>\n",
       "    <tr>\n",
       "      <th>4</th>\n",
       "      <td>Shubham Mathur</td>\n",
       "      <td>https://github.com//googleknight</td>\n",
       "      <td>https://googleknight.github.io</td>\n",
       "      <td>Software engineer II @ MDL Bangalore\\n</td>\n",
       "      <td>29.0</td>\n",
       "      <td>40</td>\n",
       "      <td>Bangalore, India</td>\n",
       "      <td>Mckinsey &amp; Company</td>\n",
       "      <td>None</td>\n",
       "    </tr>\n",
       "  </tbody>\n",
       "</table>\n",
       "</div>"
      ],
      "text/plain": [
       "                 name                               urls  \\\n",
       "0          Seth Vargo      https://github.com//sethvargo   \n",
       "1  Kevin Naughton Jr.         https://github.com//kdn251   \n",
       "2  Miguel Ángel Durán        https://github.com//midudev   \n",
       "3      Jose Alcérreca  https://github.com//JoseAlcerreca   \n",
       "4      Shubham Mathur   https://github.com//googleknight   \n",
       "\n",
       "                        portfolio  \\\n",
       "0       https://www.sethvargo.com   \n",
       "1     youtube.com/kevinnaughtonjr   \n",
       "2                https://midu.dev   \n",
       "3                twitter.com/ppvi   \n",
       "4  https://googleknight.github.io   \n",
       "\n",
       "                                            headline  followers following  \\\n",
       "0                                   Engineer @google     3200.0         5   \n",
       "1                      Software Engineer @google         3800.0         9   \n",
       "2  Software Engineer\\n\\nGitHub Star 🌟\\nGoogle Dev...     6300.0        10   \n",
       "3      Android Developer Relations Engineer @ Google     2300.0         0   \n",
       "4             Software engineer II @ MDL Bangalore\\n       29.0        40   \n",
       "\n",
       "                 home                work           twitter  \n",
       "0      Pittsburgh, PA             @google        @sethvargo  \n",
       "1  New York, New York              Google  @kevinnaughtonjr  \n",
       "2           Barcelona      @AdevintaSpain          @midudev  \n",
       "3       Madrid, Spain             @google             @ppvi  \n",
       "4    Bangalore, India  Mckinsey & Company              None  "
      ]
     },
     "execution_count": 65,
     "metadata": {},
     "output_type": "execute_result"
    }
   ],
   "source": [
    "df[\"followers\"] = df.followers.apply(lambda x: 1000*float(x.replace(\"k\",\"\")) if \"k\" in x else float(x))\n",
    "df.head()"
   ]
  },
  {
   "cell_type": "code",
   "execution_count": 66,
   "metadata": {
    "ExecuteTime": {
     "end_time": "2022-07-17T08:22:18.820753Z",
     "start_time": "2022-07-17T08:22:18.782756Z"
    },
    "scrolled": true
   },
   "outputs": [
    {
     "data": {
      "text/html": [
       "<div>\n",
       "<style scoped>\n",
       "    .dataframe tbody tr th:only-of-type {\n",
       "        vertical-align: middle;\n",
       "    }\n",
       "\n",
       "    .dataframe tbody tr th {\n",
       "        vertical-align: top;\n",
       "    }\n",
       "\n",
       "    .dataframe thead th {\n",
       "        text-align: right;\n",
       "    }\n",
       "</style>\n",
       "<table border=\"1\" class=\"dataframe\">\n",
       "  <thead>\n",
       "    <tr style=\"text-align: right;\">\n",
       "      <th></th>\n",
       "      <th>name</th>\n",
       "      <th>urls</th>\n",
       "      <th>portfolio</th>\n",
       "      <th>headline</th>\n",
       "      <th>followers</th>\n",
       "      <th>following</th>\n",
       "      <th>home</th>\n",
       "      <th>work</th>\n",
       "      <th>twitter</th>\n",
       "    </tr>\n",
       "  </thead>\n",
       "  <tbody>\n",
       "    <tr>\n",
       "      <th>0</th>\n",
       "      <td>Seth Vargo</td>\n",
       "      <td>https://github.com//sethvargo</td>\n",
       "      <td>https://www.sethvargo.com</td>\n",
       "      <td>Engineer @google</td>\n",
       "      <td>3200.0</td>\n",
       "      <td>5.0</td>\n",
       "      <td>Pittsburgh, PA</td>\n",
       "      <td>@google</td>\n",
       "      <td>@sethvargo</td>\n",
       "    </tr>\n",
       "    <tr>\n",
       "      <th>1</th>\n",
       "      <td>Kevin Naughton Jr.</td>\n",
       "      <td>https://github.com//kdn251</td>\n",
       "      <td>youtube.com/kevinnaughtonjr</td>\n",
       "      <td>Software Engineer @google</td>\n",
       "      <td>3800.0</td>\n",
       "      <td>9.0</td>\n",
       "      <td>New York, New York</td>\n",
       "      <td>Google</td>\n",
       "      <td>@kevinnaughtonjr</td>\n",
       "    </tr>\n",
       "    <tr>\n",
       "      <th>2</th>\n",
       "      <td>Miguel Ángel Durán</td>\n",
       "      <td>https://github.com//midudev</td>\n",
       "      <td>https://midu.dev</td>\n",
       "      <td>Software Engineer\\n\\nGitHub Star 🌟\\nGoogle Dev...</td>\n",
       "      <td>6300.0</td>\n",
       "      <td>10.0</td>\n",
       "      <td>Barcelona</td>\n",
       "      <td>@AdevintaSpain</td>\n",
       "      <td>@midudev</td>\n",
       "    </tr>\n",
       "    <tr>\n",
       "      <th>3</th>\n",
       "      <td>Jose Alcérreca</td>\n",
       "      <td>https://github.com//JoseAlcerreca</td>\n",
       "      <td>twitter.com/ppvi</td>\n",
       "      <td>Android Developer Relations Engineer @ Google</td>\n",
       "      <td>2300.0</td>\n",
       "      <td>0.0</td>\n",
       "      <td>Madrid, Spain</td>\n",
       "      <td>@google</td>\n",
       "      <td>@ppvi</td>\n",
       "    </tr>\n",
       "    <tr>\n",
       "      <th>4</th>\n",
       "      <td>Shubham Mathur</td>\n",
       "      <td>https://github.com//googleknight</td>\n",
       "      <td>https://googleknight.github.io</td>\n",
       "      <td>Software engineer II @ MDL Bangalore\\n</td>\n",
       "      <td>29.0</td>\n",
       "      <td>40.0</td>\n",
       "      <td>Bangalore, India</td>\n",
       "      <td>Mckinsey &amp; Company</td>\n",
       "      <td>None</td>\n",
       "    </tr>\n",
       "  </tbody>\n",
       "</table>\n",
       "</div>"
      ],
      "text/plain": [
       "                 name                               urls  \\\n",
       "0          Seth Vargo      https://github.com//sethvargo   \n",
       "1  Kevin Naughton Jr.         https://github.com//kdn251   \n",
       "2  Miguel Ángel Durán        https://github.com//midudev   \n",
       "3      Jose Alcérreca  https://github.com//JoseAlcerreca   \n",
       "4      Shubham Mathur   https://github.com//googleknight   \n",
       "\n",
       "                        portfolio  \\\n",
       "0       https://www.sethvargo.com   \n",
       "1     youtube.com/kevinnaughtonjr   \n",
       "2                https://midu.dev   \n",
       "3                twitter.com/ppvi   \n",
       "4  https://googleknight.github.io   \n",
       "\n",
       "                                            headline  followers  following  \\\n",
       "0                                   Engineer @google     3200.0        5.0   \n",
       "1                      Software Engineer @google         3800.0        9.0   \n",
       "2  Software Engineer\\n\\nGitHub Star 🌟\\nGoogle Dev...     6300.0       10.0   \n",
       "3      Android Developer Relations Engineer @ Google     2300.0        0.0   \n",
       "4             Software engineer II @ MDL Bangalore\\n       29.0       40.0   \n",
       "\n",
       "                 home                work           twitter  \n",
       "0      Pittsburgh, PA             @google        @sethvargo  \n",
       "1  New York, New York              Google  @kevinnaughtonjr  \n",
       "2           Barcelona      @AdevintaSpain          @midudev  \n",
       "3       Madrid, Spain             @google             @ppvi  \n",
       "4    Bangalore, India  Mckinsey & Company              None  "
      ]
     },
     "execution_count": 66,
     "metadata": {},
     "output_type": "execute_result"
    }
   ],
   "source": [
    "df[\"following\"] = df.following.apply(lambda x: 1000*float(x.replace(\"k\",\"\")) if \"k\" in x else float(x))\n",
    "df.head()"
   ]
  },
  {
   "cell_type": "markdown",
   "metadata": {},
   "source": [
    "### Plotting Followers\n",
    "\n",
    "We will use `Seaborn` a library built above Matplotlib."
   ]
  },
  {
   "cell_type": "code",
   "execution_count": 67,
   "metadata": {
    "ExecuteTime": {
     "end_time": "2022-07-17T08:22:24.624499Z",
     "start_time": "2022-07-17T08:22:21.646696Z"
    }
   },
   "outputs": [
    {
     "data": {
      "text/plain": [
       "<AxesSubplot:>"
      ]
     },
     "execution_count": 67,
     "metadata": {},
     "output_type": "execute_result"
    },
    {
     "data": {
      "image/png": "[encoded data removed]",
      "text/plain": [
       "<Figure size 432x288 with 1 Axes>"
      ]
     },
     "metadata": {},
     "output_type": "display_data"
    }
   ],
   "source": [
    "import seaborn as sns\n",
    "sns.set()\n",
    "\n",
    "\n",
    "df.followers.hist()"
   ]
  },
  {
   "cell_type": "markdown",
   "metadata": {},
   "source": [
    "It seems that most people have very less followers."
   ]
  },
  {
   "cell_type": "markdown",
   "metadata": {
    "ExecuteTime": {
     "end_time": "2022-07-17T08:03:45.598595Z",
     "start_time": "2022-07-17T08:03:45.564597Z"
    }
   },
   "source": [
    "### Finding Contact Details\n",
    "If a profile has portfolio, then there is high chances that the portfolio has contact page too. So again, we can scrape that portfolio and collect such information."
   ]
  },
  {
   "cell_type": "markdown",
   "metadata": {},
   "source": [
    "### Pros and Cons of Using GitHub Search\n",
    "* It is quite easier to find people in tech based on the skill-set but finding people who work in tech but does not have GitHub profile is not possible.\n",
    "* Getting contact details is only possible if a person has the portfolio and that portfolio has it. Either way, its easier than finding the information from LinkedIn Profile.\n",
    "* Sometimes the results might not be shown once GitHub suspects something is wrong in our request."
   ]
  },
  {
   "cell_type": "code",
   "execution_count": null,
   "metadata": {},
   "outputs": [],
   "source": []
  }
 ],
 "metadata": {
  "kernelspec": {
   "display_name": "Python 3",
   "language": "python",
   "name": "python3"
  },
  "language_info": {
   "codemirror_mode": {
    "name": "ipython",
    "version": 3
   },
   "file_extension": ".py",
   "mimetype": "text/x-python",
   "name": "python",
   "nbconvert_exporter": "python",
   "pygments_lexer": "ipython3",
   "version": "3.8.5"
  },
  "latex_envs": {
   "LaTeX_envs_menu_present": true,
   "autoclose": false,
   "autocomplete": true,
   "bibliofile": "biblio.bib",
   "cite_by": "apalike",
   "current_citInitial": 1,
   "eqLabelWithNumbers": true,
   "eqNumInitial": 1,
   "hotkeys": {
    "equation": "Ctrl-E",
    "itemize": "Ctrl-I"
   },
   "labels_anchors": false,
   "latex_user_defs": false,
   "report_style_numbering": false,
   "user_envs_cfg": false
  },
  "toc": {
   "base_numbering": 1,
   "nav_menu": {},
   "number_sections": true,
   "sideBar": true,
   "skip_h1_title": false,
   "title_cell": "Table of Contents",
   "title_sidebar": "Contents",
   "toc_cell": false,
   "toc_position": {},
   "toc_section_display": true,
   "toc_window_display": true
  },
  "varInspector": {
   "cols": {
    "lenName": 16,
    "lenType": 16,
    "lenVar": 40
   },
   "kernels_config": {
    "python": {
     "delete_cmd_postfix": "",
     "delete_cmd_prefix": "del ",
     "library": "var_list.py",
     "varRefreshCmd": "print(var_dic_list())"
    },
    "r": {
     "delete_cmd_postfix": ") ",
     "delete_cmd_prefix": "rm(",
     "library": "var_list.r",
     "varRefreshCmd": "cat(var_dic_list()) "
    }
   },
   "types_to_exclude": [
    "module",
    "function",
    "builtin_function_or_method",
    "instance",
    "_Feature"
   ],
   "window_display": false
  }
 },
 "nbformat": 4,
 "nbformat_minor": 4
}
