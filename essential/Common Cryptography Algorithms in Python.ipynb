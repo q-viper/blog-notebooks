{
 "cells": [
  {
   "cell_type": "markdown",
   "metadata": {},
   "source": [
    "Cryptography Algorithms has been around the world from more than centuries and there are still many inscriptions around various places in the world which we do not understand. Here in this blog, we will cover very basic cryptography algorithms in Python.\n",
    "\n",
    "But if you are interested into learning how to do encryption/decryption in image as well, i have following two blogs:\n",
    "* [Run Length Encoding in Python]()\n",
    "* [Huffman Encoding in Python]()\n",
    "\n",
    "## Introduction\n",
    "This is not a complex and huge blog about Cryptography but I am trying to write some codes on python to perform Encryption/Decryption of plain text using basic algorithms. \n",
    "\n",
    "\n",
    "Few terminlologies on Cryptography are:\n",
    "* **Plain Text**: A input text that has to be encrypted.\n",
    "* **Cipher Text**: A output text generated after encryption.\n",
    "* **Key**: A value to do encryption on plain text to get cipher text. This same value was used to get plain text from cipher text.\n",
    "\n",
    "Encryption is done by several minor steps within it. We first start encryption by determining a algorithm, that algorithm should be acceptable by both sender and receiver side. After that if that encryption algorithm requires a key, then sender/receiver both should have that because sender has to make cipher text using that key and receiver has to use that key to get plain text. Encryption allows us to have our privacy preserved in case of the message breach. "
   ]
  },
  {
   "cell_type": "markdown",
   "metadata": {
    "ExecuteTime": {
     "end_time": "2020-10-06T12:39:34.718090Z",
     "start_time": "2020-10-06T12:39:34.714088Z"
    }
   },
   "source": [
    "## Reverse Cipher\n",
    "Easy Peasy, reverse whatever is there. Reverse Cipher is the most simplest and easiest algorithm to code because our task is to reverse the plain text and we don't need any key for doing that."
   ]
  },
  {
   "cell_type": "code",
   "execution_count": 1,
   "metadata": {
    "ExecuteTime": {
     "end_time": "2022-12-10T09:59:00.504694Z",
     "start_time": "2022-12-10T09:59:00.486723Z"
    }
   },
   "outputs": [],
   "source": [
    "def reverse_cipher(msg, mode=\"encrypt\"):   \n",
    "    msg = msg\n",
    "    if mode == \"encrypt\":\n",
    "        return msg[::-1]\n",
    "    elif mode == \"decrypt\":\n",
    "        return msg[::-1]\n",
    "    else:\n",
    "        return \"mode unknown!\"\n",
    "    "
   ]
  },
  {
   "cell_type": "code",
   "execution_count": 2,
   "metadata": {
    "ExecuteTime": {
     "end_time": "2022-12-10T09:59:00.893409Z",
     "start_time": "2022-12-10T09:59:00.878405Z"
    }
   },
   "outputs": [
    {
     "name": "stdout",
     "output_type": "stream",
     "text": [
      "!dlrow olleH\n",
      "Hello world!\n"
     ]
    }
   ],
   "source": [
    "en = reverse_cipher(\"Hello world!\")\n",
    "print(en)\n",
    "de = reverse_cipher(en, \"decrypt\")\n",
    "print(de)"
   ]
  },
  {
   "cell_type": "markdown",
   "metadata": {},
   "source": [
    "## Caesar Cipher\n",
    "Uses shift value to shift character's alphanumeric value for encrypt/decrypt. This algorithm is bit harder than Reverse Cipher because this requires us to convert text to numeric value and then shift that numeric value by some number. The number can be called as key or simply shift. In encryption, we decrease the numeric value of character and on decrypt we increase numeric value or vice versa."
   ]
  },
  {
   "cell_type": "code",
   "execution_count": 3,
   "metadata": {
    "ExecuteTime": {
     "end_time": "2022-12-10T09:59:01.721602Z",
     "start_time": "2022-12-10T09:59:01.698597Z"
    }
   },
   "outputs": [
    {
     "name": "stdout",
     "output_type": "stream",
     "text": [
      "Fcjjm\u001e",
      "umpjb\u001f\n",
      "Hello world!\n"
     ]
    }
   ],
   "source": [
    "def caeser_cipher(msg, mode=\"encrypt\", shift=2):\n",
    "    text = \"\"\n",
    "    for m in msg:\n",
    "        c = ord(m)\n",
    "        if mode ==\"encrypt\":\n",
    "            c = c-shift\n",
    "        elif mode == \"decrypt\":\n",
    "            c = c + shift\n",
    "        else:\n",
    "            print(\"mode unknown!\")\n",
    "        text+=chr(c)\n",
    "    return text\n",
    "        #print(c)\n",
    "en = caeser_cipher(\"Hello world!\")\n",
    "print(en)\n",
    "de = caeser_cipher(en, \"decrypt\")\n",
    "print(de)"
   ]
  },
  {
   "cell_type": "markdown",
   "metadata": {},
   "source": [
    "## ROT13 Algorithm\n",
    "Rotate every character by 13 to encrypt/decrypt."
   ]
  },
  {
   "cell_type": "code",
   "execution_count": 4,
   "metadata": {
    "ExecuteTime": {
     "end_time": "2022-12-10T09:59:02.693912Z",
     "start_time": "2022-12-10T09:59:02.668674Z"
    }
   },
   "outputs": [
    {
     "name": "stdout",
     "output_type": "stream",
     "text": [
      "uryyb jbeyq sebz ebg13!!!\n",
      "hello world from rot13!!!\n"
     ]
    }
   ],
   "source": [
    "def rot13(msg, mode=\"encrypt\"):\n",
    "    main_chars = \"ABCDEFGHIJKLMNOPQRSTUVWXYZabcdefghijklmnopqrstuvwxyz\"\n",
    "    trans_chars = \"NOPQRSTUVWXYZABCDEFGHIJKLMnopqrstuvwxyzabcdefghijklm\"\n",
    "    text = \"\"\n",
    "    special_chrs = \"?.!><# \"\n",
    "    for m in msg:\n",
    "        if m in special_chrs:\n",
    "            text+=m\n",
    "        if m.isnumeric():\n",
    "            text+=m\n",
    "        if mode == \"encrypt\":\n",
    "            if m in main_chars:\n",
    "                text+=trans_chars[main_chars.find(m)]\n",
    "        elif mode == \"decrypt\":\n",
    "            if m in trans_chars:\n",
    "                text+=main_chars[trans_chars.find(m)]\n",
    "    return text\n",
    "\n",
    "en = rot13(\"hello world from rot13!!!\")\n",
    "print(en)\n",
    "de = rot13(en, \"decrypt\")\n",
    "print(de)"
   ]
  },
  {
   "cell_type": "code",
   "execution_count": 5,
   "metadata": {
    "ExecuteTime": {
     "end_time": "2022-12-10T09:59:35.649134Z",
     "start_time": "2022-12-10T09:59:35.617138Z"
    }
   },
   "outputs": [
    {
     "data": {
      "text/plain": [
       "'Guvf vf oybt nobhg Pelcgbtencul'"
      ]
     },
     "execution_count": 5,
     "metadata": {},
     "output_type": "execute_result"
    }
   ],
   "source": [
    "rot13('This is blog about Cryptography')"
   ]
  },
  {
   "cell_type": "markdown",
   "metadata": {},
   "source": [
    "This ends the simple cryptography algorithms in Python and there are some popular ways of applying encryption/decryption in Python and these are using following packages:\n",
    "* `pip install rsa`\n",
    "* `pip install cryptography`"
   ]
  },
  {
   "cell_type": "code",
   "execution_count": null,
   "metadata": {
    "ExecuteTime": {
     "end_time": "2020-10-06T13:08:02.539317Z",
     "start_time": "2020-10-06T13:08:02.527325Z"
    }
   },
   "outputs": [],
   "source": []
  },
  {
   "cell_type": "code",
   "execution_count": null,
   "metadata": {},
   "outputs": [],
   "source": []
  }
 ],
 "metadata": {
  "kernelspec": {
   "display_name": "Python 3",
   "language": "python",
   "name": "python3"
  },
  "language_info": {
   "codemirror_mode": {
    "name": "ipython",
    "version": 3
   },
   "file_extension": ".py",
   "mimetype": "text/x-python",
   "name": "python",
   "nbconvert_exporter": "python",
   "pygments_lexer": "ipython3",
   "version": "3.8.5"
  },
  "latex_envs": {
   "LaTeX_envs_menu_present": true,
   "autoclose": false,
   "autocomplete": true,
   "bibliofile": "biblio.bib",
   "cite_by": "apalike",
   "current_citInitial": 1,
   "eqLabelWithNumbers": true,
   "eqNumInitial": 1,
   "hotkeys": {
    "equation": "Ctrl-E",
    "itemize": "Ctrl-I"
   },
   "labels_anchors": false,
   "latex_user_defs": false,
   "report_style_numbering": false,
   "user_envs_cfg": false
  },
  "nbTranslate": {
   "displayLangs": [
    "*"
   ],
   "hotkey": "alt-t",
   "langInMainMenu": true,
   "sourceLang": "en",
   "targetLang": "fr",
   "useGoogleTranslate": true
  },
  "toc": {
   "base_numbering": 1,
   "nav_menu": {},
   "number_sections": true,
   "sideBar": true,
   "skip_h1_title": false,
   "title_cell": "Table of Contents",
   "title_sidebar": "Contents",
   "toc_cell": false,
   "toc_position": {},
   "toc_section_display": true,
   "toc_window_display": false
  },
  "varInspector": {
   "cols": {
    "lenName": 16,
    "lenType": 16,
    "lenVar": 40
   },
   "kernels_config": {
    "python": {
     "delete_cmd_postfix": "",
     "delete_cmd_prefix": "del ",
     "library": "var_list.py",
     "varRefreshCmd": "print(var_dic_list())"
    },
    "r": {
     "delete_cmd_postfix": ") ",
     "delete_cmd_prefix": "rm(",
     "library": "var_list.r",
     "varRefreshCmd": "cat(var_dic_list()) "
    }
   },
   "types_to_exclude": [
    "module",
    "function",
    "builtin_function_or_method",
    "instance",
    "_Feature"
   ],
   "window_display": false
  }
 },
 "nbformat": 4,
 "nbformat_minor": 2
}
