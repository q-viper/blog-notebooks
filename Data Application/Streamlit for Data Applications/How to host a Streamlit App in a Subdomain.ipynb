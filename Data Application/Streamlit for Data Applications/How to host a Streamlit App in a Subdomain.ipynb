{
 "cells": [
  {
   "cell_type": "markdown",
   "metadata": {},
   "source": [
    "## Introduction\n",
    "\n",
    "Hello and welcome back everyone in this new blog of ours where I will be sharing how one could host a streamlit app in own domain. From the last few blogs, I have written various projects in Streamlit and I have made some great app to my clients in Upwork too but now I am willing to share how I made those apps live in domain name."
   ]
  },
  {
   "cell_type": "markdown",
   "metadata": {},
   "source": [
    "## Have a Domain Name\n",
    "First step is to have a domain name. And I took one from Godaddy. Once done, we should change the the DNS records especially A and CNAME records. **For the simplicity, I once had one [VPS in Contabo](https://contabo.com/en/) and thus I changed the nameserver of the domain to contabo's nameservers but it is not necessary.** One can use Cloudfare to manage DNS too if using the AWS's EC2 Instance. How to setup DNS is written below.\n",
    "\n",
    "![](streamlit_live/godaddy_ns.png)\n",
    "\n",
    "### Manage the DNS records\n",
    "DNS (Domain Name Server) records are kind of like address of a site pointing to some location. In simple terms, its made up of two part, Domain Name and Server, we point Domain Name to a Server having the contents to show upon visiting the Domain Name.\n",
    "\n",
    "![](streamlit_live/dns.png)"
   ]
  },
  {
   "cell_type": "markdown",
   "metadata": {},
   "source": [
    "In above DNS record image, there are few records:\n",
    "* **A** record is all about pointing domain name to certain IPv4 address. The address will be the IPv4 of my Contabo VPS. If you are using AWS's EC2 Instance, then the public IP will be in that field.\n",
    "* With `*.domainname.com`, we will be pointing all the subdomain to that IP and I have also done the same. "
   ]
  },
  {
   "cell_type": "markdown",
   "metadata": {},
   "source": [
    "## Installing Ubuntu in Server\n",
    "\n",
    "I am focusing on Ubuntu because of its simplicity and the way I could tweak things easily. While using Contabo, we can have a option to choose OS for a VPS and in EC2, we can choose the server OS too. So chosing Ubuntu might be a great idea."
   ]
  },
  {
   "cell_type": "markdown",
   "metadata": {},
   "source": [
    "## Installing and Configuring Apache2\n",
    "Next we need to have Apache2 installed. One can use Ngnix too but for the simplicity, I am using Apache2. [Apache2](https://ubuntu.com/tutorials/install-and-configure-apache#1-overview) allows us to use multiple websites and using very minimal configurations and works to publish.\n",
    "\n",
    "```bash\n",
    "sudo apt update\n",
    "sudo apt install apache2\n",
    "```\n",
    "\n",
    "Once done, it is worth looking into firewalls too. One can enable firewall by doing, `ufw enable`. If ufw is not installed, we can do it by, \n",
    "```bash\n",
    "sudo apt update\n",
    "sudo apt install ufw\n",
    "```\n",
    "\n",
    "One can enable app or port access by `ufw allow port`. To allow Apache2 in firewall, `ufw allow apache2`. Then checking if those are in list by `ufw status`.\n",
    "\n",
    "One should do `ufw allow 22` if willing to do ssh. And it is necessary to allow all the ports be allowed those are going to be used later on. For example 8501 for streamlit's default port. Port 80 to open TCP connection usually to access website. And so on."
   ]
  },
  {
   "cell_type": "markdown",
   "metadata": {},
   "source": [
    "Once ports and apache are allowed we can restart apache2 and visit the default page by entering the server's IPv4 address. The following page should be visible.\n",
    "\n",
    "![](streamlit_live/apached.png)"
   ]
  },
  {
   "attachments": {},
   "cell_type": "markdown",
   "metadata": {},
   "source": [
    "If something like above is not visible then we have to check if the site is enabled. We could do that by `apache2ctl -S`.\n",
    "\n",
    "![](streamlit_live/list_site.png)\n",
    "\n",
    "If nothing is on the list then we have to enable the default site via `a2ensite 000-default.conf`. And one can disable site via `a2dissite config_name`.\n",
    "\n",
    "Above default page is usually rendered from `/var/www/html/index.html` which is also explained in default page itself. So first step usually is to change the content of the default page."
   ]
  },
  {
   "cell_type": "markdown",
   "metadata": {},
   "source": [
    "Now is the time for us to change the config file which will be inside the `/etc/apache2/sites-available`. And our default site will be using the config `000-default.conf`. It should look something like below:\n",
    "\n",
    "```\n",
    "<VirtualHost *:80>\n",
    "        #ServerName www.example.com\n",
    "        #ServerAdmin webmaster@localhost\n",
    "        DocumentRoot /var/www/html\n",
    "        <FilesMatch \\.php$>\n",
    "             SetHandler \"proxy:unix:/var/run/php/php7.4-fpm.sock|fcgi://localhost\"\n",
    "        </FilesMatch>\n",
    "        ErrorLog /error.log\n",
    "        CustomLog /access.log combined\n",
    "</VirtualHost>\n",
    "```"
   ]
  },
  {
   "cell_type": "markdown",
   "metadata": {},
   "source": [
    "In above config, the number 80 in the first line represents the port to listen for default site. And normally 80 is the port for TCP. While changing the 80 to any other, one should also update the `/etc/apache2/ports.conf` file, and insert the `Listen new_port` in it and restart the apache2 by doing `systemctl restart apache2`.\n",
    "\n",
    "```\n",
    "# If you just change the port or add more ports here, you will likely also\n",
    "# have to change the VirtualHost statement in\n",
    "# /etc/apache2/sites-enabled/000-default.conf\n",
    "\n",
    "Listen 80\n",
    "Listen 8501\n",
    "\n",
    "<IfModule ssl_module>\n",
    "\tListen 443\n",
    "</IfModule>\n",
    "\n",
    "<IfModule mod_gnutls.c>\n",
    "\tListen 443\n",
    "</IfModule>\n",
    "\n",
    "# vim: syntax=apache ts=4 sw=4 sts=4 sr noet\n",
    "```\n",
    "\n",
    "In above example, I have added 8501 for listening to Streamlit app."
   ]
  },
  {
   "cell_type": "markdown",
   "metadata": {},
   "source": [
    "### Configuring Subdomain\n",
    "\n",
    "I have made a subdomain `data` for the domain and next will be setting it up its config. We should create this config file inside `/etc/apache2/sites-available`. And I have named it as `data.mydomain.com.conf`. Here `mydomain` is just an alias to hide my domain name :P.\n",
    "\n",
    "```\n",
    "<VirtualHost *:80>\n",
    "        ServerAdmin admin@mydomain.com\n",
    "        ServerName data.mydomain.com\n",
    "        ServerAlias data.mydomain.com\n",
    "        ProxyRequests Off\n",
    "\n",
    "        <Location />\n",
    "                ProxyPreserveHost On\n",
    "                ProxyPass http://mydomain.com:8502/\n",
    "                ProxyPassReverse http://mydomain.com:8502/\n",
    "        </Location>\n",
    "     # Uncomment the line below if your site uses SSL.\n",
    "     #SSLProxyEngine On\n",
    "</VirtualHost>\n",
    "```\n",
    "\n",
    "Once done, we should enable this config too by doing `a2ensite data.mydomain.com.conf`. And we should check for syntax by doing `apachectl configtest` and it should return OK. Then we should do below to enable proxy:\n",
    "\n",
    "```bash\n",
    "sudo a2enmod proxy\n",
    "sudo a2enmod proxy_http\n",
    "sudo service apache2 restart\n",
    "```\n",
    "\n",
    "In above config, we have created a new server name and its alias too. Then we have setup the proxy to redirect it to the new port 8502 running in `mydomain.com`. For more about this step, [please follow this answer in serverfault](https://serverfault.com/a/749876)."
   ]
  },
  {
   "cell_type": "markdown",
   "metadata": {},
   "source": [
    "### Running a Streamlit App\n",
    "My simple way of setting up Streamlit app is like below:\n",
    "\n",
    "![](streamlit_live/app_str.png)\n",
    "\n",
    "Inside a data folder, create a virtual environment. We can do that using python library [virtualenv](https://packaging.python.org/en/latest/guides/installing-using-pip-and-virtual-environments/).\n",
    "* `apt -y install python3.8-venv` will install the virtual environment.\n",
    "* Once done, create one environment in data folder named as env, `python3 -m venv env`\n",
    "* Activate it by doing `source env/bin/activate`.\n",
    "* Once activated lets install streamlit and its dependencies:\n",
    "    * `pip install streamlit pandas cufflinks plotly`\n",
    "    * And if you are willing to install MySQL client as well, \n",
    "    ```bash\n",
    "        sudo apt-get install python-dev python3-dev\n",
    "        sudo apt-get install libmysqlclient-dev\n",
    "        pip install pymysql\n",
    "        pip install mysqlclient\n",
    "    ```\n",
    "* Inside a `.streamlit` folder, create a `config.toml` file where content should be something like below:\n",
    "\n",
    "```toml\n",
    "[server]\n",
    "headless = true\n",
    "port = 8502\n",
    "\n",
    "[browser]\n",
    "serverAddress = \"data.mydomain.com\"\n",
    "```\n",
    "\n",
    "* In above toml file, we have set the server address and port too. This config is used by streamlit while creating a web server. Once we do `streamlit run app.py` assuming that `app.py` is our streamlit app. It will show the urls in terminal like `data.mydomain.com:8502`. Going in that url will lead us to the streamlit app. But we could exclude that 8502 in the last and simply visit the site too because we have set up the sub domain config that way.\n",
    " "
   ]
  },
  {
   "cell_type": "markdown",
   "metadata": {},
   "source": [
    "Thats all for now. Thank you so much for reading this blog."
   ]
  },
  {
   "cell_type": "markdown",
   "metadata": {},
   "source": []
  }
 ],
 "metadata": {
  "kernelspec": {
   "display_name": "Python 3",
   "language": "python",
   "name": "python3"
  },
  "language_info": {
   "codemirror_mode": {
    "name": "ipython",
    "version": 3
   },
   "file_extension": ".py",
   "mimetype": "text/x-python",
   "name": "python",
   "nbconvert_exporter": "python",
   "pygments_lexer": "ipython3",
   "version": "3.8.5"
  },
  "latex_envs": {
   "LaTeX_envs_menu_present": true,
   "autoclose": false,
   "autocomplete": true,
   "bibliofile": "biblio.bib",
   "cite_by": "apalike",
   "current_citInitial": 1,
   "eqLabelWithNumbers": true,
   "eqNumInitial": 1,
   "hotkeys": {
    "equation": "Ctrl-E",
    "itemize": "Ctrl-I"
   },
   "labels_anchors": false,
   "latex_user_defs": false,
   "report_style_numbering": false,
   "user_envs_cfg": false
  },
  "toc": {
   "base_numbering": 1,
   "nav_menu": {},
   "number_sections": true,
   "sideBar": true,
   "skip_h1_title": false,
   "title_cell": "Table of Contents",
   "title_sidebar": "Contents",
   "toc_cell": false,
   "toc_position": {},
   "toc_section_display": true,
   "toc_window_display": false
  },
  "varInspector": {
   "cols": {
    "lenName": 16,
    "lenType": 16,
    "lenVar": 40
   },
   "kernels_config": {
    "python": {
     "delete_cmd_postfix": "",
     "delete_cmd_prefix": "del ",
     "library": "var_list.py",
     "varRefreshCmd": "print(var_dic_list())"
    },
    "r": {
     "delete_cmd_postfix": ") ",
     "delete_cmd_prefix": "rm(",
     "library": "var_list.r",
     "varRefreshCmd": "cat(var_dic_list()) "
    }
   },
   "types_to_exclude": [
    "module",
    "function",
    "builtin_function_or_method",
    "instance",
    "_Feature"
   ],
   "window_display": false
  }
 },
 "nbformat": 4,
 "nbformat_minor": 4
}
