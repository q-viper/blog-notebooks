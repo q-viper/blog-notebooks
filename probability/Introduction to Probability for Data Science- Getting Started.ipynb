{
 "cells": [
  {
   "cell_type": "markdown",
   "id": "bd3a2f8d",
   "metadata": {
    "toc": true
   },
   "source": [
    "<h1>Table of Contents<span class=\"tocSkip\"></span></h1>\n",
    "<div class=\"toc\"><ul class=\"toc-item\"><li><span><a href=\"#Introduction\" data-toc-modified-id=\"Introduction-1\"><span class=\"toc-item-num\">1&nbsp;&nbsp;</span>Introduction</a></span></li><li><span><a href=\"#Terminologies-Mostly-Used\" data-toc-modified-id=\"Terminologies-Mostly-Used-2\"><span class=\"toc-item-num\">2&nbsp;&nbsp;</span>Terminologies Mostly Used</a></span><ul class=\"toc-item\"><li><span><a href=\"#Experiment\" data-toc-modified-id=\"Experiment-2.1\"><span class=\"toc-item-num\">2.1&nbsp;&nbsp;</span>Experiment</a></span></li><li><span><a href=\"#Event\" data-toc-modified-id=\"Event-2.2\"><span class=\"toc-item-num\">2.2&nbsp;&nbsp;</span>Event</a></span><ul class=\"toc-item\"><li><span><a href=\"#Exhaustive-Cases\" data-toc-modified-id=\"Exhaustive-Cases-2.2.1\"><span class=\"toc-item-num\">2.2.1&nbsp;&nbsp;</span>Exhaustive Cases</a></span></li><li><span><a href=\"#Mutually-Exclusive-Cases\" data-toc-modified-id=\"Mutually-Exclusive-Cases-2.2.2\"><span class=\"toc-item-num\">2.2.2&nbsp;&nbsp;</span>Mutually Exclusive Cases</a></span></li><li><span><a href=\"#Sample-Space\" data-toc-modified-id=\"Sample-Space-2.2.3\"><span class=\"toc-item-num\">2.2.3&nbsp;&nbsp;</span>Sample Space</a></span></li><li><span><a href=\"#Independent-Cases\" data-toc-modified-id=\"Independent-Cases-2.2.4\"><span class=\"toc-item-num\">2.2.4&nbsp;&nbsp;</span>Independent Cases</a></span></li></ul></li></ul></li><li><span><a href=\"#Probability\" data-toc-modified-id=\"Probability-3\"><span class=\"toc-item-num\">3&nbsp;&nbsp;</span>Probability</a></span><ul class=\"toc-item\"><li><span><a href=\"#Laws/Rules-of-Probability\" data-toc-modified-id=\"Laws/Rules-of-Probability-3.1\"><span class=\"toc-item-num\">3.1&nbsp;&nbsp;</span>Laws/Rules of Probability</a></span><ul class=\"toc-item\"><li><span><a href=\"#Additive-Law\" data-toc-modified-id=\"Additive-Law-3.1.1\"><span class=\"toc-item-num\">3.1.1&nbsp;&nbsp;</span>Additive Law</a></span></li><li><span><a href=\"#Multiplicative-Law\" data-toc-modified-id=\"Multiplicative-Law-3.1.2\"><span class=\"toc-item-num\">3.1.2&nbsp;&nbsp;</span>Multiplicative Law</a></span></li></ul></li><li><span><a href=\"#Conditional-Probability-and-Bayes'-Theorem\" data-toc-modified-id=\"Conditional-Probability-and-Bayes'-Theorem-3.2\"><span class=\"toc-item-num\">3.2&nbsp;&nbsp;</span>Conditional Probability and Bayes' Theorem</a></span></li></ul></li><li><span><a href=\"#Probability-Distribution\" data-toc-modified-id=\"Probability-Distribution-4\"><span class=\"toc-item-num\">4&nbsp;&nbsp;</span>Probability Distribution</a></span></li></ul></div>"
   ]
  },
  {
   "cell_type": "markdown",
   "id": "950d8fcd",
   "metadata": {},
   "source": [
    "## Introduction"
   ]
  },
  {
   "cell_type": "markdown",
   "id": "dc7ddbd8",
   "metadata": {},
   "source": [
    "Hello there welcome to the new blog series about Probability in the Data Science field. Here in this blog, we will start from basic concepts needed in using Probability in some datasets. This blog is going to be very short and basic yet informative.\n",
    "\n",
    "Probability is all about measurement of some event's occurrence. We are not far from probability in our daily life. In fact, we have been using Probability from the very beginning of our civilization. Some of best example of probability being unknowingly used can be:\n",
    "* A farmer assuming that if this amount of pesticide will harm to plant itself or only the pests.\n",
    "* A chef assuming that if s/he fried chips for 5 minutes then it will be tasty.\n",
    "* A stock broker can assume that tomorrow's price will rise.\n",
    "* A student believing that studying for 5 hours a day will pass the exam.\n",
    "* A driver hitting brakes.\n",
    "\n",
    "The list goes on. If we sit down and grab a coffee to think more about this, then there is a high probability that we will not realize there was some probability of thinking about this topic too. Okay now I am making recursive events.\n",
    "\n",
    "## Terminologies Mostly Used\n",
    "### Experiment\n",
    "An experiment is done in some kind of simulated or predefined environment and upon which some outcome is expected and will be calculated. For example a media company will perform some campaign to launch their product based on the outcome. An experiment is called a random experiment when the result of the experiment have various possible outcomes. For example stock price rise/fall.\n",
    "\n",
    "### Event\n",
    "An event is a outcome of an experiment and it can be as simple as the customer buying product or not buying. In coin toss, we can either get head or tail and these two cases are events.\n",
    "\n",
    "#### Exhaustive Cases\n",
    "It is the total number of possible outcomes from an experiment conducted in random manner. For a rolling dice, the possible cases are any of (1, 2, 3, 4, 5, 6), but for one dice and a coin toss, the possible outcome will be the (1H, 2H, 3H, 4H, 5H, 6H, 1T, 2T, 3T, 4T, 5T, 6T). In above dice and coin toss example, the case to get head and dice face of even are (2H, 4H, 6H). Upon this, we will calculate the possibility.\n",
    "\n",
    "#### Mutually Exclusive Cases\n",
    "What is the possibility of getting head and tail at the same time? None. While occurring one event, if another event's occurrence is affected then those events or cases are mutually exclusive. For example rolling of dice where none of faces can occur at the same time.\n",
    "\n",
    "#### Sample Space\n",
    "It is the set of all the possible outcome from a random experiment. In a coin toss, it is {$\\phi$, H, T, HT}.\n",
    "\n",
    "#### Independent Cases\n",
    "Two events are called independent events if occurring of one has nothing to do with occurring of another. For example, while tossing coin for number of times, the outcome of one toss does not affect outcome of another."
   ]
  },
  {
   "cell_type": "markdown",
   "id": "b54ef573",
   "metadata": {},
   "source": [
    "## Probability\n",
    "If there are N equally likely, mutually exclusive events and m is the number of expected outcome of an even A, then the probability of occurrence of A can be given by:\n",
    "$$\n",
    "P(A) = \\frac{\\text{Expected number of outcome of an event A (m)}}{\\text{Total number of outcomes (N)}}\n",
    "$$\n"
   ]
  },
  {
   "cell_type": "markdown",
   "id": "8ada38bc",
   "metadata": {},
   "source": [
    "### Laws/Rules of Probability\n",
    "#### Additive Law\n",
    "IF A, B and C are three mutually exclusive events then the probability of occurrence of either of them is given by,\n",
    "\n",
    "P(A or B or C) = P(A) + P(B) + P(C)\n",
    "\n",
    "For example in a dice throw, the probability of occurring either 1, 2 or 3 can be written as, 1/6+1/6+1/6 = 1/2.\n",
    "\n",
    "If A, B and C are not mutually exclusive events then we can calculate the probability of occurrence of either of them is,\n",
    "\n",
    "P(A or B or C) = P(A) + P(B) + P(C) - P(A and B) - P(A and C) - P(B and C) + P(A and B and C)\n",
    "\n",
    "\n",
    "Just like set theories, or is Union and and is intersection."
   ]
  },
  {
   "cell_type": "markdown",
   "id": "86cbd9fe",
   "metadata": {},
   "source": [
    "#### Multiplicative Law\n",
    "If A, B and C are mutually exclusive events then occurrence of A, B and C can be written as,\n",
    "P(A and B and C) = P(A) * P(B) * P(C)\n",
    "In above example, the occurrence of 1 after 2 and after that 3 can be written as 1/6*1/6*1/6 = 1/136.\n",
    "\n",
    "if A and B are two dependent events then P(A and B) = P(B)P(A|B) = P(A)P(B|A). Where P(B|A) means that probability of occurrence of event B given that A has already occurred"
   ]
  },
  {
   "cell_type": "markdown",
   "id": "7a3bb318",
   "metadata": {},
   "source": [
    "### Conditional Probability and Bayes' Theorem\n",
    "The conditional probability of an event B given the A can be written as, P(A|B) = P(A and B) / P(B) when P(B) > 0. Similarly, P(B|A) = P(A and B) / P(A) when P(A)>0.\n",
    "\n",
    "Naive Bayes' Theorem is one of most popular algorithm in ML that depends on conditional probability. Which can be calculated as below:\n",
    "\n",
    "P(A/B) = P(A) P(B/A) / P(B)"
   ]
  },
  {
   "cell_type": "markdown",
   "id": "5d18c8a0",
   "metadata": {},
   "source": []
  },
  {
   "cell_type": "markdown",
   "id": "d76eddbf",
   "metadata": {},
   "source": [
    "## Probability Distribution"
   ]
  },
  {
   "cell_type": "markdown",
   "id": "44ec0775",
   "metadata": {},
   "source": [
    "Probability distribution is all about explaining the occurrence of any event within given range. This distribution depends on the facts of data like mean, spread, skweness etc.\n",
    "\n",
    "There are different types of probability distributions in statistics and most common are:\n",
    "* Binomial Distribution\n",
    "* Poisson Distribution\n",
    "* Normal Distribution\n",
    "\n",
    "It requires separate blog for the explanation about above distribution. In Data Science, the occurrence of events might not follow any distribution but we always hope them to follow normal curve and we even force it to behave like Normal Distribution.\n",
    "\n"
   ]
  },
  {
   "cell_type": "markdown",
   "id": "6428eaa4",
   "metadata": {},
   "source": [
    "Thank you so much for reading this blog and in the next part, we will explore some of distributions with plots and some coding too."
   ]
  },
  {
   "cell_type": "code",
   "execution_count": null,
   "id": "de164cbb",
   "metadata": {},
   "outputs": [],
   "source": []
  }
 ],
 "metadata": {
  "hide_input": false,
  "kernelspec": {
   "display_name": "Python 3",
   "language": "python",
   "name": "python3"
  },
  "language_info": {
   "codemirror_mode": {
    "name": "ipython",
    "version": 3
   },
   "file_extension": ".py",
   "mimetype": "text/x-python",
   "name": "python",
   "nbconvert_exporter": "python",
   "pygments_lexer": "ipython3",
   "version": "3.8.8"
  },
  "toc": {
   "base_numbering": 1,
   "nav_menu": {},
   "number_sections": true,
   "sideBar": true,
   "skip_h1_title": false,
   "title_cell": "Table of Contents",
   "title_sidebar": "Contents",
   "toc_cell": true,
   "toc_position": {},
   "toc_section_display": true,
   "toc_window_display": true
  },
  "varInspector": {
   "cols": {
    "lenName": 16,
    "lenType": 16,
    "lenVar": 40
   },
   "kernels_config": {
    "python": {
     "delete_cmd_postfix": "",
     "delete_cmd_prefix": "del ",
     "library": "var_list.py",
     "varRefreshCmd": "print(var_dic_list())"
    },
    "r": {
     "delete_cmd_postfix": ") ",
     "delete_cmd_prefix": "rm(",
     "library": "var_list.r",
     "varRefreshCmd": "cat(var_dic_list()) "
    }
   },
   "types_to_exclude": [
    "module",
    "function",
    "builtin_function_or_method",
    "instance",
    "_Feature"
   ],
   "window_display": false
  }
 },
 "nbformat": 4,
 "nbformat_minor": 5
}
