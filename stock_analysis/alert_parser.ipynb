{
 "cells": [
  {
   "cell_type": "markdown",
   "id": "9f0dd6f0",
   "metadata": {
    "toc": true
   },
   "source": [
    "<h1>Table of Contents<span class=\"tocSkip\"></span></h1>\n",
    "<div class=\"toc\"><ul class=\"toc-item\"></ul></div>"
   ]
  },
  {
   "cell_type": "code",
   "execution_count": 5,
   "id": "6899ec80",
   "metadata": {
    "ExecuteTime": {
     "end_time": "2022-05-06T04:34:19.236152Z",
     "start_time": "2022-05-06T04:34:10.348432Z"
    }
   },
   "outputs": [
    {
     "name": "stdout",
     "output_type": "stream",
     "text": [
      "Allowed Symbols: ['DIS', 'BA', 'LUV', 'SNOW', 'AAPL', 'C', 'KO', 'MCD', 'AMD', 'TSLA', 'NKE']\n"
     ]
    }
   ],
   "source": [
    "from stock_stream.utils.variables import var"
   ]
  },
  {
   "cell_type": "code",
   "execution_count": 36,
   "id": "8d0b5114",
   "metadata": {
    "ExecuteTime": {
     "end_time": "2022-05-06T04:52:04.898797Z",
     "start_time": "2022-05-06T04:51:31.891825Z"
    },
    "code_folding": [
     15
    ]
   },
   "outputs": [],
   "source": [
    "import pandas as pd\n",
    "import json\n",
    "\n",
    "def get_active_alerts():\n",
    "    df = pd.read_sql(f\"\"\"select * from {var.db}.alerts where is_active=1;\"\"\",con=var.engine)\n",
    "    need_tables=list(set([v for t in alerts.rule_json.apply(lambda x: [t[0] for tb in json.loads(x).values() for k,t in tb.items() if k in (\"table1\", \"table2\")]).tolist() \n",
    "     for v in t if v !=\"None\"]))\n",
    "    \n",
    "    return df,need_tables\n",
    "\n",
    "# def send_alert():\n",
    "alerts,table_names = get_active_alerts()\n",
    "\n",
    "# # table_names = pd.read_sql(f\"\"\"SELECT distinct TABLE_NAME from \n",
    "# #                     information_schema.columns where TABLE_SCHEMA='{var.db}'\"\"\", \n",
    "# #                     con=var.engine).TABLE_NAME.tolist()\n",
    "# table_names = [t for t in table_names if \"1m\" in t or \"2m\" in t or \"3m\" in t or \"5m\" in t]\n",
    "table_data = {table:pd.read_sql(f\"\"\"select * from {var.db}.{table};\"\"\", \n",
    "            con=var.engine,parse_dates=[\"stamp\"]) for table in table_names}\n",
    "\n",
    "        # break\n",
    "                \n",
    "\n",
    "\n",
    "# send_alert()"
   ]
  },
  {
   "cell_type": "code",
   "execution_count": 37,
   "id": "d5edd0b0",
   "metadata": {
    "ExecuteTime": {
     "end_time": "2022-05-06T04:52:05.083451Z",
     "start_time": "2022-05-06T04:52:05.067829Z"
    }
   },
   "outputs": [
    {
     "data": {
      "text/plain": [
       "(873.28, 868.4072671248709)"
      ]
     },
     "execution_count": 37,
     "metadata": {},
     "output_type": "execute_result"
    }
   ],
   "source": [
    "table_data[\"bars_3m\"][\"open\"].tolist()[-1],table_data[\"ema_1m\"][\"EMA_20\"].tolist()[-1]"
   ]
  },
  {
   "cell_type": "code",
   "execution_count": 38,
   "id": "ec85bf3c",
   "metadata": {
    "ExecuteTime": {
     "end_time": "2022-05-06T04:52:05.271007Z",
     "start_time": "2022-05-06T04:52:05.252352Z"
    }
   },
   "outputs": [
    {
     "data": {
      "text/plain": [
       "64.28334968028646"
      ]
     },
     "execution_count": 38,
     "metadata": {},
     "output_type": "execute_result"
    }
   ],
   "source": [
    "table_data[\"rsi_1m\"][\"RSI_14\"].tolist()[-1]"
   ]
  },
  {
   "cell_type": "code",
   "execution_count": 40,
   "id": "6fd07890",
   "metadata": {
    "ExecuteTime": {
     "end_time": "2022-05-06T04:53:03.223462Z",
     "start_time": "2022-05-06T04:53:03.204380Z"
    }
   },
   "outputs": [],
   "source": [
    "send_to=\"viper.incarnation@gmail.com\"\n"
   ]
  },
  {
   "cell_type": "code",
   "execution_count": 54,
   "id": "7b6e6fb8",
   "metadata": {
    "ExecuteTime": {
     "end_time": "2022-05-06T05:21:46.027487Z",
     "start_time": "2022-05-06T05:21:45.590873Z"
    },
    "code_folding": [],
    "scrolled": true
   },
   "outputs": [
    {
     "name": "stdout",
     "output_type": "stream",
     "text": [
      "{'rule_0': {'table1': ['bars_3m', 'open', 'N-1', '>'], 'table2': ['bars_3m', 'high', 'N-1'], 'value': 0.0, 'cond': None}}\n",
      "bars_3m ['open', 'N-1', '>']\n",
      "bars_3m ['high', 'N-1']\n",
      "value 0.0\n",
      "cond None\n",
      "873.28>875.79\n",
      "{'AAPL': '156.81>157.19', 'AMD': '93.87>94.27', 'BA': '150.47>151.0', 'C': '51.01>51.35', 'DIS': '112.5>112.5', 'KO': '64.51>64.51', 'LUV': '47.0>47.0', 'MCD': '248.92>248.92', 'NKE': '118.63>119.0', 'SNOW': '166.6>166.6', 'TSLA': '873.28>875.79'}\n",
      "False\n",
      "{'rule_0': {'table1': ['bars_3m', 'open', 'N-1', '>'], 'table2': ['ema_1m', 'EMA_20', 'N-1'], 'value': 0.0, 'cond': None}}\n",
      "bars_3m ['open', 'N-1', '>']\n",
      "ema_1m ['EMA_20', 'N-1']\n",
      "value 0.0\n",
      "cond None\n",
      "873.28>868.4072671248709\n",
      "{'AAPL': '156.81>156.15340767979086', 'AMD': '93.87>93.44365776903632', 'BA': '150.47>150.09816935293765', 'C': '51.01>51.138641247011535', 'DIS': '112.5>112.21569787604807', 'KO': '64.51>64.35443629737703', 'LUV': '47.0>46.913761708049236', 'MCD': '248.92>248.23789109847792', 'NKE': '118.63>118.0124180245464', 'SNOW': '166.6>165.59674663546411', 'TSLA': '873.28>868.4072671248709'}\n",
      "True\n",
      "{'rule_0': {'table1': ['rsi_1m', 'RSI_14', 'N-1', '>'], 'table2': ['None', 'None', 'N-1'], 'value': 0.0, 'cond': None}}\n",
      "rsi_1m ['RSI_14', 'N-1', '>']\n",
      "None ['None', 'N-1']\n",
      "value 0.0\n",
      "cond None\n",
      "64.28334968028646>0.0\n",
      "{'AAPL': '63.17323097647722>0.0', 'AMD': '63.18201906371638>0.0', 'BA': '60.255840445423665>0.0', 'C': '64.72113738857466>0.0', 'DIS': '66.69495698384549>0.0', 'KO': '63.42196053754737>0.0', 'LUV': '63.562255506309164>0.0', 'MCD': '64.13974390282489>0.0', 'NKE': '72.31946632620756>0.0', 'SNOW': '59.37937215144369>0.0', 'TSLA': '64.28334968028646>0.0'}\n",
      "True\n",
      "{'rule_0': {'table1': ['rsi_1m', 'RSI_14', 'N-7', '>'], 'table2': ['None', 'None', 'N-1'], 'value': 0.0, 'cond': 'AND'}, 'rule_1': {'table1': ['bars_3m', 'open', 'N-1', '>='], 'table2': ['bars_3m', 'open', 'N-7'], 'value': 0.0, 'cond': 'OR'}, 'rule_2': {'table1': ['bars_2m', 'open', 'N-1', '>'], 'table2': ['None', 'None', 'N-1'], 'value': 0.0, 'cond': None}}\n",
      "rsi_1m ['RSI_14', 'N-7', '>']\n",
      "None ['None', 'N-1']\n",
      "value 0.0\n",
      "cond AND\n",
      "bars_3m ['open', 'N-1', '>=']\n",
      "bars_3m ['open', 'N-7']\n",
      "value 0.0\n",
      "cond OR\n",
      "bars_2m ['open', 'N-1', '>']\n",
      "None ['None', 'N-1']\n",
      "value 0.0\n",
      "cond None\n",
      "56.74519192167205>0.0 and 873.28>=248.92 or 870.1>0.0\n",
      "{'AAPL': '56.684370006873216>0.0 and 156.81>=155.95 or 156.62>0.0', 'AMD': '62.6635661043833>0.0 and 93.87>=93.25 or 93.69>0.0', 'BA': '57.57455546361196>0.0 and 150.47>=150.13 or 150.31>0.0', 'C': '58.772867006013016>0.0 and 51.01>=51.11 or 51.2121>0.0', 'DIS': '58.04730652323259>0.0 and 112.5>=112.13 or 112.42>0.0', 'KO': '53.892472988214905>0.0 and 64.51>=64.37 or 64.445>0.0', 'LUV': '53.983900108309456>0.0 and 47.0>=46.921 or 46.98>0.0', 'MCD': '57.224904196781104>0.0 and 248.92>=248.18 or 248.71>0.0', 'NKE': '66.4018686158017>0.0 and 118.63>=117.44 or 118.495>0.0', 'SNOW': '54.125814561113444>0.0 and 166.6>=166.0 or 165.68>0.0', 'TSLA': '56.74519192167205>0.0 and 873.28>=867.36 or 870.1>0.0'}\n",
      "True\n"
     ]
    }
   ],
   "source": [
    "mails={}\n",
    "for _,row in alerts.iterrows():\n",
    "    aname = row.alert_name\n",
    "    amsg = row.message\n",
    "    \n",
    "    rules = json.loads(row.rule_json)\n",
    "    print(rules)\n",
    "    rtxts = {}\n",
    "    rtxt=\"\"\n",
    "    for r, rule in rules.items():    \n",
    "        value_check=False\n",
    "        for table,detail in rule.items():\n",
    "            if table in [\"table1\", \"table2\"]:\n",
    "                table=detail[0]\n",
    "                detail=detail[1:]\n",
    "            print(table, detail)                \n",
    "            if table==\"None\":\n",
    "                value_check=True\n",
    "            elif table in table_names:\n",
    "                if len(detail)==2:\n",
    "                    column,row=detail\n",
    "                    operator=\"\"\n",
    "                else:\n",
    "                    column,row,operator = detail\n",
    "                row = -int(row.split(\"-\")[-1])\n",
    "                \n",
    "                curr_df = table_data[table]\n",
    "                symbols = curr_df.symbol.unique()\n",
    "                v1 = {symbol:curr_df.query(f\"symbol=='{symbol}'\")[column].tolist()[row] for symbol in symbols}\n",
    "                \n",
    "                \n",
    "                if len(rtxts)==0:\n",
    "                    rtxts={s:f\"{v}{operator}\" for s,v in v1.items()}\n",
    "                else:   \n",
    "                    rtxts = {s:v+f\"{v1[s]}{operator}\" for s,v in rtxts.items()}  \n",
    "                    \n",
    "                v1=curr_df[column].tolist()[row]\n",
    "                rtxt+=f\"{v1}{operator}\"\n",
    "\n",
    "            if value_check and table==\"value\":\n",
    "                rtxt+=f\"{detail}\"\n",
    "                rtxts = {s:v+f\"{detail}\" for s,v in rtxts.items()}\n",
    "            if table==\"cond\" and detail is not None:\n",
    "                rtxt+=f\" {detail.lower()} \"\n",
    "                rtxt=rtxt.replace(\"not\", \"!=\")\n",
    "                rtxts = {s:v+f\" {detail.lower()} \" for s,v in rtxts.items()}\n",
    "                rtxts = {s:v.replace(\"not\",\"!=\") for s,v in rtxts.items()}\n",
    "            # print(rtxt)\n",
    "\n",
    "    print(rtxt)\n",
    "    print(rtxts)\n",
    "    try:\n",
    "        alert_result=eval(rtxt)\n",
    "        if mails.get(aname) is None:\n",
    "            mails[aname]=\"\"\n",
    "        for symb,rt in rtxts.items():\n",
    "            try:\n",
    "                res = eval(rtxt)\n",
    "                if res:\n",
    "                    mails[aname]+=f\"\"\"Alert {aname} matched for {symb}.\\n {amsg} \\n\"\"\"\n",
    "            except:\n",
    "                pass\n",
    "            \n",
    "            \n",
    "\n",
    "        print(eval(rtxt))\n",
    "        \n",
    "    except:\n",
    "        pass\n",
    "        \n"
   ]
  },
  {
   "cell_type": "code",
   "execution_count": 60,
   "id": "a1009793",
   "metadata": {
    "ExecuteTime": {
     "end_time": "2022-05-06T05:37:51.188596Z",
     "start_time": "2022-05-06T05:37:51.178519Z"
    },
    "scrolled": true
   },
   "outputs": [],
   "source": [
    "# subject = \"\"\n",
    "# body = \"\"\n",
    "# for aname,content in mails.items():\n",
    "#     if content!='':\n",
    "# #         print(aname, content)\n",
    "#         subject=aname\n",
    "#         body=content\n",
    "#         var.mailer.send(send_to,subject,body)\n",
    "        "
   ]
  },
  {
   "cell_type": "code",
   "execution_count": 61,
   "id": "58c029e9",
   "metadata": {
    "ExecuteTime": {
     "end_time": "2022-05-06T05:37:53.871227Z",
     "start_time": "2022-05-06T05:37:53.849740Z"
    }
   },
   "outputs": [
    {
     "data": {
      "text/plain": [
       "{'Test1': '',\n",
       " 'Test2': 'Alert Test2 matched for AAPL.\\n Market is awesome. \\nAlert Test2 matched for AMD.\\n Market is awesome. \\nAlert Test2 matched for BA.\\n Market is awesome. \\nAlert Test2 matched for C.\\n Market is awesome. \\nAlert Test2 matched for DIS.\\n Market is awesome. \\nAlert Test2 matched for KO.\\n Market is awesome. \\nAlert Test2 matched for LUV.\\n Market is awesome. \\nAlert Test2 matched for MCD.\\n Market is awesome. \\nAlert Test2 matched for NKE.\\n Market is awesome. \\nAlert Test2 matched for SNOW.\\n Market is awesome. \\nAlert Test2 matched for TSLA.\\n Market is awesome. \\n',\n",
       " 'Test3': 'Alert Test3 matched for AAPL.\\n  \\nAlert Test3 matched for AMD.\\n  \\nAlert Test3 matched for BA.\\n  \\nAlert Test3 matched for C.\\n  \\nAlert Test3 matched for DIS.\\n  \\nAlert Test3 matched for KO.\\n  \\nAlert Test3 matched for LUV.\\n  \\nAlert Test3 matched for MCD.\\n  \\nAlert Test3 matched for NKE.\\n  \\nAlert Test3 matched for SNOW.\\n  \\nAlert Test3 matched for TSLA.\\n  \\n',\n",
       " 'Test4': 'Alert Test4 matched for AAPL.\\n  \\nAlert Test4 matched for AMD.\\n  \\nAlert Test4 matched for BA.\\n  \\nAlert Test4 matched for C.\\n  \\nAlert Test4 matched for DIS.\\n  \\nAlert Test4 matched for KO.\\n  \\nAlert Test4 matched for LUV.\\n  \\nAlert Test4 matched for MCD.\\n  \\nAlert Test4 matched for NKE.\\n  \\nAlert Test4 matched for SNOW.\\n  \\nAlert Test4 matched for TSLA.\\n  \\n'}"
      ]
     },
     "execution_count": 61,
     "metadata": {},
     "output_type": "execute_result"
    }
   ],
   "source": [
    "mails"
   ]
  },
  {
   "cell_type": "code",
   "execution_count": 26,
   "id": "9d57465e",
   "metadata": {
    "ExecuteTime": {
     "end_time": "2022-05-06T04:48:10.769196Z",
     "start_time": "2022-05-06T04:48:10.749206Z"
    }
   },
   "outputs": [
    {
     "data": {
      "text/plain": [
       "['bars_3m', 'bars_3m']"
      ]
     },
     "execution_count": 26,
     "metadata": {},
     "output_type": "execute_result"
    }
   ],
   "source": [
    "[t[0] for tb in json.loads(alerts.rule_json[0]).values() for k,t in tb.items() if k in (\"table1\", \"table2\")]"
   ]
  },
  {
   "cell_type": "code",
   "execution_count": 35,
   "id": "8c9d995f",
   "metadata": {
    "ExecuteTime": {
     "end_time": "2022-05-06T04:50:47.757289Z",
     "start_time": "2022-05-06T04:50:47.718379Z"
    }
   },
   "outputs": [
    {
     "data": {
      "text/plain": [
       "['bars_3m', 'ema_1m', 'rsi_1m', 'bars_2m']"
      ]
     },
     "execution_count": 35,
     "metadata": {},
     "output_type": "execute_result"
    }
   ],
   "source": [
    "list(set([v for t in alerts.rule_json.apply(lambda x: [t[0] for tb in json.loads(x).values() for k,t in tb.items() if k in (\"table1\", \"table2\")]).tolist() \n",
    " for v in t if v !=\"None\"]))"
   ]
  },
  {
   "cell_type": "code",
   "execution_count": null,
   "id": "3d0589b3",
   "metadata": {},
   "outputs": [],
   "source": []
  }
 ],
 "metadata": {
  "hide_input": false,
  "kernelspec": {
   "display_name": "Python 3",
   "language": "python",
   "name": "python3"
  },
  "language_info": {
   "codemirror_mode": {
    "name": "ipython",
    "version": 3
   },
   "file_extension": ".py",
   "mimetype": "text/x-python",
   "name": "python",
   "nbconvert_exporter": "python",
   "pygments_lexer": "ipython3",
   "version": "3.8.8"
  },
  "toc": {
   "base_numbering": 1,
   "nav_menu": {},
   "number_sections": true,
   "sideBar": true,
   "skip_h1_title": false,
   "title_cell": "Table of Contents",
   "title_sidebar": "Contents",
   "toc_cell": true,
   "toc_position": {},
   "toc_section_display": true,
   "toc_window_display": false
  },
  "varInspector": {
   "cols": {
    "lenName": 16,
    "lenType": 16,
    "lenVar": 40
   },
   "kernels_config": {
    "python": {
     "delete_cmd_postfix": "",
     "delete_cmd_prefix": "del ",
     "library": "var_list.py",
     "varRefreshCmd": "print(var_dic_list())"
    },
    "r": {
     "delete_cmd_postfix": ") ",
     "delete_cmd_prefix": "rm(",
     "library": "var_list.r",
     "varRefreshCmd": "cat(var_dic_list()) "
    }
   },
   "types_to_exclude": [
    "module",
    "function",
    "builtin_function_or_method",
    "instance",
    "_Feature"
   ],
   "window_display": false
  }
 },
 "nbformat": 4,
 "nbformat_minor": 5
}
