{
 "cells": [
  {
   "cell_type": "markdown",
   "metadata": {
    "id": "i33J8w7Dmq-X"
   },
   "source": [
    "Working with datetime in Python can be hard job if we do not know the right module to do right thing. Here we will explore some of useful module based on the purpose and application rather than exploring the module as a whole.\n",
    "\n",
    "## Using `datetime`\n",
    "Datetime in Python can be done using various ways and one of the popular is using standard library [datetime](https://docs.python.org/3/library/datetime.html). In general, we can use datetime datatype as datetime object in Python. We start by importing library.\n"
   ]
  },
  {
   "cell_type": "code",
   "execution_count": 3,
   "metadata": {
    "colab": {
     "base_uri": "https://localhost:8080/"
    },
    "id": "8_QdAWPLmnAv",
    "outputId": "d098c8a6-be40-491d-e9ae-282dccf44200"
   },
   "outputs": [
    {
     "name": "stdout",
     "output_type": "stream",
     "text": [
      "<module 'datetime' from '/usr/lib/python3.7/datetime.py'>\n"
     ]
    }
   ],
   "source": [
    "import datetime\n",
    "\n",
    "# what is it??\n",
    "print(datetime)"
   ]
  },
  {
   "cell_type": "code",
   "execution_count": null,
   "metadata": {
    "id": "MGyAXpt5p3h7"
   },
   "outputs": [],
   "source": []
  },
  {
   "cell_type": "markdown",
   "metadata": {
    "id": "ryZMG7PVp4TN"
   },
   "source": [
    "### Making a Datetime\n",
    "Before working with datetime, we need to have one :). There are many ways to create datetime and lets start with some.\n"
   ]
  },
  {
   "cell_type": "markdown",
   "metadata": {
    "id": "Ghr_foj8z0lE"
   },
   "source": [
    "#### Integer to Datetime \n",
    "We use `datetime.datetime`. We must pass year, month, day to make datetime and hour, minute, second as optional to add time as well."
   ]
  },
  {
   "cell_type": "code",
   "execution_count": 11,
   "metadata": {
    "colab": {
     "base_uri": "https://localhost:8080/"
    },
    "id": "g2ji_104pIhE",
    "outputId": "0b1b62f4-41eb-44d6-9cab-d16e2488040d"
   },
   "outputs": [
    {
     "name": "stdout",
     "output_type": "stream",
     "text": [
      "1990-12-11 00:00:00\n",
      "2022-10-01 13:25:13.000100\n"
     ]
    }
   ],
   "source": [
    "print(datetime.datetime(year=1990, month=12, day=11))\n",
    "print(datetime.datetime(year=2022, month=10, day=1, hour=13, minute=25, second=13, microsecond=100))"
   ]
  },
  {
   "cell_type": "markdown",
   "metadata": {
    "id": "-t_Fp7pxqX0X"
   },
   "source": [
    "#### Using String to datetime\n",
    "\n",
    "We can use `datetime.strptime` which needs datetime in string and its format as second parameter."
   ]
  },
  {
   "cell_type": "code",
   "execution_count": 20,
   "metadata": {
    "colab": {
     "base_uri": "https://localhost:8080/"
    },
    "id": "mOGfCmTlqXIU",
    "outputId": "272e49b7-7550-41e1-bef0-a1a56999126c"
   },
   "outputs": [
    {
     "data": {
      "text/plain": [
       "(datetime.datetime(2022, 1, 23, 0, 0), datetime.datetime(2022, 1, 23, 0, 0))"
      ]
     },
     "execution_count": 20,
     "metadata": {},
     "output_type": "execute_result"
    }
   ],
   "source": [
    "# Date only but contains hour and minute as 0, 0\n",
    "datetime.datetime.strptime(\"2022-01-23\", \"%Y-%m-%d\"), datetime.datetime.strptime(\"2022/01/23\", \"%Y/%m/%d\")\n"
   ]
  },
  {
   "cell_type": "code",
   "execution_count": 19,
   "metadata": {
    "colab": {
     "base_uri": "https://localhost:8080/"
    },
    "id": "bLc-3G3OpWap",
    "outputId": "1f9ce591-a6fb-40a8-8268-bce299e52acb"
   },
   "outputs": [
    {
     "data": {
      "text/plain": [
       "datetime.datetime(2022, 1, 23, 12, 23, 30)"
      ]
     },
     "execution_count": 19,
     "metadata": {},
     "output_type": "execute_result"
    }
   ],
   "source": [
    "# passing time with seconds\n",
    "datetime.datetime.strptime(\"2022-01-23 12:23:30\", \"%Y-%m-%d %H:%M:%S\")\n"
   ]
  },
  {
   "cell_type": "markdown",
   "metadata": {
    "id": "H9zfoIWUyhBz"
   },
   "source": [
    "#### Using Timestamp\n",
    "\n",
    "We can get datetime from timestamp as well. But for that we need timestamp. We can get timestamp from datetime by simply calling `timestamp()` of datetime object. "
   ]
  },
  {
   "cell_type": "code",
   "execution_count": 27,
   "metadata": {
    "colab": {
     "base_uri": "https://localhost:8080/"
    },
    "id": "8wYk9hWDygOA",
    "outputId": "c66eefc0-a56c-4e2b-8a7c-4ad07de2bf76"
   },
   "outputs": [
    {
     "name": "stdout",
     "output_type": "stream",
     "text": [
      "1642940610.0\n",
      "From ts: 2022-01-23 12:23:30\n",
      "UTC From ts: 2022-01-23 12:23:30\n"
     ]
    }
   ],
   "source": [
    "ts = datetime.datetime.strptime(\"2022-01-23 12:23:30\", \"%Y-%m-%d %H:%M:%S\").timestamp()\n",
    "print(ts)\n",
    "print(f\"From ts: {datetime.datetime.fromtimestamp(ts)}\")\n",
    "print(f\"UTC From ts: {datetime.datetime.utcfromtimestamp(ts)}\")"
   ]
  },
  {
   "cell_type": "markdown",
   "metadata": {
    "id": "BwEL-2ySBSUb"
   },
   "source": [
    "#### Current Time"
   ]
  },
  {
   "cell_type": "code",
   "execution_count": 112,
   "metadata": {
    "colab": {
     "base_uri": "https://localhost:8080/"
    },
    "id": "N8mcHBx2BTrv",
    "outputId": "3b880d5d-ddbd-491c-f4bf-24cfde799bc5"
   },
   "outputs": [
    {
     "data": {
      "text/plain": [
       "datetime.datetime(2022, 11, 9, 20, 12, 15, 351996)"
      ]
     },
     "execution_count": 112,
     "metadata": {},
     "output_type": "execute_result"
    }
   ],
   "source": [
    "## Getting UTC datetime\n",
    "datetime.datetime.utcnow()"
   ]
  },
  {
   "cell_type": "code",
   "execution_count": 113,
   "metadata": {
    "colab": {
     "base_uri": "https://localhost:8080/"
    },
    "id": "6isP3HwsBWQq",
    "outputId": "f12e802c-3178-46aa-dc41-dca5197bebf2"
   },
   "outputs": [
    {
     "data": {
      "text/plain": [
       "datetime.datetime(2022, 11, 9, 20, 12, 23, 759600)"
      ]
     },
     "execution_count": 113,
     "metadata": {},
     "output_type": "execute_result"
    }
   ],
   "source": [
    "# Getting current local datetime\n",
    "datetime.datetime.now()"
   ]
  },
  {
   "cell_type": "markdown",
   "metadata": {
    "id": "54dskohTzpny"
   },
   "source": [
    "### Working with Datetime\n",
    "Lets try to work with datetime."
   ]
  },
  {
   "cell_type": "markdown",
   "metadata": {
    "id": "GgMwqNu945pG"
   },
   "source": [
    "#### Formatting Datetime\n",
    "There are many formats of datetime and some are:\n",
    "* YYYY-MM-DD\n",
    "* YYYY-DD-MM\n",
    "* DD/MM/YYYY\n",
    "\n",
    "And we can format from one to another."
   ]
  },
  {
   "cell_type": "code",
   "execution_count": 73,
   "metadata": {
    "colab": {
     "base_uri": "https://localhost:8080/"
    },
    "id": "mSMhxJ035Kvd",
    "outputId": "e12f2510-7fee-4ecd-efc2-22901a62f894"
   },
   "outputs": [
    {
     "name": "stdout",
     "output_type": "stream",
     "text": [
      "DT: 2022-11-09 19:38:02.419127\n",
      "DT1: 2022/11/09 19:38:02\n",
      "DT1: 2022.11.09 19:38:02\n",
      "DT1: 09/11/2022 19.38.02\n"
     ]
    }
   ],
   "source": [
    "dt = datetime.datetime.now()\n",
    "print(f\"DT: {dt}\")\n",
    "print(f\"DT1: {dt.strftime('%Y/%m/%d %H:%M:%S')}\")\n",
    "print(f\"DT1: {dt.strftime('%Y.%m.%d %H:%M:%S')}\")\n",
    "print(f\"DT1: {dt.strftime('%d/%m/%Y %H.%M.%S')}\")"
   ]
  },
  {
   "cell_type": "markdown",
   "metadata": {
    "id": "gJT0BVJw5nFG"
   },
   "source": [
    "Changing time from one to another has to be done when we are working with different source of data and each have different format."
   ]
  },
  {
   "cell_type": "markdown",
   "metadata": {
    "id": "gnvx63cIz8Bt"
   },
   "source": [
    "#### Getting date and time values\n",
    "We can get values of date, time, day, month, year and so on."
   ]
  },
  {
   "cell_type": "code",
   "execution_count": 115,
   "metadata": {
    "colab": {
     "base_uri": "https://localhost:8080/"
    },
    "id": "X5zeifgvzox-",
    "outputId": "82d0c608-f7b9-4672-a1b6-21cffb1457c4"
   },
   "outputs": [
    {
     "name": "stdout",
     "output_type": "stream",
     "text": [
      "DT: 2022-11-09 20:13:57.279373\n",
      "Year: 2022, Month: 11, Day: 9, Hour: 20, Minute: 13, Seconds: 57\n",
      "Date: 2022-11-09, Time: 20:13:57.279373\n"
     ]
    }
   ],
   "source": [
    "dt = datetime.datetime.now()\n",
    "print(f\"DT: {dt}\")\n",
    "\n",
    "print(f\"Year: {dt.year}, Month: {dt.month}, Day: {dt.day}, Hour: {dt.hour}, Minute: {dt.minute}, Seconds: {dt.second}\")\n",
    "print(f\"Date: {dt.date()}, Time: {dt.time()}\")"
   ]
  },
  {
   "cell_type": "markdown",
   "metadata": {
    "id": "msDvsFgj0gFv"
   },
   "source": [
    "#### Adding/Subtracting datetime\n",
    "We can add or subtract any unit of time including year, month, day, hour, minute etc. But we have options to add/subtract from day and below it only. For this we can use `timedelta()`."
   ]
  },
  {
   "cell_type": "code",
   "execution_count": 39,
   "metadata": {
    "colab": {
     "base_uri": "https://localhost:8080/"
    },
    "id": "n-5UuksOyKT8",
    "outputId": "4f607cbf-b2f0-4415-fd78-8fc0c7ad96a7"
   },
   "outputs": [
    {
     "name": "stdout",
     "output_type": "stream",
     "text": [
      "DT: 2022-11-09 19:15:38.568075\n",
      "Timedelta day: 1 day, 0:00:00\n",
      "Added day: 2022-11-10 19:15:38.568075\n",
      "Added Month: 2022-12-09 19:15:38.568075\n",
      "Added Hour: 2022-11-09 20:15:38.568075\n"
     ]
    }
   ],
   "source": [
    "print(f\"DT: {dt}\")\n",
    "print(f\"Timedelta day: {datetime.timedelta(days=1)}\")\n",
    "print(f\"Added day: {dt+datetime.timedelta(days=1)}\")\n",
    "print(f\"Added Month: {dt+datetime.timedelta(days=30)}\")\n",
    "print(f\"Added Hour: {dt+datetime.timedelta(hours=1)}\")"
   ]
  },
  {
   "cell_type": "markdown",
   "metadata": {
    "id": "Gjb9V6Yu2VUY"
   },
   "source": [
    "#### Day in Words\n",
    "Simply using `strftime` we can get day in words. What if we want to send datetime but with day as word and month too like November 13 Sunday."
   ]
  },
  {
   "cell_type": "code",
   "execution_count": 45,
   "metadata": {
    "colab": {
     "base_uri": "https://localhost:8080/",
     "height": 35
    },
    "id": "XZhwjIng2Tkq",
    "outputId": "861218e2-5ee4-4366-db2d-379c04b77eaf"
   },
   "outputs": [
    {
     "data": {
      "application/vnd.google.colaboratory.intrinsic+json": {
       "type": "string"
      },
      "text/plain": [
       "'Wednesday'"
      ]
     },
     "execution_count": 45,
     "metadata": {},
     "output_type": "execute_result"
    }
   ],
   "source": [
    "dt.strftime('%A')"
   ]
  },
  {
   "cell_type": "code",
   "execution_count": 44,
   "metadata": {
    "colab": {
     "base_uri": "https://localhost:8080/",
     "height": 35
    },
    "id": "oUvOfMkT1AaS",
    "outputId": "de95017d-8591-4bce-f67a-d5a080ccf9aa"
   },
   "outputs": [
    {
     "data": {
      "application/vnd.google.colaboratory.intrinsic+json": {
       "type": "string"
      },
      "text/plain": [
       "'2022-11-Wednesday'"
      ]
     },
     "execution_count": 44,
     "metadata": {},
     "output_type": "execute_result"
    }
   ],
   "source": []
  },
  {
   "cell_type": "markdown",
   "metadata": {
    "id": "F7Qcz-Ls2-GJ"
   },
   "source": [
    "And to get it on datetime as well."
   ]
  },
  {
   "cell_type": "code",
   "execution_count": 48,
   "metadata": {
    "colab": {
     "base_uri": "https://localhost:8080/"
    },
    "id": "BF3wc3YP23kR",
    "outputId": "abe3b2f0-fa9e-44df-c5bc-177d6cb1149f"
   },
   "outputs": [
    {
     "data": {
      "text/plain": [
       "('2022-November-Wednesday', '2022-11-Wednesday')"
      ]
     },
     "execution_count": 48,
     "metadata": {},
     "output_type": "execute_result"
    }
   ],
   "source": [
    "dt.strftime(\"%Y-%B-%A\"), dt.strftime(\"%Y-%m-%A\")"
   ]
  },
  {
   "cell_type": "markdown",
   "metadata": {
    "id": "PnaYHvFK3fLq"
   },
   "source": [
    "#### Finding Time Difference \n",
    "\n",
    "Lets create a datetime of now and add 5.5 minute then 40 seconds on it. We will be adding 5.5*60+40=370 seconds."
   ]
  },
  {
   "cell_type": "code",
   "execution_count": 68,
   "metadata": {
    "colab": {
     "base_uri": "https://localhost:8080/"
    },
    "id": "1Nijz0ac3CDA",
    "outputId": "fdd030c5-24ab-430b-b0d3-bce6428b440b"
   },
   "outputs": [
    {
     "name": "stdout",
     "output_type": "stream",
     "text": [
      "DT1: 2022-11-09 19:34:40.199437 | DT2: 2022-11-09 19:40:50.199437\n",
      "Time diff: 0:06:10\n",
      "Diff in Secs: 370.0\n"
     ]
    }
   ],
   "source": [
    "dt1 = datetime.datetime.now()\n",
    "dt2 = dt1+datetime.timedelta(minutes=5.5, seconds=40)\n",
    "print(f\"DT1: {dt1} | DT2: {dt2}\")\n",
    "print(f\"Time diff: {dt2-dt1}\")\n",
    "print(f\"Diff in Secs: {(dt2-dt1).total_seconds()}\")\n"
   ]
  },
  {
   "cell_type": "markdown",
   "metadata": {
    "id": "Ybwds8O751PK"
   },
   "source": [
    "#### Boolean Operation\n",
    "We can do simple boolean operation within datetime too. One example can be: we need to find the data for last 7 days only from the dataframe. Lets use datetimes from last example."
   ]
  },
  {
   "cell_type": "code",
   "execution_count": 75,
   "metadata": {
    "colab": {
     "base_uri": "https://localhost:8080/"
    },
    "id": "tJDhDhCo3HUE",
    "outputId": "da715d06-9912-4eb4-9599-eb9273197ca3"
   },
   "outputs": [
    {
     "data": {
      "text/plain": [
       "(True, False, False, True)"
      ]
     },
     "execution_count": 75,
     "metadata": {},
     "output_type": "execute_result"
    }
   ],
   "source": [
    "dt1<dt2, dt1==dt2, dt1>dt2, dt1!=dt2"
   ]
  },
  {
   "cell_type": "markdown",
   "metadata": {
    "id": "oBiA7Xzh6Qo-"
   },
   "source": [
    "### Working with Time Zones\n",
    "One of the difficult thing while working with time related data is timezone and in addition to that, daylight saving."
   ]
  },
  {
   "cell_type": "markdown",
   "metadata": {
    "id": "I7zKOrzO69Qj"
   },
   "source": [
    "Default datetime object will have no timezone info. We can add one using replace.\n"
   ]
  },
  {
   "cell_type": "code",
   "execution_count": 87,
   "metadata": {
    "id": "l2zt282o4sB6"
   },
   "outputs": [],
   "source": [
    "dt1.tzinfo"
   ]
  },
  {
   "cell_type": "markdown",
   "metadata": {
    "id": "j2txo0ly8NYD"
   },
   "source": [
    "Working with timezone with standard library is quite difficult but there is one package `pytz` which removes the complexity of it."
   ]
  },
  {
   "cell_type": "markdown",
   "metadata": {
    "id": "GjCs2xak8PeZ"
   },
   "source": [
    "## Using `pytz` for timezones\n",
    "[`pytz`](https://pypi.org/project/pytz/) is a library which is great to work with timezones and it can be easily implemented on standard library `datetime`. We can install it like below."
   ]
  },
  {
   "cell_type": "code",
   "execution_count": 88,
   "metadata": {
    "colab": {
     "base_uri": "https://localhost:8080/"
    },
    "id": "SYup1s9J6u42",
    "outputId": "aa829c5b-b121-4da5-a46f-d5037ef35ff7"
   },
   "outputs": [
    {
     "name": "stdout",
     "output_type": "stream",
     "text": [
      "Looking in indexes: https://pypi.org/simple, https://us-python.pkg.dev/colab-wheels/public/simple/\n",
      "Requirement already satisfied: pytz in /usr/local/lib/python3.7/dist-packages (2022.6)\n"
     ]
    }
   ],
   "source": [
    "!pip install pytz"
   ]
  },
  {
   "cell_type": "markdown",
   "metadata": {
    "id": "sm2B1sJJ8s70"
   },
   "source": [
    "### Getting Timezones\n",
    "Lets see available timezones. It has a lot of timezones."
   ]
  },
  {
   "cell_type": "code",
   "execution_count": 89,
   "metadata": {
    "id": "Qts8cRUE7nDz"
   },
   "outputs": [],
   "source": [
    "import pytz"
   ]
  },
  {
   "cell_type": "code",
   "execution_count": 91,
   "metadata": {
    "colab": {
     "base_uri": "https://localhost:8080/"
    },
    "id": "RNPqJIIr8xQ-",
    "outputId": "eeb5e7dc-896e-4a96-d8e7-ce11b6e79f83"
   },
   "outputs": [
    {
     "data": {
      "text/plain": [
       "['Africa/Abidjan',\n",
       " 'Africa/Accra',\n",
       " 'Africa/Addis_Ababa',\n",
       " 'Africa/Algiers',\n",
       " 'Africa/Asmara',\n",
       " 'Africa/Asmera',\n",
       " 'Africa/Bamako',\n",
       " 'Africa/Bangui',\n",
       " 'Africa/Banjul',\n",
       " 'Africa/Bissau',\n",
       " 'Africa/Blantyre',\n",
       " 'Africa/Brazzaville',\n",
       " 'Africa/Bujumbura',\n",
       " 'Africa/Cairo',\n",
       " 'Africa/Casablanca',\n",
       " 'Africa/Ceuta',\n",
       " 'Africa/Conakry',\n",
       " 'Africa/Dakar',\n",
       " 'Africa/Dar_es_Salaam',\n",
       " 'Africa/Djibouti',\n",
       " 'Africa/Douala',\n",
       " 'Africa/El_Aaiun',\n",
       " 'Africa/Freetown',\n",
       " 'Africa/Gaborone',\n",
       " 'Africa/Harare',\n",
       " 'Africa/Johannesburg',\n",
       " 'Africa/Juba',\n",
       " 'Africa/Kampala',\n",
       " 'Africa/Khartoum',\n",
       " 'Africa/Kigali',\n",
       " 'Africa/Kinshasa',\n",
       " 'Africa/Lagos',\n",
       " 'Africa/Libreville',\n",
       " 'Africa/Lome',\n",
       " 'Africa/Luanda',\n",
       " 'Africa/Lubumbashi',\n",
       " 'Africa/Lusaka',\n",
       " 'Africa/Malabo',\n",
       " 'Africa/Maputo',\n",
       " 'Africa/Maseru',\n",
       " 'Africa/Mbabane',\n",
       " 'Africa/Mogadishu',\n",
       " 'Africa/Monrovia',\n",
       " 'Africa/Nairobi',\n",
       " 'Africa/Ndjamena',\n",
       " 'Africa/Niamey',\n",
       " 'Africa/Nouakchott',\n",
       " 'Africa/Ouagadougou',\n",
       " 'Africa/Porto-Novo',\n",
       " 'Africa/Sao_Tome',\n",
       " 'Africa/Timbuktu',\n",
       " 'Africa/Tripoli',\n",
       " 'Africa/Tunis',\n",
       " 'Africa/Windhoek',\n",
       " 'America/Adak',\n",
       " 'America/Anchorage',\n",
       " 'America/Anguilla',\n",
       " 'America/Antigua',\n",
       " 'America/Araguaina',\n",
       " 'America/Argentina/Buenos_Aires',\n",
       " 'America/Argentina/Catamarca',\n",
       " 'America/Argentina/ComodRivadavia',\n",
       " 'America/Argentina/Cordoba',\n",
       " 'America/Argentina/Jujuy',\n",
       " 'America/Argentina/La_Rioja',\n",
       " 'America/Argentina/Mendoza',\n",
       " 'America/Argentina/Rio_Gallegos',\n",
       " 'America/Argentina/Salta',\n",
       " 'America/Argentina/San_Juan',\n",
       " 'America/Argentina/San_Luis',\n",
       " 'America/Argentina/Tucuman',\n",
       " 'America/Argentina/Ushuaia',\n",
       " 'America/Aruba',\n",
       " 'America/Asuncion',\n",
       " 'America/Atikokan',\n",
       " 'America/Atka',\n",
       " 'America/Bahia',\n",
       " 'America/Bahia_Banderas',\n",
       " 'America/Barbados',\n",
       " 'America/Belem',\n",
       " 'America/Belize',\n",
       " 'America/Blanc-Sablon',\n",
       " 'America/Boa_Vista',\n",
       " 'America/Bogota',\n",
       " 'America/Boise',\n",
       " 'America/Buenos_Aires',\n",
       " 'America/Cambridge_Bay',\n",
       " 'America/Campo_Grande',\n",
       " 'America/Cancun',\n",
       " 'America/Caracas',\n",
       " 'America/Catamarca',\n",
       " 'America/Cayenne',\n",
       " 'America/Cayman',\n",
       " 'America/Chicago',\n",
       " 'America/Chihuahua',\n",
       " 'America/Coral_Harbour',\n",
       " 'America/Cordoba',\n",
       " 'America/Costa_Rica',\n",
       " 'America/Creston',\n",
       " 'America/Cuiaba',\n",
       " 'America/Curacao',\n",
       " 'America/Danmarkshavn',\n",
       " 'America/Dawson',\n",
       " 'America/Dawson_Creek',\n",
       " 'America/Denver',\n",
       " 'America/Detroit',\n",
       " 'America/Dominica',\n",
       " 'America/Edmonton',\n",
       " 'America/Eirunepe',\n",
       " 'America/El_Salvador',\n",
       " 'America/Ensenada',\n",
       " 'America/Fort_Nelson',\n",
       " 'America/Fort_Wayne',\n",
       " 'America/Fortaleza',\n",
       " 'America/Glace_Bay',\n",
       " 'America/Godthab',\n",
       " 'America/Goose_Bay',\n",
       " 'America/Grand_Turk',\n",
       " 'America/Grenada',\n",
       " 'America/Guadeloupe',\n",
       " 'America/Guatemala',\n",
       " 'America/Guayaquil',\n",
       " 'America/Guyana',\n",
       " 'America/Halifax',\n",
       " 'America/Havana',\n",
       " 'America/Hermosillo',\n",
       " 'America/Indiana/Indianapolis',\n",
       " 'America/Indiana/Knox',\n",
       " 'America/Indiana/Marengo',\n",
       " 'America/Indiana/Petersburg',\n",
       " 'America/Indiana/Tell_City',\n",
       " 'America/Indiana/Vevay',\n",
       " 'America/Indiana/Vincennes',\n",
       " 'America/Indiana/Winamac',\n",
       " 'America/Indianapolis',\n",
       " 'America/Inuvik',\n",
       " 'America/Iqaluit',\n",
       " 'America/Jamaica',\n",
       " 'America/Jujuy',\n",
       " 'America/Juneau',\n",
       " 'America/Kentucky/Louisville',\n",
       " 'America/Kentucky/Monticello',\n",
       " 'America/Knox_IN',\n",
       " 'America/Kralendijk',\n",
       " 'America/La_Paz',\n",
       " 'America/Lima',\n",
       " 'America/Los_Angeles',\n",
       " 'America/Louisville',\n",
       " 'America/Lower_Princes',\n",
       " 'America/Maceio',\n",
       " 'America/Managua',\n",
       " 'America/Manaus',\n",
       " 'America/Marigot',\n",
       " 'America/Martinique',\n",
       " 'America/Matamoros',\n",
       " 'America/Mazatlan',\n",
       " 'America/Mendoza',\n",
       " 'America/Menominee',\n",
       " 'America/Merida',\n",
       " 'America/Metlakatla',\n",
       " 'America/Mexico_City',\n",
       " 'America/Miquelon',\n",
       " 'America/Moncton',\n",
       " 'America/Monterrey',\n",
       " 'America/Montevideo',\n",
       " 'America/Montreal',\n",
       " 'America/Montserrat',\n",
       " 'America/Nassau',\n",
       " 'America/New_York',\n",
       " 'America/Nipigon',\n",
       " 'America/Nome',\n",
       " 'America/Noronha',\n",
       " 'America/North_Dakota/Beulah',\n",
       " 'America/North_Dakota/Center',\n",
       " 'America/North_Dakota/New_Salem',\n",
       " 'America/Nuuk',\n",
       " 'America/Ojinaga',\n",
       " 'America/Panama',\n",
       " 'America/Pangnirtung',\n",
       " 'America/Paramaribo',\n",
       " 'America/Phoenix',\n",
       " 'America/Port-au-Prince',\n",
       " 'America/Port_of_Spain',\n",
       " 'America/Porto_Acre',\n",
       " 'America/Porto_Velho',\n",
       " 'America/Puerto_Rico',\n",
       " 'America/Punta_Arenas',\n",
       " 'America/Rainy_River',\n",
       " 'America/Rankin_Inlet',\n",
       " 'America/Recife',\n",
       " 'America/Regina',\n",
       " 'America/Resolute',\n",
       " 'America/Rio_Branco',\n",
       " 'America/Rosario',\n",
       " 'America/Santa_Isabel',\n",
       " 'America/Santarem',\n",
       " 'America/Santiago',\n",
       " 'America/Santo_Domingo',\n",
       " 'America/Sao_Paulo',\n",
       " 'America/Scoresbysund',\n",
       " 'America/Shiprock',\n",
       " 'America/Sitka',\n",
       " 'America/St_Barthelemy',\n",
       " 'America/St_Johns',\n",
       " 'America/St_Kitts',\n",
       " 'America/St_Lucia',\n",
       " 'America/St_Thomas',\n",
       " 'America/St_Vincent',\n",
       " 'America/Swift_Current',\n",
       " 'America/Tegucigalpa',\n",
       " 'America/Thule',\n",
       " 'America/Thunder_Bay',\n",
       " 'America/Tijuana',\n",
       " 'America/Toronto',\n",
       " 'America/Tortola',\n",
       " 'America/Vancouver',\n",
       " 'America/Virgin',\n",
       " 'America/Whitehorse',\n",
       " 'America/Winnipeg',\n",
       " 'America/Yakutat',\n",
       " 'America/Yellowknife',\n",
       " 'Antarctica/Casey',\n",
       " 'Antarctica/Davis',\n",
       " 'Antarctica/DumontDUrville',\n",
       " 'Antarctica/Macquarie',\n",
       " 'Antarctica/Mawson',\n",
       " 'Antarctica/McMurdo',\n",
       " 'Antarctica/Palmer',\n",
       " 'Antarctica/Rothera',\n",
       " 'Antarctica/South_Pole',\n",
       " 'Antarctica/Syowa',\n",
       " 'Antarctica/Troll',\n",
       " 'Antarctica/Vostok',\n",
       " 'Arctic/Longyearbyen',\n",
       " 'Asia/Aden',\n",
       " 'Asia/Almaty',\n",
       " 'Asia/Amman',\n",
       " 'Asia/Anadyr',\n",
       " 'Asia/Aqtau',\n",
       " 'Asia/Aqtobe',\n",
       " 'Asia/Ashgabat',\n",
       " 'Asia/Ashkhabad',\n",
       " 'Asia/Atyrau',\n",
       " 'Asia/Baghdad',\n",
       " 'Asia/Bahrain',\n",
       " 'Asia/Baku',\n",
       " 'Asia/Bangkok',\n",
       " 'Asia/Barnaul',\n",
       " 'Asia/Beirut',\n",
       " 'Asia/Bishkek',\n",
       " 'Asia/Brunei',\n",
       " 'Asia/Calcutta',\n",
       " 'Asia/Chita',\n",
       " 'Asia/Choibalsan',\n",
       " 'Asia/Chongqing',\n",
       " 'Asia/Chungking',\n",
       " 'Asia/Colombo',\n",
       " 'Asia/Dacca',\n",
       " 'Asia/Damascus',\n",
       " 'Asia/Dhaka',\n",
       " 'Asia/Dili',\n",
       " 'Asia/Dubai',\n",
       " 'Asia/Dushanbe',\n",
       " 'Asia/Famagusta',\n",
       " 'Asia/Gaza',\n",
       " 'Asia/Harbin',\n",
       " 'Asia/Hebron',\n",
       " 'Asia/Ho_Chi_Minh',\n",
       " 'Asia/Hong_Kong',\n",
       " 'Asia/Hovd',\n",
       " 'Asia/Irkutsk',\n",
       " 'Asia/Istanbul',\n",
       " 'Asia/Jakarta',\n",
       " 'Asia/Jayapura',\n",
       " 'Asia/Jerusalem',\n",
       " 'Asia/Kabul',\n",
       " 'Asia/Kamchatka',\n",
       " 'Asia/Karachi',\n",
       " 'Asia/Kashgar',\n",
       " 'Asia/Kathmandu',\n",
       " 'Asia/Katmandu',\n",
       " 'Asia/Khandyga',\n",
       " 'Asia/Kolkata',\n",
       " 'Asia/Krasnoyarsk',\n",
       " 'Asia/Kuala_Lumpur',\n",
       " 'Asia/Kuching',\n",
       " 'Asia/Kuwait',\n",
       " 'Asia/Macao',\n",
       " 'Asia/Macau',\n",
       " 'Asia/Magadan',\n",
       " 'Asia/Makassar',\n",
       " 'Asia/Manila',\n",
       " 'Asia/Muscat',\n",
       " 'Asia/Nicosia',\n",
       " 'Asia/Novokuznetsk',\n",
       " 'Asia/Novosibirsk',\n",
       " 'Asia/Omsk',\n",
       " 'Asia/Oral',\n",
       " 'Asia/Phnom_Penh',\n",
       " 'Asia/Pontianak',\n",
       " 'Asia/Pyongyang',\n",
       " 'Asia/Qatar',\n",
       " 'Asia/Qostanay',\n",
       " 'Asia/Qyzylorda',\n",
       " 'Asia/Rangoon',\n",
       " 'Asia/Riyadh',\n",
       " 'Asia/Saigon',\n",
       " 'Asia/Sakhalin',\n",
       " 'Asia/Samarkand',\n",
       " 'Asia/Seoul',\n",
       " 'Asia/Shanghai',\n",
       " 'Asia/Singapore',\n",
       " 'Asia/Srednekolymsk',\n",
       " 'Asia/Taipei',\n",
       " 'Asia/Tashkent',\n",
       " 'Asia/Tbilisi',\n",
       " 'Asia/Tehran',\n",
       " 'Asia/Tel_Aviv',\n",
       " 'Asia/Thimbu',\n",
       " 'Asia/Thimphu',\n",
       " 'Asia/Tokyo',\n",
       " 'Asia/Tomsk',\n",
       " 'Asia/Ujung_Pandang',\n",
       " 'Asia/Ulaanbaatar',\n",
       " 'Asia/Ulan_Bator',\n",
       " 'Asia/Urumqi',\n",
       " 'Asia/Ust-Nera',\n",
       " 'Asia/Vientiane',\n",
       " 'Asia/Vladivostok',\n",
       " 'Asia/Yakutsk',\n",
       " 'Asia/Yangon',\n",
       " 'Asia/Yekaterinburg',\n",
       " 'Asia/Yerevan',\n",
       " 'Atlantic/Azores',\n",
       " 'Atlantic/Bermuda',\n",
       " 'Atlantic/Canary',\n",
       " 'Atlantic/Cape_Verde',\n",
       " 'Atlantic/Faeroe',\n",
       " 'Atlantic/Faroe',\n",
       " 'Atlantic/Jan_Mayen',\n",
       " 'Atlantic/Madeira',\n",
       " 'Atlantic/Reykjavik',\n",
       " 'Atlantic/South_Georgia',\n",
       " 'Atlantic/St_Helena',\n",
       " 'Atlantic/Stanley',\n",
       " 'Australia/ACT',\n",
       " 'Australia/Adelaide',\n",
       " 'Australia/Brisbane',\n",
       " 'Australia/Broken_Hill',\n",
       " 'Australia/Canberra',\n",
       " 'Australia/Currie',\n",
       " 'Australia/Darwin',\n",
       " 'Australia/Eucla',\n",
       " 'Australia/Hobart',\n",
       " 'Australia/LHI',\n",
       " 'Australia/Lindeman',\n",
       " 'Australia/Lord_Howe',\n",
       " 'Australia/Melbourne',\n",
       " 'Australia/NSW',\n",
       " 'Australia/North',\n",
       " 'Australia/Perth',\n",
       " 'Australia/Queensland',\n",
       " 'Australia/South',\n",
       " 'Australia/Sydney',\n",
       " 'Australia/Tasmania',\n",
       " 'Australia/Victoria',\n",
       " 'Australia/West',\n",
       " 'Australia/Yancowinna',\n",
       " 'Brazil/Acre',\n",
       " 'Brazil/DeNoronha',\n",
       " 'Brazil/East',\n",
       " 'Brazil/West',\n",
       " 'CET',\n",
       " 'CST6CDT',\n",
       " 'Canada/Atlantic',\n",
       " 'Canada/Central',\n",
       " 'Canada/Eastern',\n",
       " 'Canada/Mountain',\n",
       " 'Canada/Newfoundland',\n",
       " 'Canada/Pacific',\n",
       " 'Canada/Saskatchewan',\n",
       " 'Canada/Yukon',\n",
       " 'Chile/Continental',\n",
       " 'Chile/EasterIsland',\n",
       " 'Cuba',\n",
       " 'EET',\n",
       " 'EST',\n",
       " 'EST5EDT',\n",
       " 'Egypt',\n",
       " 'Eire',\n",
       " 'Etc/GMT',\n",
       " 'Etc/GMT+0',\n",
       " 'Etc/GMT+1',\n",
       " 'Etc/GMT+10',\n",
       " 'Etc/GMT+11',\n",
       " 'Etc/GMT+12',\n",
       " 'Etc/GMT+2',\n",
       " 'Etc/GMT+3',\n",
       " 'Etc/GMT+4',\n",
       " 'Etc/GMT+5',\n",
       " 'Etc/GMT+6',\n",
       " 'Etc/GMT+7',\n",
       " 'Etc/GMT+8',\n",
       " 'Etc/GMT+9',\n",
       " 'Etc/GMT-0',\n",
       " 'Etc/GMT-1',\n",
       " 'Etc/GMT-10',\n",
       " 'Etc/GMT-11',\n",
       " 'Etc/GMT-12',\n",
       " 'Etc/GMT-13',\n",
       " 'Etc/GMT-14',\n",
       " 'Etc/GMT-2',\n",
       " 'Etc/GMT-3',\n",
       " 'Etc/GMT-4',\n",
       " 'Etc/GMT-5',\n",
       " 'Etc/GMT-6',\n",
       " 'Etc/GMT-7',\n",
       " 'Etc/GMT-8',\n",
       " 'Etc/GMT-9',\n",
       " 'Etc/GMT0',\n",
       " 'Etc/Greenwich',\n",
       " 'Etc/UCT',\n",
       " 'Etc/UTC',\n",
       " 'Etc/Universal',\n",
       " 'Etc/Zulu',\n",
       " 'Europe/Amsterdam',\n",
       " 'Europe/Andorra',\n",
       " 'Europe/Astrakhan',\n",
       " 'Europe/Athens',\n",
       " 'Europe/Belfast',\n",
       " 'Europe/Belgrade',\n",
       " 'Europe/Berlin',\n",
       " 'Europe/Bratislava',\n",
       " 'Europe/Brussels',\n",
       " 'Europe/Bucharest',\n",
       " 'Europe/Budapest',\n",
       " 'Europe/Busingen',\n",
       " 'Europe/Chisinau',\n",
       " 'Europe/Copenhagen',\n",
       " 'Europe/Dublin',\n",
       " 'Europe/Gibraltar',\n",
       " 'Europe/Guernsey',\n",
       " 'Europe/Helsinki',\n",
       " 'Europe/Isle_of_Man',\n",
       " 'Europe/Istanbul',\n",
       " 'Europe/Jersey',\n",
       " 'Europe/Kaliningrad',\n",
       " 'Europe/Kiev',\n",
       " 'Europe/Kirov',\n",
       " 'Europe/Kyiv',\n",
       " 'Europe/Lisbon',\n",
       " 'Europe/Ljubljana',\n",
       " 'Europe/London',\n",
       " 'Europe/Luxembourg',\n",
       " 'Europe/Madrid',\n",
       " 'Europe/Malta',\n",
       " 'Europe/Mariehamn',\n",
       " 'Europe/Minsk',\n",
       " 'Europe/Monaco',\n",
       " 'Europe/Moscow',\n",
       " 'Europe/Nicosia',\n",
       " 'Europe/Oslo',\n",
       " 'Europe/Paris',\n",
       " 'Europe/Podgorica',\n",
       " 'Europe/Prague',\n",
       " 'Europe/Riga',\n",
       " 'Europe/Rome',\n",
       " 'Europe/Samara',\n",
       " 'Europe/San_Marino',\n",
       " 'Europe/Sarajevo',\n",
       " 'Europe/Saratov',\n",
       " 'Europe/Simferopol',\n",
       " 'Europe/Skopje',\n",
       " 'Europe/Sofia',\n",
       " 'Europe/Stockholm',\n",
       " 'Europe/Tallinn',\n",
       " 'Europe/Tirane',\n",
       " 'Europe/Tiraspol',\n",
       " 'Europe/Ulyanovsk',\n",
       " 'Europe/Uzhgorod',\n",
       " 'Europe/Vaduz',\n",
       " 'Europe/Vatican',\n",
       " 'Europe/Vienna',\n",
       " 'Europe/Vilnius',\n",
       " 'Europe/Volgograd',\n",
       " 'Europe/Warsaw',\n",
       " 'Europe/Zagreb',\n",
       " 'Europe/Zaporozhye',\n",
       " 'Europe/Zurich',\n",
       " 'GB',\n",
       " 'GB-Eire',\n",
       " 'GMT',\n",
       " 'GMT+0',\n",
       " 'GMT-0',\n",
       " 'GMT0',\n",
       " 'Greenwich',\n",
       " 'HST',\n",
       " 'Hongkong',\n",
       " 'Iceland',\n",
       " 'Indian/Antananarivo',\n",
       " 'Indian/Chagos',\n",
       " 'Indian/Christmas',\n",
       " 'Indian/Cocos',\n",
       " 'Indian/Comoro',\n",
       " 'Indian/Kerguelen',\n",
       " 'Indian/Mahe',\n",
       " 'Indian/Maldives',\n",
       " 'Indian/Mauritius',\n",
       " 'Indian/Mayotte',\n",
       " 'Indian/Reunion',\n",
       " 'Iran',\n",
       " 'Israel',\n",
       " 'Jamaica',\n",
       " 'Japan',\n",
       " 'Kwajalein',\n",
       " 'Libya',\n",
       " 'MET',\n",
       " 'MST',\n",
       " 'MST7MDT',\n",
       " 'Mexico/BajaNorte',\n",
       " 'Mexico/BajaSur',\n",
       " 'Mexico/General',\n",
       " 'NZ',\n",
       " 'NZ-CHAT',\n",
       " 'Navajo',\n",
       " 'PRC',\n",
       " 'PST8PDT',\n",
       " 'Pacific/Apia',\n",
       " 'Pacific/Auckland',\n",
       " 'Pacific/Bougainville',\n",
       " 'Pacific/Chatham',\n",
       " 'Pacific/Chuuk',\n",
       " 'Pacific/Easter',\n",
       " 'Pacific/Efate',\n",
       " 'Pacific/Enderbury',\n",
       " 'Pacific/Fakaofo',\n",
       " 'Pacific/Fiji',\n",
       " 'Pacific/Funafuti',\n",
       " 'Pacific/Galapagos',\n",
       " 'Pacific/Gambier',\n",
       " 'Pacific/Guadalcanal',\n",
       " 'Pacific/Guam',\n",
       " 'Pacific/Honolulu',\n",
       " 'Pacific/Johnston',\n",
       " 'Pacific/Kanton',\n",
       " 'Pacific/Kiritimati',\n",
       " 'Pacific/Kosrae',\n",
       " 'Pacific/Kwajalein',\n",
       " 'Pacific/Majuro',\n",
       " 'Pacific/Marquesas',\n",
       " 'Pacific/Midway',\n",
       " 'Pacific/Nauru',\n",
       " 'Pacific/Niue',\n",
       " 'Pacific/Norfolk',\n",
       " 'Pacific/Noumea',\n",
       " 'Pacific/Pago_Pago',\n",
       " 'Pacific/Palau',\n",
       " 'Pacific/Pitcairn',\n",
       " 'Pacific/Pohnpei',\n",
       " 'Pacific/Ponape',\n",
       " 'Pacific/Port_Moresby',\n",
       " 'Pacific/Rarotonga',\n",
       " 'Pacific/Saipan',\n",
       " 'Pacific/Samoa',\n",
       " 'Pacific/Tahiti',\n",
       " 'Pacific/Tarawa',\n",
       " 'Pacific/Tongatapu',\n",
       " 'Pacific/Truk',\n",
       " 'Pacific/Wake',\n",
       " 'Pacific/Wallis',\n",
       " 'Pacific/Yap',\n",
       " 'Poland',\n",
       " 'Portugal',\n",
       " 'ROC',\n",
       " 'ROK',\n",
       " 'Singapore',\n",
       " 'Turkey',\n",
       " 'UCT',\n",
       " 'US/Alaska',\n",
       " 'US/Aleutian',\n",
       " 'US/Arizona',\n",
       " 'US/Central',\n",
       " 'US/East-Indiana',\n",
       " 'US/Eastern',\n",
       " 'US/Hawaii',\n",
       " 'US/Indiana-Starke',\n",
       " 'US/Michigan',\n",
       " 'US/Mountain',\n",
       " 'US/Pacific',\n",
       " 'US/Samoa',\n",
       " 'UTC',\n",
       " 'Universal',\n",
       " 'W-SU',\n",
       " 'WET',\n",
       " 'Zulu']"
      ]
     },
     "execution_count": 91,
     "metadata": {},
     "output_type": "execute_result"
    }
   ],
   "source": [
    "pytz.all_timezones"
   ]
  },
  {
   "cell_type": "markdown",
   "metadata": {
    "id": "UImLkDn89RvI"
   },
   "source": [
    "### Adding timezone\n",
    "It seems like `pytz` uses standard datetime library under the hood as well."
   ]
  },
  {
   "cell_type": "code",
   "execution_count": 102,
   "metadata": {
    "colab": {
     "base_uri": "https://localhost:8080/"
    },
    "id": "0VkMCbmK8yuq",
    "outputId": "baa6cd55-d9b0-4c16-a918-21e83ddf6cc1"
   },
   "outputs": [
    {
     "name": "stdout",
     "output_type": "stream",
     "text": [
      "Now: 2022-11-09 20:02:46.248376\n",
      "Now added Berlin Time Zone: 2022-11-09 20:02:46.248376+00:53\n",
      "Now Changed to Berlin Time: 2022-11-09 21:02:46.248376+01:00\n"
     ]
    }
   ],
   "source": [
    "now = pytz.datetime.datetime.now()\n",
    "print(f\"Now: {now}\")\n",
    "print(f\"Now added Berlin Time Zone: {now.replace(tzinfo=pytz.timezone('Europe/Berlin'))}\")\n",
    "print(f\"Now Changed to Berlin Time: {now.astimezone(pytz.timezone('Europe/Berlin'))}\")\n"
   ]
  },
  {
   "cell_type": "markdown",
   "metadata": {
    "id": "X1ifAdYW-kAx"
   },
   "source": [
    "In above example, first time is the local time printed by Python. And we replaced its timezone to Europe/Berlin which added the +00:53 on the last of time. Then we changed the actual time to Europe/Berlin time which added one hour and can be seen on the +01:00 as well. Looking into the now time in first line, its 20:02:46 but current time is 21:02:46 here in Germany so daylight saving is not working properly. Then on the last line we can see that daylight saving is working properly. Now I want to see what time is it in Kathmandu because Nepal does not follow daylight savings."
   ]
  },
  {
   "cell_type": "code",
   "execution_count": 103,
   "metadata": {
    "colab": {
     "base_uri": "https://localhost:8080/"
    },
    "id": "PZY8a03h9M5S",
    "outputId": "14f94f73-1da1-4b4f-c119-d3bdac98e95b"
   },
   "outputs": [
    {
     "name": "stdout",
     "output_type": "stream",
     "text": [
      "Now Changed to Kathmandu Time: 2022-11-10 01:47:46.248376+05:45\n"
     ]
    }
   ],
   "source": [
    "print(f\"Now Changed to Kathmandu Time: {now.astimezone(pytz.timezone('Asia/Kathmandu'))}\")"
   ]
  },
  {
   "cell_type": "markdown",
   "metadata": {
    "id": "f7hpktLZ_5kr"
   },
   "source": [
    "Its correct time but what if we changed it from the Berlin time which is having a daylight saving?"
   ]
  },
  {
   "cell_type": "code",
   "execution_count": 105,
   "metadata": {
    "colab": {
     "base_uri": "https://localhost:8080/"
    },
    "id": "t5oAN-bm-ppu",
    "outputId": "009062f9-be3d-4a44-82ae-9cdf6990b866"
   },
   "outputs": [
    {
     "name": "stdout",
     "output_type": "stream",
     "text": [
      "Now Changed to Kathmandu Time from Berlin: 2022-11-10 01:47:46.248376+05:45\n"
     ]
    }
   ],
   "source": [
    "print(f\"Now Changed to Kathmandu Time from Berlin: {now.astimezone(pytz.timezone('Europe/Berlin')).astimezone(pytz.timezone('Asia/Kathmandu'))}\")"
   ]
  },
  {
   "cell_type": "markdown",
   "metadata": {
    "id": "3Gk-NDqfAKEr"
   },
   "source": [
    "It is being handled. How ironic!!\n",
    "\n",
    "After adding the timezone, datetime object will be little different."
   ]
  },
  {
   "cell_type": "code",
   "execution_count": 106,
   "metadata": {
    "colab": {
     "base_uri": "https://localhost:8080/"
    },
    "id": "a7rB47uQAH1M",
    "outputId": "5eeecef1-8ef1-4e30-8b37-e7978f3d1ff6"
   },
   "outputs": [
    {
     "data": {
      "text/plain": [
       "datetime.datetime(2022, 11, 9, 20, 2, 46, 248376, tzinfo=<DstTzInfo 'Europe/Berlin' LMT+0:53:00 STD>)"
      ]
     },
     "execution_count": 106,
     "metadata": {},
     "output_type": "execute_result"
    }
   ],
   "source": [
    "now.replace(tzinfo=pytz.timezone('Europe/Berlin'))"
   ]
  },
  {
   "cell_type": "code",
   "execution_count": 108,
   "metadata": {
    "colab": {
     "base_uri": "https://localhost:8080/"
    },
    "id": "D5ZN-IJVA-Eu",
    "outputId": "12f45290-0918-4648-e7dc-3941948978f6"
   },
   "outputs": [
    {
     "data": {
      "text/plain": [
       "datetime.datetime(2022, 11, 9, 20, 2, 46, 248376, tzinfo=<UTC>)"
      ]
     },
     "execution_count": 108,
     "metadata": {},
     "output_type": "execute_result"
    }
   ],
   "source": [
    "# UTC time\n",
    "now.replace(tzinfo=pytz.timezone('UTC'))"
   ]
  },
  {
   "cell_type": "markdown",
   "metadata": {
    "id": "dqXx1-6DBLsC"
   },
   "source": [
    "## Using `pendulum` for clever works\n",
    "If we need to do more datetime operations then we can use [`pendulum`](https://pypi.org/project/pendulum/). We can install it simply by `pip install pendulum`."
   ]
  },
  {
   "cell_type": "code",
   "execution_count": 116,
   "metadata": {
    "colab": {
     "base_uri": "https://localhost:8080/"
    },
    "id": "hxyyzdWWBD62",
    "outputId": "6aeaa996-db14-42d1-dcb0-758f71e67167"
   },
   "outputs": [
    {
     "name": "stdout",
     "output_type": "stream",
     "text": [
      "Looking in indexes: https://pypi.org/simple, https://us-python.pkg.dev/colab-wheels/public/simple/\n",
      "Collecting pendulum\n",
      "  Downloading pendulum-2.1.2-cp37-cp37m-manylinux1_x86_64.whl (155 kB)\n",
      "\u001b[K     |████████████████████████████████| 155 kB 5.1 MB/s \n",
      "\u001b[?25hCollecting pytzdata>=2020.1\n",
      "  Downloading pytzdata-2020.1-py2.py3-none-any.whl (489 kB)\n",
      "\u001b[K     |████████████████████████████████| 489 kB 44.8 MB/s \n",
      "\u001b[?25hRequirement already satisfied: python-dateutil<3.0,>=2.6 in /usr/local/lib/python3.7/dist-packages (from pendulum) (2.8.2)\n",
      "Requirement already satisfied: six>=1.5 in /usr/local/lib/python3.7/dist-packages (from python-dateutil<3.0,>=2.6->pendulum) (1.15.0)\n",
      "Installing collected packages: pytzdata, pendulum\n",
      "Successfully installed pendulum-2.1.2 pytzdata-2020.1\n"
     ]
    }
   ],
   "source": [
    "!pip install pendulum\n"
   ]
  },
  {
   "cell_type": "code",
   "execution_count": 117,
   "metadata": {
    "colab": {
     "base_uri": "https://localhost:8080/"
    },
    "id": "F6182f-RBOV2",
    "outputId": "9d12d311-b956-4cd3-ed61-9965d2f5d50e"
   },
   "outputs": [
    {
     "name": "stdout",
     "output_type": "stream",
     "text": [
      "2022-11-09T20:19:39.486885+00:00\n"
     ]
    }
   ],
   "source": [
    "import pendulum\n",
    "now = pendulum.now()\n",
    "print(now)"
   ]
  },
  {
   "cell_type": "markdown",
   "metadata": {
    "id": "pAj_9XLLDLkt"
   },
   "source": [
    "### When will the next Friday be?\n",
    "Pendulum tells us this with simple call."
   ]
  },
  {
   "cell_type": "code",
   "execution_count": 121,
   "metadata": {
    "colab": {
     "base_uri": "https://localhost:8080/"
    },
    "id": "HF3Jc20NDF8L",
    "outputId": "50764b0b-a22a-4925-f59c-955abb1d93e5"
   },
   "outputs": [
    {
     "data": {
      "text/plain": [
       "DateTime(2022, 11, 11, 0, 0, 0, tzinfo=Timezone('Etc/UTC'))"
      ]
     },
     "execution_count": 121,
     "metadata": {},
     "output_type": "execute_result"
    }
   ],
   "source": [
    "now.next(pendulum.FRIDAY)"
   ]
  },
  {
   "cell_type": "markdown",
   "metadata": {
    "id": "_F89CVrlDxn0"
   },
   "source": [
    "## Problem Answers\n",
    "Here I will write about some cases where I had to use datetime above mentioned packages on realworld."
   ]
  },
  {
   "cell_type": "markdown",
   "metadata": {
    "id": "oqaiR4IJEHXi"
   },
   "source": [
    "### 1. Run stock backtesting on every Saturday.\n",
    "\n",
    "* We can use Asyncio to sleep the system.\n",
    "* Run everything in a never ending loop and check current day. If current day is Saturday then perform backtesting.\n",
    "* If current day is not friday then sleep until Saturday.\n"
   ]
  },
  {
   "cell_type": "code",
   "execution_count": 127,
   "metadata": {
    "colab": {
     "base_uri": "https://localhost:8080/"
    },
    "id": "VeScY4dpDWAR",
    "outputId": "ae168f3c-02dc-4de2-f057-98a8d5dafa50"
   },
   "outputs": [
    {
     "name": "stdout",
     "output_type": "stream",
     "text": [
      "Curr Time: 2022-11-09 21:33:01.985186+01:00, Day: WEDNESDAY\n",
      "Next SAT: 2022-11-12T00:00:00+01:00\n",
      "Sleep until: 181618.014127secs.\n"
     ]
    }
   ],
   "source": [
    "import datetime, pytz, pendulum\n",
    "curr_time = datetime.datetime.now().astimezone(pytz.timezone('Europe/Berlin'))\n",
    "day = curr_time.strftime('%A').upper()\n",
    "print(f\"Curr Time: {curr_time}, Day: {day}\")\n",
    "if day!='SATURDAY':\n",
    "  pnow = pendulum.now()\n",
    "  next_sat = pnow.astimezone(pytz.timezone('Europe/Berlin')).next(pendulum.SATURDAY)\n",
    "  print(f\"Next SAT: {next_sat}\")\n",
    "  sleep_till = (next_sat-pnow).total_seconds()\n",
    "  print(f\"Sleep until: {sleep_till}secs.\")\n",
    "  # await asyncio.sleep(sleep_till)\n",
    "else:\n",
    "  pass\n",
    "  # perform backtesting here"
   ]
  },
  {
   "cell_type": "markdown",
   "metadata": {
    "id": "zh1wZkcEENax"
   },
   "source": [
    "### 2. Email customers that they will be charged fee on last day of month.\n",
    "Lets say there is a platform where subscribed customers will be charged every month's end regardless of days in month. And we will mail them a week before the end of month. This is quite tricky and fun thing to do."
   ]
  },
  {
   "cell_type": "code",
   "execution_count": 138,
   "metadata": {
    "colab": {
     "base_uri": "https://localhost:8080/"
    },
    "id": "k4tv8apLDdR-",
    "outputId": "8b060871-1a5d-43ef-f429-220f1bc8d53d"
   },
   "outputs": [
    {
     "name": "stdout",
     "output_type": "stream",
     "text": [
      "Curr Time: 2022-11-09 21:33:01.985186+01:00, Next Month: 2022-12-01 00:00:00\n",
      "Last Month Day: 2022-11-30 00:00:00\n"
     ]
    }
   ],
   "source": [
    "next_month = datetime.datetime(year=curr_time.year, month=curr_time.month+1, day=1)\n",
    "print(f\"Curr Time: {curr_time}, Next Month: {next_month}\")\n",
    "last_month_day = next_month-datetime.timedelta(days=1)\n",
    "print(f\"Last Month Day: {last_month_day}\")\n",
    "\n",
    "if curr_time.date()==last_month_day.date():\n",
    "  print(\"Send emails.\")\n",
    "\n"
   ]
  },
  {
   "cell_type": "markdown",
   "metadata": {
    "id": "K3xLyEjeImm5"
   },
   "source": [
    "### 3. Store datetime from multiple sources to central database\n",
    "Here datetime format and timezones could be different for different sources. And there will not be a quite solution for this problem because there is not any information about what are the formats of datetime in different sources. But what we can do is:\n",
    "* Prepare config for datetime formats from each sources. Assuming that format won't change once set. Example\n",
    "```python\n",
    "source_datetime_format = {\"source1\":\"%Y-%m-%d\", \"source2\":\"%m-%d-%Y %H.%M.%S\", \"source2\":\"%m-%d-%Y %H:%M:%S\"}\n",
    "destination_datetime_format = \"%m/%d/%Y %H:%M:%S\"\n",
    "```\n",
    "* Prepare config of timezone for each source's datetime.\n"
   ]
  },
  {
   "cell_type": "code",
   "execution_count": null,
   "metadata": {
    "id": "SrOkmCjGGnvL"
   },
   "outputs": [],
   "source": []
  },
  {
   "cell_type": "markdown",
   "metadata": {
    "id": "Dbil8dqzKVmT"
   },
   "source": [
    "## Conclusion\n",
    "Here I tried to use some of datetime packages in Python and did some examples as well there are lot more to come. Stay tuned :)"
   ]
  },
  {
   "cell_type": "code",
   "execution_count": null,
   "metadata": {
    "id": "JI5PnZpJKoY9"
   },
   "outputs": [],
   "source": []
  }
 ],
 "metadata": {
  "colab": {
   "collapsed_sections": [],
   "provenance": [],
   "toc_visible": true
  },
  "kernelspec": {
   "display_name": "Python 3",
   "language": "python",
   "name": "python3"
  },
  "language_info": {
   "codemirror_mode": {
    "name": "ipython",
    "version": 3
   },
   "file_extension": ".py",
   "mimetype": "text/x-python",
   "name": "python",
   "nbconvert_exporter": "python",
   "pygments_lexer": "ipython3",
   "version": "3.8.5"
  },
  "latex_envs": {
   "LaTeX_envs_menu_present": true,
   "autoclose": false,
   "autocomplete": true,
   "bibliofile": "biblio.bib",
   "cite_by": "apalike",
   "current_citInitial": 1,
   "eqLabelWithNumbers": true,
   "eqNumInitial": 1,
   "hotkeys": {
    "equation": "Ctrl-E",
    "itemize": "Ctrl-I"
   },
   "labels_anchors": false,
   "latex_user_defs": false,
   "report_style_numbering": false,
   "user_envs_cfg": false
  },
  "toc": {
   "base_numbering": 1,
   "nav_menu": {},
   "number_sections": true,
   "sideBar": true,
   "skip_h1_title": false,
   "title_cell": "Table of Contents",
   "title_sidebar": "Contents",
   "toc_cell": false,
   "toc_position": {},
   "toc_section_display": true,
   "toc_window_display": false
  },
  "varInspector": {
   "cols": {
    "lenName": 16,
    "lenType": 16,
    "lenVar": 40
   },
   "kernels_config": {
    "python": {
     "delete_cmd_postfix": "",
     "delete_cmd_prefix": "del ",
     "library": "var_list.py",
     "varRefreshCmd": "print(var_dic_list())"
    },
    "r": {
     "delete_cmd_postfix": ") ",
     "delete_cmd_prefix": "rm(",
     "library": "var_list.r",
     "varRefreshCmd": "cat(var_dic_list()) "
    }
   },
   "types_to_exclude": [
    "module",
    "function",
    "builtin_function_or_method",
    "instance",
    "_Feature"
   ],
   "window_display": false
  }
 },
 "nbformat": 4,
 "nbformat_minor": 1
}
