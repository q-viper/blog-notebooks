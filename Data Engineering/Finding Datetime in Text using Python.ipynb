{
 "cells": [
  {
   "cell_type": "markdown",
   "metadata": {},
   "source": [
    "In the field of data science, we often have to deal with various kind of data and one of common is Text data. Before jumping into a topic let's first start with a problem I recently encountered. I was given a task to extract sent and received email messages from a long thread of multipart email. The email I used to get would be something like below:\n",
    "\n",
    "\n"
   ]
  },
  {
   "cell_type": "code",
   "execution_count": 18,
   "metadata": {
    "ExecuteTime": {
     "end_time": "2022-11-21T11:47:55.021895Z",
     "start_time": "2022-11-21T11:47:55.008892Z"
    }
   },
   "outputs": [],
   "source": [
    "\n",
    "eml = \"\"\"Re: Documents Received\n",
    "\n",
    "\n",
    "\n",
    "John Doe <john@doe.org>\n",
    "Wed, Jun 1, 2011, 9:39 PM\n",
    "to Emma, Don, Bucky\n",
    "\n",
    "\n",
    "\n",
    "Lorem\n",
    "Ipsum\n",
    "Dorem\n",
    "\n",
    "\n",
    "On 01/06/2011, at 7:57 PM, \"Emma\" <emma@thompson.com> wrote:\n",
    "\n",
    "\n",
    "Lorem Ipsum?\n",
    "\n",
    "Thanks John\n",
    "\n",
    "On 1 June 2011 13:43, Bucky Hallam <bucky@barnes.com> wrote:\n",
    "\n",
    "\n",
    "Lorem Ipsum is Dorem.\n",
    "\n",
    "\n",
    "\n",
    "Thanks Emma\"\"\"\n"
   ]
  },
  {
   "cell_type": "markdown",
   "metadata": {},
   "source": [
    "Above text is modified from a original multipart email. My goal was to separate received and sent emails from one another. I have written a blog about how to retrieve emails as well, please give it a try if you are interested. I split entire text by `wrote:` and then have to split parts again using `On sent date`. First part was easy but due to different variant of dates, second part got terribly hard. Some of first emails  I worked on had dates like `On Sun 11, 2022`, and I created a list like below"
   ]
  },
  {
   "cell_type": "code",
   "execution_count": 16,
   "metadata": {
    "ExecuteTime": {
     "end_time": "2022-11-21T11:38:15.945185Z",
     "start_time": "2022-11-21T11:38:15.914252Z"
    }
   },
   "outputs": [
    {
     "data": {
      "text/plain": [
       "['On Sun,', 'On Mon,', 'On Tue,', 'On Wed,', 'On Thu,', 'On Fri,', 'On Sat,']"
      ]
     },
     "execution_count": 16,
     "metadata": {},
     "output_type": "execute_result"
    }
   ],
   "source": [
    "[f'On {d},' for d in ['Sun', 'Mon', 'Tue', 'Wed', 'Thu', 'Fri', 'Sat']]"
   ]
  },
  {
   "cell_type": "markdown",
   "metadata": {
    "ExecuteTime": {
     "end_time": "2022-11-21T11:16:31.120451Z",
     "start_time": "2022-11-21T11:16:31.088480Z"
    }
   },
   "source": [
    "It worked for some but when sent dates were in different format based on mail servers, this failed. Now there are number of ways one could do it. But all are based on finding the pattern of datetime. Usually datetime has pattern like YYYY/MM/DD HH:MM:SS, DD/MM/YYYY HH:MM:SS and so on we could prepare regex for that and find where it matched."
   ]
  },
  {
   "cell_type": "code",
   "execution_count": 19,
   "metadata": {
    "ExecuteTime": {
     "end_time": "2022-11-21T11:48:08.590220Z",
     "start_time": "2022-11-21T11:48:08.583215Z"
    }
   },
   "outputs": [],
   "source": [
    "import re"
   ]
  },
  {
   "cell_type": "markdown",
   "metadata": {},
   "source": [
    "## Finding Date Using Regex\n",
    "\n",
    "### Format 1\n",
    "Let's try to find date from the format YYYY/MM/DD without any time."
   ]
  },
  {
   "cell_type": "code",
   "execution_count": 24,
   "metadata": {
    "ExecuteTime": {
     "end_time": "2022-11-21T13:56:22.171113Z",
     "start_time": "2022-11-21T13:56:22.155113Z"
    }
   },
   "outputs": [
    {
     "name": "stdout",
     "output_type": "stream",
     "text": [
      "['2022/11/11', '2022/11/12']\n"
     ]
    }
   ],
   "source": [
    "pattern = r'\\d{4}/\\d{2}/\\d{2}'\n",
    "txt = \"This is 2022/11/11 and we are waiting for 2022/11/12.\"\n",
    "print(re.findall(pattern, txt, re.DOTALL))"
   ]
  },
  {
   "cell_type": "markdown",
   "metadata": {},
   "source": [
    "This works well but not in the case when another format like `-` is used instead of `/`."
   ]
  },
  {
   "cell_type": "code",
   "execution_count": 26,
   "metadata": {
    "ExecuteTime": {
     "end_time": "2022-11-21T13:57:34.747690Z",
     "start_time": "2022-11-21T13:57:34.740692Z"
    }
   },
   "outputs": [
    {
     "name": "stdout",
     "output_type": "stream",
     "text": [
      "['2022/11/12']\n"
     ]
    }
   ],
   "source": [
    "pattern = r'\\d{4}/\\d{2}/\\d{2}'\n",
    "txt = \"This is 2022-11-11 and we are waiting for 2022/11/12.\"\n",
    "print(re.findall(pattern, txt, re.DOTALL))"
   ]
  },
  {
   "cell_type": "markdown",
   "metadata": {},
   "source": [
    "It missed date here. We can simply use the or operator to add another format there."
   ]
  },
  {
   "cell_type": "code",
   "execution_count": 38,
   "metadata": {
    "ExecuteTime": {
     "end_time": "2022-11-21T14:04:44.037367Z",
     "start_time": "2022-11-21T14:04:44.019361Z"
    }
   },
   "outputs": [
    {
     "name": "stdout",
     "output_type": "stream",
     "text": [
      "['2022-11-11', '2022/11/12']\n"
     ]
    }
   ],
   "source": [
    "pattern = r'(\\d{4}-\\d{2}-\\d{2}|\\d{4}/\\d{2}/\\d{2})'\n",
    "txt = \"This is 2022-11-11 and we are waiting for 2022/11/12.\"\n",
    "print(re.findall(pattern, txt, re.DOTALL))"
   ]
  },
  {
   "cell_type": "markdown",
   "metadata": {},
   "source": [
    "### Format 2\n",
    "\n",
    "Let's use time too."
   ]
  },
  {
   "cell_type": "code",
   "execution_count": 40,
   "metadata": {
    "ExecuteTime": {
     "end_time": "2022-11-21T14:05:52.459024Z",
     "start_time": "2022-11-21T14:05:52.439023Z"
    }
   },
   "outputs": [
    {
     "name": "stdout",
     "output_type": "stream",
     "text": [
      "['2022-11-11 14:23:19', '2022/11/12']\n"
     ]
    }
   ],
   "source": [
    "pattern = r'(\\d{4}-\\d{2}-\\d{2} \\d{2}:\\d{2}:\\d{2}|\\d{4}/\\d{2}/\\d{2})'\n",
    "txt = \"This is 2022-11-11 14:23:19 and we are waiting for 2022/11/12.\"\n",
    "print(re.findall(pattern, txt, re.DOTALL))"
   ]
  },
  {
   "cell_type": "markdown",
   "metadata": {},
   "source": [
    "It worked but not much in the cases like we have in email. But we can split our text based on found date too and its very useful above."
   ]
  },
  {
   "cell_type": "code",
   "execution_count": 41,
   "metadata": {
    "ExecuteTime": {
     "end_time": "2022-11-21T14:07:50.042779Z",
     "start_time": "2022-11-21T14:07:50.031779Z"
    }
   },
   "outputs": [
    {
     "name": "stdout",
     "output_type": "stream",
     "text": [
      "['This is ', '2022-11-11 14:23:19', ' and we are waiting for ', '2022/11/12', '.']\n"
     ]
    }
   ],
   "source": [
    "pattern = r'(\\d{4}-\\d{2}-\\d{2} \\d{2}:\\d{2}:\\d{2}|\\d{4}/\\d{2}/\\d{2})'\n",
    "txt = \"This is 2022-11-11 14:23:19 and we are waiting for 2022/11/12.\"\n",
    "print(re.split(pattern, txt, re.DOTALL))"
   ]
  },
  {
   "cell_type": "markdown",
   "metadata": {},
   "source": [
    "## Our Email\n",
    "\n",
    "There are different format of date in our above email.\n",
    "* Wed, Jun 1, 2011, 9:39 PM\n",
    "* 01/06/2011, at 7:57 PM\n",
    "* 1 June 2011 13:43\n",
    "\n",
    "And all of these above 3 requires different pattern as well so its little tricky and more hard work to find it."
   ]
  },
  {
   "cell_type": "markdown",
   "metadata": {},
   "source": [
    "### For Jun 1, 2011, 9:39 PM\n"
   ]
  },
  {
   "cell_type": "code",
   "execution_count": 117,
   "metadata": {
    "ExecuteTime": {
     "end_time": "2022-11-21T14:53:34.853394Z",
     "start_time": "2022-11-21T14:53:34.838395Z"
    }
   },
   "outputs": [
    {
     "name": "stdout",
     "output_type": "stream",
     "text": [
      "['1, 2011, 9:29 AM', '1, 2011, 19:39 PM']\n"
     ]
    }
   ],
   "source": [
    "pattern = r'([0-3]?[0-9], \\d{4}, [0-2]?[0-9]:[0-5][0-9] [AaPp][Mm])' \n",
    "txt = 'This is Wed, Jun 1, 2011, 9:29 AM and Wed, Jun 1, 2011, 19:39 PM'\n",
    "print(re.findall(pattern, txt, re.DOTALL))\n"
   ]
  },
  {
   "cell_type": "markdown",
   "metadata": {},
   "source": [
    "### For 01/06/2011, at 7:57 PM"
   ]
  },
  {
   "cell_type": "code",
   "execution_count": 121,
   "metadata": {
    "ExecuteTime": {
     "end_time": "2022-11-21T14:54:32.522649Z",
     "start_time": "2022-11-21T14:54:32.501646Z"
    }
   },
   "outputs": [
    {
     "name": "stdout",
     "output_type": "stream",
     "text": [
      "['01/06/2011, at 7:57 PM', '01/06/2011, at 19:57 PM']\n"
     ]
    }
   ],
   "source": [
    "pattern = r'([0-1]?[0-2]/[0-3]?[0-9]/\\d{4}, at [0-2]?[0-9]:[0-5][0-9] [AaPp][Mm])' \n",
    "txt = 'This is 01/06/2011, at 7:57 PM and 01/06/2011, at 19:57 PM'\n",
    "print(re.findall(pattern, txt, re.DOTALL))\n"
   ]
  },
  {
   "cell_type": "markdown",
   "metadata": {},
   "source": [
    "### For 1 June 2011 13:43"
   ]
  },
  {
   "cell_type": "code",
   "execution_count": 142,
   "metadata": {
    "ExecuteTime": {
     "end_time": "2022-11-21T14:59:20.183761Z",
     "start_time": "2022-11-21T14:59:20.168783Z"
    }
   },
   "outputs": [
    {
     "name": "stdout",
     "output_type": "stream",
     "text": [
      "['1 June 2011 13:43']\n"
     ]
    }
   ],
   "source": [
    "pattern = r'([0-1]?[0-2] \\w{3,} \\d{4} [0-2]?[0-9]:[0-5][0-9])' \n",
    "txt = 'This is 1 June 2011 13:43'\n",
    "print(re.findall(pattern, txt, re.DOTALL))\n"
   ]
  },
  {
   "cell_type": "markdown",
   "metadata": {},
   "source": [
    "But finding the pattern for each format is not a good solution. And there is not a golden pattern either. However there are some Python packages which can help us in these cases."
   ]
  },
  {
   "cell_type": "markdown",
   "metadata": {},
   "source": [
    "## Using `dateutil` \n",
    "If this package is not installed, please do it by `pip install dateutil`.\n"
   ]
  },
  {
   "cell_type": "code",
   "execution_count": 143,
   "metadata": {
    "ExecuteTime": {
     "end_time": "2022-11-21T15:01:21.200243Z",
     "start_time": "2022-11-21T15:01:21.189244Z"
    }
   },
   "outputs": [],
   "source": [
    "from dateutil.parser import parse"
   ]
  },
  {
   "cell_type": "markdown",
   "metadata": {},
   "source": [
    "With simply calling parse method, we can get datetime."
   ]
  },
  {
   "cell_type": "code",
   "execution_count": 144,
   "metadata": {
    "ExecuteTime": {
     "end_time": "2022-11-21T15:02:07.918273Z",
     "start_time": "2022-11-21T15:02:07.888274Z"
    }
   },
   "outputs": [
    {
     "data": {
      "text/plain": [
       "(datetime.datetime(2011, 6, 1, 13, 43), ('This is ', ' '))"
      ]
     },
     "execution_count": 144,
     "metadata": {},
     "output_type": "execute_result"
    }
   ],
   "source": [
    "parse('This is 1 June 2011 13:43', fuzzy_with_tokens=True)"
   ]
  },
  {
   "cell_type": "markdown",
   "metadata": {},
   "source": [
    "But this doesn't work always."
   ]
  },
  {
   "cell_type": "code",
   "execution_count": 147,
   "metadata": {
    "ExecuteTime": {
     "end_time": "2022-11-21T15:03:54.619655Z",
     "start_time": "2022-11-21T15:03:54.585660Z"
    }
   },
   "outputs": [
    {
     "ename": "ParserError",
     "evalue": "Unknown string format: This is Wed, Jun 1, 2011, 9:29 AM and Wed, Jun 1, 2011, 19:39 PM",
     "output_type": "error",
     "traceback": [
      "\u001b[1;31m---------------------------------------------------------------------------\u001b[0m",
      "\u001b[1;31mParserError\u001b[0m                               Traceback (most recent call last)",
      "\u001b[1;32m<ipython-input-147-1f921311ad5f>\u001b[0m in \u001b[0;36m<module>\u001b[1;34m\u001b[0m\n\u001b[1;32m----> 1\u001b[1;33m \u001b[0mparse\u001b[0m\u001b[1;33m(\u001b[0m\u001b[1;34m'This is Wed, Jun 1, 2011, 9:29 AM and Wed, Jun 1, 2011, 19:39 PM'\u001b[0m\u001b[1;33m,\u001b[0m \u001b[0mfuzzy_with_tokens\u001b[0m\u001b[1;33m=\u001b[0m\u001b[1;32mTrue\u001b[0m\u001b[1;33m)\u001b[0m\u001b[1;33m\u001b[0m\u001b[1;33m\u001b[0m\u001b[0m\n\u001b[0m",
      "\u001b[1;32mC:\\ProgramData\\Anaconda3\\lib\\site-packages\\dateutil\\parser\\_parser.py\u001b[0m in \u001b[0;36mparse\u001b[1;34m(timestr, parserinfo, **kwargs)\u001b[0m\n\u001b[0;32m   1372\u001b[0m         \u001b[1;32mreturn\u001b[0m \u001b[0mparser\u001b[0m\u001b[1;33m(\u001b[0m\u001b[0mparserinfo\u001b[0m\u001b[1;33m)\u001b[0m\u001b[1;33m.\u001b[0m\u001b[0mparse\u001b[0m\u001b[1;33m(\u001b[0m\u001b[0mtimestr\u001b[0m\u001b[1;33m,\u001b[0m \u001b[1;33m**\u001b[0m\u001b[0mkwargs\u001b[0m\u001b[1;33m)\u001b[0m\u001b[1;33m\u001b[0m\u001b[1;33m\u001b[0m\u001b[0m\n\u001b[0;32m   1373\u001b[0m     \u001b[1;32melse\u001b[0m\u001b[1;33m:\u001b[0m\u001b[1;33m\u001b[0m\u001b[1;33m\u001b[0m\u001b[0m\n\u001b[1;32m-> 1374\u001b[1;33m         \u001b[1;32mreturn\u001b[0m \u001b[0mDEFAULTPARSER\u001b[0m\u001b[1;33m.\u001b[0m\u001b[0mparse\u001b[0m\u001b[1;33m(\u001b[0m\u001b[0mtimestr\u001b[0m\u001b[1;33m,\u001b[0m \u001b[1;33m**\u001b[0m\u001b[0mkwargs\u001b[0m\u001b[1;33m)\u001b[0m\u001b[1;33m\u001b[0m\u001b[1;33m\u001b[0m\u001b[0m\n\u001b[0m\u001b[0;32m   1375\u001b[0m \u001b[1;33m\u001b[0m\u001b[0m\n\u001b[0;32m   1376\u001b[0m \u001b[1;33m\u001b[0m\u001b[0m\n",
      "\u001b[1;32mC:\\ProgramData\\Anaconda3\\lib\\site-packages\\dateutil\\parser\\_parser.py\u001b[0m in \u001b[0;36mparse\u001b[1;34m(self, timestr, default, ignoretz, tzinfos, **kwargs)\u001b[0m\n\u001b[0;32m    647\u001b[0m \u001b[1;33m\u001b[0m\u001b[0m\n\u001b[0;32m    648\u001b[0m         \u001b[1;32mif\u001b[0m \u001b[0mres\u001b[0m \u001b[1;32mis\u001b[0m \u001b[1;32mNone\u001b[0m\u001b[1;33m:\u001b[0m\u001b[1;33m\u001b[0m\u001b[1;33m\u001b[0m\u001b[0m\n\u001b[1;32m--> 649\u001b[1;33m             \u001b[1;32mraise\u001b[0m \u001b[0mParserError\u001b[0m\u001b[1;33m(\u001b[0m\u001b[1;34m\"Unknown string format: %s\"\u001b[0m\u001b[1;33m,\u001b[0m \u001b[0mtimestr\u001b[0m\u001b[1;33m)\u001b[0m\u001b[1;33m\u001b[0m\u001b[1;33m\u001b[0m\u001b[0m\n\u001b[0m\u001b[0;32m    650\u001b[0m \u001b[1;33m\u001b[0m\u001b[0m\n\u001b[0;32m    651\u001b[0m         \u001b[1;32mif\u001b[0m \u001b[0mlen\u001b[0m\u001b[1;33m(\u001b[0m\u001b[0mres\u001b[0m\u001b[1;33m)\u001b[0m \u001b[1;33m==\u001b[0m \u001b[1;36m0\u001b[0m\u001b[1;33m:\u001b[0m\u001b[1;33m\u001b[0m\u001b[1;33m\u001b[0m\u001b[0m\n",
      "\u001b[1;31mParserError\u001b[0m: Unknown string format: This is Wed, Jun 1, 2011, 9:29 AM and Wed, Jun 1, 2011, 19:39 PM"
     ]
    }
   ],
   "source": [
    "parse('This is Wed, Jun 1, 2011, 9:29 AM and Wed, Jun 1, 2011, 19:39 PM', fuzzy_with_tokens=True)"
   ]
  },
  {
   "cell_type": "code",
   "execution_count": 146,
   "metadata": {
    "ExecuteTime": {
     "end_time": "2022-11-21T15:03:03.874668Z",
     "start_time": "2022-11-21T15:03:03.829671Z"
    }
   },
   "outputs": [
    {
     "ename": "ParserError",
     "evalue": "Unknown string format: This is 01/06/2011, at 7:57 PM and 01/06/2011, at 19:57 PM",
     "output_type": "error",
     "traceback": [
      "\u001b[1;31m---------------------------------------------------------------------------\u001b[0m",
      "\u001b[1;31mParserError\u001b[0m                               Traceback (most recent call last)",
      "\u001b[1;32m<ipython-input-146-f7324a8c6b10>\u001b[0m in \u001b[0;36m<module>\u001b[1;34m\u001b[0m\n\u001b[1;32m----> 1\u001b[1;33m \u001b[0mparse\u001b[0m\u001b[1;33m(\u001b[0m\u001b[1;34m'This is 01/06/2011, at 7:57 PM and 01/06/2011, at 19:57 PM'\u001b[0m\u001b[1;33m)\u001b[0m\u001b[1;33m\u001b[0m\u001b[1;33m\u001b[0m\u001b[0m\n\u001b[0m",
      "\u001b[1;32mC:\\ProgramData\\Anaconda3\\lib\\site-packages\\dateutil\\parser\\_parser.py\u001b[0m in \u001b[0;36mparse\u001b[1;34m(timestr, parserinfo, **kwargs)\u001b[0m\n\u001b[0;32m   1372\u001b[0m         \u001b[1;32mreturn\u001b[0m \u001b[0mparser\u001b[0m\u001b[1;33m(\u001b[0m\u001b[0mparserinfo\u001b[0m\u001b[1;33m)\u001b[0m\u001b[1;33m.\u001b[0m\u001b[0mparse\u001b[0m\u001b[1;33m(\u001b[0m\u001b[0mtimestr\u001b[0m\u001b[1;33m,\u001b[0m \u001b[1;33m**\u001b[0m\u001b[0mkwargs\u001b[0m\u001b[1;33m)\u001b[0m\u001b[1;33m\u001b[0m\u001b[1;33m\u001b[0m\u001b[0m\n\u001b[0;32m   1373\u001b[0m     \u001b[1;32melse\u001b[0m\u001b[1;33m:\u001b[0m\u001b[1;33m\u001b[0m\u001b[1;33m\u001b[0m\u001b[0m\n\u001b[1;32m-> 1374\u001b[1;33m         \u001b[1;32mreturn\u001b[0m \u001b[0mDEFAULTPARSER\u001b[0m\u001b[1;33m.\u001b[0m\u001b[0mparse\u001b[0m\u001b[1;33m(\u001b[0m\u001b[0mtimestr\u001b[0m\u001b[1;33m,\u001b[0m \u001b[1;33m**\u001b[0m\u001b[0mkwargs\u001b[0m\u001b[1;33m)\u001b[0m\u001b[1;33m\u001b[0m\u001b[1;33m\u001b[0m\u001b[0m\n\u001b[0m\u001b[0;32m   1375\u001b[0m \u001b[1;33m\u001b[0m\u001b[0m\n\u001b[0;32m   1376\u001b[0m \u001b[1;33m\u001b[0m\u001b[0m\n",
      "\u001b[1;32mC:\\ProgramData\\Anaconda3\\lib\\site-packages\\dateutil\\parser\\_parser.py\u001b[0m in \u001b[0;36mparse\u001b[1;34m(self, timestr, default, ignoretz, tzinfos, **kwargs)\u001b[0m\n\u001b[0;32m    647\u001b[0m \u001b[1;33m\u001b[0m\u001b[0m\n\u001b[0;32m    648\u001b[0m         \u001b[1;32mif\u001b[0m \u001b[0mres\u001b[0m \u001b[1;32mis\u001b[0m \u001b[1;32mNone\u001b[0m\u001b[1;33m:\u001b[0m\u001b[1;33m\u001b[0m\u001b[1;33m\u001b[0m\u001b[0m\n\u001b[1;32m--> 649\u001b[1;33m             \u001b[1;32mraise\u001b[0m \u001b[0mParserError\u001b[0m\u001b[1;33m(\u001b[0m\u001b[1;34m\"Unknown string format: %s\"\u001b[0m\u001b[1;33m,\u001b[0m \u001b[0mtimestr\u001b[0m\u001b[1;33m)\u001b[0m\u001b[1;33m\u001b[0m\u001b[1;33m\u001b[0m\u001b[0m\n\u001b[0m\u001b[0;32m    650\u001b[0m \u001b[1;33m\u001b[0m\u001b[0m\n\u001b[0;32m    651\u001b[0m         \u001b[1;32mif\u001b[0m \u001b[0mlen\u001b[0m\u001b[1;33m(\u001b[0m\u001b[0mres\u001b[0m\u001b[1;33m)\u001b[0m \u001b[1;33m==\u001b[0m \u001b[1;36m0\u001b[0m\u001b[1;33m:\u001b[0m\u001b[1;33m\u001b[0m\u001b[1;33m\u001b[0m\u001b[0m\n",
      "\u001b[1;31mParserError\u001b[0m: Unknown string format: This is 01/06/2011, at 7:57 PM and 01/06/2011, at 19:57 PM"
     ]
    }
   ],
   "source": [
    "parse('This is 01/06/2011, at 7:57 PM and 01/06/2011, at 19:57 PM', fuzzy_with_tokens=True)"
   ]
  },
  {
   "cell_type": "markdown",
   "metadata": {},
   "source": [
    "## Using `dateparser`\n",
    "\n",
    "I found this package to be more effective than `dateutil`. Please install it using `pip install dateparser`."
   ]
  },
  {
   "cell_type": "code",
   "execution_count": 148,
   "metadata": {
    "ExecuteTime": {
     "end_time": "2022-11-21T15:06:02.475129Z",
     "start_time": "2022-11-21T15:05:55.835923Z"
    }
   },
   "outputs": [
    {
     "data": {
      "text/plain": [
       "[('Wed, Jun 1, 2011, 9:39 PM', datetime.datetime(2011, 6, 1, 21, 39)),\n",
       " ('On 01/06/2011, at 7:57 PM', datetime.datetime(2011, 1, 6, 19, 57)),\n",
       " ('On 1 June 2011 13:43', datetime.datetime(2011, 6, 1, 13, 43))]"
      ]
     },
     "execution_count": 148,
     "metadata": {},
     "output_type": "execute_result"
    }
   ],
   "source": [
    "from dateparser.search import search_dates\n",
    "\n",
    "search_dates(eml)"
   ]
  },
  {
   "cell_type": "markdown",
   "metadata": {},
   "source": [
    "We can see that it found all the date times. And it also returns in native python dateime object. Isn't it awesome?"
   ]
  },
  {
   "cell_type": "markdown",
   "metadata": {},
   "source": [
    "## Using `datefinder`\n",
    "\n",
    "This is another package which can find dates from text. Please install it using `pip install datefinder`"
   ]
  },
  {
   "cell_type": "code",
   "execution_count": 149,
   "metadata": {
    "ExecuteTime": {
     "end_time": "2022-11-21T15:08:48.974425Z",
     "start_time": "2022-11-21T15:08:21.955277Z"
    }
   },
   "outputs": [
    {
     "name": "stdout",
     "output_type": "stream",
     "text": [
      "Collecting datefinder\n",
      "  Downloading datefinder-0.7.3-py2.py3-none-any.whl (10 kB)\n",
      "Requirement already satisfied: pytz in c:\\programdata\\anaconda3\\lib\\site-packages (from datefinder) (2020.1)\n",
      "Requirement already satisfied: python-dateutil>=2.4.2 in c:\\programdata\\anaconda3\\lib\\site-packages (from datefinder) (2.8.1)\n",
      "Requirement already satisfied: regex>=2017.02.08 in c:\\programdata\\anaconda3\\lib\\site-packages (from datefinder) (2020.10.15)\n",
      "Requirement already satisfied: six>=1.5 in c:\\programdata\\anaconda3\\lib\\site-packages (from python-dateutil>=2.4.2->datefinder) (1.15.0)\n",
      "Installing collected packages: datefinder\n",
      "Successfully installed datefinder-0.7.3\n"
     ]
    }
   ],
   "source": [
    "!pip install datefinder"
   ]
  },
  {
   "cell_type": "code",
   "execution_count": 151,
   "metadata": {
    "ExecuteTime": {
     "end_time": "2022-11-21T15:09:37.805189Z",
     "start_time": "2022-11-21T15:09:37.780573Z"
    }
   },
   "outputs": [
    {
     "data": {
      "text/plain": [
       "[datetime.datetime(2011, 6, 1, 21, 39),\n",
       " datetime.datetime(2011, 1, 6, 19, 57),\n",
       " datetime.datetime(2011, 6, 1, 13, 43)]"
      ]
     },
     "execution_count": 151,
     "metadata": {},
     "output_type": "execute_result"
    }
   ],
   "source": [
    "from datefinder import find_dates\n",
    "\n",
    "list(find_dates(eml))"
   ]
  },
  {
   "cell_type": "markdown",
   "metadata": {},
   "source": [
    "This also gets our job done but we are more concerned about original date format."
   ]
  },
  {
   "cell_type": "markdown",
   "metadata": {},
   "source": [
    "Thats all for now and for my use case, I found `dateparser` to be best. What is yours?"
   ]
  },
  {
   "cell_type": "code",
   "execution_count": null,
   "metadata": {},
   "outputs": [],
   "source": []
  }
 ],
 "metadata": {
  "kernelspec": {
   "display_name": "Python 3",
   "language": "python",
   "name": "python3"
  },
  "language_info": {
   "codemirror_mode": {
    "name": "ipython",
    "version": 3
   },
   "file_extension": ".py",
   "mimetype": "text/x-python",
   "name": "python",
   "nbconvert_exporter": "python",
   "pygments_lexer": "ipython3",
   "version": "3.8.5"
  },
  "latex_envs": {
   "LaTeX_envs_menu_present": true,
   "autoclose": false,
   "autocomplete": true,
   "bibliofile": "biblio.bib",
   "cite_by": "apalike",
   "current_citInitial": 1,
   "eqLabelWithNumbers": true,
   "eqNumInitial": 1,
   "hotkeys": {
    "equation": "Ctrl-E",
    "itemize": "Ctrl-I"
   },
   "labels_anchors": false,
   "latex_user_defs": false,
   "report_style_numbering": false,
   "user_envs_cfg": false
  },
  "toc": {
   "base_numbering": 1,
   "nav_menu": {},
   "number_sections": true,
   "sideBar": true,
   "skip_h1_title": false,
   "title_cell": "Table of Contents",
   "title_sidebar": "Contents",
   "toc_cell": false,
   "toc_position": {},
   "toc_section_display": true,
   "toc_window_display": true
  },
  "varInspector": {
   "cols": {
    "lenName": 16,
    "lenType": 16,
    "lenVar": 40
   },
   "kernels_config": {
    "python": {
     "delete_cmd_postfix": "",
     "delete_cmd_prefix": "del ",
     "library": "var_list.py",
     "varRefreshCmd": "print(var_dic_list())"
    },
    "r": {
     "delete_cmd_postfix": ") ",
     "delete_cmd_prefix": "rm(",
     "library": "var_list.r",
     "varRefreshCmd": "cat(var_dic_list()) "
    }
   },
   "types_to_exclude": [
    "module",
    "function",
    "builtin_function_or_method",
    "instance",
    "_Feature"
   ],
   "window_display": false
  }
 },
 "nbformat": 4,
 "nbformat_minor": 4
}
