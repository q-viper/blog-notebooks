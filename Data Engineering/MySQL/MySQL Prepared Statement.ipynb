{
 "cells": [
  {
   "cell_type": "markdown",
   "metadata": {},
   "source": [
    "MySQL Prepared Statements are the queries or statements they are prepared in a way that they can be used later on. They are complied while on creation and can be executed later as desired. We might need to run prepared statements many times once its created. Lets get little bit deep into it and how can we used MySQL Prepared Statements to make SQLing easily.\n",
    "\n",
    "## What Do We need?\n",
    "We only need mysql server but for the ease, I am going to use MySQL Workbench because of its nice GUI."
   ]
  },
  {
   "cell_type": "markdown",
   "metadata": {
    "ExecuteTime": {
     "end_time": "2022-09-06T11:55:15.570393Z",
     "start_time": "2022-09-06T11:55:15.560399Z"
    }
   },
   "source": [
    "## Why do we need Prepared Statements?"
   ]
  },
  {
   "cell_type": "markdown",
   "metadata": {},
   "source": [
    "### To make dynamic queries.\n",
    "\n",
    "Often SQL queries are predetermined and we only have to work with whats known to use only. But when time comes for us to run some query that we do not know yet, and the query itself is not static, we might have to generate a dynamic query and run.\n",
    "\n",
    "For this blog, I am going to use new database `School`. Lets create a table student inside a school db.\n",
    "\n",
    "```sql  \n",
    "CREATE TABLE school.student(name VARCHAR(255), age INT, gender VARCHAR(255));\n",
    "```\n",
    "\n",
    "Now lets insert some entries in it.\n",
    "\n",
    "```sql\n",
    "use school;\n",
    "INSERT INTO student VALUES ('John', 14, 'male');\n",
    "INSERT INTO student VALUES ('Jean', 11, 'female');\n",
    "INSERT INTO student VALUES ('Sandra', 17, 'female');\n",
    "```\n",
    "\n",
    "Now lets create a prepared statement which will show us only students with gender as 'female'.\n",
    "\n",
    "```sql\n",
    "PREPARE ptmt FROM 'select * from student  where  gender =?;';\n",
    "set @gen = \"female\";\n",
    "execute ptmt using @gen;\n",
    "```\n",
    "\n",
    "And result is:\n",
    "\n",
    "![](mysql/p1.png)\n",
    "\n",
    "Here, we have just run the statement with dynamic value in where clause. But Can we run dynamic query with table name and column name too? Answer is yes but we have to use `CONCAT` for this too."
   ]
  },
  {
   "cell_type": "markdown",
   "metadata": {
    "ExecuteTime": {
     "end_time": "2022-09-06T11:51:01.567485Z",
     "start_time": "2022-09-06T11:51:01.368426Z"
    }
   },
   "source": [
    "```sql\n",
    "set @gen = \"female\";\n",
    "set @tb = \"student\";\n",
    "set @stmt = concat(\"select * from \", @tb, \" where gender = ?;\");\n",
    "\n",
    "PREPARE ptmt FROM @stmt;\n",
    "execute ptmt using @gen;\n",
    "```\n",
    "\n",
    "![](mysql/p2.png)\n",
    "\n",
    "Here we just created a dynamic statement and used it too. Below is another example of it.\n",
    "\n",
    "```sql\n",
    "set @gen = \"male\";\n",
    "set @tb = \"student\";\n",
    "set @col = 'age';\n",
    "set @stmt = concat(concat(\"select \", @col), \" from \", @tb, \" where gender = ?;\");\n",
    "\n",
    "PREPARE ptmt FROM @stmt;\n",
    "execute ptmt using @gen;\n",
    "```\n",
    "\n",
    "![](mysql/p3.png)\n"
   ]
  },
  {
   "cell_type": "markdown",
   "metadata": {},
   "source": [
    "Using multiple concats, we can make even more complex statements and run them as prepared statements."
   ]
  },
  {
   "cell_type": "markdown",
   "metadata": {},
   "source": [
    "### To save our time from writing redundant queries\n",
    "\n",
    "One of the main reason of using MySQL Prepared Statements is to save time from running redundant queries. We might have to run queries with similar nature and mostly we search the term and replace them by our new keyword. Like, we want to search for the number of customers from Sydney with age 35 and below. Queries like above can be run without any hassle but what if we want to view different columns too. We want to view columns like number of max subscription per month of customer from Sydney and number of least subscription per month of customer from California. We have to modify the query itself. But there is an easier way to do that. But first, lets add another table to our example.\n",
    "\n",
    "```sql\n",
    "CREATE TABLE school.teacher(name VARCHAR(255), age INT, gender VARCHAR(255), location varchar(255));\n",
    "\n",
    "INSERT INTO teacher VALUES ('Harvey', 43, 'male', \"Dubai\");\n",
    "INSERT INTO teacher VALUES ('Joanna', 51, 'female', \"California\");\n",
    "INSERT INTO teacher VALUES ('Harris', 37, 'male', \"Sydney\");\n",
    "INSERT INTO teacher VALUES ('Holly', 43, 'female', \"Dubai\");\n",
    "INSERT INTO teacher VALUES ('Mark', 51, 'male', \"California\");\n",
    "INSERT INTO teacher VALUES ('Henry', 37, 'male', \"Sydney\");\n",
    "```"
   ]
  },
  {
   "cell_type": "markdown",
   "metadata": {},
   "source": [
    "Now lets search for the average age  of teachers from Dubai. And number of teachers from Sydney. But using single type of statement.\n",
    "\n",
    "First Statement:\n",
    "\n",
    "```sql\n",
    "set @place = \"Dubai\";\n",
    "set @tb = \"teacher\";\n",
    "set @col = 'avg(age)';\n",
    "set @stmt = concat(concat(\"select \", @col), \" from \", @tb, \" where location = ?;\");\n",
    "\n",
    "PREPARE ptmt FROM @stmt;\n",
    "execute ptmt using @place;\n",
    "```\n",
    "\n",
    "Second statement:\n",
    "\n",
    "```sql\n",
    "set @place = \"Sydney\";\n",
    "set @tb = \"teacher\";\n",
    "set @col = 'count(name)';\n",
    "set @stmt = concat(concat(\"select \", @col), \" from \", @tb, \" where location = ?;\");\n",
    "\n",
    "PREPARE ptmt FROM @stmt;\n",
    "execute ptmt using @place;\n",
    "```\n"
   ]
  },
  {
   "cell_type": "markdown",
   "metadata": {},
   "source": [
    "### Can wrap statements\n",
    "With the help of Stored Procedure, MySQL Prepared Statements can be used to wrap statements too."
   ]
  },
  {
   "cell_type": "markdown",
   "metadata": {},
   "source": [
    "```sql\n",
    "drop procedure if exists query_runner;\n",
    "\n",
    "delimiter //\n",
    "create procedure query_runner(In tb varchar(255), \n",
    "\t\t\t\t\t\t\tIN scol varchar(255), \n",
    "                            IN ocol varchar(255),\n",
    "                            IN op varchar(255),\n",
    "                            IN oval varchar(255)\n",
    "                            ) \n",
    "begin\n",
    "set @oval = oval;\n",
    "set @stmt = concat (\"select \", scol, \" from \", tb);\n",
    "set @stmt = concat(concat(@stmt, \" where \"), ocol);\n",
    "set @stmt = concat(@stmt, op, \"?\");\n",
    "\n",
    "prepare pstmt from @stmt;\n",
    "execute pstmt using @oval;\n",
    "\n",
    "end //\n",
    "delimiter ; \n",
    "\n",
    "call query_runner(\"teacher\", \"*\", \"age\", \"<\",50);\n",
    "```\n",
    "\n",
    "Result is:\n",
    "![](mysql/p4.png)\n"
   ]
  },
  {
   "cell_type": "markdown",
   "metadata": {},
   "source": [
    "MySQL Prepared Statements has better application when used along with Stored Procedure as SP works like a function. We can achieve a lot of benefits using MySQL Prepared Statements and Stored Procedures. But that will be covered in next part."
   ]
  },
  {
   "cell_type": "code",
   "execution_count": null,
   "metadata": {},
   "outputs": [],
   "source": []
  }
 ],
 "metadata": {
  "kernelspec": {
   "display_name": "Python 3",
   "language": "python",
   "name": "python3"
  },
  "language_info": {
   "codemirror_mode": {
    "name": "ipython",
    "version": 3
   },
   "file_extension": ".py",
   "mimetype": "text/x-python",
   "name": "python",
   "nbconvert_exporter": "python",
   "pygments_lexer": "ipython3",
   "version": "3.8.5"
  },
  "latex_envs": {
   "LaTeX_envs_menu_present": true,
   "autoclose": false,
   "autocomplete": true,
   "bibliofile": "biblio.bib",
   "cite_by": "apalike",
   "current_citInitial": 1,
   "eqLabelWithNumbers": true,
   "eqNumInitial": 1,
   "hotkeys": {
    "equation": "Ctrl-E",
    "itemize": "Ctrl-I"
   },
   "labels_anchors": false,
   "latex_user_defs": false,
   "report_style_numbering": false,
   "user_envs_cfg": false
  },
  "toc": {
   "base_numbering": 1,
   "nav_menu": {},
   "number_sections": true,
   "sideBar": true,
   "skip_h1_title": false,
   "title_cell": "Table of Contents",
   "title_sidebar": "Contents",
   "toc_cell": false,
   "toc_position": {},
   "toc_section_display": true,
   "toc_window_display": false
  },
  "varInspector": {
   "cols": {
    "lenName": 16,
    "lenType": 16,
    "lenVar": 40
   },
   "kernels_config": {
    "python": {
     "delete_cmd_postfix": "",
     "delete_cmd_prefix": "del ",
     "library": "var_list.py",
     "varRefreshCmd": "print(var_dic_list())"
    },
    "r": {
     "delete_cmd_postfix": ") ",
     "delete_cmd_prefix": "rm(",
     "library": "var_list.r",
     "varRefreshCmd": "cat(var_dic_list()) "
    }
   },
   "types_to_exclude": [
    "module",
    "function",
    "builtin_function_or_method",
    "instance",
    "_Feature"
   ],
   "window_display": false
  }
 },
 "nbformat": 4,
 "nbformat_minor": 4
}
