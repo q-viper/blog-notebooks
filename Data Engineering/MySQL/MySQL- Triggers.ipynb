{
 "cells": [
  {
   "cell_type": "markdown",
   "id": "84842ea3",
   "metadata": {
    "toc": true
   },
   "source": [
    "<h1>Table of Contents<span class=\"tocSkip\"></span></h1>\n",
    "<div class=\"toc\"><ul class=\"toc-item\"><li><span><a href=\"#Triggers-in-SQL\" data-toc-modified-id=\"Triggers-in-SQL-1\"><span class=\"toc-item-num\">1&nbsp;&nbsp;</span>Triggers in SQL</a></span><ul class=\"toc-item\"><li><span><a href=\"#Why-do-we-need-trigger?\" data-toc-modified-id=\"Why-do-we-need-trigger?-1.1\"><span class=\"toc-item-num\">1.1&nbsp;&nbsp;</span>Why do we need trigger?</a></span></li></ul></li><li><span><a href=\"#Triggers-in-MySQL\" data-toc-modified-id=\"Triggers-in-MySQL-2\"><span class=\"toc-item-num\">2&nbsp;&nbsp;</span>Triggers in MySQL</a></span><ul class=\"toc-item\"><li><span><a href=\"#Syntax\" data-toc-modified-id=\"Syntax-2.1\"><span class=\"toc-item-num\">2.1&nbsp;&nbsp;</span>Syntax</a></span></li><li><span><a href=\"#Alert-After-Insert\" data-toc-modified-id=\"Alert-After-Insert-2.2\"><span class=\"toc-item-num\">2.2&nbsp;&nbsp;</span>Alert After Insert</a></span></li><li><span><a href=\"#Alert-Before-Insert\" data-toc-modified-id=\"Alert-Before-Insert-2.3\"><span class=\"toc-item-num\">2.3&nbsp;&nbsp;</span>Alert Before Insert</a></span></li><li><span><a href=\"#Alert-Before-Update\" data-toc-modified-id=\"Alert-Before-Update-2.4\"><span class=\"toc-item-num\">2.4&nbsp;&nbsp;</span>Alert Before Update</a></span></li><li><span><a href=\"#Alert-Before-Delete\" data-toc-modified-id=\"Alert-Before-Delete-2.5\"><span class=\"toc-item-num\">2.5&nbsp;&nbsp;</span>Alert Before Delete</a></span></li></ul></li><li><span><a href=\"#Drawbacks\" data-toc-modified-id=\"Drawbacks-3\"><span class=\"toc-item-num\">3&nbsp;&nbsp;</span>Drawbacks</a></span></li></ul></div>"
   ]
  },
  {
   "cell_type": "markdown",
   "id": "3a300bcf",
   "metadata": {},
   "source": [
    "## Triggers in SQL\n",
    "Triggers in SQL is a way to invoke something as a response to the events on the table in which Trigger is attached. The example of the event can be Insert, Update, Delete. Triggers are of two type, Row Level and Statement Level. The row level trigger is triggered for each row while statement level trigger is triggered once per transaction or execution. \n",
    "\n",
    "### Why do we need trigger?\n",
    "\n",
    "* In Data Engineering or Data Pipelining, to reflect the change of the data without having to listen.\n",
    "* To perform data validation with the by executing trigger Before inserting data. Examples can be performing integrity checks.\n",
    "* To handle database layer errors.\n",
    "* To record the history of the data changes.\n",
    "* To achieve some kind of table monitoring functionalities.\n",
    "\n",
    "\n",
    "## Triggers in MySQL\n",
    "MySQL provides only row level triggers."
   ]
  },
  {
   "cell_type": "markdown",
   "id": "d5d9fae0",
   "metadata": {},
   "source": [
    "### Syntax\n",
    "\n",
    "```sql\n",
    "CREATE TRIGGER name_of_trigger\n",
    "{BEFORE | AFTER} {INSERT | UPDATE| DELETE }\n",
    "ON table_name FOR EACH ROW\n",
    "body_of_trigger;\n",
    "```\n",
    "\n",
    "Trigger's body can be a single line to multiple and it is enclosed inside `BEGIN` and `END` for multiple line body.\n",
    "\n",
    "* While using Update, we can access existing value and new value (existing as `Old` and new as `New`)and we can compare between them too. Example: to compare old and new value of a column `age`, we can do `OLD.age` != `NEW.age`.\n",
    "* While using Insert, we can access new value using `New` keyword.\n",
    "* While using Delete, we can access old value using `Old` keyword."
   ]
  },
  {
   "cell_type": "markdown",
   "id": "66658c04",
   "metadata": {},
   "source": []
  },
  {
   "cell_type": "markdown",
   "id": "a76b08b8",
   "metadata": {},
   "source": [
    "### Alert After Insert\n",
    "Lets insert into logs after inserting the values."
   ]
  },
  {
   "cell_type": "markdown",
   "id": "fe7e1627",
   "metadata": {},
   "source": [
    "1. First of all, lets create a database, `Student` via MySQL. \n",
    "\n",
    "```sql\n",
    "create database Student;\n",
    "```\n",
    "\n",
    "2. Create table, `student_bio`.\n",
    "\n",
    "```sql\n",
    "create table Student.student_bio (\n",
    "                        id INT AUTO_INCREMENT PRIMARY KEY,\n",
    "                        `name` varchar(255),\n",
    "                        class varchar(255),\n",
    "                        age float\n",
    "                        );\n",
    "```\n",
    "\n",
    "3. Create table, `student_logs`\n",
    "\n",
    "```sql\n",
    "CREATE TABLE Student.student_logs (\n",
    "    id INT AUTO_INCREMENT PRIMARY KEY,\n",
    "    student_name varchar(255) NOT NULL,\n",
    "    student_age float NOT NULL,\n",
    "    created_date DATETIME DEFAULT NULL,\n",
    "    operation VARCHAR(50) DEFAULT NULL\n",
    ");\n",
    "\n",
    "```\n",
    "\n",
    "4. Create a trigger to log info on logs on inserting.\n",
    "\n",
    "```sql\n",
    "CREATE TRIGGER Student.after_student_insert \n",
    "    after insert ON Student.student_bio\n",
    "    FOR EACH ROW \n",
    " INSERT INTO Student.student_logs\n",
    " SET operation = 'insert',\n",
    "     student_name = new.name,\n",
    "     student_age = new.age,\n",
    "     created_date = NOW();\n",
    "```\n",
    "\n",
    "3. Insert few data into it.\n",
    "\n",
    "```sql\n",
    "INSERT into Student.student_bio values(1,'John', 5, 15), (1,'Johnny', 7, 25);\n",
    "```\n",
    "\n",
    "4. Now look into `Student.student_logs`\n",
    "\n",
    "\n",
    "![png](after_insert1.png)\n",
    "\n"
   ]
  },
  {
   "cell_type": "markdown",
   "id": "07ed9172",
   "metadata": {},
   "source": [
    "### Alert Before Insert\n",
    "Lets insert the logs before inserting the values."
   ]
  },
  {
   "cell_type": "markdown",
   "id": "00a9954f",
   "metadata": {},
   "source": [
    "1. Define a trigger as:\n",
    "\n",
    "```sql\n",
    "delimiter // \n",
    "CREATE TRIGGER Student.before_student_insert \n",
    "    before insert ON Student.student_bio\n",
    "    FOR EACH ROW \n",
    " \n",
    " begin\n",
    " INSERT INTO Student.student_logs (student_name, student_age, created_date, operation) values(new.name, new.age,now(), 'insert_before');\n",
    " end\n",
    " //\n",
    " delimiter ;\n",
    "```\n",
    "\n",
    "2. Now insert few data as:\n",
    "\n",
    "```sql\n",
    "INSERT into Student.student_bio(`name`, class, age) values('Diwo', 5, 15), ('Ben', 7, 25);\n",
    "```\n",
    "\n",
    "3. Now see the data of `student_logs`\n",
    "\n",
    "![](before_insert1.png)"
   ]
  },
  {
   "cell_type": "markdown",
   "id": "734a4272",
   "metadata": {},
   "source": [
    "### Alert Before Update\n",
    "\n",
    "Lets create a trigger which checks the new value before inserting. If new value is greater than old, then set age as average of them. Else set age as old age. And additionally, insert the logs too."
   ]
  },
  {
   "cell_type": "markdown",
   "id": "8275a08f",
   "metadata": {},
   "source": [
    "1. Create a trigger as:\n",
    "```sql\n",
    " delimiter // \n",
    "CREATE TRIGGER Student.before_student_update\n",
    "    before update ON Student.student_bio\n",
    "    FOR EACH ROW \n",
    " \n",
    " begin\n",
    "if old.age<new.age then set new.age=(old.age+new.age)/2;\n",
    "\telse set new.age=old.age; \n",
    " end if;\n",
    " INSERT INTO Student.student_logs (student_name, student_age, created_date, operation) values(old.name, new.age,now(), 'update_before');\n",
    " end\n",
    " //\n",
    " delimiter ;\n",
    "```\n",
    "2. Now update `student_bio` as:\n",
    "\n",
    "```sql\n",
    "update student.student_bio set age =10 where class=5; \n",
    "```\n",
    "\n",
    "![](update_before1.png)\n",
    "\n",
    "3. Again, update `student_bio` as:\n",
    "\n",
    "```sql\n",
    "update student.student_bio set age =20 where class=5; \n",
    "```\n",
    "\n",
    "![](update_before2.png)\n"
   ]
  },
  {
   "cell_type": "markdown",
   "id": "15770ef6",
   "metadata": {},
   "source": [
    "In first update, the condition was False so the age was not changed. But in the second update, the condition is True and thus the age was set to average of two."
   ]
  },
  {
   "cell_type": "markdown",
   "id": "a9a72683",
   "metadata": {},
   "source": [
    "### Alert Before Delete\n",
    "\n",
    "Will be updated sooon...."
   ]
  },
  {
   "cell_type": "markdown",
   "id": "4582eb47",
   "metadata": {},
   "source": [
    "## Drawbacks\n",
    "Now we knew its benefits and the use cases, lets get into the drawbacks of Triggers:\n",
    "1. It increases the server overhead and can cause server hang ups.\n",
    "2. It is difficult to test triggers because they are run by Database itself.\n",
    "3. Can be used for advanced data validation but simple ones can be achieved by constraints like Unique, Null, Check, foreign key etc."
   ]
  },
  {
   "cell_type": "code",
   "execution_count": null,
   "id": "834f1755",
   "metadata": {},
   "outputs": [],
   "source": []
  }
 ],
 "metadata": {
  "hide_input": false,
  "kernelspec": {
   "display_name": "Python 3",
   "language": "python",
   "name": "python3"
  },
  "language_info": {
   "codemirror_mode": {
    "name": "ipython",
    "version": 3
   },
   "file_extension": ".py",
   "mimetype": "text/x-python",
   "name": "python",
   "nbconvert_exporter": "python",
   "pygments_lexer": "ipython3",
   "version": "3.8.8"
  },
  "toc": {
   "base_numbering": 1,
   "nav_menu": {},
   "number_sections": true,
   "sideBar": true,
   "skip_h1_title": false,
   "title_cell": "Table of Contents",
   "title_sidebar": "Contents",
   "toc_cell": true,
   "toc_position": {},
   "toc_section_display": true,
   "toc_window_display": true
  },
  "varInspector": {
   "cols": {
    "lenName": 16,
    "lenType": 16,
    "lenVar": 40
   },
   "kernels_config": {
    "python": {
     "delete_cmd_postfix": "",
     "delete_cmd_prefix": "del ",
     "library": "var_list.py",
     "varRefreshCmd": "print(var_dic_list())"
    },
    "r": {
     "delete_cmd_postfix": ") ",
     "delete_cmd_prefix": "rm(",
     "library": "var_list.r",
     "varRefreshCmd": "cat(var_dic_list()) "
    }
   },
   "types_to_exclude": [
    "module",
    "function",
    "builtin_function_or_method",
    "instance",
    "_Feature"
   ],
   "window_display": false
  }
 },
 "nbformat": 4,
 "nbformat_minor": 5
}
