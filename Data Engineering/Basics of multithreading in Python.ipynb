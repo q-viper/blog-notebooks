{
 "cells": [
  {
   "cell_type": "markdown",
   "metadata": {},
   "source": [
    "Multi-threading in Python is often used when there are tasks related to I/O bound. But before going further, lets take few examples where multi-threading could be used:\n",
    "1. Downloading images from the web and do image processing related tasks. It takes some time to download image and some time to process it too but these two sub-tasks can be run either sequentially or parallelly. Running sequentially has some flaw when our system have multi-threading as our resource will not be using what is available. And another is image processing could take long time and downloading will be paused when processing is going on. But we could run these two tasks in independent threads. One thread will download images from the web and another will process that downloaded image.\n",
    "2. While doing machine learning tasks, we have to work with multiple data and process a lot before sending them to modeling. We could run multiple threads that our CPU supports and then perform pre-processing on them.\n",
    "3. Another application I recently did was for making a back-testing bot. User will make different alerts with rules based on technical indicators and they will try to check if this alert will fire on this time of this day. One can run this test for a long period of time and the data is not related to each other. While testing sequentially, it was quite slow and was not running on full capacity of system. But when I made different threads and ran cluster of different dates, it was surprisingly fast.\n",
    "4. Another I built is also for a trading bot. There will be an API listening to user's request to buy stock option based on strike price, symbol and expiry date. Also we had to us [bracket order](https://www.investopedia.com/terms/b/bracketedbuyorder.asp). I had to keep a track of these orders. So I ran distinct thread for distinct order until they were filled. This way one order runs independently of another."
   ]
  },
  {
   "cell_type": "markdown",
   "metadata": {},
   "source": [
    "## Using `threading`\n",
    "`threading` is one of the standard python library to do thread based multiprocessing. Please follow the [documentation](https://docs.python.org/3/library/threading.html) for modules."
   ]
  },
  {
   "cell_type": "markdown",
   "metadata": {},
   "source": [
    "### Simple Example\n",
    "Lets create a simple example where we will print even numbers in one and odds in another function. Even will sleep for 2 seconds after printing one and odd will sleep for 1 second. There should not be any blocking of time from even function while it is sleeping."
   ]
  },
  {
   "cell_type": "code",
   "execution_count": 6,
   "metadata": {
    "ExecuteTime": {
     "end_time": "2022-11-09T21:48:02.989529Z",
     "start_time": "2022-11-09T21:47:52.870024Z"
    }
   },
   "outputs": [
    {
     "name": "stdout",
     "output_type": "stream",
     "text": [
      "5\n",
      "EVEN: 0\n",
      "ODD: 17\n",
      "\n",
      "ODD: 3\n",
      "EVEN: 2\n",
      "ODD: 5\n",
      "ODD: 7\n",
      "EVEN: 4ODD: 9\n",
      "\n",
      "EVEN: 6\n",
      "EVEN: 8\n",
      "5\n"
     ]
    }
   ],
   "source": [
    "import threading\n",
    "import time\n",
    "\n",
    "def even(x):\n",
    "    n=0\n",
    "    while x>n:\n",
    "        print(f\"EVEN: {n}\")\n",
    "        n+=2\n",
    "        time.sleep(2)\n",
    "\n",
    "def odd(x):\n",
    "    n=1\n",
    "    while x>n:\n",
    "        print(f\"ODD: {n}\")\n",
    "        n+=2\n",
    "        time.sleep(1)\n",
    "\n",
    "th1 = threading.Thread(target=even, args=[10])\n",
    "th2 = threading.Thread(target=odd, args=[10])\n",
    "\n",
    "th1.start()\n",
    "th2.start()\n",
    "\n",
    "th1.join()\n",
    "th2.join()"
   ]
  },
  {
   "cell_type": "markdown",
   "metadata": {},
   "source": [
    "`threading.Thread()` creates thread object and we start the thread by calling `start` method of it. Then we do join to wait for the thread to complete.\n",
    "As we can see in the above example that both functions are running independent of each other without altering the order of another. Above process can also be achieved with Asyncio but Asyncio doesn't use multi threading."
   ]
  },
  {
   "cell_type": "markdown",
   "metadata": {},
   "source": [
    "Lets try another example where one function writes data to a file and another will read that from another thread."
   ]
  },
  {
   "cell_type": "code",
   "execution_count": 17,
   "metadata": {
    "ExecuteTime": {
     "end_time": "2022-11-09T22:03:13.084643Z",
     "start_time": "2022-11-09T22:02:52.862111Z"
    }
   },
   "outputs": [
    {
     "name": "stdout",
     "output_type": "stream",
     "text": [
      "Writer N: 0 | Wrote Line: 0\n",
      "Reader N: 0 | Read Lines: 0\n",
      "Writer N: 1 | Wrote Line: 1\n",
      "Reader N: 1 | Read Lines: 01\n",
      "Writer N: 2 | Wrote Line: 2\n",
      "Writer N: 3 | Wrote Line: 3\n",
      "Reader N: 2 | Read Lines: 0123\n",
      "Writer N: 4 | Wrote Line: 4\n",
      "Writer N: 5 | Wrote Line: 5\n",
      "Reader N: 3 | Read Lines: 012345\n",
      "Writer N: 6 | Wrote Line: 6\n",
      "Writer N: 7 | Wrote Line: 7\n",
      "Reader N: 4 | Read Lines: 01234567\n",
      "Writer N: 8 | Wrote Line: 8\n",
      "Writer N: 9 | Wrote Line: 9\n",
      "Reader N: 5 | Read Lines: 0123456789\n",
      "Reader N: 6 | Read Lines: 0123456789\n",
      "Reader N: 7 | Read Lines: 0123456789\n",
      "Reader N: 8 | Read Lines: 0123456789\n",
      "Reader N: 9 | Read Lines: 0123456789\n"
     ]
    }
   ],
   "source": [
    "def writer(x):\n",
    "    n=0\n",
    "\n",
    "    with open(f\"{x}.txt\", \"w\") as fp:\n",
    "        fp.write(\"\")\n",
    "    \n",
    "    while x>n:\n",
    "        with open(f\"{x}.txt\", \"a\") as fp:\n",
    "            fp.write(f\"{n}\")\n",
    "            print(f\"Writer N: {n} | Wrote Line: {n}\")\n",
    "        n+=1\n",
    "        time.sleep(1)\n",
    "\n",
    "def reader(x):\n",
    "    n=0\n",
    "    while x>n:\n",
    "        with open(f\"{x}.txt\", \"r\") as fp:\n",
    "            lines = fp.read()\n",
    "            print(f\"Reader N: {n} | Read Lines: {lines}\")\n",
    "        n+=1\n",
    "        time.sleep(2)\n",
    "\n",
    "th1 = threading.Thread(target=writer, args=[10])\n",
    "th2 = threading.Thread(target=reader, args=[10])\n",
    "\n",
    "th1.start()\n",
    "th2.start()\n",
    "\n",
    "th1.join()\n",
    "th2.join()"
   ]
  },
  {
   "cell_type": "markdown",
   "metadata": {},
   "source": [
    "In above example, first file is created and then data is written on it. Another process is trying to read it. What we changed the order of above thread execution."
   ]
  },
  {
   "cell_type": "code",
   "execution_count": 19,
   "metadata": {
    "ExecuteTime": {
     "end_time": "2022-11-09T22:04:48.385770Z",
     "start_time": "2022-11-09T22:04:32.978591Z"
    }
   },
   "outputs": [
    {
     "name": "stderr",
     "output_type": "stream",
     "text": [
      "Exception in thread Thread-42:\n",
      "Traceback (most recent call last):\n",
      "  File \"C:\\ProgramData\\Anaconda3\\lib\\threading.py\", line 932, in _bootstrap_inner\n",
      "    self.run()\n",
      "  File \"C:\\ProgramData\\Anaconda3\\lib\\threading.py\", line 870, in run\n",
      "    self._target(*self._args, **self._kwargs)\n",
      "  File \"<ipython-input-17-fd5c9a147b0e>\", line 17, in reader\n",
      "FileNotFoundError: [Errno 2] No such file or directory: '15.txt'\n"
     ]
    },
    {
     "name": "stdout",
     "output_type": "stream",
     "text": [
      "Writer N: 0 | Wrote Line: 0\n",
      "Writer N: 1 | Wrote Line: 1\n",
      "Writer N: 2 | Wrote Line: 2\n",
      "Writer N: 3 | Wrote Line: 3\n",
      "Writer N: 4 | Wrote Line: 4\n",
      "Writer N: 5 | Wrote Line: 5\n",
      "Writer N: 6 | Wrote Line: 6\n",
      "Writer N: 7 | Wrote Line: 7\n",
      "Writer N: 8 | Wrote Line: 8\n",
      "Writer N: 9 | Wrote Line: 9\n",
      "Writer N: 10 | Wrote Line: 10\n",
      "Writer N: 11 | Wrote Line: 11\n",
      "Writer N: 12 | Wrote Line: 12\n",
      "Writer N: 13 | Wrote Line: 13\n",
      "Writer N: 14 | Wrote Line: 14\n"
     ]
    }
   ],
   "source": [
    "\n",
    "th1 = threading.Thread(target=writer, args=[15])\n",
    "th2 = threading.Thread(target=reader, args=[15])\n",
    "\n",
    "th2.start()\n",
    "th1.start()\n",
    "\n",
    "th1.join()\n",
    "th2.join()"
   ]
  },
  {
   "cell_type": "markdown",
   "metadata": {},
   "source": [
    "Error happens! Why? Because the file `15.txt` was supposed to be created by write function which is started late than reader function. The reader function tried to read the file which is not created yet. "
   ]
  },
  {
   "cell_type": "markdown",
   "metadata": {},
   "source": [
    "### Using `threading.Thread` Class\n",
    "We can create thread by creating a child class of `threadin.Thread`. This way we can do thread stuff as well as write our own version of operations inside it."
   ]
  },
  {
   "cell_type": "code",
   "execution_count": 44,
   "metadata": {
    "ExecuteTime": {
     "end_time": "2022-11-09T22:25:37.228580Z",
     "start_time": "2022-11-09T22:25:35.176427Z"
    }
   },
   "outputs": [
    {
     "name": "stdout",
     "output_type": "stream",
     "text": [
      "Run ended.\n"
     ]
    }
   ],
   "source": [
    "class ThreadClass(threading.Thread):\n",
    "    \"\"\"\n",
    "    ## ThreadClass\n",
    "    \"\"\"\n",
    "    def run(self,*args,**kwargs):\n",
    "        while True:\n",
    "            # operations goes here\n",
    "            time.sleep(2)\n",
    "            break\n",
    "        print(f\"Run ended.\")\n",
    "\n",
    "t = ThreadClass()\n",
    "t.daemon=False         \n",
    "\n",
    "t.start()\n",
    "t.join()\n"
   ]
  },
  {
   "cell_type": "markdown",
   "metadata": {},
   "source": [
    "## Using Joblib\n",
    "\n",
    "[Joblib](https://joblib.readthedocs.io/en/latest/) is a Python library which provides easy way to perform parallellizaiton. We need to install joblib before using it. We can do so by `pip install joblib`."
   ]
  },
  {
   "cell_type": "code",
   "execution_count": 52,
   "metadata": {
    "ExecuteTime": {
     "end_time": "2022-11-09T22:31:57.595148Z",
     "start_time": "2022-11-09T22:31:57.585155Z"
    }
   },
   "outputs": [],
   "source": [
    "import time"
   ]
  },
  {
   "cell_type": "markdown",
   "metadata": {},
   "source": [
    "Lets take a simple example where we pass a number to a function and it sleeps after printing its square root."
   ]
  },
  {
   "cell_type": "code",
   "execution_count": 53,
   "metadata": {
    "ExecuteTime": {
     "end_time": "2022-11-09T22:32:53.365790Z",
     "start_time": "2022-11-09T22:32:31.741688Z"
    }
   },
   "outputs": [
    {
     "name": "stdout",
     "output_type": "stream",
     "text": [
      "Printer: 3.1622776601683795\n",
      "Printer: 3.0\n",
      "Printer: 2.8284271247461903\n",
      "Printer: 2.6457513110645907\n",
      "Printer: 2.449489742783178\n",
      "Printer: 2.23606797749979\n",
      "Printer: 2.0\n",
      "Printer: 1.7320508075688772\n",
      "Printer: 1.4142135623730951\n",
      "Time: 21.6052624999993\n",
      "[3.1622776601683795, 3.0, 2.8284271247461903, 2.6457513110645907, 2.449489742783178, 2.23606797749979, 2.0, 1.7320508075688772, 1.4142135623730951]\n"
     ]
    }
   ],
   "source": [
    "def root_printer(x):\n",
    "    root=x**0.5\n",
    "    print(f\"Printer: {root}\")\n",
    "    time.sleep(root)\n",
    "    return root\n",
    "    \n",
    "\n",
    "st = time.perf_counter()\n",
    "res = list(map(root_printer,range(10,1,-1)))\n",
    "et = time.perf_counter()\n",
    "print(f\"Time: {et-st}\")\n",
    "print(res)\n"
   ]
  },
  {
   "cell_type": "markdown",
   "metadata": {},
   "source": [
    "If we were to do by sequential programming which is above way, it would take us long time. That is 21.16 secs. What if we ran above code in parallel?"
   ]
  },
  {
   "cell_type": "code",
   "execution_count": 54,
   "metadata": {
    "ExecuteTime": {
     "end_time": "2022-11-09T22:33:58.842607Z",
     "start_time": "2022-11-09T22:33:45.345999Z"
    }
   },
   "outputs": [
    {
     "name": "stdout",
     "output_type": "stream",
     "text": [
      "Time: 13.476816299999882\n",
      "[3.1622776601683795, 3.0, 2.8284271247461903, 2.6457513110645907, 2.449489742783178, 2.23606797749979, 2.0, 1.7320508075688772, 1.4142135623730951]\n"
     ]
    }
   ],
   "source": [
    "st = time.perf_counter()\n",
    "result = Parallel(n_jobs=2)(delayed(root_printer)(i) for i in range(10,1,-1))\n",
    "et = time.perf_counter()\n",
    "print(f\"Time: {et-st}\")\n",
    "print(result)"
   ]
  },
  {
   "cell_type": "markdown",
   "metadata": {
    "ExecuteTime": {
     "end_time": "2022-11-09T22:34:20.177222Z",
     "start_time": "2022-11-09T22:34:20.153223Z"
    }
   },
   "source": [
    "With parallel execution using Joblib and 2 jobs, it took us only 13 seconds to complete the same task. What if we increased jobs?"
   ]
  },
  {
   "cell_type": "code",
   "execution_count": 56,
   "metadata": {
    "ExecuteTime": {
     "end_time": "2022-11-09T22:35:18.900493Z",
     "start_time": "2022-11-09T22:35:09.992727Z"
    }
   },
   "outputs": [
    {
     "name": "stdout",
     "output_type": "stream",
     "text": [
      "Time: 8.8883737999995\n",
      "[3.1622776601683795, 3.0, 2.8284271247461903, 2.6457513110645907, 2.449489742783178, 2.23606797749979, 2.0, 1.7320508075688772, 1.4142135623730951]\n"
     ]
    }
   ],
   "source": [
    "st = time.perf_counter()\n",
    "result = Parallel(n_jobs=4)(delayed(root_printer)(i) for i in range(10,1,-1))\n",
    "et = time.perf_counter()\n",
    "print(f\"Time: {et-st}\")\n",
    "print(result)"
   ]
  },
  {
   "cell_type": "markdown",
   "metadata": {},
   "source": [
    "It is faster than using only 2 jobs. In above example delayed is sending us delayed result.\n",
    "\n",
    "Using joblib, we can run processes in different back-ends. Following is the docstring of `Parallel`.\n",
    "\n",
    "```\n",
    "backend: str, ParallelBackendBase instance or None, default: 'loky'\n",
    "    Specify the parallelization backend implementation.\n",
    "    Supported backends are:\n",
    "\n",
    "    - \"loky\" used by default, can induce some\n",
    "      communication and memory overhead when exchanging input and\n",
    "      output data with the worker Python processes.\n",
    "    - \"multiprocessing\" previous process-based backend based on\n",
    "      `multiprocessing.Pool`. Less robust than `loky`.\n",
    "    - \"threading\" is a very low-overhead backend but it suffers\n",
    "      from the Python Global Interpreter Lock if the called function\n",
    "      relies a lot on Python objects. \"threading\" is mostly useful\n",
    "      when the execution bottleneck is a compiled extension that\n",
    "      explicitly releases the GIL (for instance a Cython loop wrapped\n",
    "      in a \"with nogil\" block or an expensive call to a library such\n",
    "      as NumPy).\n",
    "    - finally, you can register backends by calling\n",
    "      register_parallel_backend. This will allow you to implement\n",
    "      a backend of your liking.\n",
    "\n",
    "    It is not recommended to hard-code the backend name in a call to\n",
    "    Parallel in a library. Instead it is recommended to set soft hints\n",
    "    (prefer) or hard constraints (require) so as to make it possible\n",
    "    for library users to change the backend from the outside using the\n",
    "    parallel_backend context manager.\n",
    "prefer: str in {'processes', 'threads'} or None, default: None\n",
    "    Soft hint to choose the default backend if no specific backend\n",
    "    was selected with the parallel_backend context manager. The\n",
    "    default process-based backend is 'loky' and the default\n",
    "    thread-based backend is 'threading'. Ignored if the ``backend``\n",
    "    parameter is specified.\n",
    "```\n",
    "\n",
    "Which means that we can use threadings or multiprocessing using Joblib which is even better. "
   ]
  },
  {
   "cell_type": "markdown",
   "metadata": {},
   "source": [
    "Let's use threading as backend."
   ]
  },
  {
   "cell_type": "code",
   "execution_count": 57,
   "metadata": {
    "ExecuteTime": {
     "end_time": "2022-11-09T22:43:44.018152Z",
     "start_time": "2022-11-09T22:43:37.563140Z"
    }
   },
   "outputs": [
    {
     "name": "stdout",
     "output_type": "stream",
     "text": [
      "Printer: 3.1622776601683795Printer: 3.0\n",
      "Printer: 2.8284271247461903\n",
      "Printer: 2.6457513110645907\n",
      "\n",
      "Printer: 2.449489742783178\n",
      "Printer: 2.23606797749979\n",
      "Printer: 2.0\n",
      "Printer: 1.7320508075688772\n",
      "Printer: 1.4142135623730951\n",
      "Time: 6.438640599999417\n",
      "[3.1622776601683795, 3.0, 2.8284271247461903, 2.6457513110645907, 2.449489742783178, 2.23606797749979, 2.0, 1.7320508075688772, 1.4142135623730951]\n"
     ]
    }
   ],
   "source": [
    "st = time.perf_counter()\n",
    "result = Parallel(n_jobs=4, backend=\"threading\")(delayed(root_printer)(i) for i in range(10,1,-1))\n",
    "et = time.perf_counter()\n",
    "print(f\"Time: {et-st}\")\n",
    "print(result)"
   ]
  },
  {
   "cell_type": "markdown",
   "metadata": {},
   "source": [
    "It seems to be faster than loky."
   ]
  },
  {
   "cell_type": "code",
   "execution_count": null,
   "metadata": {
    "ExecuteTime": {
     "start_time": "2022-11-09T22:44:00.273Z"
    }
   },
   "outputs": [],
   "source": []
  },
  {
   "cell_type": "markdown",
   "metadata": {
    "ExecuteTime": {
     "end_time": "2022-10-07T12:29:49.600173Z",
     "start_time": "2022-10-07T12:29:22.517746Z"
    }
   },
   "source": [
    "## References\n",
    "* https://joblib.readthedocs.io/en/latest/index.html\n",
    "* https://docs.python.org/3/library/threading.html"
   ]
  },
  {
   "cell_type": "code",
   "execution_count": null,
   "metadata": {},
   "outputs": [],
   "source": []
  }
 ],
 "metadata": {
  "kernelspec": {
   "display_name": "Python 3",
   "language": "python",
   "name": "python3"
  },
  "language_info": {
   "codemirror_mode": {
    "name": "ipython",
    "version": 3
   },
   "file_extension": ".py",
   "mimetype": "text/x-python",
   "name": "python",
   "nbconvert_exporter": "python",
   "pygments_lexer": "ipython3",
   "version": "3.8.5"
  },
  "latex_envs": {
   "LaTeX_envs_menu_present": true,
   "autoclose": false,
   "autocomplete": true,
   "bibliofile": "biblio.bib",
   "cite_by": "apalike",
   "current_citInitial": 1,
   "eqLabelWithNumbers": true,
   "eqNumInitial": 1,
   "hotkeys": {
    "equation": "Ctrl-E",
    "itemize": "Ctrl-I"
   },
   "labels_anchors": false,
   "latex_user_defs": false,
   "report_style_numbering": false,
   "user_envs_cfg": false
  },
  "toc": {
   "base_numbering": 1,
   "nav_menu": {},
   "number_sections": true,
   "sideBar": true,
   "skip_h1_title": false,
   "title_cell": "Table of Contents",
   "title_sidebar": "Contents",
   "toc_cell": false,
   "toc_position": {},
   "toc_section_display": true,
   "toc_window_display": true
  },
  "varInspector": {
   "cols": {
    "lenName": 16,
    "lenType": 16,
    "lenVar": 40
   },
   "kernels_config": {
    "python": {
     "delete_cmd_postfix": "",
     "delete_cmd_prefix": "del ",
     "library": "var_list.py",
     "varRefreshCmd": "print(var_dic_list())"
    },
    "r": {
     "delete_cmd_postfix": ") ",
     "delete_cmd_prefix": "rm(",
     "library": "var_list.r",
     "varRefreshCmd": "cat(var_dic_list()) "
    }
   },
   "types_to_exclude": [
    "module",
    "function",
    "builtin_function_or_method",
    "instance",
    "_Feature"
   ],
   "window_display": false
  }
 },
 "nbformat": 4,
 "nbformat_minor": 4
}
