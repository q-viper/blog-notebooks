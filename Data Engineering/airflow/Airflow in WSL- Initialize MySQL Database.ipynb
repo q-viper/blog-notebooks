{
 "cells": [
  {
   "cell_type": "markdown",
   "metadata": {},
   "source": [
    "## Introduction\n",
    "There is huge benefit of using MySQL as a backend database in Airflow. Main reason is that MySQL is widely used in production instead of SQlite. Also, we can have scalable database system where we can have concurrent requests, high security and well defined permission and roles.\n",
    "\n",
    "From the last few blogs, I've share how can we fully schedule DAGs written in Windows Machine from WSL. And we were using default Database, SQlite on those blogs but later we did connect to MySQL running in Windows from WSL. But in this blog, we will do clean install of Airflow in WSL and we will use MySQL as a Database. This blog is related to some of the previous blogs in some way but it is not required to go there.\n",
    "* [Running Airflow in WSL and Getting Started with it](https://q-viper.github.io/2021/12/01/running-airflow-in-wsl-and-getting-started-with-it/)\n",
    "* [Dynamic Tasks in Airflow](https://q-viper.github.io/2022/01/09/airflow-dynamic-tasks/)\n",
    "* [Connecting MySQL Running in Windows from WSL](https://q-viper.github.io/2022/01/13/connecting-windows-mysql-from-wsl/)\n",
    "* [Branching Task in Airflow](https://q-viper.github.io/2022/01/23/branching-task-in-airflow/)\n"
   ]
  },
  {
   "cell_type": "markdown",
   "metadata": {},
   "source": [
    "## Installing WSL\n",
    "Using airflow in Windows machine is hard way to go but with the use of Docker one can do it easily. But I am using [Ubuntu in WSL](https://www.microsoft.com/store/productId/9NBLGGH4MSV6) (Windows Subsystem for Linux) to use Airflow in my Windows.\n",
    "\n",
    "## Installing Airflow\n",
    "(Referenced from [here](https://towardsdatascience.com/run-apache-airflow-on-windows-10-without-docker-3c5754bb98b4).)\n",
    "* Open the Ubuntu.\n",
    "* Update system packages.\n",
    "    ```bash\n",
    "    sudo apt update\n",
    "    sudo apt upgrade\n",
    "    ```\n",
    "\n",
    "* Installing PIP.\n",
    "    ```bash\n",
    "    sudo apt-get install software-properties-common\n",
    "    sudo apt-add-repository universe\n",
    "    sudo apt-get update\n",
    "    sudo apt-get install python-setuptools\n",
    "    sudo apt install python3-pip\n",
    "    ```\n",
    "\n",
    "* Run `sudo nano /etc/wsl.conf` then, insert the block below, save and exit with `ctrl+s` `ctrl+x`\n",
    "```\n",
    "[automount]\n",
    "root = /\n",
    "options = \"metadata\"\n",
    "```\n",
    "\n",
    "* To setup a airflow home, first make sure where to install it. Run `nano ~/.bashrc`, insert the line below, save and exit with `ctrl+s` `ctrl+x`\n",
    "\n",
    "    ```export AIRFLOW_HOME=c/users/YOURNAME/airflowhome```\n",
    "\n",
    "    Mine is, `/mnt/c/users/dell/myName/documents/airflow`\n",
    "\n",
    "* Install virtualenv to create environment.\n",
    "    ```\n",
    "    sudo apt install python3-virtualenv\n",
    "    ```\n",
    "\n",
    "* Create and activate environment.\n",
    "    ```\n",
    "    virtualenv airflow_env\n",
    "    source airflow_env/bin/activate\n",
    "    ```\n",
    "\n",
    "* Install airflow\n",
    "    ```\n",
    "    pip install apache-airflow\n",
    "    ```\n",
    "\n",
    "* Make sure if Airflow is installed properly.\n",
    "    ```\n",
    "    airflow info\n",
    "    ```\n",
    "\n",
    "    If no error pops up, proceed else install missing packages.\n"
   ]
  },
  {
   "cell_type": "markdown",
   "metadata": {},
   "source": [
    "## Making Connection to MySQL Running in Windows From WSL\n",
    "\n",
    "### MySQL Client in WSL\n",
    "First install MySQL client in WSL using below command which can be seen once we type `mysql` in WSL terminal.\n",
    "\n",
    "```shell\n",
    "sudo apt install mysql-client-core-8.0     # version 8.0.27-0ubuntu0.20.04.1, or\n",
    "sudo apt install mariadb-client-core-10.3  # version 1:10.3.31-0ubuntu0.20.04.1\n",
    "```\n",
    "\n",
    "For me, I did first one.\n",
    "\n",
    "### Find IPv4 Adress of WSL\n",
    "* Go to Settings -> Network and Internet -> Status -> View Hardware and connection properties. Look for WSL.\n",
    "* My looks like below. But I've shaded the adresses.\n",
    "\n",
    "![]({{site.url}}/assets/wsl_mysql/ipv4_address.png)\n",
    "\n",
    "Now try to connect to MySQL from WSL using below command:\n",
    "\n",
    "```shell\n",
    "mysql -u wsl_root -p -h 192.168.xxx.xxx\n",
    "```\n",
    "\n",
    "Please remember that in above command xxx is just a placeholder. Also, `root` is just a username that we tried to login with. **We will get an error right now with above command and we will fix it.**\n",
    "\n",
    "### Making New User in MySQL to make a Call from WSL\n",
    "\n",
    "```sql\n",
    "CREATE USER 'wsl_root'@'localhost' IDENTIFIED BY 'password';\n",
    "GRANT ALL PRIVILEGES ON *.* TO 'wsl_root'@'localhost' WITH GRANT OPTION;\n",
    "CREATE USER 'wsl_root'@'%' IDENTIFIED BY 'password';\n",
    "GRANT ALL PRIVILEGES ON *.* TO 'wsl_root'@'%' WITH GRANT OPTION;\n",
    "FLUSH PRIVILEGES;\n",
    "```\n",
    "\n",
    "In above query, \n",
    "* `wsl_root` is a name of user that we will use from WSL. `localhost` is a adress where MySQL is and `password` is password. :)\n",
    "* We have granted all privileges to that user and it will be just another admin.\n",
    "\n",
    "### From WSL\n",
    "Now running the command `mysql -u wsl_root -p -h 192.168.xxx.xxx` and giving password after it asked, we could connect to the MySQL server.\n",
    "\n",
    "### References\n",
    "* https://stackoverflow.com/questions/1559955/host-xxx-xx-xxx-xxx-is-not-allowed-to-connect-to-this-mysql-server"
   ]
  },
  {
   "cell_type": "markdown",
   "metadata": {},
   "source": [
    "## Install MySQL Connector\n",
    "Now we need to [install MySQL Connection Provider](https://airflow.apache.org/docs/apache-airflow-providers-mysql/stable/index.html) for Airflow as:\n",
    "\n",
    "```\n",
    "pip install apache-airflow-providers-mysql\n",
    "```\n",
    "\n",
    "If error pops up, it might be because of our MySQL client's version. The fix in that case ([from here](https://stackoverflow.com/a/67605701)):\n",
    "* For Debian 8 or older,\n",
    "\n",
    "```\n",
    "sudo apt-get install libmysqlclient-dev\n",
    "```\n",
    "\n",
    "* For Debian > 8\n",
    "\n",
    "```\n",
    "sudo apt-get install default-libmysqlclient-dev\n",
    "```\n",
    "\n",
    "## Creating Airflow Database\n",
    "Now, lets go to our MySQL Workbench in Windows side and run below queries to setup our [MySQL database](https://airflow.apache.org/docs/apache-airflow/stable/howto/set-up-database.html):\n",
    "\n",
    "```sql\n",
    "CREATE DATABASE airflow_db CHARACTER SET utf8mb4 COLLATE utf8mb4_unicode_ci;\n",
    "CREATE USER 'airflow_user' IDENTIFIED BY 'airflow_pass';\n",
    "GRANT ALL PRIVILEGES ON airflow_db.* TO 'airflow_user';\n",
    "```\n",
    "\n",
    "In above code, we are creating a database `airflow_db` and also created user as airflow_user and granted all privileges.\n",
    "\n",
    "## Initializing Database,\n",
    "First we need to edit our Airflow's configuration file. We should change the value of `sql_alchemy_conn` in `airflow.cfg`. This file is located at Airflow's home directory.\n",
    "\n",
    "```\n",
    "sql_alchemy_conn = mysql+mysqldb://wsl_root:password@my_ip:3306/airflow_db\n",
    "```\n",
    "\n",
    "**Please change my_ip by the IPv4 Address we found in above step.**\n",
    "\n",
    "Now from WSL, do `airflow db init`. If no error pops up, we are good to go."
   ]
  },
  {
   "cell_type": "markdown",
   "metadata": {},
   "source": [
    "* **If a error comes saying \"Operation is not Permitted\" make sure you have write access to the $AIRFLOW_HOME folder from WSL. So do something like below**:\n",
    "\n",
    "    ```\n",
    "    sudo chmod -R 777 /mnt/c/Users/Dell/Documents/airflow/\n",
    "    ```\n",
    "\n",
    "* **Create airflow user.**\n",
    "    ```\n",
    "    airflow users create [-h] -e EMAIL -f FIRSTNAME -l LASTNAME [-p PASSWORD] -r\n",
    "                         ROLE [--use-random-password] -u USERNAME\n",
    "    ```"
   ]
  },
  {
   "cell_type": "markdown",
   "metadata": {},
   "source": [
    "## Run Webserver and Scheduler\n",
    "Now lets open another Ubuntu terminal and run `airflow webserver` in it. Also run `airflow scheduler` in another terminal. \n",
    "\n",
    "Next, open the Airflow's Web URl which must be `http://localhost:8080` then sigin using the credentials that we just created in above step. If it works, we could try scheduling some of example DAGs shown there. And those should be running without any errors.\n"
   ]
  },
  {
   "cell_type": "markdown",
   "metadata": {},
   "source": [
    "If we head over to the Workbench, we can see the tables being created and populated in `airflow_db`.\n",
    "\n",
    "Thank you for your time."
   ]
  },
  {
   "cell_type": "code",
   "execution_count": null,
   "metadata": {},
   "outputs": [],
   "source": []
  }
 ],
 "metadata": {
  "kernelspec": {
   "display_name": "Python 3",
   "language": "python",
   "name": "python3"
  },
  "language_info": {
   "codemirror_mode": {
    "name": "ipython",
    "version": 3
   },
   "file_extension": ".py",
   "mimetype": "text/x-python",
   "name": "python",
   "nbconvert_exporter": "python",
   "pygments_lexer": "ipython3",
   "version": "3.8.5"
  },
  "latex_envs": {
   "LaTeX_envs_menu_present": true,
   "autoclose": false,
   "autocomplete": true,
   "bibliofile": "biblio.bib",
   "cite_by": "apalike",
   "current_citInitial": 1,
   "eqLabelWithNumbers": true,
   "eqNumInitial": 1,
   "hotkeys": {
    "equation": "Ctrl-E",
    "itemize": "Ctrl-I"
   },
   "labels_anchors": false,
   "latex_user_defs": false,
   "report_style_numbering": false,
   "user_envs_cfg": false
  },
  "toc": {
   "base_numbering": 1,
   "nav_menu": {},
   "number_sections": true,
   "sideBar": true,
   "skip_h1_title": false,
   "title_cell": "Table of Contents",
   "title_sidebar": "Contents",
   "toc_cell": false,
   "toc_position": {},
   "toc_section_display": true,
   "toc_window_display": true
  },
  "varInspector": {
   "cols": {
    "lenName": 16,
    "lenType": 16,
    "lenVar": 40
   },
   "kernels_config": {
    "python": {
     "delete_cmd_postfix": "",
     "delete_cmd_prefix": "del ",
     "library": "var_list.py",
     "varRefreshCmd": "print(var_dic_list())"
    },
    "r": {
     "delete_cmd_postfix": ") ",
     "delete_cmd_prefix": "rm(",
     "library": "var_list.r",
     "varRefreshCmd": "cat(var_dic_list()) "
    }
   },
   "types_to_exclude": [
    "module",
    "function",
    "builtin_function_or_method",
    "instance",
    "_Feature"
   ],
   "window_display": false
  }
 },
 "nbformat": 4,
 "nbformat_minor": 4
}
