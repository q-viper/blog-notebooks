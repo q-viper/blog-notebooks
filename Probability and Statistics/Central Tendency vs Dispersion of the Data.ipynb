{
 "cells": [
  {
   "cell_type": "markdown",
   "id": "9b9d40b2",
   "metadata": {
    "toc": true
   },
   "source": [
    "<h1>Table of Contents<span class=\"tocSkip\"></span></h1>\n",
    "<div class=\"toc\"><ul class=\"toc-item\"><li><span><a href=\"#Central-Tendency\" data-toc-modified-id=\"Central-Tendency-1\"><span class=\"toc-item-num\">1&nbsp;&nbsp;</span>Central Tendency</a></span><ul class=\"toc-item\"><li><span><a href=\"#Mean\" data-toc-modified-id=\"Mean-1.1\"><span class=\"toc-item-num\">1.1&nbsp;&nbsp;</span>Mean</a></span></li><li><span><a href=\"#Median\" data-toc-modified-id=\"Median-1.2\"><span class=\"toc-item-num\">1.2&nbsp;&nbsp;</span>Median</a></span></li><li><span><a href=\"#Mode\" data-toc-modified-id=\"Mode-1.3\"><span class=\"toc-item-num\">1.3&nbsp;&nbsp;</span>Mode</a></span></li><li><span><a href=\"#Quartiles\" data-toc-modified-id=\"Quartiles-1.4\"><span class=\"toc-item-num\">1.4&nbsp;&nbsp;</span>Quartiles</a></span></li><li><span><a href=\"#Box-Plot\" data-toc-modified-id=\"Box-Plot-1.5\"><span class=\"toc-item-num\">1.5&nbsp;&nbsp;</span>Box Plot</a></span></li><li><span><a href=\"#Mid-Range\" data-toc-modified-id=\"Mid-Range-1.6\"><span class=\"toc-item-num\">1.6&nbsp;&nbsp;</span>Mid Range</a></span></li><li><span><a href=\"#When-to-use-what?\" data-toc-modified-id=\"When-to-use-what?-1.7\"><span class=\"toc-item-num\">1.7&nbsp;&nbsp;</span>When to use what?</a></span></li></ul></li><li><span><a href=\"#Dispersion\" data-toc-modified-id=\"Dispersion-2\"><span class=\"toc-item-num\">2&nbsp;&nbsp;</span>Dispersion</a></span><ul class=\"toc-item\"><li><span><a href=\"#Inter-Quartile-Range-(IQR)\" data-toc-modified-id=\"Inter-Quartile-Range-(IQR)-2.1\"><span class=\"toc-item-num\">2.1&nbsp;&nbsp;</span>Inter Quartile Range (IQR)</a></span></li><li><span><a href=\"#Range\" data-toc-modified-id=\"Range-2.2\"><span class=\"toc-item-num\">2.2&nbsp;&nbsp;</span>Range</a></span></li><li><span><a href=\"#Standard-Deviation\" data-toc-modified-id=\"Standard-Deviation-2.3\"><span class=\"toc-item-num\">2.3&nbsp;&nbsp;</span>Standard Deviation</a></span></li><li><span><a href=\"#Z-Score\" data-toc-modified-id=\"Z-Score-2.4\"><span class=\"toc-item-num\">2.4&nbsp;&nbsp;</span>Z-Score</a></span></li></ul></li><li><span><a href=\"#When-to-use-what?\" data-toc-modified-id=\"When-to-use-what?-3\"><span class=\"toc-item-num\">3&nbsp;&nbsp;</span>When to use what?</a></span></li><li><span><a href=\"#Shifting-and-Scaling-of-Mean-and-Standard-Deviation\" data-toc-modified-id=\"Shifting-and-Scaling-of-Mean-and-Standard-Deviation-4\"><span class=\"toc-item-num\">4&nbsp;&nbsp;</span>Shifting and Scaling of Mean and Standard Deviation</a></span></li><li><span><a href=\"#References\" data-toc-modified-id=\"References-5\"><span class=\"toc-item-num\">5&nbsp;&nbsp;</span>References</a></span></li></ul></div>"
   ]
  },
  {
   "cell_type": "markdown",
   "id": "a168ec3a",
   "metadata": {},
   "source": [
    "Hello everyone, welcome back! In this blog we will again focus into the some of widely used central tendency techniques and then measure of spread in the Statistical Analysis of the EDA part. If you are looking for a brief walk-through of a [Statistical Data Analysis in Data Science please refer to this blog](https://dataqoil.com/2022/02/06/walkthrough-of-statistical-analysis-in-data-science/) of mine.\n",
    "\n",
    "## Central Tendency\n",
    "Central tendency in statistics is the property of a data which tries to explain the central portion of the data. There are different types of the central tendency and each have their advantage and disadvantages. Lets explore them below.\n",
    "\n",
    "We will calculate these values in the the titanic dataset.\n",
    "\n",
    "### Mean\n",
    "Mean is the most common measure of a central tendency where we divide the sum of all data points by the number of the data points. This is often called as an average and is denoted by Greek symbol $\\mu$.\n",
    "\n"
   ]
  },
  {
   "cell_type": "code",
   "execution_count": 5,
   "id": "607eea95",
   "metadata": {
    "ExecuteTime": {
     "end_time": "2022-03-13T16:56:30.490364Z",
     "start_time": "2022-03-13T16:56:29.322431Z"
    }
   },
   "outputs": [
    {
     "data": {
      "text/html": [
       "<div><div id=8c5d51eb-0403-4cfe-b422-2fa34b4b0a74 style=\"display:none; background-color:#9D6CFF; color:white; width:200px; height:30px; padding-left:5px; border-radius:4px; flex-direction:row; justify-content:space-around; align-items:center;\" onmouseover=\"this.style.backgroundColor='#BA9BF8'\" onmouseout=\"this.style.backgroundColor='#9D6CFF'\" onclick=\"window.commands?.execute('create-mitosheet-from-dataframe-output');\">See Full Dataframe in Mito</div> <script> if (window.commands.hasCommand('create-mitosheet-from-dataframe-output')) document.getElementById('8c5d51eb-0403-4cfe-b422-2fa34b4b0a74').style.display = 'flex' </script> <table border=\"1\" class=\"dataframe\">\n",
       "  <thead>\n",
       "    <tr style=\"text-align: right;\">\n",
       "      <th></th>\n",
       "      <th>PassengerId</th>\n",
       "      <th>Survived</th>\n",
       "      <th>Pclass</th>\n",
       "      <th>Name</th>\n",
       "      <th>Sex</th>\n",
       "      <th>Age</th>\n",
       "      <th>SibSp</th>\n",
       "      <th>Parch</th>\n",
       "      <th>Ticket</th>\n",
       "      <th>Fare</th>\n",
       "      <th>Cabin</th>\n",
       "      <th>Embarked</th>\n",
       "    </tr>\n",
       "  </thead>\n",
       "  <tbody>\n",
       "    <tr>\n",
       "      <th>0</th>\n",
       "      <td>1</td>\n",
       "      <td>0</td>\n",
       "      <td>3</td>\n",
       "      <td>Braund, Mr. Owen Harris</td>\n",
       "      <td>male</td>\n",
       "      <td>22.0</td>\n",
       "      <td>1</td>\n",
       "      <td>0</td>\n",
       "      <td>A/5 21171</td>\n",
       "      <td>7.2500</td>\n",
       "      <td>NaN</td>\n",
       "      <td>S</td>\n",
       "    </tr>\n",
       "    <tr>\n",
       "      <th>1</th>\n",
       "      <td>2</td>\n",
       "      <td>1</td>\n",
       "      <td>1</td>\n",
       "      <td>Cumings, Mrs. John Bradley (Florence Briggs Thayer)</td>\n",
       "      <td>female</td>\n",
       "      <td>38.0</td>\n",
       "      <td>1</td>\n",
       "      <td>0</td>\n",
       "      <td>PC 17599</td>\n",
       "      <td>71.2833</td>\n",
       "      <td>C85</td>\n",
       "      <td>C</td>\n",
       "    </tr>\n",
       "    <tr>\n",
       "      <th>2</th>\n",
       "      <td>3</td>\n",
       "      <td>1</td>\n",
       "      <td>3</td>\n",
       "      <td>Heikkinen, Miss. Laina</td>\n",
       "      <td>female</td>\n",
       "      <td>26.0</td>\n",
       "      <td>0</td>\n",
       "      <td>0</td>\n",
       "      <td>STON/O2. 3101282</td>\n",
       "      <td>7.9250</td>\n",
       "      <td>NaN</td>\n",
       "      <td>S</td>\n",
       "    </tr>\n",
       "    <tr>\n",
       "      <th>3</th>\n",
       "      <td>4</td>\n",
       "      <td>1</td>\n",
       "      <td>1</td>\n",
       "      <td>Futrelle, Mrs. Jacques Heath (Lily May Peel)</td>\n",
       "      <td>female</td>\n",
       "      <td>35.0</td>\n",
       "      <td>1</td>\n",
       "      <td>0</td>\n",
       "      <td>113803</td>\n",
       "      <td>53.1000</td>\n",
       "      <td>C123</td>\n",
       "      <td>S</td>\n",
       "    </tr>\n",
       "    <tr>\n",
       "      <th>4</th>\n",
       "      <td>5</td>\n",
       "      <td>0</td>\n",
       "      <td>3</td>\n",
       "      <td>Allen, Mr. William Henry</td>\n",
       "      <td>male</td>\n",
       "      <td>35.0</td>\n",
       "      <td>0</td>\n",
       "      <td>0</td>\n",
       "      <td>373450</td>\n",
       "      <td>8.0500</td>\n",
       "      <td>NaN</td>\n",
       "      <td>S</td>\n",
       "    </tr>\n",
       "  </tbody>\n",
       "</table></div>"
      ],
      "text/plain": [
       "   PassengerId  Survived  Pclass  \\\n",
       "0            1         0       3   \n",
       "1            2         1       1   \n",
       "2            3         1       3   \n",
       "3            4         1       1   \n",
       "4            5         0       3   \n",
       "\n",
       "                                                Name     Sex   Age  SibSp  \\\n",
       "0                            Braund, Mr. Owen Harris    male  22.0      1   \n",
       "1  Cumings, Mrs. John Bradley (Florence Briggs Th...  female  38.0      1   \n",
       "2                             Heikkinen, Miss. Laina  female  26.0      0   \n",
       "3       Futrelle, Mrs. Jacques Heath (Lily May Peel)  female  35.0      1   \n",
       "4                           Allen, Mr. William Henry    male  35.0      0   \n",
       "\n",
       "   Parch            Ticket     Fare Cabin Embarked  \n",
       "0      0         A/5 21171   7.2500   NaN        S  \n",
       "1      0          PC 17599  71.2833   C85        C  \n",
       "2      0  STON/O2. 3101282   7.9250   NaN        S  \n",
       "3      0            113803  53.1000  C123        S  \n",
       "4      0            373450   8.0500   NaN        S  "
      ]
     },
     "execution_count": 5,
     "metadata": {},
     "output_type": "execute_result"
    }
   ],
   "source": [
    "import numpy as np\n",
    "import pandas as pd\n",
    "import seaborn as sns\n",
    "\n",
    "df = pd.read_csv(\"https://raw.githubusercontent.com/datasciencedojo/datasets/master/titanic.csv\")\n",
    "df.head()"
   ]
  },
  {
   "cell_type": "code",
   "execution_count": 6,
   "id": "8ab2f665",
   "metadata": {
    "ExecuteTime": {
     "end_time": "2022-03-13T16:57:03.654628Z",
     "start_time": "2022-03-13T16:57:03.632929Z"
    }
   },
   "outputs": [
    {
     "data": {
      "text/plain": [
       "29.69911764705882"
      ]
     },
     "execution_count": 6,
     "metadata": {},
     "output_type": "execute_result"
    }
   ],
   "source": [
    "df.Age.mean()"
   ]
  },
  {
   "cell_type": "markdown",
   "id": "ca25ff22",
   "metadata": {},
   "source": [
    "The mean age of the passenger seems to be 29.6."
   ]
  },
  {
   "cell_type": "markdown",
   "id": "7e90bb62",
   "metadata": {},
   "source": [
    "### Median\n",
    "Median in statistics is the point of data which is exactly in the center of the data when it is sorted. Median should cut the data points into two halves. Median is often called as second quartile and is calculated as (where N is number of data point):\n",
    "* When N is odd,\n",
    "$$\n",
    "\\text{median} = \\left(\\frac{N+1}{2} \\right)^{th} \\text{item}\n",
    "$$\n",
    "\n",
    "* When N is even,\n",
    "\n",
    "$$\n",
    "\\text{median} = \\frac{\\left[ \\left(\\frac{N}{2} \\right)^{th} \\text{item} + \\left(\\frac{N}{2} +1 \\right)^{th} \\text{item} \\right]}{2}\n",
    "$$\n",
    "\n"
   ]
  },
  {
   "cell_type": "code",
   "execution_count": 7,
   "id": "9215c1cc",
   "metadata": {
    "ExecuteTime": {
     "end_time": "2022-03-13T16:57:37.948742Z",
     "start_time": "2022-03-13T16:57:37.929551Z"
    }
   },
   "outputs": [
    {
     "data": {
      "text/plain": [
       "28.0"
      ]
     },
     "execution_count": 7,
     "metadata": {},
     "output_type": "execute_result"
    }
   ],
   "source": [
    "df.Age.median()"
   ]
  },
  {
   "cell_type": "markdown",
   "id": "6d62d6b2",
   "metadata": {},
   "source": [
    "But the median age of the customer seems to be 28."
   ]
  },
  {
   "cell_type": "markdown",
   "id": "036363bf",
   "metadata": {},
   "source": [
    "### Mode\n",
    "Mode is the value which is most repeated in the data."
   ]
  },
  {
   "cell_type": "code",
   "execution_count": 8,
   "id": "8e219896",
   "metadata": {
    "ExecuteTime": {
     "end_time": "2022-03-13T16:58:35.244917Z",
     "start_time": "2022-03-13T16:58:35.219204Z"
    }
   },
   "outputs": [
    {
     "data": {
      "text/plain": [
       "0    24.0\n",
       "dtype: float64"
      ]
     },
     "execution_count": 8,
     "metadata": {},
     "output_type": "execute_result"
    }
   ],
   "source": [
    "df.Age.mode()"
   ]
  },
  {
   "cell_type": "markdown",
   "id": "37efcfb3",
   "metadata": {
    "ExecuteTime": {
     "end_time": "2022-03-13T16:58:49.362447Z",
     "start_time": "2022-03-13T16:58:49.343849Z"
    }
   },
   "source": [
    "Age 24 seems to have repeated most. But is it true?"
   ]
  },
  {
   "cell_type": "code",
   "execution_count": 10,
   "id": "211bf610",
   "metadata": {
    "ExecuteTime": {
     "end_time": "2022-03-13T16:59:25.958195Z",
     "start_time": "2022-03-13T16:59:25.931175Z"
    }
   },
   "outputs": [
    {
     "data": {
      "text/plain": [
       "24.00    30\n",
       "22.00    27\n",
       "18.00    26\n",
       "28.00    25\n",
       "19.00    25\n",
       "         ..\n",
       "0.67      1\n",
       "20.50     1\n",
       "66.00     1\n",
       "24.50     1\n",
       "12.00     1\n",
       "Name: Age, Length: 88, dtype: int64"
      ]
     },
     "execution_count": 10,
     "metadata": {},
     "output_type": "execute_result"
    }
   ],
   "source": [
    "df.Age.value_counts().sort_values(ascending=False)"
   ]
  },
  {
   "cell_type": "markdown",
   "id": "fed10584",
   "metadata": {},
   "source": [
    "Yes, it is. It seems that there are 30 passengers with age 24. Which is the most repeated."
   ]
  },
  {
   "cell_type": "markdown",
   "id": "d8d192ad",
   "metadata": {},
   "source": [
    "### Quartiles\n",
    "Besides mean, median and mode, quartiles are also sometimes taken along with median. Quartiles gives the values which lies in the 25, 50 and the 75 percentile of the data. But data has to be sorted first."
   ]
  },
  {
   "cell_type": "code",
   "execution_count": 13,
   "id": "69a51345",
   "metadata": {
    "ExecuteTime": {
     "end_time": "2022-03-13T17:05:20.057239Z",
     "start_time": "2022-03-13T17:05:20.035859Z"
    }
   },
   "outputs": [
    {
     "data": {
      "text/plain": [
       "count    714.000000\n",
       "mean      29.699118\n",
       "std       14.526497\n",
       "min        0.420000\n",
       "25%       20.125000\n",
       "50%       28.000000\n",
       "75%       38.000000\n",
       "max       80.000000\n",
       "Name: Age, dtype: float64"
      ]
     },
     "execution_count": 13,
     "metadata": {},
     "output_type": "execute_result"
    }
   ],
   "source": [
    "df.Age.describe()"
   ]
  },
  {
   "cell_type": "markdown",
   "id": "34538dc3",
   "metadata": {},
   "source": [
    "Looking over the quartile values above, we can see that the minimum value is 0.42, 25% is 20, median or 50% is 28, mean is 29 and 75% is 38 and max is 80. It seems that our data is slightly spread, as max value is far from the 3rd quartile."
   ]
  },
  {
   "cell_type": "markdown",
   "id": "b72e5577",
   "metadata": {},
   "source": [
    "### Box Plot"
   ]
  },
  {
   "cell_type": "code",
   "execution_count": 17,
   "id": "f470abf8",
   "metadata": {
    "ExecuteTime": {
     "end_time": "2022-03-13T17:15:19.232540Z",
     "start_time": "2022-03-13T17:15:19.052135Z"
    }
   },
   "outputs": [
    {
     "data": {
      "text/plain": [
       "<AxesSubplot:xlabel='Age'>"
      ]
     },
     "execution_count": 17,
     "metadata": {},
     "output_type": "execute_result"
    },
    {
     "data": {
      "image/png": "[encoded data removed]",
      "text/plain": [
       "<Figure size 432x288 with 1 Axes>"
      ]
     },
     "metadata": {
      "needs_background": "light"
     },
     "output_type": "display_data"
    }
   ],
   "source": [
    "sns.boxplot(data=df, x=\"Age\")"
   ]
  },
  {
   "cell_type": "markdown",
   "id": "e8005a44",
   "metadata": {},
   "source": [
    "Box plot gives the values just like pandas describe. It seems that most of the data are within our 3rd quartile."
   ]
  },
  {
   "cell_type": "markdown",
   "id": "7dd6fca5",
   "metadata": {},
   "source": [
    "### Mid Range\n",
    "This is not considered exactly as the central tendency but still it is useful to see how far is our average from the mid range. Mid Range gives the average of the highest and lowest value on the series. Which is simply an arithmetic mean."
   ]
  },
  {
   "cell_type": "code",
   "execution_count": 15,
   "id": "91ada6af",
   "metadata": {
    "ExecuteTime": {
     "end_time": "2022-03-13T17:14:09.331305Z",
     "start_time": "2022-03-13T17:14:09.316719Z"
    }
   },
   "outputs": [
    {
     "data": {
      "text/plain": [
       "40.21"
      ]
     },
     "execution_count": 15,
     "metadata": {},
     "output_type": "execute_result"
    }
   ],
   "source": [
    "(df.Age.min() + df.Age.max())/2"
   ]
  },
  {
   "cell_type": "markdown",
   "id": "86021c8b",
   "metadata": {},
   "source": [
    "It seems that our mid range age is 40.21."
   ]
  },
  {
   "cell_type": "markdown",
   "id": "90459269",
   "metadata": {},
   "source": []
  },
  {
   "cell_type": "markdown",
   "id": "c46d3796",
   "metadata": {},
   "source": [
    "### When to use what?\n",
    "* If the data is normally distributed, that is the mean is exactly in the center.\n",
    "* We should use median rather than mean when there is huge outliers in the data. Because the mean gets skewed towards direction of outliers but not the median.\n"
   ]
  },
  {
   "cell_type": "markdown",
   "id": "b0402659",
   "metadata": {
    "ExecuteTime": {
     "end_time": "2022-03-13T17:16:10.452927Z",
     "start_time": "2022-03-13T17:16:10.431935Z"
    }
   },
   "source": [
    "## Dispersion\n",
    "Dispersion is a measure of the spread in the data. It is often used along with the central tendency and sometimes it depends on the central tendency too."
   ]
  },
  {
   "cell_type": "markdown",
   "id": "44821690",
   "metadata": {},
   "source": [
    "### Inter Quartile Range (IQR)\n",
    "It is the difference between Q3 and Q1."
   ]
  },
  {
   "cell_type": "code",
   "execution_count": 29,
   "id": "bc61f0d3",
   "metadata": {
    "ExecuteTime": {
     "end_time": "2022-03-13T17:23:45.223498Z",
     "start_time": "2022-03-13T17:23:45.197669Z"
    }
   },
   "outputs": [
    {
     "data": {
      "text/plain": [
       "17.875"
      ]
     },
     "execution_count": 29,
     "metadata": {},
     "output_type": "execute_result"
    }
   ],
   "source": [
    "df.Age.quantile(0.75)-df.Age.quantile(0.25)"
   ]
  },
  {
   "cell_type": "markdown",
   "id": "fce59915",
   "metadata": {},
   "source": [
    "It seems that our two quartiles are not much far. Which represents that, majority of the data is around center and this is good in the sense of outliers."
   ]
  },
  {
   "cell_type": "markdown",
   "id": "cf619184",
   "metadata": {},
   "source": [
    "### Range\n",
    "It is the simplest measure of the dispersion, where we subtract smallest value from the largest value. This gives the idea of how huge is our data difference is."
   ]
  },
  {
   "cell_type": "code",
   "execution_count": 30,
   "id": "fc2f96e6",
   "metadata": {
    "ExecuteTime": {
     "end_time": "2022-03-13T17:25:37.079845Z",
     "start_time": "2022-03-13T17:25:37.061931Z"
    }
   },
   "outputs": [
    {
     "data": {
      "text/plain": [
       "79.58"
      ]
     },
     "execution_count": 30,
     "metadata": {},
     "output_type": "execute_result"
    }
   ],
   "source": [
    "df.Age.max()-df.Age.min()"
   ]
  },
  {
   "cell_type": "markdown",
   "id": "0fdd8f81",
   "metadata": {},
   "source": [
    "It seems that the maximum difference between value is 79.58 but our IQR was only 17.875. There are certainly outliers in the data."
   ]
  },
  {
   "cell_type": "markdown",
   "id": "60e7155d",
   "metadata": {},
   "source": [
    "### Standard Deviation\n",
    "It is the measure of the distance between each points of data with the mean data. This is most widely used measurement of the dispersion because this often gives the error in the data points.\n",
    "$$\n",
    "s = \\sqrt{\\dfrac{\\sum_{i=1}^{n}(x_i - \\overline{x})^{2}}{n}}\n",
    "$$"
   ]
  },
  {
   "cell_type": "code",
   "execution_count": 32,
   "id": "923fa510",
   "metadata": {
    "ExecuteTime": {
     "end_time": "2022-03-13T17:29:36.860418Z",
     "start_time": "2022-03-13T17:29:36.847185Z"
    }
   },
   "outputs": [
    {
     "data": {
      "text/plain": [
       "14.526497332334044"
      ]
     },
     "execution_count": 32,
     "metadata": {},
     "output_type": "execute_result"
    }
   ],
   "source": [
    "df.Age.std()"
   ]
  },
  {
   "cell_type": "markdown",
   "id": "99ab6eeb",
   "metadata": {},
   "source": [
    "### Z-Score \n",
    "This answers the question `How many standard deviation away is the data from the mean?` It is calculated as:\n",
    "\n",
    "$$\n",
    "z = \\frac{x-\\mu}{\\sigma}\n",
    "$$\n",
    "\n",
    "Where,\n",
    "* x is the estimation of the mean or raw score\n",
    "* 𝜇 is the population mean\n",
    "* 𝜎 is the population standard deviation\n"
   ]
  },
  {
   "cell_type": "code",
   "execution_count": null,
   "id": "9c476c5c",
   "metadata": {},
   "outputs": [],
   "source": []
  },
  {
   "cell_type": "markdown",
   "id": "a3a73063",
   "metadata": {},
   "source": [
    "Z Score is often used to compare the mean of two different samples and examine which is better than another. Lets take an example of comparing z score. A scored 172 in x and 50 on 37 on y. While mean and std for x and y are (151, 10) and (25.1, 6.4) resp. Z score for both is, 2.1, 1.86. We can conclude that, A scored relatively better in x than y. Lets do this in our Age by taking 500 random samples from our data and comparing it with our population z score."
   ]
  },
  {
   "cell_type": "code",
   "execution_count": 33,
   "id": "715d5ef5",
   "metadata": {
    "ExecuteTime": {
     "end_time": "2022-03-13T17:39:03.655178Z",
     "start_time": "2022-03-13T17:39:03.627017Z"
    }
   },
   "outputs": [
    {
     "data": {
      "text/plain": [
       "(0.030374493169490115, 0.020496044621050025)"
      ]
     },
     "execution_count": 33,
     "metadata": {},
     "output_type": "execute_result"
    }
   ],
   "source": [
    "pop = df.Age\n",
    "sample1 = df.Age.sample(500)\n",
    "sample2 = df.Age.sample(500)\n",
    "sample1_z = (pop.mean()-sample1.mean())/pop.std()\n",
    "sample2_z = (pop.mean()-sample2.mean())/pop.std()\n",
    "sample1_z, sample2_z"
   ]
  },
  {
   "cell_type": "markdown",
   "id": "46cd80f0",
   "metadata": {},
   "source": [
    "Looking over above two sample's z scores, we can say that the mean age of sample two is slightly nearer towards the population mean."
   ]
  },
  {
   "cell_type": "markdown",
   "id": "5e46f22d",
   "metadata": {},
   "source": [
    "## When to use what?\n",
    "* If we are about to compare means from two different population then we should be using z score.\n",
    "* If we are about to look how huge data points are, then simple range should be used.\n",
    "* For looking into how far are the mid points of two halves are, IQR should be used.\n",
    "* For measuring how far is each data point is from the mean value, Standard Deviation is used."
   ]
  },
  {
   "cell_type": "markdown",
   "id": "d3b40d7b",
   "metadata": {},
   "source": [
    "## Shifting and Scaling of Mean and Standard Deviation\n",
    "* Mean shifts by same amount as the data shift(add) amount.\n",
    "* Mean increases by amount as the data was increased by amount.\n",
    "* Median has property as same as of mean for shift and scale.\n",
    "* Standard deviation does not shift but scales by amount.\n",
    "* IQR has same property as of standard deviation.\n",
    "\n",
    "Lets verify above properties. First calculate the describe of age and then another describe by multiplying age by 2."
   ]
  },
  {
   "cell_type": "code",
   "execution_count": 34,
   "id": "7015b589",
   "metadata": {
    "ExecuteTime": {
     "end_time": "2022-03-13T17:45:22.838472Z",
     "start_time": "2022-03-13T17:45:22.818151Z"
    }
   },
   "outputs": [
    {
     "data": {
      "text/plain": [
       "count    714.000000\n",
       "mean      29.699118\n",
       "std       14.526497\n",
       "min        0.420000\n",
       "25%       20.125000\n",
       "50%       28.000000\n",
       "75%       38.000000\n",
       "max       80.000000\n",
       "Name: Age, dtype: float64"
      ]
     },
     "execution_count": 34,
     "metadata": {},
     "output_type": "execute_result"
    }
   ],
   "source": [
    "df.Age.describe()"
   ]
  },
  {
   "cell_type": "code",
   "execution_count": 36,
   "id": "8b46abac",
   "metadata": {
    "ExecuteTime": {
     "end_time": "2022-03-13T17:47:48.648627Z",
     "start_time": "2022-03-13T17:47:48.614085Z"
    }
   },
   "outputs": [
    {
     "data": {
      "text/plain": [
       "count    714.000000\n",
       "mean      59.398235\n",
       "std       29.052995\n",
       "min        0.840000\n",
       "25%       40.250000\n",
       "50%       56.000000\n",
       "75%       76.000000\n",
       "max      160.000000\n",
       "Name: Age, dtype: float64"
      ]
     },
     "execution_count": 36,
     "metadata": {},
     "output_type": "execute_result"
    }
   ],
   "source": [
    "(2*df.Age).describe()"
   ]
  },
  {
   "cell_type": "markdown",
   "id": "cd60a27e",
   "metadata": {},
   "source": [
    "It seems that, mean and standard deviation has been increased by 2 times. But lets see what happens when we shift the data by 5 points."
   ]
  },
  {
   "cell_type": "code",
   "execution_count": 37,
   "id": "35600dce",
   "metadata": {
    "ExecuteTime": {
     "end_time": "2022-03-13T17:47:53.136408Z",
     "start_time": "2022-03-13T17:47:53.103577Z"
    }
   },
   "outputs": [
    {
     "data": {
      "text/plain": [
       "count    714.000000\n",
       "mean      31.699118\n",
       "std       14.526497\n",
       "min        2.420000\n",
       "25%       22.125000\n",
       "50%       30.000000\n",
       "75%       40.000000\n",
       "max       82.000000\n",
       "Name: Age, dtype: float64"
      ]
     },
     "execution_count": 37,
     "metadata": {},
     "output_type": "execute_result"
    }
   ],
   "source": [
    "(2+df.Age).describe()"
   ]
  },
  {
   "cell_type": "markdown",
   "id": "052399f0",
   "metadata": {
    "ExecuteTime": {
     "end_time": "2022-03-13T17:48:49.572649Z",
     "start_time": "2022-03-13T17:48:49.554234Z"
    }
   },
   "source": [
    "It seems that our means has been shifted but the standard deviation has not changed. Thus we can say that, the shift and the scaling property of dispersion and central tendency is different."
   ]
  },
  {
   "cell_type": "markdown",
   "id": "cafb41e1",
   "metadata": {},
   "source": [
    "## References \n",
    "* [Z-Score Introduction](https://www.youtube.com/watch?v=5S-Zfa-vOXs)"
   ]
  }
 ],
 "metadata": {
  "hide_input": false,
  "kernelspec": {
   "display_name": "Python 3",
   "language": "python",
   "name": "python3"
  },
  "language_info": {
   "codemirror_mode": {
    "name": "ipython",
    "version": 3
   },
   "file_extension": ".py",
   "mimetype": "text/x-python",
   "name": "python",
   "nbconvert_exporter": "python",
   "pygments_lexer": "ipython3",
   "version": "3.8.8"
  },
  "toc": {
   "base_numbering": 1,
   "nav_menu": {},
   "number_sections": true,
   "sideBar": true,
   "skip_h1_title": false,
   "title_cell": "Table of Contents",
   "title_sidebar": "Contents",
   "toc_cell": true,
   "toc_position": {},
   "toc_section_display": true,
   "toc_window_display": true
  },
  "varInspector": {
   "cols": {
    "lenName": 16,
    "lenType": 16,
    "lenVar": 40
   },
   "kernels_config": {
    "python": {
     "delete_cmd_postfix": "",
     "delete_cmd_prefix": "del ",
     "library": "var_list.py",
     "varRefreshCmd": "print(var_dic_list())"
    },
    "r": {
     "delete_cmd_postfix": ") ",
     "delete_cmd_prefix": "rm(",
     "library": "var_list.r",
     "varRefreshCmd": "cat(var_dic_list()) "
    }
   },
   "types_to_exclude": [
    "module",
    "function",
    "builtin_function_or_method",
    "instance",
    "_Feature"
   ],
   "window_display": false
  }
 },
 "nbformat": 4,
 "nbformat_minor": 5
}
