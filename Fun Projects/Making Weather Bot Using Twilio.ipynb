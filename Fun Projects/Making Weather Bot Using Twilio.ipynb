{
 "cells": [
  {
   "cell_type": "markdown",
   "metadata": {},
   "source": [
    "# Making Weather Bot Using Twilio\n",
    "[Twilio](https://www.twilio.com) is a platform which allows us to send SMS, make calls using methods like API calls. It was the begining of COVID crisis and I was living in my village where interent was available by only cellular 3G data. But it is a difficult thing to stay in my village from June to October because the weather is pretty unexpected. One day, I was walking by the village and I saw a huge tomato farm nearly damaged due to wind and the electricity was already gone. Also, my parent's corn farm was highly affected by it. The tomato farm being damaged has something to do with our error like not locking or tightening the farm wires/doors. I thought what if the farmer knew in the morning that the wind or rain is coming in the day. I wrote some codes for myself to backup charge and batteries in the time of electricity cut off.\n",
    "\n",
    "## Prepare Twilio Account\n",
    "First step is to sign up to [twilio](https://www.twilio.com/try-twilio). Once completed, a verification mail might be sent to the address. Lets verify that too. \n",
    "\n",
    "Next, We choose the phone number for the trial period.\n",
    "\n",
    "![](trial.png)\n",
    "\n",
    "Then we need to choose the type of app, code we are willing to use. Lets chose something like below:\n",
    "\n",
    "![](plan.png)\n",
    "\n",
    "Next a dashboard is shown and we can see how much of credit is remaining.\n",
    "\n",
    "![](dashboard.png)\n"
   ]
  },
  {
   "cell_type": "markdown",
   "metadata": {},
   "source": [
    "## Send First SMS from Twilio"
   ]
  },
  {
   "cell_type": "markdown",
   "metadata": {},
   "source": [
    "And if we scroll to the bottom of dasboard or [twilio.com/console](https://twilio.com/console), we can see the Account SID and Auth Token, we need that to send sms. Next, we will send a sample SMS using this info. But we need to have installed Twilio's helper python library as `pip install twilio`. Or follow the [official instruction](https://www.twilio.com/docs/python/install). Documentation of twilio have recommended to use [secure way (as environment variable)](http://twil.io/secure) of using Auth token and account sid but for the sake of simplicity, I am using those from plain text. Also we need to have phone number to send a sms from. On the console itself, we can get a phone number by simply clicking in `Get a Phone Number`. **Please note that the trial version can only send sms to verified phone number that we've used earlier**."
   ]
  },
  {
   "cell_type": "code",
   "execution_count": 3,
   "metadata": {
    "ExecuteTime": {
     "end_time": "2022-07-30T03:48:42.266549Z",
     "start_time": "2022-07-30T03:48:38.383502Z"
    }
   },
   "outputs": [
    {
     "name": "stdout",
     "output_type": "stream",
     "text": [
      "SM9b4ca6b7d86a447fae4fea41c9cd7a44\n"
     ]
    }
   ],
   "source": [
    "from twilio.rest import Client\n",
    "\n",
    "account_sid = \"\"\n",
    "auth_token = \"\"\n",
    "client = Client(account_sid, auth_token)\n",
    "\n",
    "full_sms = \"Hey, this sms is for testing only. But did you get it?\"\n",
    "\n",
    "message = client.messages \\\n",
    "                .create(\n",
    "                     body=full_sms,\n",
    "                     from_='+12283356824',\n",
    "                     to='+9779864031167'\n",
    "                 )\n",
    "\n",
    "print(message.sid)\n"
   ]
  },
  {
   "cell_type": "markdown",
   "metadata": {},
   "source": [
    "If no error comes after the execution of above block of the code then the sms must be delivered. It will be something like, `Sent from your Twilio trial account - Hey, this sms is for testing only. But did you get it?`"
   ]
  },
  {
   "cell_type": "markdown",
   "metadata": {},
   "source": [
    "## Get Weather Data from Accu Weather\n",
    "\n",
    "Accuweather gives us free API key that allows us to get weather data by simply calling the api. The more info about APIs can be found in the [official site](https://developer.accuweather.com).\n",
    "\n",
    "Please keep patience and create a API key before following below.\n",
    "\n",
    "We will use the API to get weather of 12 hours from now and write that in a string."
   ]
  },
  {
   "cell_type": "code",
   "execution_count": 6,
   "metadata": {
    "ExecuteTime": {
     "end_time": "2022-07-30T04:30:38.049258Z",
     "start_time": "2022-07-30T04:30:16.362313Z"
    },
    "code_folding": []
   },
   "outputs": [
    {
     "name": "stdout",
     "output_type": "stream",
     "text": [
      "Sat, 11:0 am: Thunderstorms\n",
      "Sat, 12:0 pm: Cloudy\n",
      "Sat, 13:0 pm: Thunderstorms\n",
      "Sat, 14:0 pm: Cloudy\n",
      "Sat, 15:0 pm: Cloudy\n",
      "Sat, 16:0 pm: Cloudy\n",
      "Sat, 17:0 pm: Cloudy\n",
      "Sat, 18:0 pm: Cloudy\n",
      "Sat, 19:0 pm: Cloudy\n",
      "Sat, 20:0 pm: Rain\n",
      "Sat, 21:0 pm: Cloudy\n",
      "Sat, 22:0 pm: Cloudy\n",
      "\n"
     ]
    }
   ],
   "source": [
    "# accu weather\n",
    "import requests\n",
    "from datetime import datetime, date\n",
    "\n",
    "\n",
    "ACC_KEY = \"7O7wlDC4RWZLjixRV4NDNFhk3EHXRgsa\"\n",
    "LOCATION = \"Hetauda\"\n",
    "LOCATION_API = f\"http://dataservice.accuweather.com/locations/v1/cities/search?apikey={ACC_KEY}&q={LOCATION}\"\n",
    "lresponse = requests.get(LOCATION_API)\n",
    "\n",
    "if lresponse.status_code == 200:\n",
    "    \n",
    "    locationKey = lresponse.json()[0][\"Key\"]\n",
    "    geo = lresponse.json()[0][\"GeoPosition\"]\n",
    "    lon = geo[\"Longitude\"]\n",
    "    lat = geo[\"Latitude\"]\n",
    "    \n",
    "\n",
    "HOURLY_ACC_API = f\"http://dataservice.accuweather.com/forecasts/v1/hourly/12hour/{locationKey}?apikey={ACC_KEY}\"\n",
    "\n",
    "\n",
    "aresponse = requests.get(HOURLY_ACC_API)\n",
    "ajson = aresponse.json()\n",
    "ajson\n",
    "\n",
    "\n",
    "sms = \"\"\n",
    "for aj in ajson:\n",
    "    date_time = aj[\"EpochDateTime\"]   \n",
    "    weather = aj[\"IconPhrase\"]\n",
    "    \n",
    "    dtm = datetime.fromtimestamp(date_time).date().strftime('%Y %B %d %A')\n",
    "    hour = datetime.fromtimestamp(date_time).time().hour\n",
    "    minute = time = datetime.fromtimestamp(date_time).time().minute\n",
    "    am=\"am\"\n",
    "    if hour>=12:\n",
    "        am=\"pm\"\n",
    "\n",
    "    message = f\"\"\"{dtm.split(\" \")[-1][:3]}, {hour}:{minute} {am}: {weather}\\n\"\"\"\n",
    "    sms += message\n",
    "print(sms)\n"
   ]
  },
  {
   "cell_type": "markdown",
   "metadata": {},
   "source": [
    "## Get Weather Data with Open Weather\n",
    "Openweather's API is little bit advanced than Accuweather and it gives us data of 48 hours in the future. So I preferred it in the end. Please get he key from the openweather's developer portal before following below. In the below code, I have combined the 12hrs forecast data of Accuweather and 48hrs forecast of Openweather."
   ]
  },
  {
   "cell_type": "code",
   "execution_count": 7,
   "metadata": {
    "ExecuteTime": {
     "end_time": "2022-07-30T04:31:00.930119Z",
     "start_time": "2022-07-30T04:30:38.102252Z"
    }
   },
   "outputs": [
    {
     "name": "stdout",
     "output_type": "stream",
     "text": [
      "AccuWeather 12hrs\n",
      "Sat, 11:0 am: Thunderstorms\n",
      "Sat, 12:0 pm: Cloudy\n",
      "Sat, 13:0 pm: Thunderstorms\n",
      "Sat, 14:0 pm: Cloudy\n",
      "Sat, 15:0 pm: Cloudy\n",
      "Sat, 16:0 pm: Cloudy\n",
      "Sat, 17:0 pm: Cloudy\n",
      "Sat, 18:0 pm: Cloudy\n",
      "Sat, 19:0 pm: Cloudy\n",
      "Sat, 20:0 pm: Rain\n",
      "Sat, 21:0 pm: Cloudy\n",
      "Sat, 22:0 pm: Cloudy\n",
      "\n",
      "OpenWeather 48hrs\n",
      "Sat, 9:45, overcast clouds\n",
      "Sat, 10:45, overcast clouds\n",
      "Sat, 11:45, overcast clouds\n",
      "Sat, 12:45, light rain\n",
      "Sat, 13:45, moderate rain\n",
      "Sat, 14:45, moderate rain\n",
      "Sat, 15:45, moderate rain\n",
      "Sat, 16:45, moderate rain\n",
      "Sat, 17:45, moderate rain\n",
      "Sat, 18:45, light rain\n",
      "Sat, 19:45, moderate rain\n",
      "Sat, 20:45, light rain\n",
      "Sat, 21:45, light rain\n",
      "Sat, 22:45, moderate rain\n",
      "Sat, 23:45, moderate rain\n",
      "Sun, 0:45, moderate rain\n",
      "Sun, 1:45, heavy intensity rain\n",
      "Sun, 2:45, heavy intensity rain\n",
      "Sun, 3:45, heavy intensity rain\n",
      "Sun, 4:45, heavy intensity rain\n",
      "Sun, 5:45, moderate rain\n",
      "Sun, 6:45, light rain\n",
      "Sun, 7:45, light rain\n",
      "Sun, 8:45, light rain\n",
      "Sun, 9:45, light rain\n",
      "Sun, 10:45, moderate rain\n",
      "Sun, 11:45, moderate rain\n",
      "Sun, 12:45, moderate rain\n",
      "Sun, 13:45, moderate rain\n",
      "Sun, 14:45, moderate rain\n",
      "Sun, 15:45, moderate rain\n",
      "Sun, 16:45, moderate rain\n",
      "Sun, 17:45, light rain\n",
      "Sun, 18:45, light rain\n",
      "Sun, 19:45, light rain\n",
      "Sun, 20:45, light rain\n",
      "Sun, 21:45, light rain\n",
      "Sun, 22:45, light rain\n",
      "Sun, 23:45, light rain\n",
      "Mon, 0:45, light rain\n",
      "Mon, 1:45, light rain\n",
      "Mon, 2:45, light rain\n",
      "Mon, 3:45, light rain\n",
      "Mon, 4:45, light rain\n",
      "Mon, 5:45, light rain\n",
      "Mon, 6:45, light rain\n",
      "Mon, 7:45, light rain\n",
      "Mon, 8:45, light rain\n",
      "\n"
     ]
    }
   ],
   "source": [
    "\n",
    "# open weather\n",
    "# onecall api for hourly 48 hours forecast\n",
    "part = \"current,minutely,hourly,daily,alerts\"\n",
    "part = \"current,minutely,daily,alerts\"\n",
    "OPW_KEY = \"235bc0d5ac02e4dbbba9403894785978\"\n",
    "\n",
    "ONECALL_API = f\"https://api.openweathermap.org/data/2.5/onecall?lat={lat}&lon={lon}&exclude={part}&appid={OPW_KEY}\"\n",
    "\n",
    "response = requests.get(ONECALL_API)\n",
    "\n",
    "sms1 = \"\"\n",
    "if response.status_code:\n",
    "    rjson = response.json()\n",
    "\n",
    "    content = rjson[\"hourly\"]\n",
    "\n",
    "    for l in content:\n",
    "        date_time = l[\"dt\"]\n",
    "        \n",
    "        weather = l[\"weather\"][0]\n",
    "\n",
    "        dtm = datetime.fromtimestamp(date_time).date().strftime('%Y %B %d %A')\n",
    "        hour = datetime.fromtimestamp(date_time).time().hour\n",
    "        minute = time = datetime.fromtimestamp(date_time).time().minute\n",
    "        am=\"am\"\n",
    "        if hour>=12:\n",
    "            am=\"pm\"\n",
    "        message = f\"\"\"{dtm.split(\" \")[-1][:3]}, {hour}:{minute}, {weather[\"description\"]}\\n\"\"\"\n",
    "        sms1 += message\n",
    "full_sms = \"AccuWeather 12hrs\\n\"+sms+\"\\n\"+\"OpenWeather 48hrs\\n\"+sms1\n",
    "print(full_sms)\n"
   ]
  },
  {
   "cell_type": "markdown",
   "metadata": {},
   "source": [
    "Now lets send the sms to my registered phone number. The maximum amount of character in sms allowed is 1600 so lets crop it too."
   ]
  },
  {
   "cell_type": "code",
   "execution_count": 9,
   "metadata": {
    "ExecuteTime": {
     "end_time": "2022-07-30T04:31:34.062695Z",
     "start_time": "2022-07-30T04:31:29.190822Z"
    }
   },
   "outputs": [
    {
     "name": "stdout",
     "output_type": "stream",
     "text": [
      "SMec07a8a5fe064060af48db85b65bec9e\n"
     ]
    }
   ],
   "source": [
    "\n",
    "if len(full_sms)>1600:\n",
    "    nfull_sms = full_sms[:1600]\n",
    "else:\n",
    "    nfull_sms=full_sms[:]\n",
    "\n",
    "message = client.messages \\\n",
    "                .create(\n",
    "                     body=nfull_sms,\n",
    "                     from_='+12283356824',\n",
    "                     to='+9779864031167'\n",
    "                 )\n",
    "\n",
    "print(message.sid)\n"
   ]
  },
  {
   "cell_type": "markdown",
   "metadata": {},
   "source": [
    "Now, it might take some more time to receive this sms because of its size. Once received, it should look something like below:\n",
    "\n",
    "```\n",
    "Sent from your Twilio trial account - AccuWeather 12hrs\n",
    "Sat, 11:0 am: Thunderstorms\n",
    "Sat, 12:0 pm: Cloudy\n",
    "Sat, 13:0 pm: Thunderstorms\n",
    "Sat, 14:0 pm: Cloudy\n",
    "Sat, 15:0 pm: Cloudy\n",
    "Sat, 16:0 pm: Cloudy\n",
    "Sat, 17:0 pm: Cloudy\n",
    "Sat, 18:0 pm: Cloudy\n",
    "Sat, 19:0 pm: Cloudy\n",
    "Sat, 20:0 pm: Rain\n",
    "Sat, 21:0 pm: Cloudy\n",
    "Sat, 22:0 pm: Cloudy\n",
    "\n",
    "OpenWeather 48hrs\n",
    "Sat, 9:45, overcast clouds\n",
    "Sat, 10:45, overcast clouds\n",
    "Sat, 11:45, overcast clouds\n",
    "Sat, 12:45, light rain\n",
    "Sat, 13:45, moderate rain\n",
    "Sat, 14:45, moderate rain\n",
    "Sat, 15:45, moderate rain\n",
    "Sat, 16:45, moderate rain\n",
    "Sat, 17:45, moderate rain\n",
    "Sat, 18:45, light rain\n",
    "Sat, 19:45, moderate rain\n",
    "Sat, 20:45, light rain\n",
    "Sat, 21:45, light rain\n",
    "Sat, 22:45, moderate rain\n",
    "Sat, 23:45, moderate rain\n",
    "Sun, 0:45, moderate rain\n",
    "Sun, 1:45, heavy intensity rain\n",
    "Sun, 2:45, heavy intensity rain\n",
    "Sun, 3:45, heavy intensity rain\n",
    "Sun, 4:45, heavy intensity rain\n",
    "Sun, 5:45, moderate rain\n",
    "Sun, 6:45, light rain\n",
    "Sun, 7:45, light rain\n",
    "Sun, 8:45, light rain\n",
    "Sun, 9:45, light rain\n",
    "Sun, 10:45, moderate rain\n",
    "Sun, 11:45, moderate rain\n",
    "Sun, 12:45, moderate rain\n",
    "Sun, 13:45, moderate rain\n",
    "Sun, 14:45, moderate rain\n",
    "Sun, 15:45, moderate rain\n",
    "Sun, 16:45, moderate rain\n",
    "Sun, 17:45, light rain\n",
    "Sun, 18:45, light rain\n",
    "Sun, 19:45, light rain\n",
    "Sun, 20:45, light rain\n",
    "Sun, 21:45, light rain\n",
    "Sun, 22:45, light rain\n",
    "Sun, 23:45, light rain\n",
    "Mon, 0:45, light rain\n",
    "Mon, 1:45, light rain\n",
    "Mon, 2:45, light rain\n",
    "Mon, 3:45, light rain\n",
    "Mon, 4:45, light rain\n",
    "Mon, 5:45, light rain\n",
    "Mon, 6:45, light rain\n",
    "Mon, 7:45, light rain\n",
    "Mon, 8:45, light rain\n",
    "```"
   ]
  },
  {
   "cell_type": "markdown",
   "metadata": {},
   "source": [
    "Now comes the part where we need to schedule it and run this app. Since my problem was with electricity and internet, I had no other options than to choose the cloud services. I once had received a GitHub's Student Developer Pack and it provided me with some free credits to AWS and I chosed the simplest instance in EC2. I hosted this python app in a CRON Job and used to receive sms everyday until the credit in Twilio ran out. There are other ways to schedule this job like [using Airflow](https://dataqoil.com/?s=airflow) and [Asyncio](https://dataqoil.com/?s=asyncio)."
   ]
  }
 ],
 "metadata": {
  "kernelspec": {
   "display_name": "Python 3",
   "language": "python",
   "name": "python3"
  },
  "language_info": {
   "codemirror_mode": {
    "name": "ipython",
    "version": 3
   },
   "file_extension": ".py",
   "mimetype": "text/x-python",
   "name": "python",
   "nbconvert_exporter": "python",
   "pygments_lexer": "ipython3",
   "version": "3.8.5"
  },
  "latex_envs": {
   "LaTeX_envs_menu_present": true,
   "autoclose": false,
   "autocomplete": true,
   "bibliofile": "biblio.bib",
   "cite_by": "apalike",
   "current_citInitial": 1,
   "eqLabelWithNumbers": true,
   "eqNumInitial": 1,
   "hotkeys": {
    "equation": "Ctrl-E",
    "itemize": "Ctrl-I"
   },
   "labels_anchors": false,
   "latex_user_defs": false,
   "report_style_numbering": false,
   "user_envs_cfg": false
  },
  "toc": {
   "base_numbering": 1,
   "nav_menu": {},
   "number_sections": true,
   "sideBar": true,
   "skip_h1_title": false,
   "title_cell": "Table of Contents",
   "title_sidebar": "Contents",
   "toc_cell": false,
   "toc_position": {},
   "toc_section_display": true,
   "toc_window_display": false
  },
  "varInspector": {
   "cols": {
    "lenName": 16,
    "lenType": 16,
    "lenVar": 40
   },
   "kernels_config": {
    "python": {
     "delete_cmd_postfix": "",
     "delete_cmd_prefix": "del ",
     "library": "var_list.py",
     "varRefreshCmd": "print(var_dic_list())"
    },
    "r": {
     "delete_cmd_postfix": ") ",
     "delete_cmd_prefix": "rm(",
     "library": "var_list.r",
     "varRefreshCmd": "cat(var_dic_list()) "
    }
   },
   "types_to_exclude": [
    "module",
    "function",
    "builtin_function_or_method",
    "instance",
    "_Feature"
   ],
   "window_display": false
  }
 },
 "nbformat": 4,
 "nbformat_minor": 4
}
