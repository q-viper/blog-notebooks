{
 "cells": [
  {
   "cell_type": "markdown",
   "id": "ce9ea202",
   "metadata": {
    "toc": true
   },
   "source": [
    "<h1>Table of Contents<span class=\"tocSkip\"></span></h1>\n",
    "<div class=\"toc\"><ul class=\"toc-item\"><li><span><a href=\"#Introduction\" data-toc-modified-id=\"Introduction-1\"><span class=\"toc-item-num\">1&nbsp;&nbsp;</span>Introduction</a></span></li><li><span><a href=\"#Rate-of-Return\" data-toc-modified-id=\"Rate-of-Return-2\"><span class=\"toc-item-num\">2&nbsp;&nbsp;</span>Rate of Return</a></span><ul class=\"toc-item\"><li><span><a href=\"#Windowed-ROR\" data-toc-modified-id=\"Windowed-ROR-2.1\"><span class=\"toc-item-num\">2.1&nbsp;&nbsp;</span>Windowed ROR</a></span></li></ul></li><li><span><a href=\"#Month-Over-Month-(MOM)-Growth-Rate\" data-toc-modified-id=\"Month-Over-Month-(MOM)-Growth-Rate-3\"><span class=\"toc-item-num\">3&nbsp;&nbsp;</span>Month Over Month (MOM) Growth Rate</a></span></li><li><span><a href=\"#Compounding-Monthly-Growth-Rate-(CMGR)\" data-toc-modified-id=\"Compounding-Monthly-Growth-Rate-(CMGR)-4\"><span class=\"toc-item-num\">4&nbsp;&nbsp;</span>Compounding Monthly Growth Rate (CMGR)</a></span><ul class=\"toc-item\"><li><span><a href=\"#Simple-CGR\" data-toc-modified-id=\"Simple-CGR-4.1\"><span class=\"toc-item-num\">4.1&nbsp;&nbsp;</span>Simple CGR</a></span></li><li><span><a href=\"#Windowed-CMGR\" data-toc-modified-id=\"Windowed-CMGR-4.2\"><span class=\"toc-item-num\">4.2&nbsp;&nbsp;</span>Windowed CMGR</a></span></li></ul></li><li><span><a href=\"#Year-over-Year-(YoY)-Growth-Rate\" data-toc-modified-id=\"Year-over-Year-(YoY)-Growth-Rate-5\"><span class=\"toc-item-num\">5&nbsp;&nbsp;</span>Year over Year (YoY) Growth Rate</a></span></li><li><span><a href=\"#Compounding-Annual-Growth-Rate-(CAGR)\" data-toc-modified-id=\"Compounding-Annual-Growth-Rate-(CAGR)-6\"><span class=\"toc-item-num\">6&nbsp;&nbsp;</span>Compounding Annual Growth Rate (CAGR)</a></span><ul class=\"toc-item\"><li><span><a href=\"#Simple-CAGR\" data-toc-modified-id=\"Simple-CAGR-6.1\"><span class=\"toc-item-num\">6.1&nbsp;&nbsp;</span>Simple CAGR</a></span></li></ul></li><li><span><a href=\"#Windowed-CAGR\" data-toc-modified-id=\"Windowed-CAGR-7\"><span class=\"toc-item-num\">7&nbsp;&nbsp;</span>Windowed CAGR</a></span></li><li><span><a href=\"#References\" data-toc-modified-id=\"References-8\"><span class=\"toc-item-num\">8&nbsp;&nbsp;</span>References</a></span></li></ul></div>"
   ]
  },
  {
   "cell_type": "markdown",
   "id": "983bb54e",
   "metadata": {},
   "source": [
    "## Introduction\n",
    "This is the part 3 of our Python for Stock Market Analysis series and here, we will explore some of popular growth rates that can be used to see how well is our value is changing over the period of time. Lets take some of scenarios:\n",
    "\n",
    "* If we want to know by what rate is our current month's closing price is changed compared to the previous, we could simply divide change of values by the values at base month.\n",
    "* If we want to know the compounding change rate  of our closing price compared to the base period.\n",
    "* We want to predict how much will the growth rate be on the next month or to achieve the constant growth rate, what should be the value.\n",
    "\n",
    "The scenarios can be many more but lets focus on some.\n"
   ]
  },
  {
   "cell_type": "markdown",
   "id": "8925850d",
   "metadata": {},
   "source": [
    "Again we will be using the data reading part's code from the previous blogs."
   ]
  },
  {
   "cell_type": "code",
   "execution_count": null,
   "id": "91b87987",
   "metadata": {
    "ExecuteTime": {
     "end_time": "2022-03-25T16:38:55.940024Z",
     "start_time": "2022-03-25T16:38:54.672120Z"
    }
   },
   "outputs": [],
   "source": [
    "import pandas as pd\n",
    "import numpy as np\n",
    "import plotly.express as px\n",
    "import cufflinks\n",
    "import plotly.io as pio \n",
    "import yfinance as yf\n",
    "import warnings \n",
    "warnings.filterwarnings(\"ignore\")\n",
    "cufflinks.go_offline()\n",
    "cufflinks.set_config_file(world_readable=True, theme='pearl')\n",
    "pio.renderers.default = \"notebook\"\n",
    "\n",
    "pd.options.display.max_columns = None"
   ]
  },
  {
   "cell_type": "code",
   "execution_count": null,
   "id": "12039d56",
   "metadata": {
    "ExecuteTime": {
     "end_time": "2022-03-25T16:38:57.776931Z",
     "start_time": "2022-03-25T16:38:55.961304Z"
    }
   },
   "outputs": [],
   "source": [
    "symbols = [\"AAPL\"]\n",
    "\n",
    "df = yf.download(tickers=symbols)\n",
    "# convert column names into lowercase\n",
    "df.columns = [c.lower() for c in df.columns]\n",
    "df.rename(columns={\"adj close\":\"adj_close\"},inplace=True)\n",
    "\n",
    "df.head()"
   ]
  },
  {
   "cell_type": "markdown",
   "id": "fd14a043",
   "metadata": {},
   "source": [
    "## Rate of Return\n",
    "Lets suppose that we bought a stock 2 months ago and we want to find out how much profit we currently have then we might subtract the price at the time we bought from the current price. And it can be simply called return. The rate of return is simple measurement that tells us how much has been the price increase from the base period. It is calculated as:\n",
    "\n",
    "$$\n",
    "ror = \\frac{V_{current}-V_{initial}}{V_{initial}} * 100\n",
    "$$\n",
    "\n",
    "RoR is the simplest growth rate and it does not take external factors like inflation into consideration."
   ]
  },
  {
   "cell_type": "code",
   "execution_count": null,
   "id": "bd787218",
   "metadata": {
    "ExecuteTime": {
     "end_time": "2022-03-25T18:03:06.642335Z",
     "start_time": "2022-03-25T18:03:06.530903Z"
    }
   },
   "outputs": [],
   "source": [
    "mdf[\"ror\"] = 100*(mdf.Close-mdf.Close.tolist()[0])/mdf.Close.tolist()[0]\n",
    "\n",
    "\n",
    "mdf.iplot(kind=\"line\", x=\"Date\",y=\"ror\", title=\"Rate of Return\")"
   ]
  },
  {
   "cell_type": "markdown",
   "id": "88fcf06a",
   "metadata": {},
   "source": [
    "Looking over above plot, the rate of return is more than 100K and it is not much useful for new buyers. New buyers might need to look into latest data's ROR or ROR from last few years only. Or even from some period."
   ]
  },
  {
   "cell_type": "markdown",
   "id": "96ca0cc2",
   "metadata": {},
   "source": [
    "### Windowed ROR\n",
    "\n",
    "So, lets take a window of 12 and calculate rate of return in that period. Because this way, we will be considering only latest points while calculating the ROR."
   ]
  },
  {
   "cell_type": "code",
   "execution_count": null,
   "id": "d1d03a73",
   "metadata": {
    "ExecuteTime": {
     "end_time": "2022-03-25T18:11:16.662022Z",
     "start_time": "2022-03-25T18:11:16.156650Z"
    }
   },
   "outputs": [],
   "source": [
    "window=12\n",
    "mdf[f\"wror_{window}\"] = 0\n",
    "idxs = mdf.index.tolist()\n",
    "for idx in [idxs[i-window:i] for i in range(window, len(idxs)+1)]:\n",
    "    tmp = mdf.iloc[mdf.index.isin(idx)].Close.tolist()\n",
    "    ror = (tmp[-1]-tmp[0])/tmp[0]\n",
    "    i = idx[-1]\n",
    "    mdf.loc[i, f\"wror_{window}\"] = ror*100\n",
    "mdf.iplot(kind=\"line\", x=\"Date\", y=[f\"wror_{window}\"])"
   ]
  },
  {
   "cell_type": "markdown",
   "id": "84359b7c",
   "metadata": {},
   "source": [
    "Now it is making little bit more sense."
   ]
  },
  {
   "cell_type": "markdown",
   "id": "2cc3ef96",
   "metadata": {},
   "source": [
    "## Month Over Month (MOM) Growth Rate\n",
    "This is the simple measurement of the growth rate where we simply calculate the rate of change from the previous month.\n",
    "\n",
    "$$\n",
    "rate = \\frac{v_t - v_{t-1}}{v_{t-1}} * 100\n",
    "$$\n",
    "\n",
    "Where, \n",
    "* v(t) is value at month t.\n",
    "* v(t-1) is value at month t-1.\n",
    "\n",
    "Lets calculate this in our python. But first, lets make a dataframe to store the closing price of the month only."
   ]
  },
  {
   "cell_type": "code",
   "execution_count": null,
   "id": "ef81b119",
   "metadata": {
    "ExecuteTime": {
     "end_time": "2022-03-25T17:23:27.151979Z",
     "start_time": "2022-03-25T17:23:27.107402Z"
    }
   },
   "outputs": [],
   "source": [
    "mdf = df.resample(\"1M\").close.last().rename(\"Close\").reset_index()\n",
    "mdf[\"momgr\"] = mdf.Close.pct_change()*100\n",
    "mdf"
   ]
  },
  {
   "cell_type": "code",
   "execution_count": null,
   "id": "07de39fe",
   "metadata": {
    "ExecuteTime": {
     "end_time": "2022-03-25T17:23:27.341365Z",
     "start_time": "2022-03-25T17:23:27.273162Z"
    }
   },
   "outputs": [],
   "source": [
    "import plotly.graph_objects as go\n",
    "from plotly.subplots import make_subplots\n",
    "\n",
    "fig=make_subplots(specs=[[{\"secondary_y\": True}]])\n",
    "\n",
    "\n",
    "lastn = 100\n",
    "ldf = mdf[-lastn:]\n",
    "\n",
    "fig.add_trace(go.Line(x=ldf.Date, y=ldf.momgr, line=dict(\n",
    "                color='rgb(104, 14, 24)',\n",
    "\n",
    "            ), \n",
    "              name=\"MOM Growth Rate Closing Price\"),secondary_y=True)\n",
    "fig.add_trace(go.Line(x=ldf.Date, y=ldf.Close, line=dict(\n",
    "                color='rgb(10, 104, 204)',), \n",
    "              name=\"MOM Closing Price\"),secondary_y=False)\n",
    "\n",
    "\n",
    "fig.update_layout(\n",
    "    title= \"AAPL Stock Data\",\n",
    "    yaxis_title=\"MOM Growth Rate Closing Price\",\n",
    "    xaxis_title=\"Date\")               \n",
    "fig.update_yaxes(title_text=\"MOM Closing Price\", secondary_y=False)\n",
    "fig.update_yaxes(title_text=\"MOM Growth Rate Closing Price\", secondary_y=True)\n",
    "\n",
    "fig.show()"
   ]
  },
  {
   "cell_type": "markdown",
   "id": "f4490dd7",
   "metadata": {},
   "source": [
    "Looking over the data of last 100 months, we have used MOM closing price on the primary y axis while MOM growth rate is on secondary y axis. The Growth rate does not seem to be increasing but is fluctuating."
   ]
  },
  {
   "cell_type": "markdown",
   "id": "aecca324",
   "metadata": {},
   "source": [
    "## Compounding Monthly Growth Rate (CMGR)\n",
    "Compounding monthly growth rate is the rate of closing price that would be required for an stock's closing price to grow from its base closing to its ending closing price. And it can be calculated as:\n",
    "\n",
    "$$\n",
    "CMGR = \\left[\\left(\\frac{{V_{t}}}{V_0} \\right)^{\\frac{1}{n}} - 1\\right]*100\n",
    "$$\n",
    "\n",
    "Where,\n",
    "* V0 is first observation or observation at base period and Vt is observation at time t.\n",
    "* n is number of months from base month to t.\n",
    "\n",
    "Since this growth rate is compounding, we can calculate this in entire history of the closing prices or calculate on the some moving window like in 5 months."
   ]
  },
  {
   "cell_type": "markdown",
   "id": "731b6ec9",
   "metadata": {},
   "source": [
    "### Simple CGR\n",
    "Lets take a value at the first month as the base value."
   ]
  },
  {
   "cell_type": "code",
   "execution_count": null,
   "id": "e8420018",
   "metadata": {
    "ExecuteTime": {
     "end_time": "2022-03-25T16:40:21.613548Z",
     "start_time": "2022-03-25T16:40:21.541429Z"
    },
    "scrolled": false
   },
   "outputs": [],
   "source": [
    "mdf[\"n\"] = np.arange(0,len(mdf))\n",
    "mdf[\"cmgr\"] = ((mdf.Close  / mdf.Close[0]) ** (1/mdf[\"n\"]) - 1) * 100\n",
    "mdf.iplot(kind=\"line\", x=\"Date\", y=\"cmgr\", title=f\"CMGR % of AAPL\")"
   ]
  },
  {
   "cell_type": "markdown",
   "id": "79919c07",
   "metadata": {
    "ExecuteTime": {
     "end_time": "2022-03-23T14:57:42.716316Z",
     "start_time": "2022-03-23T14:57:42.675111Z"
    }
   },
   "source": [
    "Looking over the above plot, there seems to have huge loss in closing price before 1990 but looking over the latest dates, there seems to be having positive but low growth rates.\n",
    "\n",
    "It might not be always an good idea to look over the CMGR by taking initial value of closing price as a base value but we could select a window over which we will calculate a CMGR so that we could compare the Growth in that window only. This can be thought as, we bought a stock today and our base day will be today. And while calculating CMGR, we will take closing value of today."
   ]
  },
  {
   "cell_type": "markdown",
   "id": "0374210e",
   "metadata": {},
   "source": [
    "### Windowed CMGR\n",
    "\n",
    "In this part, we will calculate the growth rate in some time period only but not from the beginning. So lets find indices for each window. In below code block, we took all the index of `mdf` and then looped over the each chunk of indices of size equal to the value of window."
   ]
  },
  {
   "cell_type": "code",
   "execution_count": null,
   "id": "790a6b36",
   "metadata": {
    "ExecuteTime": {
     "end_time": "2022-03-25T16:46:00.459577Z",
     "start_time": "2022-03-25T16:45:59.918271Z"
    }
   },
   "outputs": [],
   "source": [
    "window=12\n",
    "mdf[f\"wcmgr_{window}\"] = 0\n",
    "idxs = mdf.index.tolist()\n",
    "for idx in [idxs[i-window:i] for i in range(window, len(idxs)+1)]:\n",
    "    tmp = mdf.iloc[mdf.index.isin(idx)].Close.tolist()\n",
    "    wcmgr = (tmp[-1]/tmp[0])**(1/window)-1\n",
    "    i = idx[-1]\n",
    "    mdf.loc[i, f\"wcmgr_{window}\"] = wcmgr*100\n",
    "mdf.iplot(kind=\"line\", x=\"Date\", y=[f\"wcmgr_{window}\", \"cmgr\"])"
   ]
  },
  {
   "cell_type": "markdown",
   "id": "47f80202",
   "metadata": {},
   "source": [
    "Looking over the above plot, one can make some sense like:\n",
    "* The overall simple CMGR is increasing slowly.\n",
    "* The Windowed GR is alo increasing but it has lots of ups and downs because of having multiple base periods."
   ]
  },
  {
   "cell_type": "markdown",
   "id": "fbdb0ecd",
   "metadata": {},
   "source": [
    "## Year over Year (YoY) Growth Rate "
   ]
  },
  {
   "cell_type": "code",
   "execution_count": null,
   "id": "8b3e4085",
   "metadata": {
    "ExecuteTime": {
     "end_time": "2022-03-25T17:03:17.799185Z",
     "start_time": "2022-03-25T17:03:17.766530Z"
    }
   },
   "outputs": [],
   "source": [
    "adf = df.resample(\"1Y\").close.last().rename(\"Close\").reset_index()\n",
    "adf[\"yoygr\"] = adf.Close.pct_change()*100\n",
    "adf"
   ]
  },
  {
   "cell_type": "code",
   "execution_count": null,
   "id": "d6b80dfe",
   "metadata": {
    "ExecuteTime": {
     "end_time": "2022-03-25T17:04:10.953445Z",
     "start_time": "2022-03-25T17:04:10.901915Z"
    }
   },
   "outputs": [],
   "source": [
    "import plotly.graph_objects as go\n",
    "from plotly.subplots import make_subplots\n",
    "\n",
    "fig=make_subplots(specs=[[{\"secondary_y\": True}]])\n",
    "\n",
    "\n",
    "lastn = 100\n",
    "ldf = adf[-lastn:]\n",
    "\n",
    "fig.add_trace(go.Line(x=ldf.Date, y=ldf.yoygr, line=dict(\n",
    "                color='rgb(104, 14, 24)',\n",
    "\n",
    "            ), \n",
    "              name=\"YoY Growth Rate Closing Price\"),secondary_y=True)\n",
    "fig.add_trace(go.Line(x=ldf.Date, y=ldf.Close, line=dict(\n",
    "                color='rgb(10, 104, 204)',), \n",
    "              name=\"YoY Closing Price\"),secondary_y=False)\n",
    "\n",
    "\n",
    "fig.update_layout(\n",
    "    title= \"AAPL Stock Data\",\n",
    "    yaxis_title=\"YoY Growth Rate Closing Price\",\n",
    "    xaxis_title=\"Date\")               \n",
    "fig.update_yaxes(title_text=\"YoY Closing Price\", secondary_y=False)\n",
    "fig.update_yaxes(title_text=\"YoY Growth Rate Closing Price\", secondary_y=True)\n",
    "\n",
    "fig.show()"
   ]
  },
  {
   "cell_type": "markdown",
   "id": "7d9cc3e5",
   "metadata": {},
   "source": [
    "Looking over the plot above, YoYGR seems to be increasing but what about Compounding Growth?"
   ]
  },
  {
   "cell_type": "markdown",
   "id": "26d967f2",
   "metadata": {},
   "source": [
    "## Compounding Annual Growth Rate (CAGR)\n",
    "It is simply a modified version of CMGR. In CMGR, we calculate rates based on the month while in CAGR, we do same for the year. So, lets create a dataframe for annual closing prices."
   ]
  },
  {
   "cell_type": "markdown",
   "id": "d9bee072",
   "metadata": {},
   "source": [
    "### Simple CAGR"
   ]
  },
  {
   "cell_type": "code",
   "execution_count": null,
   "id": "19ba0157",
   "metadata": {
    "ExecuteTime": {
     "end_time": "2022-03-25T17:06:07.249656Z",
     "start_time": "2022-03-25T17:06:07.167206Z"
    }
   },
   "outputs": [],
   "source": [
    "adf[\"n\"] = np.arange(0,len(adf))\n",
    "adf[\"cagr\"] = ((adf.Close  / adf.Close[0]) ** (1/adf[\"n\"]) - 1) * 100\n",
    "adf.iplot(kind=\"line\", x=\"Date\", y=\"cagr\", title=f\"CAGR % of AAPL\")"
   ]
  },
  {
   "cell_type": "markdown",
   "id": "fd22adcd",
   "metadata": {},
   "source": [
    "CAGR Seems to be increasing but CMGR did not give us an insight as strong as this one. Since CMGR looks over only month's data, growth rate could be small in that little time."
   ]
  },
  {
   "cell_type": "markdown",
   "id": "73ca84f7",
   "metadata": {},
   "source": [
    "## Windowed CAGR\n",
    "Lets look over the 5 window year's CAGR."
   ]
  },
  {
   "cell_type": "code",
   "execution_count": null,
   "id": "f81b8be5",
   "metadata": {
    "ExecuteTime": {
     "end_time": "2022-03-25T17:08:58.661248Z",
     "start_time": "2022-03-25T17:08:58.550135Z"
    }
   },
   "outputs": [],
   "source": [
    "window=5\n",
    "adf[f\"wcagr_{window}\"] = 0\n",
    "idxs = adf.index.tolist()\n",
    "for idx in [idxs[i-window:i] for i in range(window, len(idxs)+1)]:\n",
    "    tmp = adf.iloc[adf.index.isin(idx)].Close.tolist()\n",
    "    wcagr = (tmp[-1]/tmp[0])**(1/window)-1\n",
    "    i = idx[-1]\n",
    "    adf.loc[i, f\"wcagr_{window}\"] = wcagr*100\n",
    "adf.iplot(kind=\"line\", x=\"Date\", y=[f\"wcagr_{window}\", \"cagr\"])"
   ]
  },
  {
   "cell_type": "markdown",
   "id": "1440717c",
   "metadata": {},
   "source": [
    "Using a window gave us pretty bad result but it might be because our window is small."
   ]
  },
  {
   "cell_type": "code",
   "execution_count": null,
   "id": "612fe016",
   "metadata": {
    "ExecuteTime": {
     "end_time": "2022-03-25T17:09:37.761061Z",
     "start_time": "2022-03-25T17:09:37.643461Z"
    },
    "scrolled": true
   },
   "outputs": [],
   "source": [
    "window=10\n",
    "adf[f\"wcagr_{window}\"] = 0\n",
    "idxs = adf.index.tolist()\n",
    "for idx in [idxs[i-window:i] for i in range(window, len(idxs)+1)]:\n",
    "    tmp = adf.iloc[adf.index.isin(idx)].Close.tolist()\n",
    "    wcagr = (tmp[-1]/tmp[0])**(1/window)-1\n",
    "    i = idx[-1]\n",
    "    adf.loc[i, f\"wcagr_{window}\"] = wcagr*100\n",
    "adf.iplot(kind=\"line\", x=\"Date\", y=[f\"wcagr_{window}\", \"cagr\"])"
   ]
  },
  {
   "cell_type": "markdown",
   "id": "94f6fcea",
   "metadata": {},
   "source": [
    "Now it is nearly identical to the CAGR. If we kept adding window size, it will eventually become a CAGR."
   ]
  },
  {
   "cell_type": "markdown",
   "id": "429f0910",
   "metadata": {},
   "source": [
    "Thank you everyone for reading this blog. Please stay tuned for the next one."
   ]
  },
  {
   "cell_type": "markdown",
   "id": "850ed04d",
   "metadata": {},
   "source": [
    "## References\n",
    "* [CAGR-Investopedia](https://www.investopedia.com/terms/c/cagr.asp)"
   ]
  },
  {
   "cell_type": "code",
   "execution_count": null,
   "id": "bd98de5e",
   "metadata": {},
   "outputs": [],
   "source": []
  }
 ],
 "metadata": {
  "hide_input": false,
  "kernelspec": {
   "display_name": "Python 3",
   "language": "python",
   "name": "python3"
  },
  "language_info": {
   "codemirror_mode": {
    "name": "ipython",
    "version": 3
   },
   "file_extension": ".py",
   "mimetype": "text/x-python",
   "name": "python",
   "nbconvert_exporter": "python",
   "pygments_lexer": "ipython3",
   "version": "3.8.8"
  },
  "toc": {
   "base_numbering": 1,
   "nav_menu": {},
   "number_sections": true,
   "sideBar": true,
   "skip_h1_title": false,
   "title_cell": "Table of Contents",
   "title_sidebar": "Contents",
   "toc_cell": true,
   "toc_position": {},
   "toc_section_display": true,
   "toc_window_display": true
  },
  "varInspector": {
   "cols": {
    "lenName": 16,
    "lenType": 16,
    "lenVar": 40
   },
   "kernels_config": {
    "python": {
     "delete_cmd_postfix": "",
     "delete_cmd_prefix": "del ",
     "library": "var_list.py",
     "varRefreshCmd": "print(var_dic_list())"
    },
    "r": {
     "delete_cmd_postfix": ") ",
     "delete_cmd_prefix": "rm(",
     "library": "var_list.r",
     "varRefreshCmd": "cat(var_dic_list()) "
    }
   },
   "types_to_exclude": [
    "module",
    "function",
    "builtin_function_or_method",
    "instance",
    "_Feature"
   ],
   "window_display": false
  }
 },
 "nbformat": 4,
 "nbformat_minor": 5
}
