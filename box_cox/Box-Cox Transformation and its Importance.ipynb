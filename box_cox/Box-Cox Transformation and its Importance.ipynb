{
 "cells": [
  {
   "cell_type": "markdown",
   "id": "18b3ce88",
   "metadata": {
    "toc": true
   },
   "source": [
    "<h1>Table of Contents<span class=\"tocSkip\"></span></h1>\n",
    "<div class=\"toc\"><ul class=\"toc-item\"><li><span><a href=\"#Box-Cox\" data-toc-modified-id=\"Box-Cox-1\"><span class=\"toc-item-num\">1&nbsp;&nbsp;</span>Box-Cox</a></span></li></ul></div>"
   ]
  },
  {
   "cell_type": "markdown",
   "id": "ae06215f",
   "metadata": {},
   "source": [
    "## Box-Cox\n",
    "* The Box Cox transformation is named after statisticians George Box and Sir David Roxbee Cox who collaborated on a 1964 paper and developed the technique.\n",
    "* A Box Cox transformation is a transformation of non-normal dependent variables into a normal shape. Normality is an important assumption for many statistical techniques; if your data isn’t normal, applying a Box-Cox means that you are able to run a broader number of tests.\n",
    "* At the core of the Box Cox transformation is an exponent, lambda (λ), which varies from -5 to 5. All values of λ are considered and the optimal value for your data is selected; The “optimal value” is the one which results in the best approximation of a normal distribution curve. The transformation of Y has the form:\n",
    "\n",
    "![](https://www.statisticshowto.com/wp-content/uploads/2015/07/boxcox-formula-1.png)\n",
    "\n",
    "* This test only works for positive data. However, Box and Cox did propose a second formula that can be used for negative y-values:\n",
    "\n",
    "![](https://www.statisticshowto.com/wp-content/uploads/2015/07/boxcox-formula2.png)\n",
    "\n",
    "* The transformation doesn’t always work well, so make sure you check your data after the transformation with a [normal probability plot](https://www.statisticshowto.com/normal-probability-plot/).\n",
    "* The transformation for zero is log(0), otherwise all data would transform to Y0 = 1."
   ]
  },
  {
   "cell_type": "code",
   "execution_count": null,
   "id": "6ca6a64b",
   "metadata": {},
   "outputs": [],
   "source": []
  }
 ],
 "metadata": {
  "hide_input": false,
  "kernelspec": {
   "display_name": "Python 3",
   "language": "python",
   "name": "python3"
  },
  "language_info": {
   "codemirror_mode": {
    "name": "ipython",
    "version": 3
   },
   "file_extension": ".py",
   "mimetype": "text/x-python",
   "name": "python",
   "nbconvert_exporter": "python",
   "pygments_lexer": "ipython3",
   "version": "3.8.8"
  },
  "toc": {
   "base_numbering": 1,
   "nav_menu": {},
   "number_sections": true,
   "sideBar": true,
   "skip_h1_title": false,
   "title_cell": "Table of Contents",
   "title_sidebar": "Contents",
   "toc_cell": true,
   "toc_position": {},
   "toc_section_display": true,
   "toc_window_display": false
  },
  "varInspector": {
   "cols": {
    "lenName": 16,
    "lenType": 16,
    "lenVar": 40
   },
   "kernels_config": {
    "python": {
     "delete_cmd_postfix": "",
     "delete_cmd_prefix": "del ",
     "library": "var_list.py",
     "varRefreshCmd": "print(var_dic_list())"
    },
    "r": {
     "delete_cmd_postfix": ") ",
     "delete_cmd_prefix": "rm(",
     "library": "var_list.r",
     "varRefreshCmd": "cat(var_dic_list()) "
    }
   },
   "types_to_exclude": [
    "module",
    "function",
    "builtin_function_or_method",
    "instance",
    "_Feature"
   ],
   "window_display": false
  }
 },
 "nbformat": 4,
 "nbformat_minor": 5
}
