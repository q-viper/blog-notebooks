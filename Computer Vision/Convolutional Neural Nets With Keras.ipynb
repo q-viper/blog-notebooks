{
 "cells": [
  {
   "cell_type": "markdown",
   "metadata": {},
   "source": [
    "CNN with Keras is easiest way to create CNN (Convolutional Neural Networks. But Why? Images I used in this blog are not owned by me and the full credit goes to the author of images.\n",
    "\n",
    "## Why keras?\n",
    "* Because its like drag and drop for Neural Networks.\n",
    "* No more headache of <b>mathematical complexity</b>\n",
    "* Can customize layers and do training easily.\n",
    "* Has great preprocessing APIs as well as data generators.\n",
    "\n",
    "\n",
    "## What is CNN\n",
    "The answer to this question has been already given by me in following blogs:\n",
    "* [Writing Image Processing Codes from Scratch in Python](): Where I have written some codes to do read, write, convolve images.\n",
    "* [Convolutional Neural Networks from Scratch in Python](): Made somewhat like keras class. This blog is first page of google search with query `cnn from scratch`.\n",
    "\n",
    "In simple words, CNN is mainly a image processing neural networks but can be used for other purposes also.\n",
    "\n",
    "## Why CNN?\n",
    "* CNN has filters or kernel as learning parameters. Unlike simple neural nets, CNN uses very few parameters. In fact, parameters are shared!\n",
    "* CNN handles feature extracting from images very efficiently.\n",
    "\n",
    "## Basic Terms in CNN\n",
    "* <b>No. channels</b>: ex RGB, Grayscale\n",
    "* <b>Filters</b>: each filter gives a filtered image ie. feature map\n",
    "* <b>Size of filters</b>: it is a square matrix which shape is less than image\n",
    "* <b>Stride</b>: value with which we will skip the convolution\n",
    "* <b>Padding</b>: concept of working with edges\n",
    "\n",
    "\n",
    "Lets see the visualization:\n",
    "![](assests/simple.png)\n"
   ]
  },
  {
   "cell_type": "markdown",
   "metadata": {},
   "source": [
    "## What does normal CNN include?\n",
    "Normal CNN includes below layers:\n",
    "\n",
    "1. One input layer\n",
    "2. One output layer\n",
    "3. One or more convolutional layer\n",
    "4. One or more Max-pooling layer\n",
    "5. Some dropout layer\n",
    "6. One flatten layer\n",
    "7. One or more dense layer\n",
    "8. Some normalizing layers\n",
    "\n",
    "* <b>Convolutional layer</b> is the layer where convolution operation happens. Convolution here is same as on image processing where features are extracted. A filter of same row and column or square size is taken and multiplied across the window that fits filter. The element-wise product is done and summed all. We generally use stride, as how much pixel shift after doing one convolution. Also zero padding is done sometime to add zeros. The convolution layer gives number of filters with same properties. Here more the number of filter, more the accurate model can get but computational complexity increases.\n",
    "\n",
    "> Each CNN layer manipulates image using kernels ex.\n",
    "![](assests/conv out.png)\n",
    "\n",
    "> What actually happens inside CNN layer?\n",
    "![](assests/2dconv.gif)\n",
    "<center> Inside Grayscale image </center>\n",
    "\n",
    "![](assests/3dconv.gif)\n",
    "![](assests/sum.gif)\n",
    "![](assests/bias.gif)\n",
    "\n",
    "<center> Inside RGB image </center>\n",
    "![](assests/padding.gif)\n",
    "<center> Padding of pixels</center>\n",
    "\n",
    "* <b>Max-Pooling layer</b> is a layer where we take only few pixels from previous layers. We must provide a pool size and then that pool size is used on input pixels. The pool window is moved over entire input and max value within the overlaped input is taken. For example, pool of size (2, 2) give half of input data.\n",
    "\n",
    "![](assests/stride.gif)\n",
    "<center> Maxpooling</center>\n",
    "\n",
    "![](assests/maxpool.gif)\n",
    "<center> Summing up</center>\n",
    "\n",
    "\n",
    "* <b> Dropout</b> is a layer which is actually used to avoid overfitting. This layer randomly cuts the connection between two neurons of different layers. For example, dropout of value 0.5 will cut the half of input's connection. Due to this effect, a NN couldn't memorize input sequence.\n",
    "* <b>Flatten layer</b> is one where multiple sized input is converted into 1d vector\n",
    "* <b>Dense layer</b> on CNN this is mostly used to do classification after doing whole convolution thing.\n",
    "\n",
    "\n",
    "## What do we need?\n",
    "\n",
    "* <b>Keras</b> this is main library we need to import.\n",
    "* <b>Sequential</b> we use to create model and add layers.\n",
    "* <b>Layers</b> we mainly use convolution, maxpool, dense layer and dropout layer.\n",
    "* <b>Optimizers</b> we use various optimizers like SGD, Adam, Adagrad etc.\n",
    "\n",
    "Sequential method will use create a simplest model of NN. \n",
    "\n",
    "<code>\n",
    "    import keras \n",
    "    from keras.models import Sequential\n",
    "    from keras.layers import Conv2D, MaxPooling2D, Flatten, Dense, Dropout\n",
    "    from keras.optimizers import SGD\n",
    "    import numpy as np\n",
    "    import matplotlib.pyplot as plt\n",
    "    import time\n",
    "</code>\n",
    "\n"
   ]
  },
  {
   "cell_type": "markdown",
   "metadata": {
    "ExecuteTime": {
     "end_time": "2019-09-14T14:10:27.583416Z",
     "start_time": "2019-09-14T14:10:27.572425Z"
    }
   },
   "source": [
    "## Do you know?\n",
    "\n",
    "When a machine learning model has high training accuracy and very low validation then this case is known as over-fitting. The reasons for this can be as follows:\n",
    "\n",
    "1. The hypothesis function you are using is too complex that your model perfectly fits the training data but fails to do on test/validation data.\n",
    "2. The number of learning parameters in your model is way too big that instead of generalizing the examples , your model learns those examples and hence the model performs badly on test/validation data.\n",
    "\n",
    "To solve the above problems a number of solutions can be tried depending on your dataset:\n",
    "\n",
    "1. Use a simple cost and loss function.\n",
    "2. Use regulation which helps in reducing over-fitting i.e Dropout.\n",
    "3. Reduce the number of learning parameters in your model.\n",
    "\n",
    "These are the 3 solutions that are most likely to improve the validation accuracy of your model and still if these don't work check your inputs whether they have right normalization or not.\n"
   ]
  },
  {
   "cell_type": "code",
   "execution_count": null,
   "metadata": {},
   "outputs": [],
   "source": []
  }
 ],
 "metadata": {
  "kernelspec": {
   "display_name": "Python 3",
   "language": "python",
   "name": "python3"
  },
  "language_info": {
   "codemirror_mode": {
    "name": "ipython",
    "version": 3
   },
   "file_extension": ".py",
   "mimetype": "text/x-python",
   "name": "python",
   "nbconvert_exporter": "python",
   "pygments_lexer": "ipython3",
   "version": "3.8.5"
  },
  "latex_envs": {
   "LaTeX_envs_menu_present": true,
   "autoclose": false,
   "autocomplete": true,
   "bibliofile": "biblio.bib",
   "cite_by": "apalike",
   "current_citInitial": 1,
   "eqLabelWithNumbers": true,
   "eqNumInitial": 1,
   "hotkeys": {
    "equation": "Ctrl-E",
    "itemize": "Ctrl-I"
   },
   "labels_anchors": false,
   "latex_user_defs": false,
   "report_style_numbering": false,
   "user_envs_cfg": false
  },
  "nbTranslate": {
   "displayLangs": [
    "*"
   ],
   "hotkey": "alt-t",
   "langInMainMenu": true,
   "sourceLang": "en",
   "targetLang": "fr",
   "useGoogleTranslate": true
  },
  "toc": {
   "base_numbering": 1,
   "nav_menu": {},
   "number_sections": true,
   "sideBar": true,
   "skip_h1_title": false,
   "title_cell": "Table of Contents",
   "title_sidebar": "Contents",
   "toc_cell": false,
   "toc_position": {},
   "toc_section_display": true,
   "toc_window_display": false
  },
  "varInspector": {
   "cols": {
    "lenName": 16,
    "lenType": 16,
    "lenVar": 40
   },
   "kernels_config": {
    "python": {
     "delete_cmd_postfix": "",
     "delete_cmd_prefix": "del ",
     "library": "var_list.py",
     "varRefreshCmd": "print(var_dic_list())"
    },
    "r": {
     "delete_cmd_postfix": ") ",
     "delete_cmd_prefix": "rm(",
     "library": "var_list.r",
     "varRefreshCmd": "cat(var_dic_list()) "
    }
   },
   "types_to_exclude": [
    "module",
    "function",
    "builtin_function_or_method",
    "instance",
    "_Feature"
   ],
   "window_display": false
  }
 },
 "nbformat": 4,
 "nbformat_minor": 2
}
