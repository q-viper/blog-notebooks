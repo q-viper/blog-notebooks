{
 "cells": [
  {
   "cell_type": "markdown",
   "metadata": {},
   "source": [
    "## Making Data Dashboard with Apache Superset\n",
    "Hello and welcome back everyone, in this blog, we will explore how we can create awesome data dashboards using Apache superset with little to no code at all. But there are few things one should do before making first dashboard, we need to have installed Superset and have some data too."
   ]
  },
  {
   "cell_type": "markdown",
   "metadata": {},
   "source": [
    "## Installing Apache Superset\n",
    "This blog will be using [Apache Superset](https://superset.apache.org/docs/installation/installing-superset-from-scratch) in WSL (Windows Subsystem for Linux) because the library `apache-superset` has OS level dependency. \n",
    "\n",
    "* Install following packages as `sudo apt-get install build-essential libssl-dev libffi-dev python3-dev python3-pip libsasl2-dev libldap2-dev default-libmysqlclient-dev`.\n",
    "* If some packages are missing, `sudo apt-get update` might help out.\n",
    "* Install [virtual environment](https://packaging.python.org/en/latest/guides/installing-using-pip-and-virtual-environments/) as `pip install virtualenv`.\n",
    "* Create an environment as `python3 -m venv env_name`. My env_name will be `airflow_env`.\n",
    "* Activate environment as `source path/to/env_name/bin/activate`.\n",
    "* Install Apache [Superset](https://superset.apache.org/docs/installation/installing-superset-from-scratch) as `pip install apache-superset`.\n",
    "\n",
    "## Setting up Superset\n",
    "* Create an admin user in your metadata database (use `admin` as username to be able to load the examples)\n",
    "\n",
    "`\n",
    "export FLASK_APP=superset\n",
    "superset fab create-admin\n",
    "`\n",
    "\n",
    "* Initialize the db as `superset db upgrade`.\n",
    "* Load some data to play with `superset load_examples`\n",
    "* Create default roles and permissions `superset init`. If some errors like table not found is shown then thats because of database issue initialization. Check the database or re-install superset. Also make sure to export FLASK_APP first.\n",
    "* To start a development web server run `superset run`. It will open on default port 5000.\n",
    "\n",
    "## Opening First Dashboard\n",
    "If everything worked fine, then by default, superset should be accessible in http://127.0.0.1:5000/. It should look like below:\n",
    "\n",
    "![](as_login.png)\n",
    "\n",
    "Upon entering the password and username that we have set earlier, we could see the empty dashboard as below:\n",
    "\n",
    "![](as_init.png)"
   ]
  },
  {
   "cell_type": "markdown",
   "metadata": {},
   "source": [
    "## Preparing Data\n",
    "\n",
    "### Choosing a Database\n",
    "We can choose our database by going into Data/Databases.\n",
    "\n",
    "![](add_db.png)\n",
    "\n",
    "I am choosing a MySQL database. But mine MySQL connection will be little bit different than others because I will be using Superset running in WSL while my MySQL server will be running in Windows hence I should pass Network IP. By default, MySQL runs in 3306. For using MySQL running in Windows from WSL, please follow [this blog](https://q-viper.github.io/2022/01/13/connecting-windows-mysql-from-wsl/) of mine.\n",
    "* First install mysql database server along with MySQL Workbench.\n",
    "* Then run a query in it `create database COVID_DASHBOARD;` to create a new database where we will put our data.\n",
    "* Create a connecction as:\n",
    "\n",
    "![](mysql_con.png)\n",
    "\n",
    "* Make sure to allow data upload in this database. The settings can be found in Advanced>Security Section.\n",
    "\n",
    "![](allow_upload.png)"
   ]
  },
  {
   "cell_type": "markdown",
   "metadata": {},
   "source": [
    "### Choosing Data\n",
    "* To make our data dashboard, we should have data. Apache Superset allows us to use data in following format.\n",
    "\n",
    "![](as_data.png)\n",
    "\n",
    "* For this project, I am choosing COVID-19 data (CSV format) available in [GitHub Repo](https://github.com/owid/covid-19-data/tree/master/public/data). \n",
    "\n",
    "* After downloading a CSV file, we will upload it into our database.\n",
    "![](upload.png)\n",
    "\n",
    "* Uploading might take little bit more time because there are lots of columns in the data and the size of data itself is huge (196451 rows 67 columns). But we can look if the data upload is on right track or not by querying a table `SELECT * FROM covid_dashboard.covid_raw_data;`. A result must be shown. \n",
    "* Once done uploading, something like below should be shown.\n",
    "![](data.png)\n",
    "* \n"
   ]
  },
  {
   "cell_type": "markdown",
   "metadata": {},
   "source": [
    "## Making a Chart\n",
    "The hard part is completed. Now with little bit of SQL knowledge, we can create charts.\n",
    "* Go to charts.\n",
    "* Then add new chart.\n",
    "* Choose a dataset.\n",
    "* Choose one chart type. I've selected timeseries.\n",
    "\n",
    "![](chart.png)\n",
    "\n",
    "* Next, rename the chart from untitled to cases trend.\n",
    "![](init_chart.png)\n",
    "\n",
    "* Initially the date column might not be in date time type so we need to change its data type from Workbench. And then we need to sync this changes in column in Superset. Which can be done via state. Click on dots on the right side of the dataset name present in left section. Then edit dataset. Then columns and finally sync columns from source and save this.\n",
    "![](sync.png)\n",
    "\n",
    "* In the second section, we can tweak the settings for this chart. In its data section, we should select a Time column as Date. Then Time Grain. Then in the Query Section, we need to select a metric, in our case, it will be sum of new_cases. Then in Group By section, we select location. Then run the query to see trend chart like below.\n",
    "![](trend_1.png)\n",
    "\n",
    "* From here, we can do lot of things, we can export the result in CSV format too.\n",
    "* It seems that our result needs little bit of filtering to show trends of countries only. So lets filter those which have NULL in the Continent column.\n",
    "![](filtered.png)"
   ]
  },
  {
   "cell_type": "markdown",
   "metadata": {},
   "source": [
    "* While hovering over, I want to view highest value name in top so we should add sort in it.\n",
    "\n",
    "## Bar Chart\n",
    "* Next create a bar chart to show top countries with death tolls.\n",
    "* Please take a careful look into the second column.\n",
    "* Select **Metric** as MAX of column total_deaths. Because we want to see the latest value of it and this field is cumulative.\n",
    "* In **Filters**, select continent is not equals to null because in location, continent names and some other names are also present and we do not want that.\n",
    "* In **Series**, select the column name by which we want to Group Data by. Lets select location.\n",
    "* In **Row Limit** select 10, as we want to show only top 10 bars.\n",
    "* In **Sort By**, select max of column total_deaths.\n",
    "* And then run the query to see the chart like below.\n",
    "![](death_bar.png)\n",
    "\n",
    "    "
   ]
  },
  {
   "cell_type": "markdown",
   "metadata": {},
   "source": [
    "## Map Chart\n",
    "Next is, create a map chart to show total deaths across the world.\n",
    "\n",
    "![](death_map.png)"
   ]
  },
  {
   "cell_type": "markdown",
   "metadata": {
    "ExecuteTime": {
     "end_time": "2022-06-25T10:33:54.136085Z",
     "start_time": "2022-06-25T10:33:54.038095Z"
    }
   },
   "source": [
    "## Creating Dashboard\n",
    "\n",
    "Now that we have 3 charts, lets create a dashboard by going into Dashboards>New Dashboard.\n",
    "![](dashboard.png)\n",
    "\n",
    "Next insert charts by drag-and-drop.\n",
    "\n",
    "![](dashboard_added.png)\n",
    "\n"
   ]
  },
  {
   "cell_type": "markdown",
   "metadata": {},
   "source": [
    "We can even download dasboard as image too.\n",
    "![](covid-dashboard.jpg)"
   ]
  },
  {
   "cell_type": "markdown",
   "metadata": {},
   "source": [
    "## Finally\n",
    "Thats all for this part of exploring Apache Superset and I find this tool very useful because we can create our own charts in more customized way if we are familiar with SQL. There are lots of features still to be explored in Apache Superset and I will try to make next example if time persists."
   ]
  },
  {
   "cell_type": "code",
   "execution_count": null,
   "metadata": {},
   "outputs": [],
   "source": []
  }
 ],
 "metadata": {
  "kernelspec": {
   "display_name": "Python 3",
   "language": "python",
   "name": "python3"
  },
  "language_info": {
   "codemirror_mode": {
    "name": "ipython",
    "version": 3
   },
   "file_extension": ".py",
   "mimetype": "text/x-python",
   "name": "python",
   "nbconvert_exporter": "python",
   "pygments_lexer": "ipython3",
   "version": "3.8.5"
  },
  "latex_envs": {
   "LaTeX_envs_menu_present": true,
   "autoclose": false,
   "autocomplete": true,
   "bibliofile": "biblio.bib",
   "cite_by": "apalike",
   "current_citInitial": 1,
   "eqLabelWithNumbers": true,
   "eqNumInitial": 1,
   "hotkeys": {
    "equation": "Ctrl-E",
    "itemize": "Ctrl-I"
   },
   "labels_anchors": false,
   "latex_user_defs": false,
   "report_style_numbering": false,
   "user_envs_cfg": false
  },
  "toc": {
   "base_numbering": 1,
   "nav_menu": {},
   "number_sections": true,
   "sideBar": true,
   "skip_h1_title": false,
   "title_cell": "Table of Contents",
   "title_sidebar": "Contents",
   "toc_cell": false,
   "toc_position": {},
   "toc_section_display": true,
   "toc_window_display": true
  },
  "varInspector": {
   "cols": {
    "lenName": 16,
    "lenType": 16,
    "lenVar": 40
   },
   "kernels_config": {
    "python": {
     "delete_cmd_postfix": "",
     "delete_cmd_prefix": "del ",
     "library": "var_list.py",
     "varRefreshCmd": "print(var_dic_list())"
    },
    "r": {
     "delete_cmd_postfix": ") ",
     "delete_cmd_prefix": "rm(",
     "library": "var_list.r",
     "varRefreshCmd": "cat(var_dic_list()) "
    }
   },
   "types_to_exclude": [
    "module",
    "function",
    "builtin_function_or_method",
    "instance",
    "_Feature"
   ],
   "window_display": false
  }
 },
 "nbformat": 4,
 "nbformat_minor": 4
}
